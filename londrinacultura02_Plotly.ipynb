{
 "cells": [
  {
   "cell_type": "code",
   "execution_count": 1,
   "metadata": {},
   "outputs": [],
   "source": [
    "# Isso é um comentário "
   ]
  },
  {
   "cell_type": "code",
   "execution_count": 2,
   "metadata": {},
   "outputs": [
    {
     "data": {
      "text/html": [
       "        <script type=\"text/javascript\">\n",
       "        window.PlotlyConfig = {MathJaxConfig: 'local'};\n",
       "        if (window.MathJax) {MathJax.Hub.Config({SVG: {font: \"STIX-Web\"}});}\n",
       "        if (typeof require !== 'undefined') {\n",
       "        require.undef(\"plotly\");\n",
       "        requirejs.config({\n",
       "            paths: {\n",
       "                'plotly': ['https://cdn.plot.ly/plotly-latest.min']\n",
       "            }\n",
       "        });\n",
       "        require(['plotly'], function(Plotly) {\n",
       "            window._Plotly = Plotly;\n",
       "        });\n",
       "        }\n",
       "        </script>\n",
       "        "
      ]
     },
     "metadata": {},
     "output_type": "display_data"
    }
   ],
   "source": [
    "# pandas e plotly\n",
    "# Importando Bibliotecas\n",
    "# Por convenção chama-se o pandas de pd\n",
    "import pandas as pd\n",
    "%matplotlib inline\n",
    "\n",
    "# Importando também o Plotly\n",
    "import plotly.offline as py\n",
    "import plotly.graph_objs as go\n",
    "py.init_notebook_mode(connected=True)"
   ]
  },
  {
   "cell_type": "code",
   "execution_count": 80,
   "metadata": {},
   "outputs": [
    {
     "data": {
      "text/html": [
       "<div>\n",
       "<style scoped>\n",
       "    .dataframe tbody tr th:only-of-type {\n",
       "        vertical-align: middle;\n",
       "    }\n",
       "\n",
       "    .dataframe tbody tr th {\n",
       "        vertical-align: top;\n",
       "    }\n",
       "\n",
       "    .dataframe thead th {\n",
       "        text-align: right;\n",
       "    }\n",
       "</style>\n",
       "<table border=\"1\" class=\"dataframe\">\n",
       "  <thead>\n",
       "    <tr style=\"text-align: right;\">\n",
       "      <th></th>\n",
       "      <th>Descri??o Leg?vel do Hor?rio</th>\n",
       "      <th>Id</th>\n",
       "      <th>Nome</th>\n",
       "      <th>Descri??o Curta</th>\n",
       "      <th>Descri??o Longa</th>\n",
       "      <th>Data de Cria??o</th>\n",
       "      <th>Data de Atualiza??o</th>\n",
       "      <th>Publicado por</th>\n",
       "      <th>Projeto</th>\n",
       "      <th>Classifica??o Et?ria</th>\n",
       "      <th>...</th>\n",
       "      <th>Repete-Sexta</th>\n",
       "      <th>Repete-S?bado</th>\n",
       "      <th>Espa?o</th>\n",
       "      <th>CEP</th>\n",
       "      <th>Logradouro</th>\n",
       "      <th>N?mero</th>\n",
       "      <th>Complemento</th>\n",
       "      <th>Bairro</th>\n",
       "      <th>Munic?pio</th>\n",
       "      <th>Estado</th>\n",
       "    </tr>\n",
       "  </thead>\n",
       "  <tbody>\n",
       "    <tr>\n",
       "      <td>0</td>\n",
       "      <td>Toda quinta-feira de 28 de fevereiro a 19 de d...</td>\n",
       "      <td>577</td>\n",
       "      <td>Estreia na Biblioteca</td>\n",
       "      <td>Quinta-feira ? dia de estreias em todos os cin...</td>\n",
       "      <td>Quinta-feira ? dia de estreias em todos os cin...</td>\n",
       "      <td>2017-08-31 15:21:28</td>\n",
       "      <td>2019-02-27 17:39:24</td>\n",
       "      <td>Guilherme Yung Wing Li</td>\n",
       "      <td>EstreianaBiblioteca</td>\n",
       "      <td>Livre</td>\n",
       "      <td>...</td>\n",
       "      <td>NaN</td>\n",
       "      <td>NaN</td>\n",
       "      <td>Biblioteca Pública Municipal Professor Pedro V...</td>\n",
       "      <td>Avenida Rio de Janeiro</td>\n",
       "      <td>413</td>\n",
       "      <td>PR</td>\n",
       "      <td>NaN</td>\n",
       "      <td>NaN</td>\n",
       "      <td>NaN</td>\n",
       "      <td>NaN</td>\n",
       "    </tr>\n",
       "    <tr>\n",
       "      <td>1</td>\n",
       "      <td>Diariamente de 1 a 29 de mar?o de 2019 ?s 07:30</td>\n",
       "      <td>582</td>\n",
       "      <td>Exposição de Poesias Ilustradas de Valdenir Te...</td>\n",
       "      <td>Exposi??o de Poesias Ilustradas de Valdenir Te...</td>\n",
       "      <td>NaN</td>\n",
       "      <td>2017-09-05 11:04:50</td>\n",
       "      <td>2019-03-06 13:23:53</td>\n",
       "      <td>Guilherme Yung Wing Li</td>\n",
       "      <td>NaN</td>\n",
       "      <td>Livre</td>\n",
       "      <td>...</td>\n",
       "      <td>Sim</td>\n",
       "      <td>NaN</td>\n",
       "      <td>Biblioteca Pública Municipal Professor Pedro V...</td>\n",
       "      <td>Avenida Rio de Janeiro</td>\n",
       "      <td>413</td>\n",
       "      <td>PR</td>\n",
       "      <td>NaN</td>\n",
       "      <td>NaN</td>\n",
       "      <td>NaN</td>\n",
       "      <td>NaN</td>\n",
       "    </tr>\n",
       "  </tbody>\n",
       "</table>\n",
       "<p>2 rows × 47 columns</p>\n",
       "</div>"
      ],
      "text/plain": [
       "                        Descri??o Leg?vel do Hor?rio   Id  \\\n",
       "0  Toda quinta-feira de 28 de fevereiro a 19 de d...  577   \n",
       "1    Diariamente de 1 a 29 de mar?o de 2019 ?s 07:30  582   \n",
       "\n",
       "                                                Nome  \\\n",
       "0                              Estreia na Biblioteca   \n",
       "1  Exposição de Poesias Ilustradas de Valdenir Te...   \n",
       "\n",
       "                                     Descri??o Curta  \\\n",
       "0  Quinta-feira ? dia de estreias em todos os cin...   \n",
       "1  Exposi??o de Poesias Ilustradas de Valdenir Te...   \n",
       "\n",
       "                                     Descri??o Longa      Data de Cria??o  \\\n",
       "0  Quinta-feira ? dia de estreias em todos os cin...  2017-08-31 15:21:28   \n",
       "1                                                NaN  2017-09-05 11:04:50   \n",
       "\n",
       "   Data de Atualiza??o            Publicado por              Projeto  \\\n",
       "0  2019-02-27 17:39:24  Guilherme Yung Wing Li   EstreianaBiblioteca   \n",
       "1  2019-03-06 13:23:53  Guilherme Yung Wing Li                   NaN   \n",
       "\n",
       "  Classifica??o Et?ria  ... Repete-Sexta Repete-S?bado  \\\n",
       "0                Livre  ...          NaN           NaN   \n",
       "1                Livre  ...          Sim           NaN   \n",
       "\n",
       "                                              Espa?o                     CEP  \\\n",
       "0  Biblioteca Pública Municipal Professor Pedro V...  Avenida Rio de Janeiro   \n",
       "1  Biblioteca Pública Municipal Professor Pedro V...  Avenida Rio de Janeiro   \n",
       "\n",
       "  Logradouro N?mero Complemento Bairro Munic?pio Estado  \n",
       "0        413     PR         NaN    NaN       NaN    NaN  \n",
       "1        413     PR         NaN    NaN       NaN    NaN  \n",
       "\n",
       "[2 rows x 47 columns]"
      ]
     },
     "execution_count": 80,
     "metadata": {},
     "output_type": "execute_result"
    }
   ],
   "source": [
    "df = pd.read_csv('mapas-culturais-dados-exportadosCSV.csv')\n",
    "# Exibir as primeiras linhas do DataFrame\n",
    "# Por padrão o .head mostra 5 primeiras linhas, mas é possível determinar o número de linhas.\n",
    "df.head(2)"
   ]
  },
  {
   "cell_type": "code",
   "execution_count": 81,
   "metadata": {},
   "outputs": [
    {
     "data": {
      "text/html": [
       "<div>\n",
       "<style scoped>\n",
       "    .dataframe tbody tr th:only-of-type {\n",
       "        vertical-align: middle;\n",
       "    }\n",
       "\n",
       "    .dataframe tbody tr th {\n",
       "        vertical-align: top;\n",
       "    }\n",
       "\n",
       "    .dataframe thead th {\n",
       "        text-align: right;\n",
       "    }\n",
       "</style>\n",
       "<table border=\"1\" class=\"dataframe\">\n",
       "  <thead>\n",
       "    <tr style=\"text-align: right;\">\n",
       "      <th></th>\n",
       "      <th>Atividade</th>\n",
       "      <th>Classificação Indicativa</th>\n",
       "      <th>Linguagem</th>\n",
       "      <th>Preço</th>\n",
       "      <th>Data inicial</th>\n",
       "      <th>Frequência</th>\n",
       "      <th>Local</th>\n",
       "      <th>Endereço</th>\n",
       "      <th>Número</th>\n",
       "    </tr>\n",
       "  </thead>\n",
       "  <tbody>\n",
       "    <tr>\n",
       "      <td>0</td>\n",
       "      <td>Estreia na Biblioteca</td>\n",
       "      <td>Livre</td>\n",
       "      <td>Livro e Literatura</td>\n",
       "      <td>gratuito</td>\n",
       "      <td>2019-02-28</td>\n",
       "      <td>Semanal</td>\n",
       "      <td>Biblioteca Pública Municipal Professor Pedro V...</td>\n",
       "      <td>Avenida Rio de Janeiro</td>\n",
       "      <td>413</td>\n",
       "    </tr>\n",
       "    <tr>\n",
       "      <td>1</td>\n",
       "      <td>Exposição de Poesias Ilustradas de Valdenir Te...</td>\n",
       "      <td>Livre</td>\n",
       "      <td>Livro e Literatura</td>\n",
       "      <td>gratuito</td>\n",
       "      <td>2019-03-01</td>\n",
       "      <td>Semanal</td>\n",
       "      <td>Biblioteca Pública Municipal Professor Pedro V...</td>\n",
       "      <td>Avenida Rio de Janeiro</td>\n",
       "      <td>413</td>\n",
       "    </tr>\n",
       "    <tr>\n",
       "      <td>2</td>\n",
       "      <td>Aulas de Hatha Yoga</td>\n",
       "      <td>12 anos</td>\n",
       "      <td>Curso ou Oficina</td>\n",
       "      <td>130</td>\n",
       "      <td>2019-01-15</td>\n",
       "      <td>Semanal</td>\n",
       "      <td>Vila TRIOLÉ Cultural</td>\n",
       "      <td>Rua Etienne Lenoir</td>\n",
       "      <td>155</td>\n",
       "    </tr>\n",
       "    <tr>\n",
       "      <td>3</td>\n",
       "      <td>Aulas de Hatha Yoga</td>\n",
       "      <td>12 anos</td>\n",
       "      <td>Curso ou Oficina</td>\n",
       "      <td>130</td>\n",
       "      <td>2019-01-15</td>\n",
       "      <td>Semanal</td>\n",
       "      <td>Vila TRIOLÉ Cultural</td>\n",
       "      <td>Rua Etienne Lenoir</td>\n",
       "      <td>155</td>\n",
       "    </tr>\n",
       "    <tr>\n",
       "      <td>4</td>\n",
       "      <td>Círculo de debates sobre o livro \"Quarenta dia...</td>\n",
       "      <td>Livre</td>\n",
       "      <td>Livro e Literatura, Palestra, Debate ou Encontro</td>\n",
       "      <td>gratuito</td>\n",
       "      <td>2019-05-06</td>\n",
       "      <td>Uma vez</td>\n",
       "      <td>Biblioteca Pública Municipal Professor Pedro V...</td>\n",
       "      <td>Avenida Rio de Janeiro</td>\n",
       "      <td>413</td>\n",
       "    </tr>\n",
       "  </tbody>\n",
       "</table>\n",
       "</div>"
      ],
      "text/plain": [
       "                                           Atividade Classificação Indicativa  \\\n",
       "0                              Estreia na Biblioteca                    Livre   \n",
       "1  Exposição de Poesias Ilustradas de Valdenir Te...                    Livre   \n",
       "2                                Aulas de Hatha Yoga                  12 anos   \n",
       "3                                Aulas de Hatha Yoga                  12 anos   \n",
       "4  Círculo de debates sobre o livro \"Quarenta dia...                    Livre   \n",
       "\n",
       "                                          Linguagem     Preço Data inicial  \\\n",
       "0                                Livro e Literatura  gratuito   2019-02-28   \n",
       "1                                Livro e Literatura  gratuito   2019-03-01   \n",
       "2                                  Curso ou Oficina       130   2019-01-15   \n",
       "3                                  Curso ou Oficina       130   2019-01-15   \n",
       "4  Livro e Literatura, Palestra, Debate ou Encontro  gratuito   2019-05-06   \n",
       "\n",
       "  Frequência                                              Local  \\\n",
       "0    Semanal  Biblioteca Pública Municipal Professor Pedro V...   \n",
       "1    Semanal  Biblioteca Pública Municipal Professor Pedro V...   \n",
       "2    Semanal                               Vila TRIOLÉ Cultural   \n",
       "3    Semanal                               Vila TRIOLÉ Cultural   \n",
       "4    Uma vez  Biblioteca Pública Municipal Professor Pedro V...   \n",
       "\n",
       "                 Endereço Número  \n",
       "0  Avenida Rio de Janeiro    413  \n",
       "1  Avenida Rio de Janeiro    413  \n",
       "2      Rua Etienne Lenoir    155  \n",
       "3      Rua Etienne Lenoir    155  \n",
       "4  Avenida Rio de Janeiro    413  "
      ]
     },
     "execution_count": 81,
     "metadata": {},
     "output_type": "execute_result"
    }
   ],
   "source": [
    "# Carregar o arquivo csv\n",
    "# Pandas vai converter o arquivo em um DataFrame\n",
    "# Por convenção chama-se o DataFrame de df \n",
    "\n",
    "# Se o modo de separação no arquivo usar \";\", é preciso informar o separador\n",
    "# O separador, em arquivos csv, podem ser vírgula, ponto e vírgula, espaço ou tab\n",
    "# Se não informar, ele interpretará a vígula como sendo o separador\n",
    "# Em caso de erro de encoding: se for arquivo vindo do excel, provavelmente está codificado como cp1252.\n",
    "\n",
    "# Vamos importar apenas algumas colunas do arquivo\n",
    "# Isso se faz visionando o arquivo e identificando as colunas de interesse\n",
    "# 3 - Hospital. 6 - Município, 7 - Complexidade, 8 - Carater Atendimento, \n",
    "# 12 - Sub Grupo Procedimento, 14 - Procedimento\n",
    "# o \"usecols\" diz qual colunas ele deve usar.\n",
    "\n",
    "df_filtrocolunas = pd.read_csv('mapas-culturais-dados-exportadosCSV.csv', \n",
    "                 usecols=[2, 9, 12, 16, 26, 29, 39, 40, 41])\n",
    "\n",
    "# Trocar o nome das colunas\n",
    "df_filtrocolunas.columns=['Atividade', 'Classificação Indicativa', 'Linguagem', 'Preço', \n",
    "           'Data inicial', 'Frequência', 'Local', 'Endereço', 'Número']\n",
    "df_filtrocolunas.head()"
   ]
  },
  {
   "cell_type": "code",
   "execution_count": 7,
   "metadata": {},
   "outputs": [
    {
     "data": {
      "text/plain": [
       "(753, 9)"
      ]
     },
     "execution_count": 7,
     "metadata": {},
     "output_type": "execute_result"
    }
   ],
   "source": [
    "df_filtrocolunas.shape"
   ]
  },
  {
   "cell_type": "code",
   "execution_count": 5,
   "metadata": {},
   "outputs": [
    {
     "data": {
      "text/html": [
       "<div>\n",
       "<style scoped>\n",
       "    .dataframe tbody tr th:only-of-type {\n",
       "        vertical-align: middle;\n",
       "    }\n",
       "\n",
       "    .dataframe tbody tr th {\n",
       "        vertical-align: top;\n",
       "    }\n",
       "\n",
       "    .dataframe thead th {\n",
       "        text-align: right;\n",
       "    }\n",
       "</style>\n",
       "<table border=\"1\" class=\"dataframe\">\n",
       "  <thead>\n",
       "    <tr style=\"text-align: right;\">\n",
       "      <th></th>\n",
       "      <th>Atividade</th>\n",
       "      <th>Classificação Indicativa</th>\n",
       "      <th>Linguagem</th>\n",
       "      <th>Preço</th>\n",
       "      <th>Data inicial</th>\n",
       "      <th>Frequência</th>\n",
       "      <th>Local</th>\n",
       "      <th>Endereço</th>\n",
       "      <th>Número</th>\n",
       "    </tr>\n",
       "  </thead>\n",
       "  <tbody>\n",
       "    <tr>\n",
       "      <td>751</td>\n",
       "      <td>50 ANOS BANDA MARCIAL MARCELINO CHAMPAGNAT</td>\n",
       "      <td>Livre</td>\n",
       "      <td>M?sica Popular</td>\n",
       "      <td>Entrada Franca</td>\n",
       "      <td>2019-11-17</td>\n",
       "      <td>Uma vez</td>\n",
       "      <td>Cine Teatro Universitário Ouro Verde</td>\n",
       "      <td>R. Maranh?o</td>\n",
       "      <td>85</td>\n",
       "    </tr>\n",
       "    <tr>\n",
       "      <td>752</td>\n",
       "      <td>Arte-Transformação na Educação Infantil</td>\n",
       "      <td>Livre</td>\n",
       "      <td>Exposi??o, Audiovisual</td>\n",
       "      <td>gratuito</td>\n",
       "      <td>2019-10-04</td>\n",
       "      <td>Diariamente</td>\n",
       "      <td>Vila TRIOLÉ Cultural</td>\n",
       "      <td>Rua Etienne Lenoir</td>\n",
       "      <td>155</td>\n",
       "    </tr>\n",
       "  </tbody>\n",
       "</table>\n",
       "</div>"
      ],
      "text/plain": [
       "                                      Atividade Classificação Indicativa  \\\n",
       "751  50 ANOS BANDA MARCIAL MARCELINO CHAMPAGNAT                    Livre   \n",
       "752     Arte-Transformação na Educação Infantil                    Livre   \n",
       "\n",
       "                  Linguagem           Preço Data inicial   Frequência  \\\n",
       "751          M?sica Popular  Entrada Franca   2019-11-17      Uma vez   \n",
       "752  Exposi??o, Audiovisual        gratuito   2019-10-04  Diariamente   \n",
       "\n",
       "                                    Local            Endereço Número  \n",
       "751  Cine Teatro Universitário Ouro Verde         R. Maranh?o     85  \n",
       "752                  Vila TRIOLÉ Cultural  Rua Etienne Lenoir    155  "
      ]
     },
     "execution_count": 5,
     "metadata": {},
     "output_type": "execute_result"
    }
   ],
   "source": [
    "df_filtrocolunas.tail(2)"
   ]
  },
  {
   "cell_type": "code",
   "execution_count": 56,
   "metadata": {},
   "outputs": [
    {
     "data": {
      "text/html": [
       "<div>\n",
       "<style scoped>\n",
       "    .dataframe tbody tr th:only-of-type {\n",
       "        vertical-align: middle;\n",
       "    }\n",
       "\n",
       "    .dataframe tbody tr th {\n",
       "        vertical-align: top;\n",
       "    }\n",
       "\n",
       "    .dataframe thead th {\n",
       "        text-align: right;\n",
       "    }\n",
       "</style>\n",
       "<table border=\"1\" class=\"dataframe\">\n",
       "  <thead>\n",
       "    <tr style=\"text-align: right;\">\n",
       "      <th></th>\n",
       "      <th>Atividade</th>\n",
       "      <th>Classificação Indicativa</th>\n",
       "      <th>Linguagem</th>\n",
       "      <th>Preço</th>\n",
       "      <th>Data inicial</th>\n",
       "      <th>Frequência</th>\n",
       "      <th>Local</th>\n",
       "      <th>Endereço</th>\n",
       "      <th>Número</th>\n",
       "    </tr>\n",
       "  </thead>\n",
       "  <tbody>\n",
       "    <tr>\n",
       "      <td>217</td>\n",
       "      <td>Oficina Quizomba de Bumba-meu-Boi</td>\n",
       "      <td>Livre</td>\n",
       "      <td>M?sica Popular, Artes Integradas, Cultura Ind?...</td>\n",
       "      <td>Gratuito</td>\n",
       "      <td>2019-05-04</td>\n",
       "      <td>Uma vez</td>\n",
       "      <td>Flapt!</td>\n",
       "      <td>Rua Lino Sachetin</td>\n",
       "      <td>498</td>\n",
       "    </tr>\n",
       "    <tr>\n",
       "      <td>32</td>\n",
       "      <td>BRISA - Saraus Artísticos</td>\n",
       "      <td>Livre</td>\n",
       "      <td>Hip Hop, Curso ou Oficina, M?sica Popular, Pal...</td>\n",
       "      <td>Evento Gratuito</td>\n",
       "      <td>2019-03-22</td>\n",
       "      <td>Uma vez</td>\n",
       "      <td>Centro POP</td>\n",
       "      <td>Rua Dib Libos</td>\n",
       "      <td>s/n</td>\n",
       "    </tr>\n",
       "  </tbody>\n",
       "</table>\n",
       "</div>"
      ],
      "text/plain": [
       "                             Atividade Classificação Indicativa  \\\n",
       "217  Oficina Quizomba de Bumba-meu-Boi                    Livre   \n",
       "32           BRISA - Saraus Artísticos                    Livre   \n",
       "\n",
       "                                             Linguagem            Preço  \\\n",
       "217  M?sica Popular, Artes Integradas, Cultura Ind?...         Gratuito   \n",
       "32   Hip Hop, Curso ou Oficina, M?sica Popular, Pal...  Evento Gratuito   \n",
       "\n",
       "    Data inicial Frequência       Local           Endereço Número  \n",
       "217   2019-05-04    Uma vez      Flapt!  Rua Lino Sachetin    498  \n",
       "32    2019-03-22    Uma vez  Centro POP      Rua Dib Libos    s/n  "
      ]
     },
     "execution_count": 56,
     "metadata": {},
     "output_type": "execute_result"
    }
   ],
   "source": [
    "df_filtrocolunas.sample(2)"
   ]
  },
  {
   "cell_type": "code",
   "execution_count": 6,
   "metadata": {},
   "outputs": [
    {
     "data": {
      "text/plain": [
       "Atividade                   753\n",
       "Classificação Indicativa    753\n",
       "Linguagem                   753\n",
       "Preço                       700\n",
       "Data inicial                753\n",
       "Frequência                  695\n",
       "Local                       747\n",
       "Endereço                    720\n",
       "Número                      715\n",
       "dtype: int64"
      ]
     },
     "execution_count": 6,
     "metadata": {},
     "output_type": "execute_result"
    }
   ],
   "source": [
    "# Quantas colunas no arquivo?\n",
    "df_filtrocolunas.count()"
   ]
  },
  {
   "cell_type": "code",
   "execution_count": 8,
   "metadata": {},
   "outputs": [
    {
     "name": "stdout",
     "output_type": "stream",
     "text": [
      "<class 'pandas.core.frame.DataFrame'>\n",
      "RangeIndex: 753 entries, 0 to 752\n",
      "Data columns (total 9 columns):\n",
      "Atividade                   753 non-null object\n",
      "Classificação Indicativa    753 non-null object\n",
      "Linguagem                   753 non-null object\n",
      "Preço                       700 non-null object\n",
      "Data inicial                753 non-null object\n",
      "Frequência                  695 non-null object\n",
      "Local                       747 non-null object\n",
      "Endereço                    720 non-null object\n",
      "Número                      715 non-null object\n",
      "dtypes: object(9)\n",
      "memory usage: 53.1+ KB\n"
     ]
    }
   ],
   "source": [
    "df_filtrocolunas.info()"
   ]
  },
  {
   "cell_type": "code",
   "execution_count": 9,
   "metadata": {},
   "outputs": [
    {
     "data": {
      "text/html": [
       "<div>\n",
       "<style scoped>\n",
       "    .dataframe tbody tr th:only-of-type {\n",
       "        vertical-align: middle;\n",
       "    }\n",
       "\n",
       "    .dataframe tbody tr th {\n",
       "        vertical-align: top;\n",
       "    }\n",
       "\n",
       "    .dataframe thead th {\n",
       "        text-align: right;\n",
       "    }\n",
       "</style>\n",
       "<table border=\"1\" class=\"dataframe\">\n",
       "  <thead>\n",
       "    <tr style=\"text-align: right;\">\n",
       "      <th></th>\n",
       "      <th>Atividade</th>\n",
       "      <th>Classificação Indicativa</th>\n",
       "      <th>Linguagem</th>\n",
       "      <th>Preço</th>\n",
       "      <th>Data inicial</th>\n",
       "      <th>Frequência</th>\n",
       "      <th>Local</th>\n",
       "      <th>Endereço</th>\n",
       "      <th>Número</th>\n",
       "    </tr>\n",
       "  </thead>\n",
       "  <tbody>\n",
       "    <tr>\n",
       "      <td>count</td>\n",
       "      <td>753</td>\n",
       "      <td>753</td>\n",
       "      <td>753</td>\n",
       "      <td>700</td>\n",
       "      <td>753</td>\n",
       "      <td>695</td>\n",
       "      <td>747</td>\n",
       "      <td>720</td>\n",
       "      <td>715</td>\n",
       "    </tr>\n",
       "    <tr>\n",
       "      <td>unique</td>\n",
       "      <td>490</td>\n",
       "      <td>6</td>\n",
       "      <td>130</td>\n",
       "      <td>101</td>\n",
       "      <td>256</td>\n",
       "      <td>3</td>\n",
       "      <td>124</td>\n",
       "      <td>99</td>\n",
       "      <td>83</td>\n",
       "    </tr>\n",
       "    <tr>\n",
       "      <td>top</td>\n",
       "      <td>FILO 50+1 - MOSTRA NACIONAL DE ARTES CÊNICAS</td>\n",
       "      <td>Livre</td>\n",
       "      <td>Teatro</td>\n",
       "      <td>gratuito</td>\n",
       "      <td>2019-10-23</td>\n",
       "      <td>Uma vez</td>\n",
       "      <td>Vila TRIOLÉ Cultural</td>\n",
       "      <td>Rua Etienne Lenoir</td>\n",
       "      <td>155</td>\n",
       "    </tr>\n",
       "    <tr>\n",
       "      <td>freq</td>\n",
       "      <td>17</td>\n",
       "      <td>540</td>\n",
       "      <td>78</td>\n",
       "      <td>165</td>\n",
       "      <td>16</td>\n",
       "      <td>569</td>\n",
       "      <td>68</td>\n",
       "      <td>68</td>\n",
       "      <td>68</td>\n",
       "    </tr>\n",
       "  </tbody>\n",
       "</table>\n",
       "</div>"
      ],
      "text/plain": [
       "                                           Atividade Classificação Indicativa  \\\n",
       "count                                            753                      753   \n",
       "unique                                           490                        6   \n",
       "top     FILO 50+1 - MOSTRA NACIONAL DE ARTES CÊNICAS                    Livre   \n",
       "freq                                              17                      540   \n",
       "\n",
       "       Linguagem     Preço Data inicial Frequência                 Local  \\\n",
       "count        753       700          753        695                   747   \n",
       "unique       130       101          256          3                   124   \n",
       "top       Teatro  gratuito   2019-10-23    Uma vez  Vila TRIOLÉ Cultural   \n",
       "freq          78       165           16        569                    68   \n",
       "\n",
       "                  Endereço Número  \n",
       "count                  720    715  \n",
       "unique                  99     83  \n",
       "top     Rua Etienne Lenoir    155  \n",
       "freq                    68     68  "
      ]
     },
     "execution_count": 9,
     "metadata": {},
     "output_type": "execute_result"
    }
   ],
   "source": [
    "# Descreve as colunas numéricas\n",
    "# describe serve muito para campos que são numéricos\n",
    "df_filtrocolunas.describe()"
   ]
  },
  {
   "cell_type": "markdown",
   "metadata": {},
   "source": [
    "###### O que dá para entender do quadro acima:\n",
    "\n",
    "753 atividades registradas na Plataforma Londrina Cultura (aconteceram em dias e/ou em horários diferentes), no período entre 01 de janeiro a 20 de novembro de 2019, sendo 490 atividades únicas.\n",
    "São 124 locais, pois são 124 valores únicos para o item Local. \n",
    "No rol de atividades, foram registradas 06 tuipos distintos de Classificação Indicativa. \n",
    "São 03 tipos de frequência (uma vez, diariamente e semanal).\n",
    "Foram registrados 130 tipos diferentes de linguagens (ver o erro de digitação).\n",
    "101 preços diferentes.\n",
    "256 dias diferentes (01jan19 a 20nov19 totalizam 323 dias)\n",
    "99 vezes aconteceram atividades num mesmo endereço.\n",
    "83 vezes num mesmo número (verificar se: em alguns casos o número do endereço não foi preenchido).\n",
    "\n",
    "A atividade top é o FILO 50+1 - MOSTRA NACIONAL DE ARTES CÊNICAS, com 17 registros.\n",
    "540 atividades programadas tinham clasificação livre\n",
    "A linguagem top foi o Teatro, com 78 registros.\n",
    "Das 753 atividades, 165 foram gratuitas (tem que rever a questão das \"conmtribui quanto quer, etc)\n",
    "23out19 foi o dia com o maior número de atividades registradas: 16\n",
    "569 atividades previram a frequência de \"uma vez\".\n",
    "Vila Triolé Cultural é o local que recebeu o maior números das atividades registradas (68).\n",
    "\n"
   ]
  },
  {
   "cell_type": "code",
   "execution_count": null,
   "metadata": {},
   "outputs": [],
   "source": [
    "# # Ser cientista de dados é tomar decisões\n",
    "# Pois você pode encontrar dados ruins e aí vai ter que decidir\n",
    "# Está faltando dados e aí terá que decidir. \n",
    "# Está faltando aqui 9 mil valores de bolsas integrais.\n",
    "# Se eu precisar do dado terei que jogar fora 9 mil linhas \n",
    "# ou buscar esses dados que estão faltando.\n",
    "# Dependendo da análise que se irá fazer, deéndendo dos valores que eu tenho, \n",
    "# a ausência de dados pode significar jogar uma linha fora, ou um dado fora, \n",
    "# ou então que eu vou ter mais trabalho ainda para buscar os dados que faltam \n",
    "# em algum outro lugar."
   ]
  },
  {
   "cell_type": "code",
   "execution_count": 10,
   "metadata": {},
   "outputs": [
    {
     "data": {
      "text/plain": [
       "Atividade                   object\n",
       "Classificação Indicativa    object\n",
       "Linguagem                   object\n",
       "Preço                       object\n",
       "Data inicial                object\n",
       "Frequência                  object\n",
       "Local                       object\n",
       "Endereço                    object\n",
       "Número                      object\n",
       "dtype: object"
      ]
     },
     "execution_count": 10,
     "metadata": {},
     "output_type": "execute_result"
    }
   ],
   "source": [
    "# Mostra os tipos de cada coluna do DataFrame\n",
    "df_filtrocolunas.dtypes"
   ]
  },
  {
   "cell_type": "code",
   "execution_count": 11,
   "metadata": {},
   "outputs": [
    {
     "data": {
      "text/plain": [
       "0        Livre\n",
       "1        Livre\n",
       "2      12 anos\n",
       "3      12 anos\n",
       "4        Livre\n",
       "        ...   \n",
       "748      Livre\n",
       "749      Livre\n",
       "750    10 anos\n",
       "751      Livre\n",
       "752      Livre\n",
       "Name: Classificação Indicativa, Length: 753, dtype: object"
      ]
     },
     "execution_count": 11,
     "metadata": {},
     "output_type": "execute_result"
    }
   ],
   "source": [
    "# Printa somente a coluna apresentada como lista\n",
    "# quando coloco colchetes estou fazendo uma seleção\n",
    "df_filtrocolunas['Classificação Indicativa']"
   ]
  },
  {
   "cell_type": "code",
   "execution_count": 17,
   "metadata": {},
   "outputs": [
    {
     "data": {
      "text/plain": [
       "array(['Livre', '12 anos', '16 anos', '10 anos', '18 anos', '14 anos'],\n",
       "      dtype=object)"
      ]
     },
     "execution_count": 17,
     "metadata": {},
     "output_type": "execute_result"
    }
   ],
   "source": [
    "# Listar os faixas de classificação indicativa presentes nos dados\n",
    "df_filtrocolunas['Classificação Indicativa'].unique()"
   ]
  },
  {
   "cell_type": "code",
   "execution_count": 83,
   "metadata": {},
   "outputs": [
    {
     "data": {
      "text/plain": [
       "Livre      540\n",
       "10 anos     55\n",
       "18 anos     52\n",
       "14 anos     44\n",
       "16 anos     41\n",
       "12 anos     21\n",
       "Name: Classificação Indicativa, dtype: int64"
      ]
     },
     "execution_count": 83,
     "metadata": {},
     "output_type": "execute_result"
    }
   ],
   "source": [
    "# Quantas incidências existem em cada faixa de classificação indicativa\n",
    "# Conta o número por valor dentro da coluna\n",
    "df_filtrocolunas['Classificação Indicativa'].value_counts()"
   ]
  },
  {
   "cell_type": "code",
   "execution_count": 89,
   "metadata": {},
   "outputs": [
    {
     "data": {
      "text/plain": [
       "gratuito                                                        165\n",
       "Gratuito                                                        160\n",
       "0                                                                45\n",
       "R$20,00 (R$10,00 meia)                                           19\n",
       "R$ 20 e R$ 10                                                    17\n",
       "                                                               ... \n",
       "25,00 ATÉ O DIA 12/08/2019 APÓS ESSA DATA PASSA PARA R$50,00      1\n",
       "gratis - retirar convite 1h antes                                 1\n",
       "Contribuição Livre                                                1\n",
       "R$15 no local ou antecipados a R$10                               1\n",
       "R$ 5,00                                                           1\n",
       "Name: Preço, Length: 101, dtype: int64"
      ]
     },
     "execution_count": 89,
     "metadata": {},
     "output_type": "execute_result"
    }
   ],
   "source": [
    "df_filtrocolunas['Preço'].value_counts()"
   ]
  },
  {
   "cell_type": "code",
   "execution_count": 88,
   "metadata": {},
   "outputs": [
    {
     "ename": "TypeError",
     "evalue": "'>=' not supported between instances of 'str' and 'float'",
     "output_type": "error",
     "traceback": [
      "\u001b[1;31m---------------------------------------------------------------------------\u001b[0m",
      "\u001b[1;31mTypeError\u001b[0m                                 Traceback (most recent call last)",
      "\u001b[1;32m~\\Anaconda3\\lib\\site-packages\\pandas\\core\\nanops.py\u001b[0m in \u001b[0;36mf\u001b[1;34m(values, axis, skipna, **kwds)\u001b[0m\n\u001b[0;32m    119\u001b[0m                 \u001b[1;32melse\u001b[0m\u001b[1;33m:\u001b[0m\u001b[1;33m\u001b[0m\u001b[1;33m\u001b[0m\u001b[0m\n\u001b[1;32m--> 120\u001b[1;33m                     \u001b[0mresult\u001b[0m \u001b[1;33m=\u001b[0m \u001b[0malt\u001b[0m\u001b[1;33m(\u001b[0m\u001b[0mvalues\u001b[0m\u001b[1;33m,\u001b[0m \u001b[0maxis\u001b[0m\u001b[1;33m=\u001b[0m\u001b[0maxis\u001b[0m\u001b[1;33m,\u001b[0m \u001b[0mskipna\u001b[0m\u001b[1;33m=\u001b[0m\u001b[0mskipna\u001b[0m\u001b[1;33m,\u001b[0m \u001b[1;33m**\u001b[0m\u001b[0mkwds\u001b[0m\u001b[1;33m)\u001b[0m\u001b[1;33m\u001b[0m\u001b[1;33m\u001b[0m\u001b[0m\n\u001b[0m\u001b[0;32m    121\u001b[0m             \u001b[1;32mexcept\u001b[0m \u001b[0mException\u001b[0m\u001b[1;33m:\u001b[0m\u001b[1;33m\u001b[0m\u001b[1;33m\u001b[0m\u001b[0m\n",
      "\u001b[1;32m~\\Anaconda3\\lib\\site-packages\\pandas\\core\\nanops.py\u001b[0m in \u001b[0;36mreduction\u001b[1;34m(values, axis, skipna, mask)\u001b[0m\n\u001b[0;32m    842\u001b[0m         \u001b[1;32melse\u001b[0m\u001b[1;33m:\u001b[0m\u001b[1;33m\u001b[0m\u001b[1;33m\u001b[0m\u001b[0m\n\u001b[1;32m--> 843\u001b[1;33m             \u001b[0mresult\u001b[0m \u001b[1;33m=\u001b[0m \u001b[0mgetattr\u001b[0m\u001b[1;33m(\u001b[0m\u001b[0mvalues\u001b[0m\u001b[1;33m,\u001b[0m \u001b[0mmeth\u001b[0m\u001b[1;33m)\u001b[0m\u001b[1;33m(\u001b[0m\u001b[0maxis\u001b[0m\u001b[1;33m)\u001b[0m\u001b[1;33m\u001b[0m\u001b[1;33m\u001b[0m\u001b[0m\n\u001b[0m\u001b[0;32m    844\u001b[0m \u001b[1;33m\u001b[0m\u001b[0m\n",
      "\u001b[1;32m~\\Anaconda3\\lib\\site-packages\\numpy\\core\\_methods.py\u001b[0m in \u001b[0;36m_amax\u001b[1;34m(a, axis, out, keepdims, initial)\u001b[0m\n\u001b[0;32m     27\u001b[0m           initial=_NoValue):\n\u001b[1;32m---> 28\u001b[1;33m     \u001b[1;32mreturn\u001b[0m \u001b[0mumr_maximum\u001b[0m\u001b[1;33m(\u001b[0m\u001b[0ma\u001b[0m\u001b[1;33m,\u001b[0m \u001b[0maxis\u001b[0m\u001b[1;33m,\u001b[0m \u001b[1;32mNone\u001b[0m\u001b[1;33m,\u001b[0m \u001b[0mout\u001b[0m\u001b[1;33m,\u001b[0m \u001b[0mkeepdims\u001b[0m\u001b[1;33m,\u001b[0m \u001b[0minitial\u001b[0m\u001b[1;33m)\u001b[0m\u001b[1;33m\u001b[0m\u001b[1;33m\u001b[0m\u001b[0m\n\u001b[0m\u001b[0;32m     29\u001b[0m \u001b[1;33m\u001b[0m\u001b[0m\n",
      "\u001b[1;31mTypeError\u001b[0m: '>=' not supported between instances of 'str' and 'float'",
      "\nDuring handling of the above exception, another exception occurred:\n",
      "\u001b[1;31mTypeError\u001b[0m                                 Traceback (most recent call last)",
      "\u001b[1;32m<ipython-input-88-425b49f57d4f>\u001b[0m in \u001b[0;36m<module>\u001b[1;34m\u001b[0m\n\u001b[0;32m      1\u001b[0m \u001b[1;31m# Qual o ingresso mais caro?\u001b[0m\u001b[1;33m\u001b[0m\u001b[1;33m\u001b[0m\u001b[1;33m\u001b[0m\u001b[0m\n\u001b[1;32m----> 2\u001b[1;33m \u001b[0mdf_filtrocolunas\u001b[0m\u001b[1;33m[\u001b[0m\u001b[0mdf_filtrocolunas\u001b[0m\u001b[1;33m[\u001b[0m\u001b[1;34m'Preço'\u001b[0m\u001b[1;33m]\u001b[0m \u001b[1;33m==\u001b[0m \u001b[0mdf_filtrocolunas\u001b[0m\u001b[1;33m[\u001b[0m\u001b[1;34m'Preço'\u001b[0m\u001b[1;33m]\u001b[0m\u001b[1;33m.\u001b[0m\u001b[0mmax\u001b[0m\u001b[1;33m(\u001b[0m\u001b[1;33m)\u001b[0m\u001b[1;33m]\u001b[0m\u001b[1;33m\u001b[0m\u001b[1;33m\u001b[0m\u001b[0m\n\u001b[0m",
      "\u001b[1;32m~\\Anaconda3\\lib\\site-packages\\pandas\\core\\generic.py\u001b[0m in \u001b[0;36mstat_func\u001b[1;34m(self, axis, skipna, level, numeric_only, **kwargs)\u001b[0m\n\u001b[0;32m  11616\u001b[0m             \u001b[1;32mreturn\u001b[0m \u001b[0mself\u001b[0m\u001b[1;33m.\u001b[0m\u001b[0m_agg_by_level\u001b[0m\u001b[1;33m(\u001b[0m\u001b[0mname\u001b[0m\u001b[1;33m,\u001b[0m \u001b[0maxis\u001b[0m\u001b[1;33m=\u001b[0m\u001b[0maxis\u001b[0m\u001b[1;33m,\u001b[0m \u001b[0mlevel\u001b[0m\u001b[1;33m=\u001b[0m\u001b[0mlevel\u001b[0m\u001b[1;33m,\u001b[0m \u001b[0mskipna\u001b[0m\u001b[1;33m=\u001b[0m\u001b[0mskipna\u001b[0m\u001b[1;33m)\u001b[0m\u001b[1;33m\u001b[0m\u001b[1;33m\u001b[0m\u001b[0m\n\u001b[0;32m  11617\u001b[0m         return self._reduce(\n\u001b[1;32m> 11618\u001b[1;33m             \u001b[0mf\u001b[0m\u001b[1;33m,\u001b[0m \u001b[0mname\u001b[0m\u001b[1;33m,\u001b[0m \u001b[0maxis\u001b[0m\u001b[1;33m=\u001b[0m\u001b[0maxis\u001b[0m\u001b[1;33m,\u001b[0m \u001b[0mskipna\u001b[0m\u001b[1;33m=\u001b[0m\u001b[0mskipna\u001b[0m\u001b[1;33m,\u001b[0m \u001b[0mnumeric_only\u001b[0m\u001b[1;33m=\u001b[0m\u001b[0mnumeric_only\u001b[0m\u001b[1;33m\u001b[0m\u001b[1;33m\u001b[0m\u001b[0m\n\u001b[0m\u001b[0;32m  11619\u001b[0m         )\n\u001b[0;32m  11620\u001b[0m \u001b[1;33m\u001b[0m\u001b[0m\n",
      "\u001b[1;32m~\\Anaconda3\\lib\\site-packages\\pandas\\core\\series.py\u001b[0m in \u001b[0;36m_reduce\u001b[1;34m(self, op, name, axis, skipna, numeric_only, filter_type, **kwds)\u001b[0m\n\u001b[0;32m   4085\u001b[0m                 )\n\u001b[0;32m   4086\u001b[0m             \u001b[1;32mwith\u001b[0m \u001b[0mnp\u001b[0m\u001b[1;33m.\u001b[0m\u001b[0merrstate\u001b[0m\u001b[1;33m(\u001b[0m\u001b[0mall\u001b[0m\u001b[1;33m=\u001b[0m\u001b[1;34m\"ignore\"\u001b[0m\u001b[1;33m)\u001b[0m\u001b[1;33m:\u001b[0m\u001b[1;33m\u001b[0m\u001b[1;33m\u001b[0m\u001b[0m\n\u001b[1;32m-> 4087\u001b[1;33m                 \u001b[1;32mreturn\u001b[0m \u001b[0mop\u001b[0m\u001b[1;33m(\u001b[0m\u001b[0mdelegate\u001b[0m\u001b[1;33m,\u001b[0m \u001b[0mskipna\u001b[0m\u001b[1;33m=\u001b[0m\u001b[0mskipna\u001b[0m\u001b[1;33m,\u001b[0m \u001b[1;33m**\u001b[0m\u001b[0mkwds\u001b[0m\u001b[1;33m)\u001b[0m\u001b[1;33m\u001b[0m\u001b[1;33m\u001b[0m\u001b[0m\n\u001b[0m\u001b[0;32m   4088\u001b[0m \u001b[1;33m\u001b[0m\u001b[0m\n\u001b[0;32m   4089\u001b[0m         \u001b[1;31m# TODO(EA) dispatch to Index\u001b[0m\u001b[1;33m\u001b[0m\u001b[1;33m\u001b[0m\u001b[1;33m\u001b[0m\u001b[0m\n",
      "\u001b[1;32m~\\Anaconda3\\lib\\site-packages\\pandas\\core\\nanops.py\u001b[0m in \u001b[0;36mf\u001b[1;34m(values, axis, skipna, **kwds)\u001b[0m\n\u001b[0;32m    121\u001b[0m             \u001b[1;32mexcept\u001b[0m \u001b[0mException\u001b[0m\u001b[1;33m:\u001b[0m\u001b[1;33m\u001b[0m\u001b[1;33m\u001b[0m\u001b[0m\n\u001b[0;32m    122\u001b[0m                 \u001b[1;32mtry\u001b[0m\u001b[1;33m:\u001b[0m\u001b[1;33m\u001b[0m\u001b[1;33m\u001b[0m\u001b[0m\n\u001b[1;32m--> 123\u001b[1;33m                     \u001b[0mresult\u001b[0m \u001b[1;33m=\u001b[0m \u001b[0malt\u001b[0m\u001b[1;33m(\u001b[0m\u001b[0mvalues\u001b[0m\u001b[1;33m,\u001b[0m \u001b[0maxis\u001b[0m\u001b[1;33m=\u001b[0m\u001b[0maxis\u001b[0m\u001b[1;33m,\u001b[0m \u001b[0mskipna\u001b[0m\u001b[1;33m=\u001b[0m\u001b[0mskipna\u001b[0m\u001b[1;33m,\u001b[0m \u001b[1;33m**\u001b[0m\u001b[0mkwds\u001b[0m\u001b[1;33m)\u001b[0m\u001b[1;33m\u001b[0m\u001b[1;33m\u001b[0m\u001b[0m\n\u001b[0m\u001b[0;32m    124\u001b[0m                 \u001b[1;32mexcept\u001b[0m \u001b[0mValueError\u001b[0m \u001b[1;32mas\u001b[0m \u001b[0me\u001b[0m\u001b[1;33m:\u001b[0m\u001b[1;33m\u001b[0m\u001b[1;33m\u001b[0m\u001b[0m\n\u001b[0;32m    125\u001b[0m                     \u001b[1;31m# we want to transform an object array\u001b[0m\u001b[1;33m\u001b[0m\u001b[1;33m\u001b[0m\u001b[1;33m\u001b[0m\u001b[0m\n",
      "\u001b[1;32m~\\Anaconda3\\lib\\site-packages\\pandas\\core\\nanops.py\u001b[0m in \u001b[0;36mreduction\u001b[1;34m(values, axis, skipna, mask)\u001b[0m\n\u001b[0;32m    841\u001b[0m                 \u001b[0mresult\u001b[0m \u001b[1;33m=\u001b[0m \u001b[0mnp\u001b[0m\u001b[1;33m.\u001b[0m\u001b[0mnan\u001b[0m\u001b[1;33m\u001b[0m\u001b[1;33m\u001b[0m\u001b[0m\n\u001b[0;32m    842\u001b[0m         \u001b[1;32melse\u001b[0m\u001b[1;33m:\u001b[0m\u001b[1;33m\u001b[0m\u001b[1;33m\u001b[0m\u001b[0m\n\u001b[1;32m--> 843\u001b[1;33m             \u001b[0mresult\u001b[0m \u001b[1;33m=\u001b[0m \u001b[0mgetattr\u001b[0m\u001b[1;33m(\u001b[0m\u001b[0mvalues\u001b[0m\u001b[1;33m,\u001b[0m \u001b[0mmeth\u001b[0m\u001b[1;33m)\u001b[0m\u001b[1;33m(\u001b[0m\u001b[0maxis\u001b[0m\u001b[1;33m)\u001b[0m\u001b[1;33m\u001b[0m\u001b[1;33m\u001b[0m\u001b[0m\n\u001b[0m\u001b[0;32m    844\u001b[0m \u001b[1;33m\u001b[0m\u001b[0m\n\u001b[0;32m    845\u001b[0m         \u001b[0mresult\u001b[0m \u001b[1;33m=\u001b[0m \u001b[0m_wrap_results\u001b[0m\u001b[1;33m(\u001b[0m\u001b[0mresult\u001b[0m\u001b[1;33m,\u001b[0m \u001b[0mdtype\u001b[0m\u001b[1;33m,\u001b[0m \u001b[0mfill_value\u001b[0m\u001b[1;33m)\u001b[0m\u001b[1;33m\u001b[0m\u001b[1;33m\u001b[0m\u001b[0m\n",
      "\u001b[1;32m~\\Anaconda3\\lib\\site-packages\\numpy\\core\\_methods.py\u001b[0m in \u001b[0;36m_amax\u001b[1;34m(a, axis, out, keepdims, initial)\u001b[0m\n\u001b[0;32m     26\u001b[0m def _amax(a, axis=None, out=None, keepdims=False,\n\u001b[0;32m     27\u001b[0m           initial=_NoValue):\n\u001b[1;32m---> 28\u001b[1;33m     \u001b[1;32mreturn\u001b[0m \u001b[0mumr_maximum\u001b[0m\u001b[1;33m(\u001b[0m\u001b[0ma\u001b[0m\u001b[1;33m,\u001b[0m \u001b[0maxis\u001b[0m\u001b[1;33m,\u001b[0m \u001b[1;32mNone\u001b[0m\u001b[1;33m,\u001b[0m \u001b[0mout\u001b[0m\u001b[1;33m,\u001b[0m \u001b[0mkeepdims\u001b[0m\u001b[1;33m,\u001b[0m \u001b[0minitial\u001b[0m\u001b[1;33m)\u001b[0m\u001b[1;33m\u001b[0m\u001b[1;33m\u001b[0m\u001b[0m\n\u001b[0m\u001b[0;32m     29\u001b[0m \u001b[1;33m\u001b[0m\u001b[0m\n\u001b[0;32m     30\u001b[0m def _amin(a, axis=None, out=None, keepdims=False,\n",
      "\u001b[1;31mTypeError\u001b[0m: '>=' not supported between instances of 'str' and 'float'"
     ]
    }
   ],
   "source": [
    "# Qual o ingresso mais caro?\n",
    "df_filtrocolunas[df_filtrocolunas['Preço'] == df_filtrocolunas['Preço'].max()]"
   ]
  },
  {
   "cell_type": "code",
   "execution_count": null,
   "metadata": {},
   "outputs": [],
   "source": [
    "#df[df['mensalidade'] == df['mensalidade'].min()][['uf_busca', 'cidade_busca']]\n",
    "# Se eu quiser ver apenas uma coluna, apenas de um colchete\n",
    "# Se tiver duas, três colunas, \n",
    "# as colunas devem estar dentro de um colchete e haver um colchete de fora"
   ]
  },
  {
   "cell_type": "code",
   "execution_count": null,
   "metadata": {},
   "outputs": [],
   "source": [
    "# Qual a mensalidade mais cara por UF?\n",
    "# o groupby está agrupando, no caso, por unidade da federação\n",
    "#df.groupby('uf_busca')['mensalidade'].max()"
   ]
  },
  {
   "cell_type": "code",
   "execution_count": null,
   "metadata": {},
   "outputs": [],
   "source": [
    "# Qual a mensalidade mais barata por UF?\n",
    "# o groupby está agrupando, no caso, por unidade da federação\n",
    "#df.groupby('uf_busca')['mensalidade'].min()"
   ]
  },
  {
   "cell_type": "code",
   "execution_count": null,
   "metadata": {},
   "outputs": [],
   "source": [
    "# Mostrar toos os dados dos cursos mais caros de cada UF\n",
    "# idxmax faz busca por id\n",
    "#df.loc[df.groupby('uf_busca')['mensalidade'].idxmax()]"
   ]
  },
  {
   "cell_type": "code",
   "execution_count": null,
   "metadata": {},
   "outputs": [],
   "source": [
    "# mensalidades entre 500 e 1000\n",
    "#df[(df['mensalidade'] > 500) & (df['mensalidade'] < 1000)]"
   ]
  },
  {
   "cell_type": "code",
   "execution_count": 19,
   "metadata": {},
   "outputs": [
    {
     "data": {
      "text/plain": [
       "array(['Biblioteca Pública Municipal Professor Pedro Viriato Parigot de Souza',\n",
       "       'Vila TRIOLÉ Cultural', 'Biblioteca Municipal Ramal Vila Nova',\n",
       "       'Biblioteca Pública Municipal Lupércio Luppi', 'Biblioteca do CEU',\n",
       "       'Biblioteca Eugênia Monfranati', 'Museu de Arte de Londrina',\n",
       "       'VILA CULTURAL CEMITÉRIO DE AUTOMÓVEIS', 'Colégio Mãe de Deus',\n",
       "       'Faculdade Teológica Sul Americana',\n",
       "       'IFPR - Instituto Federal do Paraná Campus Londrina',\n",
       "       'Biblioteca Central da UEL', nan, 'CMEI Valéria Veronesi',\n",
       "       'Calçadão', 'Concha Acústica', 'Escola Municipal Hikoma Udihara',\n",
       "       'Escola Municipal José Garcia Villar',\n",
       "       'Associação Solidariedade Sempre ', 'CMEI Kalin Youssef Youssef',\n",
       "       'Centro POP', 'Casa do Bom Samaritano',\n",
       "       'Vila Cultural Alma Brasil', 'Flapt!',\n",
       "       'Centro Cultural SESI - AML', 'Museu Histórico de Londrina',\n",
       "       'Sesc Londrina Cadeião Cultural', 'SESC LONDRINA',\n",
       "       'Biblioteca Pública Infantil de Londrina', 'Usina Cultural',\n",
       "       'Canto do MARL', 'Feira da Saul Eukind', 'Praça Nishinomiya',\n",
       "       'Praça e Paróquia São José - Irerê',\n",
       "       'Aqui a Vista é Bela, Colorindo Vidas',\n",
       "       'Praça da Juventude - Região Sul',\n",
       "       'Zerão - Área de Lazer Luigi Borghesi',\n",
       "       'Colégio Estadual Antônio Moraes de Barros',\n",
       "       'Colégio Estadual Barão de Rio Branco ',\n",
       "       'Colégio Estadual Dr. Willie Davids',\n",
       "       'Colégio Estadual Ana Molina Garcia',\n",
       "       'Instituto União para a Vitória', 'Praça do Distrito de Guaravera',\n",
       "       'Cine Teatro Universitário Ouro Verde',\n",
       "       'Praça do Distrito de Lerroville', 'Teatro Mãe de Deus',\n",
       "       'Grafatório',\n",
       "       'CCI - Centro de Convivência de Idosos da Zona Norte',\n",
       "       'Igreja Batista Esperança de Londrina', 'Praça Ângelo Kretã',\n",
       "       'Bar Valentino', 'E.M. do Campo Egídio Domingos Brunetto',\n",
       "       'E. M. José Garcia Villar', 'E.M. John Kennedy',\n",
       "       'E. M. Francisco de Aquino Toledo',\n",
       "       'CENSE II - Centro de Socioeducação',\n",
       "       'Escola Municipal Zumbi dos Palmares',\n",
       "       'E.M. Campo do Trabalho e do Saber',\n",
       "       'E. M. Bento Munhoz da Rocha Netto', 'E. M. Luiz Marques Castelo',\n",
       "       'Auditório ACIL', '43 Rock Bar', 'Cheers',\n",
       "       'Auditório Vilanova Artigas', 'Associação de Moradores',\n",
       "       'Feira do Cafezal',\n",
       "       'A Igreja de Jesus Cristo dos Santos dos Últimos Dias',\n",
       "       'Associação Flávia Cristina', 'Barracão Tangara',\n",
       "       'Centro Comunitário do Jardim Morumbi',\n",
       "       'Estrada do Limoeiro, km 9',\n",
       "       'Centro Social e Pastoral Santo Antônio Maria Claret',\n",
       "       'Praça da Paróquia São José Paiquerê',\n",
       "       'Paróquia Nossa Senhora Rainha do Universo',\n",
       "       'Quadra da Praça de Maravilha',\n",
       "       'Escola Municipal Luiz Marques Castelo, Patrimônio Espírito Santo',\n",
       "       'Centro de Educação, Comunicação e Artes - CECA (UEL)',\n",
       "       'Lar Anália Franco', 'Escolas municipais ', 'Zerão',\n",
       "       'Centro Cívico', 'Residencial Flores do Campo',\n",
       "       'Praça do Campo de Grama Sintética', 'Praça Pedro Pezzarini',\n",
       "       'Colégio Estadual do Campo Maria Aparecida Rosignol Franciosi',\n",
       "       'Juntus Coworking', 'Praça da Mata', 'Cultural Hall',\n",
       "       'Teatro Ouro Verde', 'Teatro - Hotel Crystal', 'Bar Brasiliano',\n",
       "       'AESLO', 'Shopping Royal Plaza', 'Casa Von Borstel',\n",
       "       'Moress Contemporâneo', 'Aterro - Lago Igapó', 'Menina Bar',\n",
       "       'Plataformas Digitais de Música', 'Lago Igapó 2',\n",
       "       'Livraria Curitiba', 'Teatro do Clubinho', 'Cativeiro Bar',\n",
       "       'SEBRAE Londrina', 'Divisão de Artes Cênicas - UEL',\n",
       "       'Colégio Estadual Marcelino Champagnat', 'Avenida Higienópolis',\n",
       "       'OCA Ambientes Contemporâneos', 'Capela da Catedral de Londrina',\n",
       "       'Rua Sergipe', 'Boulevard Londrina Shopping',\n",
       "       'Escola Noêmia Alaver Malanga',\n",
       "       'Parque de Exposições Governador Ney Braga',\n",
       "       'Praça Marechal Floriano Peixoto',\n",
       "       'Colegio Estadual Professora Roseli Piotto Roehrig',\n",
       "       'Escola Municipal Eugênio Brugin',\n",
       "       'Instituto de Educação Infantil e Juvenil - ESCOLA IEIJ', 'UNIFIL',\n",
       "       'St. James’ International School ', 'Solarium Carlos Cascaldi',\n",
       "       'Muro - Cemitério São Pedro',\n",
       "       'Conservatório Das Artes Londrinense',\n",
       "       'Quadra da Rua Saturnino de Brito - Vila Marízia',\n",
       "       'Colégio Estadual Hugo Simas', 'Feira Livre da Avenida São Paulo',\n",
       "       'SENAI'], dtype=object)"
      ]
     },
     "execution_count": 19,
     "metadata": {},
     "output_type": "execute_result"
    }
   ],
   "source": [
    "# Listar os locais presentes nos dados\n",
    "df_filtrocolunas[\"Local\"].unique()"
   ]
  },
  {
   "cell_type": "code",
   "execution_count": 13,
   "metadata": {},
   "outputs": [
    {
     "data": {
      "text/plain": [
       "Vila TRIOLÉ Cultural                                                     68\n",
       "Biblioteca Pública Municipal Professor Pedro Viriato Parigot de Souza    59\n",
       "Centro Cultural SESI - AML                                               42\n",
       "VILA CULTURAL CEMITÉRIO DE AUTOMÓVEIS                                    37\n",
       "Cine Teatro Universitário Ouro Verde                                     36\n",
       "                                                                         ..\n",
       "Conservatório Das Artes Londrinense                                       1\n",
       "Plataformas Digitais de Música                                            1\n",
       "Residencial Flores do Campo                                               1\n",
       "Colegio Estadual Professora Roseli Piotto Roehrig                         1\n",
       "Colégio Estadual do Campo Maria Aparecida Rosignol Franciosi              1\n",
       "Name: Local, Length: 124, dtype: int64"
      ]
     },
     "execution_count": 13,
     "metadata": {},
     "output_type": "execute_result"
    }
   ],
   "source": [
    "# Contar por Locais\n",
    "df_filtrocolunas[\"Local\"].value_counts()"
   ]
  },
  {
   "cell_type": "code",
   "execution_count": 36,
   "metadata": {},
   "outputs": [
    {
     "data": {
      "text/plain": [
       "<matplotlib.axes._subplots.AxesSubplot at 0x2901e503e08>"
      ]
     },
     "execution_count": 36,
     "metadata": {},
     "output_type": "execute_result"
    },
    {
     "data": {
      "image/png": "[encoded data removed]",
      "text/plain": [
       "<Figure size 432x288 with 1 Axes>"
      ]
     },
     "metadata": {
      "needs_background": "light"
     },
     "output_type": "display_data"
    }
   ],
   "source": [
    "# Mostrar dados em um gráfico\n",
    "# O Matplotlib não será importado, neste caso, pois já está contido no Pandas\n",
    "# É preciso informar que se quer visualizar o gráfico dentro do próprio notebook\n",
    "%matplotlib inline\n",
    "\n",
    "# Mostrar a Classificação Indicativa em um gráfico de barras\n",
    "df_filtrocolunas[\"Classificação Indicativa\"].value_counts().plot.bar()"
   ]
  },
  {
   "cell_type": "code",
   "execution_count": 37,
   "metadata": {},
   "outputs": [
    {
     "data": {
      "text/plain": [
       "<matplotlib.axes._subplots.AxesSubplot at 0x2901d303608>"
      ]
     },
     "execution_count": 37,
     "metadata": {},
     "output_type": "execute_result"
    },
    {
     "data": {
      "image/png": "[encoded data removed]",
      "text/plain": [
       "<Figure size 432x288 with 1 Axes>"
      ]
     },
     "metadata": {
      "needs_background": "light"
     },
     "output_type": "display_data"
    }
   ],
   "source": [
    "# Plotar o gráfico de barras horizontal por Classificação Indicativa\n",
    "df_filtrocolunas['Classificação Indicativa'].value_counts().plot.barh()"
   ]
  },
  {
   "cell_type": "code",
   "execution_count": 42,
   "metadata": {},
   "outputs": [
    {
     "data": {
      "text/html": [
       "<div>\n",
       "<style scoped>\n",
       "    .dataframe tbody tr th:only-of-type {\n",
       "        vertical-align: middle;\n",
       "    }\n",
       "\n",
       "    .dataframe tbody tr th {\n",
       "        vertical-align: top;\n",
       "    }\n",
       "\n",
       "    .dataframe thead th {\n",
       "        text-align: right;\n",
       "    }\n",
       "</style>\n",
       "<table border=\"1\" class=\"dataframe\">\n",
       "  <thead>\n",
       "    <tr style=\"text-align: right;\">\n",
       "      <th></th>\n",
       "      <th>Atividade</th>\n",
       "      <th>Classificação Indicativa</th>\n",
       "      <th>Linguagem</th>\n",
       "      <th>Preço</th>\n",
       "      <th>Data inicial</th>\n",
       "      <th>Frequência</th>\n",
       "      <th>Local</th>\n",
       "      <th>Endereço</th>\n",
       "      <th>Número</th>\n",
       "    </tr>\n",
       "  </thead>\n",
       "  <tbody>\n",
       "    <tr>\n",
       "      <td>16</td>\n",
       "      <td>Evento Teste</td>\n",
       "      <td>Livre</td>\n",
       "      <td>Cultura Digital</td>\n",
       "      <td>10</td>\n",
       "      <td>2019-06-21</td>\n",
       "      <td>Semanal</td>\n",
       "      <td>VILA CULTURAL CEMITÉRIO DE AUTOMÓVEIS</td>\n",
       "      <td>Av Arthur Thomas</td>\n",
       "      <td>342</td>\n",
       "    </tr>\n",
       "    <tr>\n",
       "      <td>52</td>\n",
       "      <td>Cemitério, temporada de oficinas</td>\n",
       "      <td>18 anos</td>\n",
       "      <td>Artes Integradas</td>\n",
       "      <td>10</td>\n",
       "      <td>2019-01-22</td>\n",
       "      <td>Uma vez</td>\n",
       "      <td>VILA CULTURAL CEMITÉRIO DE AUTOMÓVEIS</td>\n",
       "      <td>Av Arthur Thomas</td>\n",
       "      <td>342</td>\n",
       "    </tr>\n",
       "  </tbody>\n",
       "</table>\n",
       "</div>"
      ],
      "text/plain": [
       "                           Atividade Classificação Indicativa  \\\n",
       "16                      Evento Teste                    Livre   \n",
       "52  Cemitério, temporada de oficinas                  18 anos   \n",
       "\n",
       "           Linguagem Preço Data inicial Frequência  \\\n",
       "16   Cultura Digital    10   2019-06-21    Semanal   \n",
       "52  Artes Integradas    10   2019-01-22    Uma vez   \n",
       "\n",
       "                                    Local          Endereço Número  \n",
       "16  VILA CULTURAL CEMITÉRIO DE AUTOMÓVEIS  Av Arthur Thomas    342  \n",
       "52  VILA CULTURAL CEMITÉRIO DE AUTOMÓVEIS  Av Arthur Thomas    342  "
      ]
     },
     "execution_count": 42,
     "metadata": {},
     "output_type": "execute_result"
    }
   ],
   "source": [
    "# Dentro de um conjunto maior de dados, é possível tratar um conjunto menor.\n",
    "# Vamos criar um subconjunto dos dados originais\n",
    "# Cria-se um outro DataFrame só para mexer com determinado subconjunto\n",
    "# Ou seja, nesse caso vou analisar os dados de determinadas linhas\n",
    "df_vilaCemAutom = df_filtrocolunas[df_filtrocolunas['Local'] == 'VILA CULTURAL CEMITÉRIO DE AUTOMÓVEIS']\n",
    "\n",
    "# Linhas iniciais do DataFrame\n",
    "df_vilaCemAutom.head(2)"
   ]
  },
  {
   "cell_type": "code",
   "execution_count": 50,
   "metadata": {},
   "outputs": [
    {
     "data": {
      "text/plain": [
       "(37, 9)"
      ]
     },
     "execution_count": 50,
     "metadata": {},
     "output_type": "execute_result"
    }
   ],
   "source": [
    "df_vilaCemAutom.shape"
   ]
  },
  {
   "cell_type": "code",
   "execution_count": 51,
   "metadata": {},
   "outputs": [
    {
     "data": {
      "text/plain": [
       "Livro e Literatura                                           12\n",
       "Artes Integradas                                              6\n",
       "Teatro                                                        6\n",
       "Curso ou Oficina, M?sica Popular, Artes Circenses, Teatro     6\n",
       "Cultura Tradicional                                           1\n",
       "M?sica Popular, Livro e Literatura                            1\n",
       "Cultura Digital                                               1\n",
       "M?sica Popular                                                1\n",
       "M?sica Erudita                                                1\n",
       "Palestra, Debate ou Encontro                                  1\n",
       "Teatro, M?sica Popular                                        1\n",
       "Name: Linguagem, dtype: int64"
      ]
     },
     "execution_count": 51,
     "metadata": {},
     "output_type": "execute_result"
    }
   ],
   "source": [
    "df_vilaCemAutom['Linguagem'].value_counts()"
   ]
  },
  {
   "cell_type": "code",
   "execution_count": 55,
   "metadata": {},
   "outputs": [
    {
     "data": {
      "text/plain": [
       "<matplotlib.axes._subplots.AxesSubplot at 0x2901d685508>"
      ]
     },
     "execution_count": 55,
     "metadata": {},
     "output_type": "execute_result"
    },
    {
     "data": {
      "image/png": "[encoded data removed]",
      "text/plain": [
       "<Figure size 432x288 with 1 Axes>"
      ]
     },
     "metadata": {
      "needs_background": "light"
     },
     "output_type": "display_data"
    }
   ],
   "source": [
    "df_vilaCemAutom['Linguagem'].value_counts().plot.barh()"
   ]
  },
  {
   "cell_type": "code",
   "execution_count": 76,
   "metadata": {},
   "outputs": [
    {
     "data": {
      "text/plain": [
       "<matplotlib.axes._subplots.AxesSubplot at 0x2901d48fc48>"
      ]
     },
     "execution_count": 76,
     "metadata": {},
     "output_type": "execute_result"
    },
    {
     "data": {
      "image/png": "[encoded data removed]",
      "text/plain": [
       "<Figure size 432x288 with 1 Axes>"
      ]
     },
     "metadata": {
      "needs_background": "light"
     },
     "output_type": "display_data"
    }
   ],
   "source": [
    "# Melhorar o gráfico de barras horizontal\n",
    "# Para reverter a ordem do gráfico (colocar do maior para o menor)\n",
    "df_vilaCemAutom['Linguagem'].value_counts(ascending=True).plot.barh()"
   ]
  },
  {
   "cell_type": "code",
   "execution_count": 78,
   "metadata": {},
   "outputs": [
    {
     "data": {
      "text/plain": [
       "<matplotlib.axes._subplots.AxesSubplot at 0x2901e29bb88>"
      ]
     },
     "execution_count": 78,
     "metadata": {},
     "output_type": "execute_result"
    },
    {
     "data": {
      "image/png": "[encoded data removed]",
      "text/plain": [
       "<Figure size 432x288 with 1 Axes>"
      ]
     },
     "metadata": {
      "needs_background": "light"
     },
     "output_type": "display_data"
    }
   ],
   "source": [
    "# Agora, acrescentando um título\n",
    "df_vilaCemAutom['Linguagem'].value_counts(ascending=True).plot.barh(title='Linguagem')"
   ]
  },
  {
   "cell_type": "code",
   "execution_count": null,
   "metadata": {},
   "outputs": [],
   "source": [
    "# Para poder selecionar por número da coluna ou campo específico\n",
    "# loc, iloc = procura por índice e número da coluna\n",
    "# at = com o comando at \n",
    "# Pesquisar isso."
   ]
  },
  {
   "cell_type": "code",
   "execution_count": 75,
   "metadata": {},
   "outputs": [
    {
     "data": {
      "text/plain": [
       "Atividade                   203\n",
       "Classificação Indicativa    203\n",
       "Linguagem                   203\n",
       "Preço                       185\n",
       "Data inicial                203\n",
       "Frequência                  195\n",
       "Local                       200\n",
       "Endereço                    194\n",
       "Número                      194\n",
       "dtype: int64"
      ]
     },
     "execution_count": 75,
     "metadata": {},
     "output_type": "execute_result"
    }
   ],
   "source": [
    "# Podemos subdividir ou fatiar o DataFrame com base em pedaço de palavra\n",
    "# df_hospbase[df_hospbase['Procedimento'].str.contains('Amputa')].count()\n",
    "\n",
    "# Podemos subdividir ou fatiar o DataFrame com base em pedaço de palavra\n",
    "df_filtrocolunas[df_filtrocolunas['Linguagem'].str.contains('Teatro')].count()\n",
    "# VER MELHOR ESSE DADO. PARECE-ME QUE O RESULTADO NÃO DEVERIA SER ESSE."
   ]
  },
  {
   "cell_type": "code",
   "execution_count": 79,
   "metadata": {},
   "outputs": [],
   "source": [
    "# Isso aqui é análise exploratória de dados\n",
    "# É importante de ser feita."
   ]
  },
  {
   "cell_type": "markdown",
   "metadata": {},
   "source": [
    "### Usando o Plotly\n",
    "\n",
    "##### Gráfico de dispersão (Scatter plot)\n",
    "Para criar um scatter plot nós utilizaremos o código abaixo. A variável trace irá armazenar o objeto do gráfico, que criaremos utilizando a função go.Scatter(). Dentro dessa função iremos passar os argumentos para geração do gráfico, como os eixos X e Y. No argumento mode iremos passar a forma como queremos que os pontos do gráfico sejam representados — já, já voltaremos nesse argumento.\n",
    "A variável data irá armazenar trace na forma de uma lista. Para exibir um gráfico no Plotly, é necessário passar tudo na forma de uma lista. Você poderia simplesmente utilizar [trace] dentro de py.iplot(), mas é uma boa prática passar dentro da variável data, mas a frente você verá o por quê.\n",
    "Por fim, a função py.iplot(data) irá exibir o gráfico, que você pode ver o resultado abaixo:"
   ]
  },
  {
   "cell_type": "code",
   "execution_count": 38,
   "metadata": {},
   "outputs": [
    {
     "data": {
      "application/vnd.plotly.v1+json": {
       "config": {
        "linkText": "Export to plot.ly",
        "plotlyServerURL": "https://plot.ly",
        "showLink": false
       },
       "data": [
        {
         "mode": "markers",
         "type": "scatter",
         "x": [
          "Estreia na Biblioteca",
          "Exposição de Poesias Ilustradas de Valdenir Teles Magalhães",
          "Aulas de Hatha Yoga",
          "Aulas de Hatha Yoga",
          "Círculo de debates sobre o livro \"Quarenta dias\" de Maria Valéria Rezende",
          "Bate-papo sobre o livro \"Comédias para se ler na escola\" de Luis Fernando Veríssimo",
          "Palestra sobre o livro \"Comédias para ser ler na escola\" de Luis Fernando Veríssimo",
          "Contação de história sobre o livro \"Alice no pais das maravilhas\" de Lewis Carroll",
          "Contação de história sobre o livro \"Alice no pais das maravilhas\" de Lewis Carroll",
          "Contação de história sobre o livro \"Alice no pais das maravilhas\" de Lewis Carroll",
          "Contação de história sobre o livro \"Alice no pais das maravilhas\" de Lewis Carroll",
          "CABARÉ DAS MUIÉ",
          "Círculo de Debate sobre o Livro Alguma poesia de Carlos Drummond de Andrade",
          "Exposição Histórica",
          "Exposição Histórica",
          "Palestra sobre o livro \"Clara dos Anjos\" de Lima Barreto",
          "Evento Teste",
          "Campanha leia, doe e troque",
          "Palestra: Busca em bases de dados gratuitas",
          "Roda de conversa: A relevância da leitura para a leitura de mundo, na perspectiva de Paulo Freire",
          "Oficina de produção de fantoches",
          "Palestra: Diretrizes para elaboração de trabalhos acadêmicos segundo estilo Vancouver e APA",
          "Orquestra e Coral Solidariedade Sempre",
          "Orquestra e Coral Solidariedade Sempre",
          "Orquestra e Coral Solidariedade Sempre",
          "Orquestra e Coral Solidariedade Sempre",
          "Orquestra e Coral Solidariedade Sempre",
          "Orquestra e Coral Solidariedade Sempre",
          "Orquestra e Coral Solidariedade Sempre",
          "Orquestra e Coral Solidariedade Sempre",
          "Orquestra e Coral Solidariedade Sempre",
          "Orquestra e Coral Solidariedade Sempre",
          "BRISA - Saraus Artísticos",
          "BRISA - Saraus Artísticos",
          "BRISA - Saraus Artísticos",
          "Apresentações Cadência Sincopada",
          "Apresentações Cadência Sincopada",
          "Apresentações Cadência Sincopada",
          "Apresentações Cadência Sincopada",
          "XXII Salão Nacional de Arte Fotográfica do Foto Clube de Londrina",
          "Contação de história com Gilza Santos ",
          "Femucom - Festival de Música do Comerciário",
          "Lançamento do Livro Sem Travas na Língua",
          "Espetáculo QUAL A GRAÇA DE LAURINDA?",
          "Vikings e o Reino Saqueado",
          "Bailinho do Plantão",
          "Lunavi na FLAPT",
          "Oficina “Pintura em pano de prato”",
          "Dramatização acompanhada com repertório musical",
          "Oficina de Recicláveis: A Escolinha do mar",
          "Oficina “Découpage em sabonete”",
          "Oficina “Máscaras com papel machê”",
          "Cemitério, temporada de oficinas",
          "Ensaio aberto: Tomai a medida do coração humano",
          "Ensaio aberto: Tomai a medida do coração humano",
          "Exposição “Vigve, megme”",
          "Achados Literários",
          "Oficinas Percussivas ILU ODARA",
          "Maracatu Semente de Angola",
          "Assalto Literário no Canto",
          "Assalto Literário, 27 janeiro",
          "Vikings e o Reino Saqueado!",
          "Vikings e o Reino Saqueado!",
          "Sarau:prosa, poesia e outras delícias - batuque e poesia",
          "Pé de Samba",
          "SEMANA DA VISIBILIDADE TRANS",
          "Exposição: \"Violeta e os Seres Imaginários\"",
          "Celebrando a Cultura Rural",
          "Celebrando a Cultura Rural",
          "Celebrando a Cultura Rural",
          "RESGATE DE RUA",
          "RESGATE DE RUA",
          "RESGATE DE RUA",
          "Campeonato de Xadrez Londrinense 2019",
          "Campeonato de Xadrez Londrinense 2019",
          "Campeonato de Xadrez Londrinense 2019",
          "Campeonato de Xadrez Londrinense 2019",
          "Campeonato de Xadrez Londrinense 2019",
          "Campeonato de Xadrez Londrinense 2019",
          "Campeonato de Xadrez Londrinense 2019",
          "Campeonato de Xadrez Londrinense 2019",
          "Campeonato de Xadrez Londrinense 2019",
          "Campeonato de Xadrez Londrinense 2019",
          "Campeonato de Xadrez Londrinense 2019",
          "Espetáculo \"Na Gaveta de Baixo\"",
          "Contação de história sobre o livro \"Onde vivem os monstros\" de Maurice Sendak",
          "Contação de história sobre o livro \"Onde vivem os monstros\" de Maurice Sendak",
          "Contação de história sobre o livro \"Cacoete\" de Eva Furnari",
          "Contação de história sobre o livro \"Cacoete\" de Eva Furnari",
          "Contação de história sobre o livro \"Cacoete\" de Eva Furnari",
          "Oficina de desenhos com o Prof. Paulo Tio",
          "Assalto Literário no Vista Bela",
          "Carnaval 2019 - Ensaios abertos do Bloco Bafo Quente",
          "Carnaval 2019 - Ensaios abertos do Bloco Bafo Quente",
          "Banda Nova - De um Filho, De um Cego | Búfalos D'Água",
          "Reunião com o integrantes do Clube Aventureiros do Amanhecer",
          "Reunião com o integrantes do Clube Aventureiros do Amanhecer",
          "Reunião com o integrantes do Clube Aventureiros do Amanhecer",
          "Reunião com o integrantes do Clube Aventureiros do Amanhecer",
          "Reunião com o integrantes do Clube Aventureiros do Amanhecer",
          "Reunião com o integrantes do Clube Aventureiros do Amanhecer",
          "Reunião com o integrantes do Clube Aventureiros do Amanhecer",
          "Reunião com o integrantes do Clube Aventureiros do Amanhecer",
          "Reunião com o integrantes do Clube Aventureiros do Amanhecer",
          "Reunião com o integrantes do Clube Aventureiros do Amanhecer",
          "Exposição: Conhecendo os autores e suas obras",
          "Sarará Criolo - Circulação e Lançamento de CD",
          "Sarará Criolo - Circulação e Lançamento de CD",
          "Sarará Criolo - Circulação e Lançamento de CD",
          "Sarará Criolo - Circulação e Lançamento de CD",
          "Sarará Criolo - Circulação e Lançamento de CD",
          "Cacoete - Eva Furnari",
          "Cacoete - Eva Furnari",
          "Contação de história",
          "Transtornada Eu",
          "Bailinho do Plantão",
          "Bailinho do Plantão",
          "Bailinho do Plantão",
          "Bailinho do Plantão",
          "Bailinho do Plantão",
          "Bailinho do Plantão",
          "Bailinho do Plantão",
          "Bailinho do Plantão",
          "Bailinho do Plantão",
          "Bailinho do Plantão",
          "Bailinho do Plantão",
          "\"Chapeuzinho Vermelho” – Irmãos Grimm",
          "Oficina - A dança da Palhaça",
          "Oficina - Palhaçaria na Visão Feminina",
          "Oficina - Objeto e Cena",
          "Oficina - Mulheres Gozadas",
          "Oficina - “Meu corpo cômico: dilatando risos”",
          "Oficina - Jogos Lúdicos",
          "Espetáculo: \"Vagarosa\"",
          "Espetáculo: \"Que Festa é essa criatura?\"",
          "Espetáculo: \"Ao Ponto\"",
          "Espetáculo “Malagueta Dorminhoca”",
          "Espetáculo: Plano nº 269",
          "Oficina \"Microconto: um vasto pequeno mundo\", com Cláudia Bergamini",
          "Oficina \"Microconto: um vasto pequeno mundo\", com Cláudia Bergamini",
          "Pré Carnaval",
          "Matinê de Carnaval na ALMA",
          "SÉRIE PALCOS MUSICAIS 2019 - ABERTURA DA TEMPORADA",
          "MEXE QUE É BOM!",
          "Dia do Bibliotecário: O Gestor Cultural e as ações de produção e incentivo à leitura",
          "Mostra Fotográfica \"Minha Beleza Pura\"",
          "Mostra Fotográfica \"Minha Beleza Pura\"",
          "Celebrando a Cultura Rural",
          "Celebrando a Cultura Rural",
          "CONEXÕES HÍBRIDAS E MEMÓRIAS MARGINAIS",
          "CONEXÕES HÍBRIDAS E MEMÓRIAS MARGINAIS",
          "Feirão da Resistência e da Reforma Agrária | Especial 8M",
          "Projeto Balaio de Gato",
          "OSUEL COMEMORA 35 ANOS",
          "Múltiplo Leminski",
          "Múltiplo Leminski",
          "Múltiplo Leminski",
          "Múltiplo Leminski",
          "Múltiplo Leminski",
          "Múltiplo Leminski",
          "Múltiplo Leminski",
          "Múltiplo Leminski",
          "OFICINA DE TEATRO PARA MULHERES",
          "OFICINA DE TEATRO PARA MULHERES",
          "OFICINA DE TEATRO PARA MULHERES",
          "OFICINA DE TEATRO PARA MULHERES",
          "Sarauzinho, Londrix 15 anos",
          "Triolé apresenta: O ZELADOR",
          "Palestra e bate-papo sobre o livro \"Vozes anoitecidas de Mia Couto\"",
          "Contação de histórias sobre o livro \"Chapeuzinho Vermelho\" - Irmãos Grimm",
          "Contação de histórias sobre o livro \"Chapeuzinho Vermelho\" - Irmãos Grimm",
          "Contação de histórias sobre o livro \"Chapeuzinho Vermelho\" - Irmãos Grimm",
          "Contação de histórias sobre o livro \"Chapeuzinho Vermelho\" - Irmãos Grimm",
          "Banda Nova - Sincopaduo | David Mour",
          "Banda Nova - Octopus Trio | Aminoácido",
          "Sarará Criolo - Lançamento do CD",
          "MEQUETREFE CIRCO SHOW",
          "ARTE TRANSFORMAÇÃO NA EDUCAÇÃO INFANTIL",
          "OFICINA DE PINTURA E DESENHO COM TINTAS NATURAIS",
          "BRINCANDO COM ARGILA",
          "BRINCANDO COM ARGILA",
          "Exposição \"Welcome\"",
          "Contação de história",
          "Lançamento: luas, de Júlia Rocha e Gustavo Galo",
          "A RUA E AS CRIANÇAS.",
          "IDOSOS NO HIP- HOP",
          "ORQUESTRA BARROCA CAPRICCIO STRAVAGANTE APRESENTA ÓPERA THÉSÉE, DIA 30",
          "Capoeira Senzala",
          "Contação de histórias sobre o livro \"Viagem ao Céu\" de Monteiro Lobato",
          "Contação de histórias sobre o livro \"Viagem ao Céu\" de Monteiro Lobato",
          "Contação de histórias sobre o livro \"Viagem ao Céu\" de Monteiro Lobato",
          "Contação de histórias sobre o livro \"Viagem ao Céu\" de Monteiro Lobato",
          "Exposição Grude + Fachada Nova",
          "6º EVENTO DE CAPOEIRA DE ANGOLA AECAJP - CECA - PERNAMBUÉS SSA-BA MESTRE CIRO",
          "Projeto Vivenciando a música na melhor idade",
          "Projeto Vivenciando a Música na Melhor Idade",
          "Projeto Vivenciando a Música na Melhor Idade",
          "Projeto Vivenciando a Música na melhor idade",
          "Bravi com Allice Tirolla, Fabricio Martins e Elthon Dias",
          "Musicalizando e dançando para a vida",
          "Toques e danças brasileiras",
          "Novas apresentações de Transtornada Eu",
          "Novas apresentações de Transtornada Eu",
          "PROARTE",
          "Viagem ao Céu - Monteiro Lobato",
          "Uma Coleção Futurologista ( The Best of Mr.Chao )",
          "Uma Coleção Futurologista ( The Best of Mr.Chao )",
          "Uma Coleção Futurologista ( The Best of Mr.Chao )",
          "Uma Coleção Futurologista ( The Best of Mr.Chao )",
          "Exposição \"Mundo encantado de Lobato\"",
          "Contação de História",
          "Oficina de artes",
          "Alice no País das Maravilhas” – Lewis Caroll",
          "CONCERTO DE PÁSCOA",
          "Quizomba Re-Existe!",
          "Oficina Quizomba de Bumba-meu-Boi",
          "Oficina Quizomba de Bumba-meu-Boi",
          "Oficina Quizomba de Bumba-meu-Boi",
          "Palco AlmA Londrina 2019",
          "Palco AlmA Londrina 2019",
          "Sarau Flapt - O Corpo Que Luta O Corpo Que Dança",
          "Transtornada Eu na Alma",
          "Transtornada Eu na Alma",
          "Transtornada Eu na Alma",
          "Por Um X",
          "Por Um X",
          "Por Um X",
          "Por Um X",
          "Por Um X",
          "Por Um X",
          "Por Um X",
          "Por Um X",
          "Por Um X",
          "Por Um X",
          "Feirão da Resistência e da Reforma Agrária",
          "17ª Semana Nacional de Museus",
          "17ª Semana Nacional de Museus",
          "17ª Semana Nacional de Museus",
          "17ª Semana Nacional de Museus",
          "17ª Semana Nacional de Museus",
          "17ª Semana Nacional de Museus",
          "17ª Semana Nacional de Museus",
          "17ª Semana Nacional de Museus",
          "Oficina de Cerâmica",
          "Meu coração de Polaco voltou",
          "1º Encontro Cidadania e Leis Federais de Incentivo",
          "Samba do Sereno",
          "Poéticas de Terra e Céu",
          "Espetáculo Transtornada Eu na Flapt",
          "Pint Of Science 2019 Londrina Pr.",
          "Oficina de orientação dos Editais nº 01 e 02/2019 - Projetos Culturais Estratégicos",
          "Exposição \"Mês da Família: um elo de Amor\"",
          "Contação da história “Histórias de Lepe e Sep: 2 corações pulsantes\"",
          "VIII MOSTRA DE MÚSICA DE CÂMARA - concertos comemorativos - CONCERTO PARA CRIANÇAS",
          "Contação da história “Alice no País das Maravilhas”",
          "Mostra fotográfica “Minha Beleza Pura”",
          "Oficina de Artes “Alice no País das Maravilhas”",
          "As marcas no corpo",
          "4ª Etapa de Renovação do Comitê Gestor da Salvaguarda da Capoeira no Paraná",
          "As marcas no corpo",
          "Festival Cultural",
          "Festival Cultural",
          "Festival Cultural",
          "BIZARRIA",
          "BIZARRIA",
          "BIZARRIA",
          "BIZARRIA",
          "BIZARRIA",
          "BIZARRIA",
          "Orquestra Intermediária Bravi",
          "Semana do Café 2019",
          "PROJETO MUSICANDO NA ESCOLA",
          "Aulas de Capoeira",
          "Círculo de debates do livro \"Clara dos anjos\" de Lima Barreto",
          "Palestra sobre o livro \"O filho eterno\" de Cristovão Tezza",
          "Círculo de debates sobre o livro \"O filho eterno\" de Cristovão Tezza",
          "METAIS IN CONCERT",
          "Exposição: Literatura em quadrinhos e mangás",
          "Poéticas de Terra e Céu",
          "PROARTE - AULA ESPECIAL CAPTAÇÃO LEIS DE INCENTIVO",
          "Brincando com Luz e Sombra",
          "Espetáculo: Palhaça Sola",
          "Espetáculo: O Pássaro Azul",
          "Espetáculo: O Pássaro Azul",
          "QUE FESTA É ESSA, CRIATURA?",
          "Oficina de desenhos sobre o livro \"Onde vivem os monstros\"",
          "Oficina de desenhos sobre o livro \"Onde vivem os monstros\"",
          "Oficina de desenhos sobre o livro \"Onde vivem os monstros\"",
          "Oficina “Dramaturgia de Palhaç@”",
          "Performance e Exposição Fotográfica \"Por Elas\"",
          "Festa Junina AFC",
          "Cabaré o Show",
          "VI Festival Cultural Arraia da Integração.",
          "VI Festival Cultural Arraia da Integração.",
          "VI Festival Cultural Arraia da Integração.",
          "CONCERTO DE SÃO JOÃO",
          "Viagem Longa, Grana Curta",
          "Viagem Longa, Grana Curta",
          "Viagem Longa, Grana Curta",
          "Viagem Longa, Grana Curta",
          "Viagem Longa, Grana Curta",
          "Viagem Longa, Grana Curta",
          "Viagem Longa, Grana Curta",
          "Viagem Longa, Grana Curta",
          "Viagem Longa, Grana Curta",
          "Viagem Longa, Grana Curta",
          "Apresentação do primeiro Intercâmbio Artístico \"Grazzi Ellas Transitando\" em Londrina.",
          "Apresentação do primeiro Intercâmbio Artístico \"Grazzi Ellas Transitando\" em Londrina.",
          "O Pássaro Azul",
          "O Pássaro Azul",
          "Palestra Concertante com Alfredo Moura",
          "LONDRINA, CULTURA EM RETRATOS",
          "Audiências Públicas de Cultura 2019",
          "Novos Cronistas Londrix - lançamento do livro",
          "Lançamento Projeto Jovens Escritores",
          "Revista Sossego em Londrina + Show com Entidade Perdida",
          "OSUEL E DUO CLAVIS",
          "CONCERTO COLOR RHETORICUS – ANO I",
          "Jogue como uma garota",
          "Jogue como uma garota 18/06",
          "Bizarria: substantivo feminino, boa postura",
          "Londrinoise Segunda Edição",
          "Festa Julina Lar Anália Franco",
          "Contação de história",
          "Circulação \"Que Festa É Essa, Criatura?\" EUBOBASE",
          "Balada de um palhaço",
          "Balada de um palhaço",
          "Oficina de artes",
          "ARRIGO BARNABÉ – QUERO QUE VÁ TUDO PRO INFERNO",
          "No fim da Infância",
          "Clássicos Infantis: uma hora cheia de histórias",
          "OFICINA DE TEATRO PARA CRIANÇAS",
          "OFICINA DE TEATRO PARA CRIANÇAS",
          "OFICINA DE TEATRO PARA CRIANÇAS",
          "OFICINA DE TEATRO PARA CRIANÇAS",
          "Oficina De Maracatu - Semente de Angola",
          "Trovadores do Miocárdio",
          "Trovadores do miorcárdio",
          "Trovadores do miorcárdio",
          "Ensaio Escola municipal Hikoma Udihara",
          "Ensaio Escola municipal Hikoma Udihara",
          "Ensaio Escola municipal Hikoma Udihara",
          "Ensaio Escola municipal Hikoma Udihara",
          "Morte e Vida Severina",
          "Morte e Vida Severina",
          "Morte e Vida Severina Espetáculo Cênico- Musical.",
          "Palestra sobre o Livro Alguma poesia de Carlos Drummond de Andrade",
          "Onde Vivem os Monstros",
          "Que Festa É Essa, Criatura?",
          "Que Festa É Essa, Criatura?",
          "Que Festa É Essa, Criatura?",
          "Oficina Light Painting",
          "Oficina de desenhos tridimensionais e articulados",
          "FESTA JULINA BENEFICENTE 2019",
          "Pé de Samba 06 de julho",
          "Balada de um palhaço",
          "Balada de um palhaço",
          "Festival Internacional de Música de Londrina - Edição 39",
          "Contação de histórias",
          "Encontro de Gigantes",
          "Encontro de Gigantes",
          "Encontro de Gigantes",
          "Encontro de Gigantes",
          "Encontro de Gigantes",
          "Exposição de livros \"Ruth Rocha\"",
          "3 dias com Leonardo da Vinci",
          "Quizomba + FML - Música fora do centro!",
          "Abertura do 5º ENCOM - Encontro Nacional de Composição Musical",
          "Abertura Solene do 39° Festival Internacional de Música de Londrina",
          "Abertura Solene do 39° Festival Internacional de Música de Londrina",
          "5º ENCOM - Encontro Nacional de Composição Musical",
          "Encerramento do 5o ENCOM - Encontro Nacional de Composição Musical",
          "OSUEL – Orquestra Sinfônica da Universidade Estadual de Londrina",
          "Trio Paranaense",
          "Dia Mundial do Rock",
          "Ivo Pessoa Trio",
          "Show “Xodós”",
          "Allan Manhas Recital de Piano",
          "Música Fora de Centro",
          "Samba do Sereno",
          "Morte e Vida Severina",
          "Iroko Trio",
          "TRÊS Orquestras. UM Encontro",
          "Forró Caviúna",
          "Show André Mehmari Trio",
          "Toninho Ferragutti & Salomão, Duo Acordeon e Piano",
          "André Siqueira Quarteto",
          "Roda De Conversa André Mehmari Trio",
          "Risorama Londrina",
          "Tricantumconto",
          "Sarau: prosa, poesia e outras delícias",
          "Sarau: prosa, poesia & outras delícias",
          "Risorama Londrina",
          "Circulação Espetáculo \"Que Festa É Essa, Criatura?\" Calçadão de Londrina",
          "Circulação Espetáculo \"Que Festa É Essa, Criatura?\" Aterro do Lago Igapó",
          "Viva o Barroco! Bach e Vivaldi",
          "La Bella Voce",
          "Andrea dos Guimarães e João Paulo Amaral",
          "Iroko Trio",
          "Água de Moringa, Grupo de Choro",
          "Duo Violino e Piano",
          "Violão em Cena",
          "Orquestra Solidariedade Sempre",
          "ECM 50",
          "All That Jazz/MPB",
          "Banda Sinfônica da FAETEC - Marechal Hermes",
          "Passeata da Alegria",
          "FLûnkY",
          "Abacate Contemporâneo",
          "Iluminuras",
          "Cortejo Grupo Grupo de Percussão da Universidade Federal de Pelotas - PEPEU",
          "Encerramento do Curso de Coro de Música Popular",
          "Encerramento do Curso de Técnica Vocal e Interpretação na Canção Popular",
          "Encerramento da Prática de MPB e Jazz",
          "Encerramento da Oficina da Banda de Garagem",
          "Senhor Bonifácio",
          "C. Saint Saëns - Carnaval dos Animais",
          "Concerto Open Air",
          "Show de Danças e Evolução da Terceira Idade",
          "Banda Mustav",
          "Grupo de Percussão da Universidade Federal de Pelotas - Pepeu",
          "La Bella Voce II",
          "Exibição do documentário",
          "Gala dos Professores",
          "Duo Policarpo",
          "Concerto de Encerramento",
          "Retratos de Maria",
          "Viva Elis",
          "Concerto de Encerramento",
          "David Mour",
          "Z - as imagens são palavras que sumiram",
          "Maestro por um dia",
          "EXPOSIÇÃO LOBATIANDO",
          "O C T O P O D E",
          "Palestra sobre o livro: Poemas escolhidos de Gregório de Matos",
          "Um bourbon para Faulkner",
          "Espetáculo: \"Subs-Solos\"",
          "OFICINA DE CIRCO PARA CRIANÇAS",
          "OFICINA DE CIRCO PARA CRIANÇAS",
          "OFICINA DE CIRCO PARA CRIANÇAS",
          "ArraiAlma",
          "B.BOY",
          "B.BOY",
          "Contação de histórias sobre o livro \"O pequeno príncipe\"",
          "Contação de histórias sobre o livro \"O pequeno príncipe\"",
          "Contação de histórias sobre o livro \"O pequeno príncipe\"",
          "Campanha de Doação de Livros",
          "Exposição de Poesias em Homenagem ao Dia do Escritor",
          "11° Abraço no Lago pela Paz",
          "CONVITE: Venha Inaugurar o Totem do DADO DE CULTURA DE PAZ",
          "Livro Londrina Pazeando 2019",
          "Exposição de livros em Homenagem ao Dia Nacional do Escritor",
          "Pinóquio",
          "Très Affecté",
          "Show Instrumental Balaio de Gato",
          "Oficina de escrita criativa",
          "PROARTE: Aula Especial - Programação Cultural - Marcos Henrique Rego - RJ",
          "BRINCADEIRAS CANTADAS",
          "Espetáculo: “O Mar do Tempo Perdido”",
          "Espetáculo: “O Mar do Tempo Perdido”",
          "Um Bourbon para Faulkner",
          "História da Arte do Renascimento Italiano",
          "Feijoada Do Coletivo De Educação Popular Paulo Freire",
          "MARACATU DE BAQUE VIRADO",
          "Estreia do filme \"Leste Oeste\"",
          "IX Conferência Municipal de Cultura",
          "IX Conferência Municipal de Cultura",
          "IX Conferência Municipal de Cultura",
          "IX Conferência Municipal de Cultura",
          "Palco AlmA Londrina 2019 - 2ª edição",
          "Dez mãos e um piano - PianOrquestra",
          "Lançamento do Hackathon de Economia criativa",
          "Exposição de livros e revistas em homenagem ao Dia do Estudante",
          "Oficina de Percussão Brasileira",
          "Yoga para Mulheres",
          "Cemitério em festa",
          "ANDRÉ SIQUEIRA TRIO & DUO CLAVIS CONVIDAM TONINHO FERRAGUTTI",
          "OSUEL – DO BARROCO AO SÉCULO XX",
          "Círculo de debates sobre o livro \"Poemas escolhidos de Gregório de Matos\"",
          "OFICINA: Mulheres Gozadas",
          "Espetáculo - Que Festa é essa, Criatura?",
          "Abertura FILO 50+1",
          "Festival Internacional de Londrina",
          "Festival Internacional de Londrina",
          "Festival Internacional de Londrina",
          "Contação de história",
          "Chega de Saudade",
          "Tecituras de nós: dimensões possíveis",
          "AlmA do Samba",
          "Palestra sobre o livro \"O demônio familiar\" de José de Alencar",
          "Exposição Máscaras dos INVISÍVEIS",
          "BANDA MARCIAL MARCELINO CHAMPAGNAT CONVIDA DERICO PARA CONCERTO",
          "O Caipira e o Causo do Capiroto",
          "O Caipira e o Causo do Capiroto",
          "13ª Primavera dos Museus",
          "13ª Primavera dos Museus",
          "SEMANA DE ARTES CÊNICAS",
          "Calejadas Memórias",
          "Circulação Espetáculo \"Que Festa É Essa, Criatura?\" Vila Triolé Cultural",
          "CONCERTO DA ORQUESTRA BARROCA CAPRICCIO STRAVAGANTE",
          "EXPOSIÇÃO LUSOFONIAS",
          "PROCURE A MENINA COM O SOL EM SEUS OLHOS",
          "Bate-papo sobre o livro \"O demônio familiar\"",
          "O Caipira e o Causo do Capiroto",
          "As marcas no corpo",
          "As marcas no corpo",
          "AutoEscavo",
          "Orquestra Acadêmica Bravi",
          "AutoEscavo",
          "Exposição POR ELAS",
          "Circulação Espetáculo \"Que Festa É Essa, Criatura?\" Praça Nishinomiya",
          "Anatomia do espaço-lugar, de Margarida Holler",
          "Lançamento: Porque Eu Odeio, de Claude McKay",
          "Estreia da peça \"Terra Desmedida\"",
          "Estreia da peça \"Terra Desmedida\"",
          "Estreia da peça \"Terra Desmedida\"",
          "IX Conferência de Cultura da Cidade de Londrina",
          "IX Conferência de Cultura da Cidade de Londrina",
          "Palestra sobre o livro \"A hora da estrela\" de Clarice Lispector",
          "ARTE TRANSFORMAÇÃO",
          "Contação da história \"Chapeuzinho vermelho\"",
          "Exposição Por Elas no Canto do MARL",
          "Exposição Por Elas no Canto do MARL",
          "Exposição Por Elas no Canto do MARL",
          "ARTE TRANSFORMAÇÃO",
          "ARTE TRANSFORMAÇÃO",
          "Poesia e revolução",
          "“FAMÍLIA BACH E PIAZZOLLA”",
          "\"Terra Desmedida\" na Flapt",
          "\"Terra Desmedida\" retorna ao Canto do MARL",
          "\"Terra Desmedida\" retorna ao Canto do MARL",
          "\"Terra Desmedida\" retorna ao Canto do MARL",
          "Londrina terá Tributo a BON JOVI",
          "Londrina terá Tributo a BON JOVI",
          "BREXOTA!",
          "Exposição “Semana da Paz”",
          "Exposição “Semana da Paz”",
          "Exposição “Semana da Paz”",
          "Exposição “Semana da Paz”",
          "Exposição “Semana da Paz”",
          "Exposição “Semana da Paz”",
          "Dia Mundial sem Carro",
          "Little London Festival",
          "Trio Harmonitango apresenta \"Uma noite com música de Piazzolla\"",
          "Trio Harmonitango apresenta \"Uma noite com música de Piazzolla\"",
          "ACARAXÉ",
          "2º Encontro Feminino de capoeira - Muruca2019",
          "UMA ORQUESTRA NAS ESCOLAS - ORQUESTRA DE CÂMARA SOLISTAS DE LONDRINA",
          "Encontro sobre Gestão Cultural com Dane de Jade - CE",
          "Lançamento Projeto \"Triolé fora da estrada no Norte Pioneiro\"",
          "Lançamento Projeto \"Triolé fora da estrada no Norte Pioneiro\"",
          "Lançamento Projeto \"Triolé fora da estrada no Norte Pioneiro\"",
          "Lançamento Projeto \"Triolé fora da estrada no Norte Pioneiro\"",
          "Contação da história \"Pollyanna\"",
          "Pollyanna – Eleanor Porter",
          "Pollyanna – Eleanor Porter",
          "Orquestra Acadêmica Bravi",
          "Oficina de Hip-hop Dance",
          "Dia da Sergipe - 8ª Edição",
          "CHRISTIANE TORLONI COMO MARIA CALLAS EM \"MASTER CLASS\"",
          "Que Festa É Essa, Criatura?",
          "Meta For Mosa",
          "Mostra temática itinerante \"Minha beleza pura\"",
          "Mostra temática itinerante \"Minha beleza pura\"",
          "Mostra temática \"Abstratos da reflexão missional\"",
          "Exposição Varal de Cordel",
          "Exposição de Revistas especiais",
          "O Caipira e o causo do Capiroto",
          "Aquário gigante",
          "Aquário gigante",
          "Espetáculo A Sagração da Primavera",
          "Espetáculo Travessia",
          "ARTE E TRANSFORMAÇÃO",
          "META FOR MOSA",
          "Exposição Poeta Alice",
          "Espetáculo Instagrimm",
          "Espetáculo Há Mais Futuro Que Passado",
          "Espetáculo Teia",
          "Espetáculo Teia",
          "Espetáculo Relações",
          "Espetáculo [H3O]mens",
          "Espetáculo Terror e Miséria no Terceiro Milênio - Improvisando Utopias",
          "Espetáculo Atelier de Criação",
          "Espetáculo KA-F-KA",
          "Espetáculo Dança Londrina",
          "Espetáculo Pulse(s)",
          "Espetáculo Bailinho do Plantão",
          "Espetáculo Estou sem silêncio",
          "Oficina: A dança e a criança",
          "Espetáculo Empty Floor",
          "Palestra sobre o Livro Amor de Perdição de Camilo Castelo Branco",
          "Oficinas de futebol de botão ",
          "Oficina Análise Ativa e Criação de Études",
          "Oficina Empty Body (Corpo Vazio) - Dança Meditativa",
          "Exposição Fotográfica Paraná de Orlando Azevedo",
          "Exposição de Livros que viraram filmes",
          "Distribuição de desenhos",
          "Diálogo motivacional sobre a leitura nas várias fases da vida",
          "Palestra - \"Atendimento ao público feito de forma humanizada: gênero, diversidade e direitos humanos\"",
          "Oficina de poesia metafórica",
          "Contação de histórias para alunos adolescentes do CEPAS Santiago",
          "Palco AlmA Londrina 2019",
          "Palco AlmA Londrina 2019",
          "O Caipira e o Causo do Capiroto",
          "Show do Bita",
          "À-Deus (FACES DE lONDRINA)",
          "Recital de Violão",
          "Palestra: Livros sobre temas supremos e existenciais: morte, solidão, desejo e sexualidade. A importância de lermos e conversarmos com as crianças sobre temas universais e profundos.",
          "Bravi - Orquestras Juvenis e Grupos Intermediários",
          "Apresentação do livro: \"O mágico japonês\"",
          "Oficina de Poesia Metafórica",
          "Semana do Dia das Crianças",
          "PRET(A) conta Dandara",
          "PRET(A) conta Dandara",
          "PRET(A) conta Dandara",
          "PRET(A) conta Dandara",
          "PRET(A) conta Dandara",
          "PRET(A) conta Dandara",
          "Contação de histórias para alunos do fundamental II do Colégio Múltipla Escolha",
          "Contação e oficina de artes \"Viagens de Gulliver\"",
          "Conexão cidadã",
          "Ta...lentos musicais",
          "Oficina de Poesia Metafórica",
          "IX Mostra de Música de Câmara com Solistas de Londrina",
          "Contação de histórias e Oficina de artes “Viagens de Gulliver”",
          "2º Little London Festival",
          "2º Little London Festival",
          "Viagens de Gulliver",
          "Histórias para Acordar - Eva Furnari",
          "À-Deus",
          "Palestra: “Obras especiais e raras em bibliotecas universitárias”",
          "Palestra: “Obras especiais e raras em bibliotecas universitárias”",
          "Oficina de Poesia Metafórica",
          "Contação da estória “Histórias de um livro aberto”",
          "Oficina de contação de histórias: recursos e estratégias",
          "Oficina de contação de histórias: recursos e estratégias",
          "Livro na Praça CEU",
          "À- Deus",
          "À-Deus",
          "Sarau de Abertura - BRISA",
          "Sarau de Abertura - BRISA",
          "Oficina de pequenos reparos",
          "LEVE. É SEU!",
          "OFICINA DE POESIA METAFÓRICA",
          "IV Feira de Livros",
          "Exposição “Biblioteca UniFil de 1972 aos dias atuais” cartazes e equipamentos utilizados ao longo do tempo",
          "“Mostra de fotografias sobre as Bibliotecas do UniFil” Cartazes com informações sobre a estrutura e acervo de cada biblioteca",
          "Palestra “Como publicar sem custo um livro pela plataforma Amazon”",
          "Palestra “Revista Terra e Cultura, um periódico multidisciplinar”",
          "Oficina “Uma introdução ao software Mendeley para organização e citação das suas referências”",
          "Palestra: “Como estruturar a pesquisa para TCC, na base de dados Bireme”",
          "Palestra “A história do livro”",
          "Banca da Ciranda!",
          "Palestra de abertura: “Desenvolver mediadores para a formação de leitores”",
          "Palestra “Narrativas do sítio e a arte de ouvir histórias”, com Dr. Léo Pires Ferreira",
          "Lançamento do livro “A Menina e a Planta”, de Márcia Paganini com ilustração de Andréia Vieira",
          "Filme-Debate “O Segredo De Eleonor”",
          "Exposição Por Elas",
          "Conversa-Oficina “Contar Histórias para reinventar mundos”",
          "Palestra “Temas supremos e existenciais: morte, solidão, desejo e sexualidade no imaginário infantil”, com Luis Henrique Mioto",
          "Debate “As políticas públicas, as leis de incentivo e o papel do mercado na formação de leitores”",
          "Palestra de encerramento “Contar para transformar”",
          "Sarau Primaveral das Artes",
          "Oficina de \"não-escrita\" criativa",
          "Encontro sobre Poesia e Sonoridade",
          "BRISA Te Convida: \"Balada de um Palhaço\"",
          "Exposição: “Só os TOPs: livros de literatura infantil e infantojuvenil premiados”",
          "Contação de Histórias com Flávia Harue",
          "Contação de histórias e Oficina de artes “O mágico japonês” com Paulo Tio",
          "Wing’s St. James 2019",
          "ARTE- TRANSFORMAÇÃO",
          "Oficina de Origami com Origamito San",
          "Oficina de Origami com Origamito San",
          "Festival de Graffiti",
          "Festival de Graffiti",
          "Festival de Graffiti",
          "\"Terra Desmedida\" se apresenta no Conservatório das Artes",
          "\"Terra Desmedida\" se apresenta no Cemitério de Automóveis",
          "IXa MOSTRA DE MÚSICA DE CÂMARA “CONCERTOS LONDRINA”",
          "IXa MOSTRA DE MÚSICA DE CÂMARA “CONCERTOS LONDRINA”",
          "IXa MOSTRA DE MÚSICA DE CÂMARA “CONCERTOS LONDRINA”",
          "IXa MOSTRA DE MÚSICA DE CÂMARA “CONCERTOS LONDRINA”",
          "IXa MOSTRA DE MÚSICA DE CÂMARA “CONCERTOS LONDRINA”",
          "Conexão Cidadã",
          "FILO 50+1 - MOSTRA NACIONAL DE ARTES CÊNICAS",
          "FILO 50+1 - MOSTRA NACIONAL DE ARTES CÊNICAS",
          "FILO 50+1 - MOSTRA NACIONAL DE ARTES CÊNICAS",
          "FILO 50+1 - MOSTRA NACIONAL DE ARTES CÊNICAS",
          "FILO 50+1 - MOSTRA NACIONAL DE ARTES CÊNICAS",
          "FILO 50+1 - MOSTRA NACIONAL DE ARTES CÊNICAS",
          "FILO 50+1 - MOSTRA NACIONAL DE ARTES CÊNICAS",
          "FILO 50+1 - MOSTRA NACIONAL DE ARTES CÊNICAS",
          "FILO 50+1 - MOSTRA NACIONAL DE ARTES CÊNICAS",
          "FILO 50+1 - MOSTRA NACIONAL DE ARTES CÊNICAS",
          "FILO 50+1 - MOSTRA NACIONAL DE ARTES CÊNICAS",
          "FILO 50+1 - MOSTRA NACIONAL DE ARTES CÊNICAS",
          "FILO 50+1 - MOSTRA NACIONAL DE ARTES CÊNICAS",
          "FILO 50+1 - MOSTRA NACIONAL DE ARTES CÊNICAS",
          "FILO 50+1 - MOSTRA NACIONAL DE ARTES CÊNICAS",
          "FILO 50+1 - MOSTRA NACIONAL DE ARTES CÊNICAS",
          "FILO 50+1 - MOSTRA NACIONAL DE ARTES CÊNICAS",
          "Sou mulher e não serei outra coisa",
          "Sou mulher e não serei outra coisa",
          "Exposição Polícia Rodoviária Federal",
          "O Caipira e o Causo do Capiroto",
          "O Caipira e o Causo do Capiroto",
          "SAIAS",
          "SAIAS",
          "SAIAS",
          "Espetáculo Saias na Flapt",
          "Quizomba de Aniversário - Zerão na graça de Oxum",
          "\"COMETZ, BOHEMIAN RHAPSODY \"",
          "Projeto Cordas brasileiras",
          "SESSÃO KINOPUS Especial",
          "SESSÃO KINOPUS Especial",
          "SESSÃO KINOPUS Especial",
          "Lab Doc com o cineasta Paulo Sacramento",
          "SESSÃO KINOPUS Especial",
          "OFICINA Craft - ARTE E NATUREZA",
          "PITCHING do Núcleo de dramaturgia Audiovisual",
          "BICHO DO MATO",
          "GRUPOS ORQUESTRAIS BRAVI",
          "PIANO EM FOCO",
          "Entrega do Projeto 25 Anos do Museu de Arte de Londrina",
          "Acordeon Universal Festival com João Pedro Teixeira",
          "Clube de Leitura: A Caixa-Preta, de Amós Oz",
          "LerÇ: Contação de História e Oficina para crianças",
          "LerÇ: Contação de História e Oficina para crianças",
          "CineClube de Terça: O Cidadão Ilustre (Arg, 2016)",
          "Clube de Leitura Plurais: Quem tem medo do feminismo negro, de Djamila Ribeiro",
          "Lançamento: As Reinações de Emilia, de Cassia Leslie",
          "Lançamento e autógrafos com Amilcar Bettega",
          "Café com Quê?: O rock no Brasil na década de 80 e suas relações sociais, com Manuel Inácio",
          "Exposição \"Resgate\", de Cassio Kessler",
          "Espetáculo SaiaS",
          "Espetáculo SaiaS",
          "Espetáculo SaiaS",
          "Espetáculo SaiaS",
          "Espetáculo SaiaS",
          "Espetáculo SaiaS",
          "Espetáculo Saias",
          "Espetáculo SAIAS",
          "Espetáculo SAIAS",
          "Espetáculo SAIAS",
          "Espetáculo SAIAS",
          "Espetáculo \"PLANO 269\"",
          "Espetáculo \"PLANO 269\"",
          "Literatura pra quê?",
          "Achados Literários",
          "Contação de histórias sobre o livro \"Super-heróis em apuros\"",
          "Contação da história \"Sítio do Picapau Amarelo\"",
          "50 ANOS BANDA MARCIAL MARCELINO CHAMPAGNAT",
          "Arte-Transformação na Educação Infantil"
         ],
         "y": [
          "gratuito",
          "gratuito",
          "130",
          "130",
          "gratuito",
          "gratuito",
          "gratuito",
          "gratuito",
          "gratuito",
          "gratuito",
          "gratuito",
          "contribuição espontânea ao final",
          "gratuito",
          "Gratuito",
          "Gratuito",
          "gratuito",
          "10",
          "gratuito",
          "gratuito",
          "gratuito",
          "gratuito",
          "25",
          "0",
          "Gratuito",
          "Gratuito",
          "0",
          "0",
          "Gratuito",
          "Gratuito",
          "Gratuito",
          "Gratuito",
          "Gratuito",
          "Evento Gratuito",
          "Evento Gratuito",
          "Evento Gratuito",
          "0",
          "0",
          "0",
          "0",
          "Gratuíto",
          "Participação gratuita",
          "Participação gratuita",
          null,
          "contribuição espontânea ao final",
          "contribuição espontânea ao final",
          "contribuição espontânea ao final",
          null,
          "Gratuito",
          "Gratuito",
          "Gratuito",
          "Gratuito",
          "Gratuito",
          "10",
          "0",
          "0",
          "Gratuito",
          "free",
          "30",
          "GRATUITO",
          "livre",
          "grátis",
          "Gratuito",
          "Gratuito",
          "free",
          "20",
          "livre",
          "0",
          "Livre",
          "Livre",
          "Livre",
          "Gratuito",
          "Gratuito",
          "Gratuito",
          "40",
          "40",
          "40",
          "40",
          "40",
          "Até o dia 21/07 R$ 25,00 após R$ 50,00",
          "25,00 ATÉ O DIA 12/08/2019 APÓS ESSA DATA PASSA PARA R$50,00",
          "R$ 25,00 ATÉ O DIA 12/09/2019 APÓS ESSA DATA PASSA PARA R$ 50,00",
          "25",
          "40",
          "40",
          "0",
          "gratuito",
          "gratuito",
          "gratuito",
          "gratuito",
          "gratuito",
          "gratuito",
          "livre",
          "Grátis",
          "Grátis",
          "GRATUITO",
          "gratuito",
          "gratuito",
          "gratuito",
          "gratuito",
          "gratuito",
          "gratuito",
          "gratuito",
          "gratuito",
          "gratuito",
          "gratuito",
          "gratuito",
          "Grátis",
          "Grátis",
          "Grátis",
          "Grátis",
          "Grátis",
          "livre",
          "Livre",
          "Gratuito",
          "Gratuito. Colaboração no chapéu.",
          null,
          null,
          "Gratuito",
          "Gratuito",
          "Gratuito",
          "Gratuito",
          "Gratuito",
          "Gratuito",
          "Gratuito",
          "Gratuito",
          "Gratuito",
          "Livre",
          "15",
          "15",
          "15",
          "15",
          "15",
          "10",
          null,
          null,
          null,
          null,
          null,
          "Gratuito",
          "Gratuito",
          "Livre",
          "consultar evento",
          "R$ 30 e R$ 15",
          "8",
          "gratuito",
          "Gratuito",
          null,
          null,
          null,
          "Gratuita",
          "Gratuita",
          "gratuito",
          "30",
          "R$ 20,00 inteira R$ 10,00 meia",
          null,
          null,
          null,
          null,
          null,
          "Gratuito",
          null,
          "Gratuito (retirar ingresso uma hora antes do show)",
          "Gratuita",
          "Gratuita",
          "Gratuita",
          "Gratuita",
          "livre",
          "gratis - retirar convite 1h antes",
          "gratuito",
          "gratuito",
          "gratuito",
          "gratuito",
          "gratuito",
          "GRATUITO",
          "GRATUITO",
          "Grátis",
          "contribuição espontânea ao final do espetáculo",
          "R$ 20,00",
          "R$ 20,00",
          "R$ 20,00",
          "R$ 20,00",
          "Gratuito",
          "Gratuito",
          "gratuito",
          "Gratuito",
          "GRATUITO",
          "R$ 20,00 (inteira) R$ 10,00 (meia)",
          "60",
          "gratuito",
          "gratuito",
          "gratuito",
          "gratuito",
          "gratuito",
          null,
          "livre",
          "livre",
          null,
          null,
          "1 pac. fralda geriátrica - trocado no dia e local do evento a partir das 14h",
          "Gratuito",
          "colaboração espontânea",
          "Gratuito. Colaboração no chapéu.",
          "Gratuito. Colaboração no chapéu.",
          "gratis",
          "Gratuito",
          "Gratuito",
          "gratuito",
          "gratuito",
          "gratuito",
          "Gratuito",
          "Gratuito",
          "Gratuito",
          "Gratuito",
          "R$ 20,00 inteira R$ 10,00 meia",
          "Gratuito",
          "Gratuito",
          "Gratuito",
          "Gratuito",
          "1 kg de alimento",
          "1 kg de alimento",
          "Gratuito",
          "Gratuito. Colaboração no chapéu.",
          "Gratuito. Colaboração no chapéu.",
          "Gratuito. Colaboração no chapéu.",
          "0",
          "grátis",
          "grátis",
          "grátis",
          "grátis",
          "grátis",
          "grátis",
          "grátis",
          null,
          "grátis",
          "Gratuito",
          "gratuito",
          "gratuito",
          "gratuito",
          "gratuito",
          "gratuito",
          "gratuito",
          "gratuito",
          "gratuito",
          "320",
          "gratuito",
          "gratuito",
          "10",
          "Pague Quanto Puder",
          "Gratuito. Colaboração no chapéu.",
          "Entrada Gratuita",
          "gratuito",
          "Gratuito",
          "Gratuito",
          "R$ 20 e R$ 10",
          "Gratuito",
          "0",
          "Gratuito",
          "Gratuita",
          "gratuito",
          "Gratuita",
          "0",
          "30,00 reais",
          "0",
          "Gratuita",
          "Gratuita",
          "Gratuita",
          "Gratuita",
          "Gratuita",
          "Gratuita",
          null,
          "gratuito",
          "Entrada Franca",
          "30,00 reais",
          "gratuito",
          "gratuito",
          "gratuito",
          "R$ 20,00 inteira R$ 10,00 meia",
          "gratuito",
          "Pague Quanto Puder",
          "gratis - inscrições no Sympla",
          "0",
          "0",
          "Contribuição no Chapéu",
          "Contribuição no Chapéu",
          "Gratuito",
          "gratuito",
          "gratuito",
          "gratuito",
          "0",
          "Contribuição no Chapéu",
          null,
          "20,00 (Unico)",
          "0",
          "0",
          "Gratuito",
          "GRATUÍTO",
          null,
          "Gratuito",
          "Gratuito",
          "Gratuito",
          "Gratuito",
          "Gratuito",
          "Gratuito",
          "Gratuito",
          "Gratuito",
          "Gratuito",
          "gretuito",
          "gretuito",
          "Gratuito",
          "Gratuito",
          null,
          "Gratuito",
          "Gratuito",
          "entrada franca",
          null,
          "entrada franca",
          "R$ 20,00 INTEIRA R$ 10,00 MEIA",
          "R$ 20,00 INTEIRA R$ 10,00 MEIA",
          "gratuito",
          "gratuito",
          "gratuito",
          "5",
          "R$ 5,00",
          "Gratuito",
          null,
          "R$ 10,00",
          "R$ 10,00",
          "Gratuito",
          "R$ 50,00 Inteira e R$ 25,00 Meia",
          "entrada gratuita",
          "Gratuito",
          "20",
          "20",
          "20",
          "20",
          "CONSULTAR EVENTO",
          "0",
          "0",
          "0",
          "gratuito",
          "gratuito",
          "gratuito",
          "gratuito",
          null,
          null,
          null,
          "gratuito",
          "livre",
          "0",
          "chapéu",
          "chapéu",
          "Gratuito",
          "Gratuito",
          null,
          "30",
          "10",
          "10",
          null,
          "Gratuito",
          "Evento Gratuito",
          "Evento Gratuito",
          "Evento Gratuito",
          "Evento Gratuito",
          "Evento Gratuito",
          "Gratuito",
          "100",
          "Gratuito",
          "Gratuito",
          "Gratuito",
          "Gratuito",
          "gratuito",
          "Gratuito",
          "R$20,00 (R$10,00 meia)",
          "R$20,00 (R$10,00 meia)",
          "Gratuito",
          "Couvert R$15,00",
          "R$20,00 (R$10,00 meia)",
          "R$20,00 (R$10,00 meia)",
          "Gratuito",
          "R$15,00 (sem meia entrada)",
          "R$20,00 (R$10,00 meia)",
          "R$20,00 (R$10,00 meia)",
          "Gratuito",
          "Couvert: R$12,00",
          "R$20,00 (R$10,00 meia)",
          "R$20,00 (R$10,00 meia)",
          "Couvert: R$15,00 (preço cheio, não tem meia entrada por se tratar de couvert). Local: Bar Bras",
          "Gratuito",
          "R$50,00 + 10% de taxa",
          "Gratuito",
          "entrada franca",
          "entrada franca",
          "R$50,00 + 10% de taxa",
          "Gratuito",
          "Gratuito",
          "R$20,00 (R$10,00 meia)",
          "R$20,00 (R$10,00 meia)",
          "Gratuito",
          "Couvert R$ 15,00",
          "R$20,00 (R$10,00 meia)",
          "R$20,00 (R$10,00 meia)",
          "Gratuito",
          "gratuito",
          "Couvert: R$12,00",
          "R$20,00 (R$10,00 meia)",
          "gratuito",
          "gratuito",
          "Gratuito",
          "Couvert: R$10,00",
          "R$20,00 (R$10,00 meia)",
          "Gratuito",
          "Gratuito",
          "Gratuito",
          "Gratuito",
          "Gratuito",
          "Couvert R$ 15,00",
          "R$20,00 (R$10,00 meia)",
          "Gratuito",
          "Gratuito",
          "Couvert: R$10,00",
          "R$20,00 (R$10,00 meia)",
          "Gratuito",
          "Gratuito",
          "R$20,00 (R$10,00 meia)",
          "Couvert: R$15,00",
          "R$20,00 (R$10,00 meia)",
          "Gratuito",
          "Couvert R$ 15,00",
          "R$20,00 (R$10,00 meia)",
          "Couvert: R$10,00",
          "Gratuito",
          "Gratuito",
          null,
          "Gratuito",
          "gratuito",
          "entrada franca",
          "contribuição espontânea ao final do espetáculo",
          "R$ 20,00",
          "R$ 20,00",
          "R$ 20,00",
          "CONSULTAR EVENTO",
          "GRATUITO",
          "GRATUITO",
          "gratuito",
          "gratuito",
          "gratuito",
          "entrada franca",
          "gratuito",
          "0",
          "0",
          "0",
          "gratuito",
          "15",
          "20",
          "20",
          "gratuito",
          "0",
          "20",
          "contribuição espontânea ao final do espetáculo",
          "contribuição espontânea ao final do espetáculo",
          "entrada franca",
          "R$ 450,00",
          "CONSULTAR EVENTO",
          "CONSULTAR EVENTO",
          null,
          null,
          null,
          null,
          null,
          "1 kg de alimento",
          "R$ 40,00 e R$ 20,00",
          null,
          "gratuito",
          "CONSULTAR EVENTO",
          "CONSULTAR EVENTO",
          "5",
          "R$ 40,00 inteira - R$ 20,00 meia",
          "R$ 20,00 (Inteira) - R$ 10,00 (meia)",
          "gratuito",
          "50",
          "Contribuição no Chapéu",
          "R$ 20,00 (inteira) e R$ 10,00 (meia)",
          null,
          null,
          null,
          "Gratuito",
          "Inteira: R$20,00 e meia R$10,00",
          "Gratuito",
          "5 reais até as 18",
          "gratuito",
          "Entrada Franca",
          "GRATUITO",
          "R$ 2,00 (inteira) / R$ 1,00 (meia)",
          "R$ 2,00 (inteira) / R$ 1,00 (meia)",
          "Gratuito",
          "Gratuito",
          "ingresso solidário: 1kg de alimento ou pcte de fralda geriátrica ( trocar o ingresso meia hora antes da apresentação)",
          "25",
          "Contribuição no Chapéu",
          "gratuito",
          null,
          "gratuito",
          "gratuito",
          "2,00 inteira e 1,00 meia",
          "Gratuita",
          "Gratuita",
          "Contribuição Livre",
          "0",
          "R$ 10,00 inteira",
          "Entrada Gratuita",
          "Gratuito",
          "gratuito",
          "gratuito",
          "Entrada Gratuita.",
          "Entrada Gratuita.",
          "Entrada Gratuita.",
          "Gratuito",
          "Gratuito",
          "gratuito",
          "20",
          "Gratuito",
          "Entrada Gratuita",
          "Entrada Gratuita",
          "Entrada Gratuita",
          "20",
          "20",
          "livre",
          "R$ 20,00 inteira R$ 10,00",
          "Entrada Gratuita.",
          "Entrada Gratuita.",
          "Entrada Gratuita.",
          "Entrada Gratuita.",
          "R$ 60,00 a inteira e R$ 30,00 a meia entrada",
          "R$ 60,00 a inteira e R$ 30,00 a meia entrada",
          "gratuito",
          "gratuito",
          "gratuito",
          "gratuito",
          "gratuito",
          "gratuito",
          "gratuito",
          "Gratuito",
          "Convites: Plataforma Sympla Valor do primeiro lote: R$ 39,00",
          "R$ 20 e R$ 10",
          "R$ 20 e R$ 10",
          "CONSULTAR EVENTO",
          "CONSULTAR EVENTO",
          "0",
          "gratis - inscrições no Sympla",
          "gratis",
          "gratis",
          "gratis",
          "gratis",
          "Gratuito",
          "Gratuito",
          "livre",
          "0",
          "Gratuito",
          "Gratuito",
          "R$ 100,00 inteira R$ 50,00 meia",
          null,
          "gratuito",
          "gratuito",
          "gratuito",
          "gratuito",
          "gratuito",
          "gratuito",
          "R$ 2,00 (inteira) / R$ 1,00 (meia)",
          "0",
          "0",
          "Gratuito",
          "R$10 e R$ 5 (meia-entrada)",
          "20",
          "Entrada Franca",
          "Gratuito",
          "R$10 e R$5 (meia-entrada)",
          "R$10 e R$5 (meia-entrada)",
          "R$10 e R$5 (meia-entrada)",
          "R$10 e R$5 (meia-entrada)",
          "R$10 e R$5 (meia-entrada)",
          "R$10 e R$5 (meia-entrada)",
          "R$10 e R$5 (meia-entrada)",
          "R$15 no local ou antecipados a R$10",
          "R$10 e R$5 (meia-entrada)",
          "R$10 e R$5 (meia-entrada)",
          "R$10 e R$5 (meia-entrada)",
          "Gratuito",
          "R$10 e R$5 (meia-entrada)",
          "R$ 20,00",
          "R$10 e R$5 (meia-entrada)",
          "gratuito",
          "0",
          "R$30",
          "R$30",
          "gratuito",
          "gratuito",
          "gratuito",
          "gratuito",
          "15",
          "gratuito",
          "gratuito",
          "1 kg de alimento ou R$ 5.",
          "1 kg de alimento ou R$ 5.",
          "2",
          "0",
          "Gratuito",
          "Gratuito",
          "0",
          null,
          "gratuito",
          "gratuito",
          "0",
          "pague quanto puder",
          "pague quanto puder",
          "pague quanto puder",
          "pague quanto puder",
          "pague quanto puder",
          "pague quanto puder",
          "gratuito",
          "gratuito",
          "gratuito",
          "gratuito",
          "gratuito",
          "gratuito",
          "gratuito",
          "30",
          "30",
          "Livre",
          "Livre",
          "Gratuito",
          "20",
          "20",
          "gratuito",
          "gratuito",
          "gratuito",
          "gratuito",
          "gratuito",
          "Gratuito",
          "Gratuito",
          "Gratuito",
          null,
          "gratuito",
          "gratuito",
          "gratuito",
          "gratuito",
          "gratuito",
          "gratuito",
          "gratuito",
          "gratuito",
          "gratuito",
          "gratuito",
          "gratuito",
          "gratuito",
          "gratuito",
          "gratuito",
          "gratuito",
          "gratuito",
          null,
          "gratuito",
          "gratuito",
          "gratuito",
          "gratuito",
          "gratuito",
          "gratuito",
          "gratuito",
          "Gratuito",
          "gratuito",
          "gratuito",
          "gratuito",
          "0",
          "gratuito",
          "gratuito",
          "gratuito",
          "Gratuito",
          "Gratuito",
          "Gratuito",
          "Entrada Gratuita.",
          "Entrada Gratuita.",
          "0",
          "0",
          "0",
          "0",
          "0",
          "Gratuito",
          "R$ 20 e R$ 10",
          "R$ 20 e R$ 10",
          "GRÁTIS",
          "R$ 20 e R$ 10",
          "R$ 20 e R$ 10",
          "R$ 20 e R$ 10",
          "R$ 20 e R$ 10",
          "R$ 20 e R$ 10",
          "R$ 20 e R$ 10",
          "R$ 20 e R$ 10",
          "R$ 20 e R$ 10",
          "R$ 20 e R$ 10",
          "R$ 20 e R$ 10",
          "R$ 20 e R$ 10",
          "R$ 20 e R$ 10",
          "Produtos de limpeza ou de higiene pessoal, que podem ser trocados pelo ingresso, uma hora antes do início da apresentação. Lotação limitada.",
          "GRÁTIS",
          "Ingresso Consciente",
          "Ingresso Consciente",
          "0",
          "R$ 2,00 (inteira) / R$ 1,00 (meia)",
          "R$ 2,00 (inteira) / R$ 1,00 (meia)",
          "Gratuito",
          "Gratuito",
          "Gratuito",
          "Gratuito",
          "Gratuito",
          "Gratuito",
          "Ingresso espontâneo - 1 kg de alimento",
          "Gratuito",
          "Gratuito",
          "Gratuito",
          "Gratuito - confirmar presença pelo App Sesi Cultural",
          "Gratuito",
          "Gratuito",
          "Gratuito - confirmar presença pelo App Sesi Cultural",
          "Gratuito",
          "1 kg de alimento não perecível",
          "Gratuito",
          "gratuito",
          "R$ 20,00 inteira e R$10,00 meia",
          "Gratuito",
          "Gratuito",
          "Gratuito",
          "Gratuito",
          "Gratuito",
          "Gratuito",
          "Gratuito",
          "Gratuito",
          "Gratuito",
          null,
          null,
          null,
          null,
          null,
          "Gratuito",
          "Gratuito",
          "Gratuito",
          "Gratuito",
          "Gratuito",
          "Gratuito",
          "gratuito",
          "gratuito",
          "gratuito",
          "0",
          "gratuito",
          "Gratuito",
          "Entrada Franca",
          "gratuito"
         ]
        }
       ],
       "layout": {
        "template": {
         "data": {
          "bar": [
           {
            "error_x": {
             "color": "#2a3f5f"
            },
            "error_y": {
             "color": "#2a3f5f"
            },
            "marker": {
             "line": {
              "color": "#E5ECF6",
              "width": 0.5
             }
            },
            "type": "bar"
           }
          ],
          "barpolar": [
           {
            "marker": {
             "line": {
              "color": "#E5ECF6",
              "width": 0.5
             }
            },
            "type": "barpolar"
           }
          ],
          "carpet": [
           {
            "aaxis": {
             "endlinecolor": "#2a3f5f",
             "gridcolor": "white",
             "linecolor": "white",
             "minorgridcolor": "white",
             "startlinecolor": "#2a3f5f"
            },
            "baxis": {
             "endlinecolor": "#2a3f5f",
             "gridcolor": "white",
             "linecolor": "white",
             "minorgridcolor": "white",
             "startlinecolor": "#2a3f5f"
            },
            "type": "carpet"
           }
          ],
          "choropleth": [
           {
            "colorbar": {
             "outlinewidth": 0,
             "ticks": ""
            },
            "type": "choropleth"
           }
          ],
          "contour": [
           {
            "colorbar": {
             "outlinewidth": 0,
             "ticks": ""
            },
            "colorscale": [
             [
              0,
              "#0d0887"
             ],
             [
              0.1111111111111111,
              "#46039f"
             ],
             [
              0.2222222222222222,
              "#7201a8"
             ],
             [
              0.3333333333333333,
              "#9c179e"
             ],
             [
              0.4444444444444444,
              "#bd3786"
             ],
             [
              0.5555555555555556,
              "#d8576b"
             ],
             [
              0.6666666666666666,
              "#ed7953"
             ],
             [
              0.7777777777777778,
              "#fb9f3a"
             ],
             [
              0.8888888888888888,
              "#fdca26"
             ],
             [
              1,
              "#f0f921"
             ]
            ],
            "type": "contour"
           }
          ],
          "contourcarpet": [
           {
            "colorbar": {
             "outlinewidth": 0,
             "ticks": ""
            },
            "type": "contourcarpet"
           }
          ],
          "heatmap": [
           {
            "colorbar": {
             "outlinewidth": 0,
             "ticks": ""
            },
            "colorscale": [
             [
              0,
              "#0d0887"
             ],
             [
              0.1111111111111111,
              "#46039f"
             ],
             [
              0.2222222222222222,
              "#7201a8"
             ],
             [
              0.3333333333333333,
              "#9c179e"
             ],
             [
              0.4444444444444444,
              "#bd3786"
             ],
             [
              0.5555555555555556,
              "#d8576b"
             ],
             [
              0.6666666666666666,
              "#ed7953"
             ],
             [
              0.7777777777777778,
              "#fb9f3a"
             ],
             [
              0.8888888888888888,
              "#fdca26"
             ],
             [
              1,
              "#f0f921"
             ]
            ],
            "type": "heatmap"
           }
          ],
          "heatmapgl": [
           {
            "colorbar": {
             "outlinewidth": 0,
             "ticks": ""
            },
            "colorscale": [
             [
              0,
              "#0d0887"
             ],
             [
              0.1111111111111111,
              "#46039f"
             ],
             [
              0.2222222222222222,
              "#7201a8"
             ],
             [
              0.3333333333333333,
              "#9c179e"
             ],
             [
              0.4444444444444444,
              "#bd3786"
             ],
             [
              0.5555555555555556,
              "#d8576b"
             ],
             [
              0.6666666666666666,
              "#ed7953"
             ],
             [
              0.7777777777777778,
              "#fb9f3a"
             ],
             [
              0.8888888888888888,
              "#fdca26"
             ],
             [
              1,
              "#f0f921"
             ]
            ],
            "type": "heatmapgl"
           }
          ],
          "histogram": [
           {
            "marker": {
             "colorbar": {
              "outlinewidth": 0,
              "ticks": ""
             }
            },
            "type": "histogram"
           }
          ],
          "histogram2d": [
           {
            "colorbar": {
             "outlinewidth": 0,
             "ticks": ""
            },
            "colorscale": [
             [
              0,
              "#0d0887"
             ],
             [
              0.1111111111111111,
              "#46039f"
             ],
             [
              0.2222222222222222,
              "#7201a8"
             ],
             [
              0.3333333333333333,
              "#9c179e"
             ],
             [
              0.4444444444444444,
              "#bd3786"
             ],
             [
              0.5555555555555556,
              "#d8576b"
             ],
             [
              0.6666666666666666,
              "#ed7953"
             ],
             [
              0.7777777777777778,
              "#fb9f3a"
             ],
             [
              0.8888888888888888,
              "#fdca26"
             ],
             [
              1,
              "#f0f921"
             ]
            ],
            "type": "histogram2d"
           }
          ],
          "histogram2dcontour": [
           {
            "colorbar": {
             "outlinewidth": 0,
             "ticks": ""
            },
            "colorscale": [
             [
              0,
              "#0d0887"
             ],
             [
              0.1111111111111111,
              "#46039f"
             ],
             [
              0.2222222222222222,
              "#7201a8"
             ],
             [
              0.3333333333333333,
              "#9c179e"
             ],
             [
              0.4444444444444444,
              "#bd3786"
             ],
             [
              0.5555555555555556,
              "#d8576b"
             ],
             [
              0.6666666666666666,
              "#ed7953"
             ],
             [
              0.7777777777777778,
              "#fb9f3a"
             ],
             [
              0.8888888888888888,
              "#fdca26"
             ],
             [
              1,
              "#f0f921"
             ]
            ],
            "type": "histogram2dcontour"
           }
          ],
          "mesh3d": [
           {
            "colorbar": {
             "outlinewidth": 0,
             "ticks": ""
            },
            "type": "mesh3d"
           }
          ],
          "parcoords": [
           {
            "line": {
             "colorbar": {
              "outlinewidth": 0,
              "ticks": ""
             }
            },
            "type": "parcoords"
           }
          ],
          "scatter": [
           {
            "marker": {
             "colorbar": {
              "outlinewidth": 0,
              "ticks": ""
             }
            },
            "type": "scatter"
           }
          ],
          "scatter3d": [
           {
            "line": {
             "colorbar": {
              "outlinewidth": 0,
              "ticks": ""
             }
            },
            "marker": {
             "colorbar": {
              "outlinewidth": 0,
              "ticks": ""
             }
            },
            "type": "scatter3d"
           }
          ],
          "scattercarpet": [
           {
            "marker": {
             "colorbar": {
              "outlinewidth": 0,
              "ticks": ""
             }
            },
            "type": "scattercarpet"
           }
          ],
          "scattergeo": [
           {
            "marker": {
             "colorbar": {
              "outlinewidth": 0,
              "ticks": ""
             }
            },
            "type": "scattergeo"
           }
          ],
          "scattergl": [
           {
            "marker": {
             "colorbar": {
              "outlinewidth": 0,
              "ticks": ""
             }
            },
            "type": "scattergl"
           }
          ],
          "scattermapbox": [
           {
            "marker": {
             "colorbar": {
              "outlinewidth": 0,
              "ticks": ""
             }
            },
            "type": "scattermapbox"
           }
          ],
          "scatterpolar": [
           {
            "marker": {
             "colorbar": {
              "outlinewidth": 0,
              "ticks": ""
             }
            },
            "type": "scatterpolar"
           }
          ],
          "scatterpolargl": [
           {
            "marker": {
             "colorbar": {
              "outlinewidth": 0,
              "ticks": ""
             }
            },
            "type": "scatterpolargl"
           }
          ],
          "scatterternary": [
           {
            "marker": {
             "colorbar": {
              "outlinewidth": 0,
              "ticks": ""
             }
            },
            "type": "scatterternary"
           }
          ],
          "surface": [
           {
            "colorbar": {
             "outlinewidth": 0,
             "ticks": ""
            },
            "colorscale": [
             [
              0,
              "#0d0887"
             ],
             [
              0.1111111111111111,
              "#46039f"
             ],
             [
              0.2222222222222222,
              "#7201a8"
             ],
             [
              0.3333333333333333,
              "#9c179e"
             ],
             [
              0.4444444444444444,
              "#bd3786"
             ],
             [
              0.5555555555555556,
              "#d8576b"
             ],
             [
              0.6666666666666666,
              "#ed7953"
             ],
             [
              0.7777777777777778,
              "#fb9f3a"
             ],
             [
              0.8888888888888888,
              "#fdca26"
             ],
             [
              1,
              "#f0f921"
             ]
            ],
            "type": "surface"
           }
          ],
          "table": [
           {
            "cells": {
             "fill": {
              "color": "#EBF0F8"
             },
             "line": {
              "color": "white"
             }
            },
            "header": {
             "fill": {
              "color": "#C8D4E3"
             },
             "line": {
              "color": "white"
             }
            },
            "type": "table"
           }
          ]
         },
         "layout": {
          "annotationdefaults": {
           "arrowcolor": "#2a3f5f",
           "arrowhead": 0,
           "arrowwidth": 1
          },
          "colorscale": {
           "diverging": [
            [
             0,
             "#8e0152"
            ],
            [
             0.1,
             "#c51b7d"
            ],
            [
             0.2,
             "#de77ae"
            ],
            [
             0.3,
             "#f1b6da"
            ],
            [
             0.4,
             "#fde0ef"
            ],
            [
             0.5,
             "#f7f7f7"
            ],
            [
             0.6,
             "#e6f5d0"
            ],
            [
             0.7,
             "#b8e186"
            ],
            [
             0.8,
             "#7fbc41"
            ],
            [
             0.9,
             "#4d9221"
            ],
            [
             1,
             "#276419"
            ]
           ],
           "sequential": [
            [
             0,
             "#0d0887"
            ],
            [
             0.1111111111111111,
             "#46039f"
            ],
            [
             0.2222222222222222,
             "#7201a8"
            ],
            [
             0.3333333333333333,
             "#9c179e"
            ],
            [
             0.4444444444444444,
             "#bd3786"
            ],
            [
             0.5555555555555556,
             "#d8576b"
            ],
            [
             0.6666666666666666,
             "#ed7953"
            ],
            [
             0.7777777777777778,
             "#fb9f3a"
            ],
            [
             0.8888888888888888,
             "#fdca26"
            ],
            [
             1,
             "#f0f921"
            ]
           ],
           "sequentialminus": [
            [
             0,
             "#0d0887"
            ],
            [
             0.1111111111111111,
             "#46039f"
            ],
            [
             0.2222222222222222,
             "#7201a8"
            ],
            [
             0.3333333333333333,
             "#9c179e"
            ],
            [
             0.4444444444444444,
             "#bd3786"
            ],
            [
             0.5555555555555556,
             "#d8576b"
            ],
            [
             0.6666666666666666,
             "#ed7953"
            ],
            [
             0.7777777777777778,
             "#fb9f3a"
            ],
            [
             0.8888888888888888,
             "#fdca26"
            ],
            [
             1,
             "#f0f921"
            ]
           ]
          },
          "colorway": [
           "#636efa",
           "#EF553B",
           "#00cc96",
           "#ab63fa",
           "#FFA15A",
           "#19d3f3",
           "#FF6692",
           "#B6E880",
           "#FF97FF",
           "#FECB52"
          ],
          "font": {
           "color": "#2a3f5f"
          },
          "geo": {
           "bgcolor": "white",
           "lakecolor": "white",
           "landcolor": "#E5ECF6",
           "showlakes": true,
           "showland": true,
           "subunitcolor": "white"
          },
          "hoverlabel": {
           "align": "left"
          },
          "hovermode": "closest",
          "mapbox": {
           "style": "light"
          },
          "paper_bgcolor": "white",
          "plot_bgcolor": "#E5ECF6",
          "polar": {
           "angularaxis": {
            "gridcolor": "white",
            "linecolor": "white",
            "ticks": ""
           },
           "bgcolor": "#E5ECF6",
           "radialaxis": {
            "gridcolor": "white",
            "linecolor": "white",
            "ticks": ""
           }
          },
          "scene": {
           "xaxis": {
            "backgroundcolor": "#E5ECF6",
            "gridcolor": "white",
            "gridwidth": 2,
            "linecolor": "white",
            "showbackground": true,
            "ticks": "",
            "zerolinecolor": "white"
           },
           "yaxis": {
            "backgroundcolor": "#E5ECF6",
            "gridcolor": "white",
            "gridwidth": 2,
            "linecolor": "white",
            "showbackground": true,
            "ticks": "",
            "zerolinecolor": "white"
           },
           "zaxis": {
            "backgroundcolor": "#E5ECF6",
            "gridcolor": "white",
            "gridwidth": 2,
            "linecolor": "white",
            "showbackground": true,
            "ticks": "",
            "zerolinecolor": "white"
           }
          },
          "shapedefaults": {
           "line": {
            "color": "#2a3f5f"
           }
          },
          "ternary": {
           "aaxis": {
            "gridcolor": "white",
            "linecolor": "white",
            "ticks": ""
           },
           "baxis": {
            "gridcolor": "white",
            "linecolor": "white",
            "ticks": ""
           },
           "bgcolor": "#E5ECF6",
           "caxis": {
            "gridcolor": "white",
            "linecolor": "white",
            "ticks": ""
           }
          },
          "title": {
           "x": 0.05
          },
          "xaxis": {
           "automargin": true,
           "gridcolor": "white",
           "linecolor": "white",
           "ticks": "",
           "zerolinecolor": "white",
           "zerolinewidth": 2
          },
          "yaxis": {
           "automargin": true,
           "gridcolor": "white",
           "linecolor": "white",
           "ticks": "",
           "zerolinecolor": "white",
           "zerolinewidth": 2
          }
         }
        }
       }
      },
      "text/html": [
       "<div>\n",
       "        \n",
       "        \n",
       "            <div id=\"11380526-67ca-4bf4-a943-9e4064df5443\" class=\"plotly-graph-div\" style=\"height:525px; width:100%;\"></div>\n",
       "            <script type=\"text/javascript\">\n",
       "                require([\"plotly\"], function(Plotly) {\n",
       "                    window.PLOTLYENV=window.PLOTLYENV || {};\n",
       "                    \n",
       "                if (document.getElementById(\"11380526-67ca-4bf4-a943-9e4064df5443\")) {\n",
       "                    Plotly.newPlot(\n",
       "                        '11380526-67ca-4bf4-a943-9e4064df5443',\n",
       "                        [{\"mode\": \"markers\", \"type\": \"scatter\", \"x\": [\"Estreia na Biblioteca\", \"Exposi\\u00e7\\u00e3o de Poesias Ilustradas de Valdenir Teles Magalh\\u00e3es\", \"Aulas de Hatha Yoga\", \"Aulas de Hatha Yoga\", \"C\\u00edrculo de debates sobre o livro \\\"Quarenta dias\\\" de Maria Val\\u00e9ria Rezende\", \"Bate-papo sobre o livro \\\"Com\\u00e9dias para se ler na escola\\\" de Luis Fernando Ver\\u00edssimo\", \"Palestra sobre o livro \\\"Com\\u00e9dias para ser ler na escola\\\" de Luis Fernando Ver\\u00edssimo\", \"Conta\\u00e7\\u00e3o de hist\\u00f3ria sobre o livro \\\"Alice no pais das maravilhas\\\" de Lewis Carroll\", \"Conta\\u00e7\\u00e3o de hist\\u00f3ria sobre o livro \\\"Alice no pais das maravilhas\\\" de Lewis Carroll\", \"Conta\\u00e7\\u00e3o de hist\\u00f3ria sobre o livro \\\"Alice no pais das maravilhas\\\" de Lewis Carroll\", \"Conta\\u00e7\\u00e3o de hist\\u00f3ria sobre o livro \\\"Alice no pais das maravilhas\\\" de Lewis Carroll\", \"CABAR\\u00c9 DAS MUI\\u00c9\", \"C\\u00edrculo de Debate sobre o Livro Alguma poesia de Carlos Drummond de Andrade\", \"Exposi\\u00e7\\u00e3o Hist\\u00f3rica\", \"Exposi\\u00e7\\u00e3o Hist\\u00f3rica\", \"Palestra sobre o livro \\\"Clara dos Anjos\\\" de Lima Barreto\", \"Evento Teste\", \"Campanha leia, doe e troque\", \"Palestra: Busca em bases de dados gratuitas\", \"Roda de conversa: A relev\\u00e2ncia da leitura para a leitura de mundo, na perspectiva de Paulo Freire\", \"Oficina de produ\\u00e7\\u00e3o de fantoches\", \"Palestra: Diretrizes para elabora\\u00e7\\u00e3o de trabalhos acad\\u00eamicos segundo estilo Vancouver e APA\", \"Orquestra e Coral Solidariedade Sempre\", \"Orquestra e Coral Solidariedade Sempre\", \"Orquestra e Coral Solidariedade Sempre\", \"Orquestra e Coral Solidariedade Sempre\", \"Orquestra e Coral Solidariedade Sempre\", \"Orquestra e Coral Solidariedade Sempre\", \"Orquestra e Coral Solidariedade Sempre\", \"Orquestra e Coral Solidariedade Sempre\", \"Orquestra e Coral Solidariedade Sempre\", \"Orquestra e Coral Solidariedade Sempre\", \"BRISA - Saraus Art\\u00edsticos\", \"BRISA - Saraus Art\\u00edsticos\", \"BRISA - Saraus Art\\u00edsticos\", \"Apresenta\\u00e7\\u00f5es Cad\\u00eancia Sincopada\", \"Apresenta\\u00e7\\u00f5es Cad\\u00eancia Sincopada\", \"Apresenta\\u00e7\\u00f5es Cad\\u00eancia Sincopada\", \"Apresenta\\u00e7\\u00f5es Cad\\u00eancia Sincopada\", \"XXII Sal\\u00e3o Nacional de Arte Fotogr\\u00e1fica do Foto Clube de Londrina\", \"Conta\\u00e7\\u00e3o de hist\\u00f3ria com Gilza Santos \", \"Femucom - Festival de M\\u00fasica do Comerci\\u00e1rio\", \"Lan\\u00e7amento do Livro Sem Travas na L\\u00edngua\", \"Espet\\u00e1culo QUAL A GRA\\u00c7A DE LAURINDA?\", \"Vikings e o Reino Saqueado\", \"Bailinho do Plant\\u00e3o\", \"Lunavi na FLAPT\", \"Oficina \\u201cPintura em pano de prato\\u201d\", \"Dramatiza\\u00e7\\u00e3o acompanhada com repert\\u00f3rio musical\", \"Oficina de Recicl\\u00e1veis: A Escolinha do mar\", \"Oficina \\u201cD\\u00e9coupage em sabonete\\u201d\", \"Oficina \\u201cM\\u00e1scaras com papel mach\\u00ea\\u201d\", \"Cemit\\u00e9rio, temporada de oficinas\", \"Ensaio aberto: Tomai a medida do cora\\u00e7\\u00e3o humano\", \"Ensaio aberto: Tomai a medida do cora\\u00e7\\u00e3o humano\", \"Exposi\\u00e7\\u00e3o \\u201cVigve, megme\\u201d\", \"Achados Liter\\u00e1rios\", \"Oficinas Percussivas ILU ODARA\", \"Maracatu Semente de Angola\", \"Assalto Liter\\u00e1rio no Canto\", \"Assalto Liter\\u00e1rio, 27 janeiro\", \"Vikings e o Reino Saqueado!\", \"Vikings e o Reino Saqueado!\", \"Sarau:prosa, poesia e outras del\\u00edcias - batuque e poesia\", \"P\\u00e9 de Samba\", \"SEMANA DA VISIBILIDADE TRANS\", \"Exposi\\u00e7\\u00e3o: \\\"Violeta e os Seres Imagin\\u00e1rios\\\"\", \"Celebrando a Cultura Rural\", \"Celebrando a Cultura Rural\", \"Celebrando a Cultura Rural\", \"RESGATE DE RUA\", \"RESGATE DE RUA\", \"RESGATE DE RUA\", \"Campeonato de Xadrez Londrinense 2019\", \"Campeonato de Xadrez Londrinense 2019\", \"Campeonato de Xadrez Londrinense 2019\", \"Campeonato de Xadrez Londrinense 2019\", \"Campeonato de Xadrez Londrinense 2019\", \"Campeonato de Xadrez Londrinense 2019\", \"Campeonato de Xadrez Londrinense 2019\", \"Campeonato de Xadrez Londrinense 2019\", \"Campeonato de Xadrez Londrinense 2019\", \"Campeonato de Xadrez Londrinense 2019\", \"Campeonato de Xadrez Londrinense 2019\", \"Espet\\u00e1culo \\\"Na Gaveta de Baixo\\\"\", \"Conta\\u00e7\\u00e3o de hist\\u00f3ria sobre o livro \\\"Onde vivem os monstros\\\" de Maurice Sendak\", \"Conta\\u00e7\\u00e3o de hist\\u00f3ria sobre o livro \\\"Onde vivem os monstros\\\" de Maurice Sendak\", \"Conta\\u00e7\\u00e3o de hist\\u00f3ria sobre o livro \\\"Cacoete\\\" de Eva Furnari\", \"Conta\\u00e7\\u00e3o de hist\\u00f3ria sobre o livro \\\"Cacoete\\\" de Eva Furnari\", \"Conta\\u00e7\\u00e3o de hist\\u00f3ria sobre o livro \\\"Cacoete\\\" de Eva Furnari\", \"Oficina de desenhos com o Prof. Paulo Tio\", \"Assalto Liter\\u00e1rio no Vista Bela\", \"Carnaval 2019 - Ensaios abertos do Bloco Bafo Quente\", \"Carnaval 2019 - Ensaios abertos do Bloco Bafo Quente\", \"Banda Nova - De um Filho, De um Cego | B\\u00fafalos D'\\u00c1gua\", \"Reuni\\u00e3o com o integrantes do Clube Aventureiros do Amanhecer\", \"Reuni\\u00e3o com o integrantes do Clube Aventureiros do Amanhecer\", \"Reuni\\u00e3o com o integrantes do Clube Aventureiros do Amanhecer\", \"Reuni\\u00e3o com o integrantes do Clube Aventureiros do Amanhecer\", \"Reuni\\u00e3o com o integrantes do Clube Aventureiros do Amanhecer\", \"Reuni\\u00e3o com o integrantes do Clube Aventureiros do Amanhecer\", \"Reuni\\u00e3o com o integrantes do Clube Aventureiros do Amanhecer\", \"Reuni\\u00e3o com o integrantes do Clube Aventureiros do Amanhecer\", \"Reuni\\u00e3o com o integrantes do Clube Aventureiros do Amanhecer\", \"Reuni\\u00e3o com o integrantes do Clube Aventureiros do Amanhecer\", \"Exposi\\u00e7\\u00e3o: Conhecendo os autores e suas obras\", \"Sarar\\u00e1 Criolo - Circula\\u00e7\\u00e3o e Lan\\u00e7amento de CD\", \"Sarar\\u00e1 Criolo - Circula\\u00e7\\u00e3o e Lan\\u00e7amento de CD\", \"Sarar\\u00e1 Criolo - Circula\\u00e7\\u00e3o e Lan\\u00e7amento de CD\", \"Sarar\\u00e1 Criolo - Circula\\u00e7\\u00e3o e Lan\\u00e7amento de CD\", \"Sarar\\u00e1 Criolo - Circula\\u00e7\\u00e3o e Lan\\u00e7amento de CD\", \"Cacoete - Eva Furnari\", \"Cacoete - Eva Furnari\", \"Conta\\u00e7\\u00e3o de hist\\u00f3ria\", \"Transtornada Eu\", \"Bailinho do Plant\\u00e3o\", \"Bailinho do Plant\\u00e3o\", \"Bailinho do Plant\\u00e3o\", \"Bailinho do Plant\\u00e3o\", \"Bailinho do Plant\\u00e3o\", \"Bailinho do Plant\\u00e3o\", \"Bailinho do Plant\\u00e3o\", \"Bailinho do Plant\\u00e3o\", \"Bailinho do Plant\\u00e3o\", \"Bailinho do Plant\\u00e3o\", \"Bailinho do Plant\\u00e3o\", \"\\\"Chapeuzinho Vermelho\\u201d \\u2013 Irm\\u00e3os Grimm\", \"Oficina - A dan\\u00e7a da Palha\\u00e7a\", \"Oficina - Palha\\u00e7aria na Vis\\u00e3o Feminina\", \"Oficina - Objeto e Cena\", \"Oficina - Mulheres Gozadas\", \"Oficina - \\u201cMeu corpo c\\u00f4mico: dilatando risos\\u201d\", \"Oficina - Jogos L\\u00fadicos\", \"Espet\\u00e1culo: \\\"Vagarosa\\\"\", \"Espet\\u00e1culo: \\\"Que Festa \\u00e9 essa criatura?\\\"\", \"Espet\\u00e1culo: \\\"Ao Ponto\\\"\", \"Espet\\u00e1culo \\u201cMalagueta Dorminhoca\\u201d\", \"Espet\\u00e1culo: Plano n\\u00ba 269\", \"Oficina \\\"Microconto: um vasto pequeno mundo\\\", com Cl\\u00e1udia Bergamini\", \"Oficina \\\"Microconto: um vasto pequeno mundo\\\", com Cl\\u00e1udia Bergamini\", \"Pr\\u00e9 Carnaval\", \"Matin\\u00ea de Carnaval na ALMA\", \"S\\u00c9RIE PALCOS MUSICAIS 2019 - ABERTURA DA TEMPORADA\", \"MEXE QUE \\u00c9 BOM!\", \"Dia do Bibliotec\\u00e1rio: O Gestor Cultural e as a\\u00e7\\u00f5es de produ\\u00e7\\u00e3o e incentivo \\u00e0 leitura\", \"Mostra Fotogr\\u00e1fica \\\"Minha Beleza Pura\\\"\", \"Mostra Fotogr\\u00e1fica \\\"Minha Beleza Pura\\\"\", \"Celebrando a Cultura Rural\", \"Celebrando a Cultura Rural\", \"CONEX\\u00d5ES H\\u00cdBRIDAS E MEM\\u00d3RIAS MARGINAIS\", \"CONEX\\u00d5ES H\\u00cdBRIDAS E MEM\\u00d3RIAS MARGINAIS\", \"Feir\\u00e3o da Resist\\u00eancia e da Reforma Agr\\u00e1ria | Especial 8M\", \"Projeto Balaio de Gato\", \"OSUEL COMEMORA 35 ANOS\", \"M\\u00faltiplo Leminski\", \"M\\u00faltiplo Leminski\", \"M\\u00faltiplo Leminski\", \"M\\u00faltiplo Leminski\", \"M\\u00faltiplo Leminski\", \"M\\u00faltiplo Leminski\", \"M\\u00faltiplo Leminski\", \"M\\u00faltiplo Leminski\", \"OFICINA DE TEATRO PARA MULHERES\", \"OFICINA DE TEATRO PARA MULHERES\", \"OFICINA DE TEATRO PARA MULHERES\", \"OFICINA DE TEATRO PARA MULHERES\", \"Sarauzinho, Londrix 15 anos\", \"Triol\\u00e9 apresenta: O ZELADOR\", \"Palestra e bate-papo sobre o livro \\\"Vozes anoitecidas de Mia Couto\\\"\", \"Conta\\u00e7\\u00e3o de hist\\u00f3rias sobre o livro \\\"Chapeuzinho Vermelho\\\" - Irm\\u00e3os Grimm\", \"Conta\\u00e7\\u00e3o de hist\\u00f3rias sobre o livro \\\"Chapeuzinho Vermelho\\\" - Irm\\u00e3os Grimm\", \"Conta\\u00e7\\u00e3o de hist\\u00f3rias sobre o livro \\\"Chapeuzinho Vermelho\\\" - Irm\\u00e3os Grimm\", \"Conta\\u00e7\\u00e3o de hist\\u00f3rias sobre o livro \\\"Chapeuzinho Vermelho\\\" - Irm\\u00e3os Grimm\", \"Banda Nova - Sincopaduo | David Mour\", \"Banda Nova - Octopus Trio | Amino\\u00e1cido\", \"Sarar\\u00e1 Criolo - Lan\\u00e7amento do CD\", \"MEQUETREFE CIRCO SHOW\", \"ARTE TRANSFORMA\\u00c7\\u00c3O NA EDUCA\\u00c7\\u00c3O INFANTIL\", \"OFICINA DE PINTURA E DESENHO COM TINTAS NATURAIS\", \"BRINCANDO COM ARGILA\", \"BRINCANDO COM ARGILA\", \"Exposi\\u00e7\\u00e3o \\\"Welcome\\\"\", \"Conta\\u00e7\\u00e3o de hist\\u00f3ria\", \"Lan\\u00e7amento: luas, de J\\u00falia Rocha e Gustavo Galo\", \"A RUA E AS CRIAN\\u00c7AS.\", \"IDOSOS NO HIP- HOP\", \"ORQUESTRA BARROCA CAPRICCIO STRAVAGANTE APRESENTA \\u00d3PERA TH\\u00c9S\\u00c9E, DIA 30\", \"Capoeira Senzala\", \"Conta\\u00e7\\u00e3o de hist\\u00f3rias sobre o livro \\\"Viagem ao C\\u00e9u\\\" de Monteiro Lobato\", \"Conta\\u00e7\\u00e3o de hist\\u00f3rias sobre o livro \\\"Viagem ao C\\u00e9u\\\" de Monteiro Lobato\", \"Conta\\u00e7\\u00e3o de hist\\u00f3rias sobre o livro \\\"Viagem ao C\\u00e9u\\\" de Monteiro Lobato\", \"Conta\\u00e7\\u00e3o de hist\\u00f3rias sobre o livro \\\"Viagem ao C\\u00e9u\\\" de Monteiro Lobato\", \"Exposi\\u00e7\\u00e3o Grude + Fachada Nova\", \"6\\u00ba EVENTO DE CAPOEIRA DE ANGOLA AECAJP - CECA - PERNAMBU\\u00c9S SSA-BA MESTRE CIRO\", \"Projeto Vivenciando a m\\u00fasica na melhor idade\", \"Projeto Vivenciando a M\\u00fasica na Melhor Idade\", \"Projeto Vivenciando a M\\u00fasica na Melhor Idade\", \"Projeto Vivenciando a M\\u00fasica na melhor idade\", \"Bravi com Allice Tirolla, Fabricio Martins e Elthon Dias\", \"Musicalizando e dan\\u00e7ando para a vida\", \"Toques e dan\\u00e7as brasileiras\", \"Novas apresenta\\u00e7\\u00f5es de Transtornada Eu\", \"Novas apresenta\\u00e7\\u00f5es de Transtornada Eu\", \"PROARTE\", \"Viagem ao C\\u00e9u - Monteiro Lobato\", \"Uma Cole\\u00e7\\u00e3o Futurologista ( The Best of Mr.Chao )\", \"Uma Cole\\u00e7\\u00e3o Futurologista ( The Best of Mr.Chao )\", \"Uma Cole\\u00e7\\u00e3o Futurologista ( The Best of Mr.Chao )\", \"Uma Cole\\u00e7\\u00e3o Futurologista ( The Best of Mr.Chao )\", \"Exposi\\u00e7\\u00e3o \\\"Mundo encantado de Lobato\\\"\", \"Conta\\u00e7\\u00e3o de Hist\\u00f3ria\", \"Oficina de artes\", \"Alice no Pa\\u00eds das Maravilhas\\u201d \\u2013 Lewis Caroll\", \"CONCERTO DE P\\u00c1SCOA\", \"Quizomba Re-Existe!\", \"Oficina Quizomba de Bumba-meu-Boi\", \"Oficina Quizomba de Bumba-meu-Boi\", \"Oficina Quizomba de Bumba-meu-Boi\", \"Palco AlmA Londrina 2019\", \"Palco AlmA Londrina 2019\", \"Sarau Flapt - O Corpo Que Luta O Corpo Que Dan\\u00e7a\", \"Transtornada Eu na Alma\", \"Transtornada Eu na Alma\", \"Transtornada Eu na Alma\", \"Por Um X\", \"Por Um X\", \"Por Um X\", \"Por Um X\", \"Por Um X\", \"Por Um X\", \"Por Um X\", \"Por Um X\", \"Por Um X\", \"Por Um X\", \"Feir\\u00e3o da Resist\\u00eancia e da Reforma Agr\\u00e1ria\", \"17\\u00aa Semana Nacional de Museus\", \"17\\u00aa Semana Nacional de Museus\", \"17\\u00aa Semana Nacional de Museus\", \"17\\u00aa Semana Nacional de Museus\", \"17\\u00aa Semana Nacional de Museus\", \"17\\u00aa Semana Nacional de Museus\", \"17\\u00aa Semana Nacional de Museus\", \"17\\u00aa Semana Nacional de Museus\", \"Oficina de Cer\\u00e2mica\", \"Meu cora\\u00e7\\u00e3o de Polaco voltou\", \"1\\u00ba Encontro Cidadania e Leis Federais de Incentivo\", \"Samba do Sereno\", \"Po\\u00e9ticas de Terra e C\\u00e9u\", \"Espet\\u00e1culo Transtornada Eu na Flapt\", \"Pint Of Science 2019 Londrina Pr.\", \"Oficina de orienta\\u00e7\\u00e3o dos Editais n\\u00ba 01 e 02/2019 - Projetos Culturais Estrat\\u00e9gicos\", \"Exposi\\u00e7\\u00e3o \\\"M\\u00eas da Fam\\u00edlia: um elo de Amor\\\"\", \"Conta\\u00e7\\u00e3o da hist\\u00f3ria \\u201cHist\\u00f3rias de Lepe e Sep: 2 cora\\u00e7\\u00f5es pulsantes\\\"\", \"VIII MOSTRA DE M\\u00daSICA DE C\\u00c2MARA - concertos comemorativos - CONCERTO PARA CRIAN\\u00c7AS\", \"Conta\\u00e7\\u00e3o da hist\\u00f3ria \\u201cAlice no Pa\\u00eds das Maravilhas\\u201d\", \"Mostra fotogr\\u00e1fica \\u201cMinha Beleza Pura\\u201d\", \"Oficina de Artes \\u201cAlice no Pa\\u00eds das Maravilhas\\u201d\", \"As marcas no corpo\", \"4\\u00aa Etapa de Renova\\u00e7\\u00e3o do Comit\\u00ea Gestor da Salvaguarda da Capoeira no Paran\\u00e1\", \"As marcas no corpo\", \"Festival Cultural\", \"Festival Cultural\", \"Festival Cultural\", \"BIZARRIA\", \"BIZARRIA\", \"BIZARRIA\", \"BIZARRIA\", \"BIZARRIA\", \"BIZARRIA\", \"Orquestra Intermedi\\u00e1ria Bravi\", \"Semana do Caf\\u00e9 2019\", \"PROJETO MUSICANDO NA ESCOLA\", \"Aulas de Capoeira\", \"C\\u00edrculo de debates do livro \\\"Clara dos anjos\\\" de Lima Barreto\", \"Palestra sobre o livro \\\"O filho eterno\\\" de Cristov\\u00e3o Tezza\", \"C\\u00edrculo de debates sobre o livro \\\"O filho eterno\\\" de Cristov\\u00e3o Tezza\", \"METAIS IN CONCERT\", \"Exposi\\u00e7\\u00e3o: Literatura em quadrinhos e mang\\u00e1s\", \"Po\\u00e9ticas de Terra e C\\u00e9u\", \"PROARTE - AULA ESPECIAL CAPTA\\u00c7\\u00c3O LEIS DE INCENTIVO\", \"Brincando com Luz e Sombra\", \"Espet\\u00e1culo: Palha\\u00e7a Sola\", \"Espet\\u00e1culo: O P\\u00e1ssaro Azul\", \"Espet\\u00e1culo: O P\\u00e1ssaro Azul\", \"QUE FESTA \\u00c9 ESSA, CRIATURA?\", \"Oficina de desenhos sobre o livro \\\"Onde vivem os monstros\\\"\", \"Oficina de desenhos sobre o livro \\\"Onde vivem os monstros\\\"\", \"Oficina de desenhos sobre o livro \\\"Onde vivem os monstros\\\"\", \"Oficina \\u201cDramaturgia de Palha\\u00e7@\\u201d\", \"Performance e Exposi\\u00e7\\u00e3o Fotogr\\u00e1fica \\\"Por Elas\\\"\", \"Festa Junina AFC\", \"Cabar\\u00e9 o Show\", \"VI Festival Cultural Arraia da Integra\\u00e7\\u00e3o.\", \"VI Festival Cultural Arraia da Integra\\u00e7\\u00e3o.\", \"VI Festival Cultural Arraia da Integra\\u00e7\\u00e3o.\", \"CONCERTO DE S\\u00c3O JO\\u00c3O\", \"Viagem Longa, Grana Curta\", \"Viagem Longa, Grana Curta\", \"Viagem Longa, Grana Curta\", \"Viagem Longa, Grana Curta\", \"Viagem Longa, Grana Curta\", \"Viagem Longa, Grana Curta\", \"Viagem Longa, Grana Curta\", \"Viagem Longa, Grana Curta\", \"Viagem Longa, Grana Curta\", \"Viagem Longa, Grana Curta\", \"Apresenta\\u00e7\\u00e3o do primeiro Interc\\u00e2mbio Art\\u00edstico \\\"Grazzi Ellas Transitando\\\" em Londrina.\", \"Apresenta\\u00e7\\u00e3o do primeiro Interc\\u00e2mbio Art\\u00edstico \\\"Grazzi Ellas Transitando\\\" em Londrina.\", \"O P\\u00e1ssaro Azul\", \"O P\\u00e1ssaro Azul\", \"Palestra Concertante com Alfredo Moura\", \"LONDRINA, CULTURA EM RETRATOS\", \"Audi\\u00eancias P\\u00fablicas de Cultura 2019\", \"Novos Cronistas Londrix - lan\\u00e7amento do livro\", \"Lan\\u00e7amento Projeto Jovens Escritores\", \"Revista Sossego em Londrina + Show com Entidade Perdida\", \"OSUEL E DUO CLAVIS\", \"CONCERTO COLOR RHETORICUS \\u2013 ANO I\", \"Jogue como uma garota\", \"Jogue como uma garota 18/06\", \"Bizarria: substantivo feminino, boa postura\", \"Londrinoise Segunda Edi\\u00e7\\u00e3o\", \"Festa Julina Lar An\\u00e1lia Franco\", \"Conta\\u00e7\\u00e3o de hist\\u00f3ria\", \"Circula\\u00e7\\u00e3o \\\"Que Festa \\u00c9 Essa, Criatura?\\\" EUBOBASE\", \"Balada de um palha\\u00e7o\", \"Balada de um palha\\u00e7o\", \"Oficina de artes\", \"ARRIGO BARNAB\\u00c9 \\u2013 QUERO QUE V\\u00c1 TUDO PRO INFERNO\", \"No fim da Inf\\u00e2ncia\", \"Cl\\u00e1ssicos Infantis: uma hora cheia de hist\\u00f3rias\", \"OFICINA DE TEATRO PARA CRIAN\\u00c7AS\", \"OFICINA DE TEATRO PARA CRIAN\\u00c7AS\", \"OFICINA DE TEATRO PARA CRIAN\\u00c7AS\", \"OFICINA DE TEATRO PARA CRIAN\\u00c7AS\", \"Oficina De Maracatu - Semente de Angola\", \"Trovadores do Mioc\\u00e1rdio\", \"Trovadores do miorc\\u00e1rdio\", \"Trovadores do miorc\\u00e1rdio\", \"Ensaio Escola municipal Hikoma Udihara\", \"Ensaio Escola municipal Hikoma Udihara\", \"Ensaio Escola municipal Hikoma Udihara\", \"Ensaio Escola municipal Hikoma Udihara\", \"Morte e Vida Severina\", \"Morte e Vida Severina\", \"Morte e Vida Severina Espet\\u00e1culo C\\u00eanico- Musical.\", \"Palestra sobre o Livro Alguma poesia de Carlos Drummond de Andrade\", \"Onde Vivem os Monstros\", \"Que Festa \\u00c9 Essa, Criatura?\", \"Que Festa \\u00c9 Essa, Criatura?\", \"Que Festa \\u00c9 Essa, Criatura?\", \"Oficina Light Painting\", \"Oficina de desenhos tridimensionais e articulados\", \"FESTA JULINA BENEFICENTE 2019\", \"P\\u00e9 de Samba 06 de julho\", \"Balada de um palha\\u00e7o\", \"Balada de um palha\\u00e7o\", \"Festival Internacional de M\\u00fasica de Londrina - Edi\\u00e7\\u00e3o 39\", \"Conta\\u00e7\\u00e3o de hist\\u00f3rias\", \"Encontro de Gigantes\", \"Encontro de Gigantes\", \"Encontro de Gigantes\", \"Encontro de Gigantes\", \"Encontro de Gigantes\", \"Exposi\\u00e7\\u00e3o de livros \\\"Ruth Rocha\\\"\", \"3 dias com Leonardo da Vinci\", \"Quizomba + FML - M\\u00fasica fora do centro!\", \"Abertura do 5\\u00ba ENCOM - Encontro Nacional de Composi\\u00e7\\u00e3o Musical\", \"Abertura Solene do 39\\u00b0 Festival Internacional de M\\u00fasica de Londrina\", \"Abertura Solene do 39\\u00b0 Festival Internacional de M\\u00fasica de Londrina\", \"5\\u00ba ENCOM - Encontro Nacional de Composi\\u00e7\\u00e3o Musical\", \"Encerramento do 5o ENCOM - Encontro Nacional de Composi\\u00e7\\u00e3o Musical\", \"OSUEL \\u2013 Orquestra Sinf\\u00f4nica da Universidade Estadual de Londrina\", \"Trio Paranaense\", \"Dia Mundial do Rock\", \"Ivo Pessoa Trio\", \"Show \\u201cXod\\u00f3s\\u201d\", \"Allan Manhas Recital de Piano\", \"M\\u00fasica Fora de Centro\", \"Samba do Sereno\", \"Morte e Vida Severina\", \"Iroko Trio\", \"TR\\u00caS Orquestras. UM Encontro\", \"Forr\\u00f3 Cavi\\u00fana\", \"Show Andr\\u00e9 Mehmari Trio\", \"Toninho Ferragutti & Salom\\u00e3o, Duo Acordeon e Piano\", \"Andr\\u00e9 Siqueira Quarteto\", \"Roda De Conversa Andr\\u00e9 Mehmari Trio\", \"Risorama Londrina\", \"Tricantumconto\", \"Sarau: prosa, poesia e outras del\\u00edcias\", \"Sarau: prosa, poesia & outras del\\u00edcias\", \"Risorama Londrina\", \"Circula\\u00e7\\u00e3o Espet\\u00e1culo \\\"Que Festa \\u00c9 Essa, Criatura?\\\" Cal\\u00e7ad\\u00e3o de Londrina\", \"Circula\\u00e7\\u00e3o Espet\\u00e1culo \\\"Que Festa \\u00c9 Essa, Criatura?\\\" Aterro do Lago Igap\\u00f3\", \"Viva o Barroco! Bach e Vivaldi\", \"La Bella Voce\", \"Andrea dos Guimar\\u00e3es e Jo\\u00e3o Paulo Amaral\", \"Iroko Trio\", \"\\u00c1gua de Moringa, Grupo de Choro\", \"Duo Violino e Piano\", \"Viol\\u00e3o em Cena\", \"Orquestra Solidariedade Sempre\", \"ECM 50\", \"All That Jazz/MPB\", \"Banda Sinf\\u00f4nica da FAETEC - Marechal Hermes\", \"Passeata da Alegria\", \"FL\\u00fbnkY\", \"Abacate Contempor\\u00e2neo\", \"Iluminuras\", \"Cortejo Grupo Grupo de Percuss\\u00e3o da Universidade Federal de Pelotas - PEPEU\", \"Encerramento do Curso de Coro de M\\u00fasica Popular\", \"Encerramento do Curso de T\\u00e9cnica Vocal e Interpreta\\u00e7\\u00e3o na Can\\u00e7\\u00e3o Popular\", \"Encerramento da Pr\\u00e1tica de MPB e Jazz\", \"Encerramento da Oficina da Banda de Garagem\", \"Senhor Bonif\\u00e1cio\", \"C. Saint Sa\\u00ebns - Carnaval dos Animais\", \"Concerto Open Air\", \"Show de Dan\\u00e7as e Evolu\\u00e7\\u00e3o da Terceira Idade\", \"Banda Mustav\", \"Grupo de Percuss\\u00e3o da Universidade Federal de Pelotas - Pepeu\", \"La Bella Voce II\", \"Exibi\\u00e7\\u00e3o do document\\u00e1rio\", \"Gala dos Professores\", \"Duo Policarpo\", \"Concerto de Encerramento\", \"Retratos de Maria\", \"Viva Elis\", \"Concerto de Encerramento\", \"David Mour\", \"Z - as imagens s\\u00e3o palavras que sumiram\", \"Maestro por um dia\", \"EXPOSI\\u00c7\\u00c3O LOBATIANDO\", \"O C T O P O D E\", \"Palestra sobre o livro: Poemas escolhidos de Greg\\u00f3rio de Matos\", \"Um bourbon para Faulkner\", \"Espet\\u00e1culo: \\\"Subs-Solos\\\"\", \"OFICINA DE CIRCO PARA CRIAN\\u00c7AS\", \"OFICINA DE CIRCO PARA CRIAN\\u00c7AS\", \"OFICINA DE CIRCO PARA CRIAN\\u00c7AS\", \"ArraiAlma\", \"B.BOY\", \"B.BOY\", \"Conta\\u00e7\\u00e3o de hist\\u00f3rias sobre o livro \\\"O pequeno pr\\u00edncipe\\\"\", \"Conta\\u00e7\\u00e3o de hist\\u00f3rias sobre o livro \\\"O pequeno pr\\u00edncipe\\\"\", \"Conta\\u00e7\\u00e3o de hist\\u00f3rias sobre o livro \\\"O pequeno pr\\u00edncipe\\\"\", \"Campanha de Doa\\u00e7\\u00e3o de Livros\", \"Exposi\\u00e7\\u00e3o de Poesias em Homenagem ao Dia do Escritor\", \"11\\u00b0 Abra\\u00e7o no Lago pela Paz\", \"CONVITE: Venha Inaugurar o Totem do DADO DE CULTURA DE PAZ\", \"Livro Londrina Pazeando 2019\", \"Exposi\\u00e7\\u00e3o de livros em Homenagem ao Dia Nacional do Escritor\", \"Pin\\u00f3quio\", \"Tr\\u00e8s Affect\\u00e9\", \"Show Instrumental Balaio de Gato\", \"Oficina de escrita criativa\", \"PROARTE: Aula Especial - Programa\\u00e7\\u00e3o Cultural - Marcos Henrique Rego - RJ\", \"BRINCADEIRAS CANTADAS\", \"Espet\\u00e1culo: \\u201cO Mar do Tempo Perdido\\u201d\", \"Espet\\u00e1culo: \\u201cO Mar do Tempo Perdido\\u201d\", \"Um Bourbon para Faulkner\", \"Hist\\u00f3ria da Arte do Renascimento Italiano\", \"Feijoada Do Coletivo De Educa\\u00e7\\u00e3o Popular Paulo Freire\", \"MARACATU DE BAQUE VIRADO\", \"Estreia do filme \\\"Leste Oeste\\\"\", \"IX Confer\\u00eancia Municipal de Cultura\", \"IX Confer\\u00eancia Municipal de Cultura\", \"IX Confer\\u00eancia Municipal de Cultura\", \"IX Confer\\u00eancia Municipal de Cultura\", \"Palco AlmA Londrina 2019 - 2\\u00aa edi\\u00e7\\u00e3o\", \"Dez m\\u00e3os e um piano - PianOrquestra\", \"Lan\\u00e7amento do Hackathon de Economia criativa\", \"Exposi\\u00e7\\u00e3o de livros e revistas em homenagem ao Dia do Estudante\", \"Oficina de Percuss\\u00e3o Brasileira\", \"Yoga para Mulheres\", \"Cemit\\u00e9rio em festa\", \"ANDR\\u00c9 SIQUEIRA TRIO & DUO CLAVIS CONVIDAM TONINHO FERRAGUTTI\", \"OSUEL \\u2013 DO BARROCO AO S\\u00c9CULO XX\", \"C\\u00edrculo de debates sobre o livro \\\"Poemas escolhidos de Greg\\u00f3rio de Matos\\\"\", \"OFICINA: Mulheres Gozadas\", \"Espet\\u00e1culo - Que Festa \\u00e9 essa, Criatura?\", \"Abertura FILO 50+1\", \"Festival Internacional de Londrina\", \"Festival Internacional de Londrina\", \"Festival Internacional de Londrina\", \"Conta\\u00e7\\u00e3o de hist\\u00f3ria\", \"Chega de Saudade\", \"Tecituras de n\\u00f3s: dimens\\u00f5es poss\\u00edveis\", \"AlmA do Samba\", \"Palestra sobre o livro \\\"O dem\\u00f4nio familiar\\\" de Jos\\u00e9 de Alencar\", \"Exposi\\u00e7\\u00e3o M\\u00e1scaras dos INVIS\\u00cdVEIS\", \"BANDA MARCIAL MARCELINO CHAMPAGNAT CONVIDA DERICO PARA CONCERTO\", \"O Caipira e o Causo do Capiroto\", \"O Caipira e o Causo do Capiroto\", \"13\\u00aa Primavera dos Museus\", \"13\\u00aa Primavera dos Museus\", \"SEMANA DE ARTES C\\u00caNICAS\", \"Calejadas Mem\\u00f3rias\", \"Circula\\u00e7\\u00e3o Espet\\u00e1culo \\\"Que Festa \\u00c9 Essa, Criatura?\\\" Vila Triol\\u00e9 Cultural\", \"CONCERTO DA ORQUESTRA BARROCA CAPRICCIO STRAVAGANTE\", \"EXPOSI\\u00c7\\u00c3O LUSOFONIAS\", \"PROCURE A MENINA COM O SOL EM SEUS OLHOS\", \"Bate-papo sobre o livro \\\"O dem\\u00f4nio familiar\\\"\", \"O Caipira e o Causo do Capiroto\", \"As marcas no corpo\", \"As marcas no corpo\", \"AutoEscavo\", \"Orquestra Acad\\u00eamica Bravi\", \"AutoEscavo\", \"Exposi\\u00e7\\u00e3o POR ELAS\", \"Circula\\u00e7\\u00e3o Espet\\u00e1culo \\\"Que Festa \\u00c9 Essa, Criatura?\\\" Pra\\u00e7a Nishinomiya\", \"Anatomia do espa\\u00e7o-lugar, de Margarida Holler\", \"Lan\\u00e7amento: Porque Eu Odeio, de Claude McKay\", \"Estreia da pe\\u00e7a \\\"Terra Desmedida\\\"\", \"Estreia da pe\\u00e7a \\\"Terra Desmedida\\\"\", \"Estreia da pe\\u00e7a \\\"Terra Desmedida\\\"\", \"IX Confer\\u00eancia de Cultura da Cidade de Londrina\", \"IX Confer\\u00eancia de Cultura da Cidade de Londrina\", \"Palestra sobre o livro \\\"A hora da estrela\\\" de Clarice Lispector\", \"ARTE TRANSFORMA\\u00c7\\u00c3O\", \"Conta\\u00e7\\u00e3o da hist\\u00f3ria \\\"Chapeuzinho vermelho\\\"\", \"Exposi\\u00e7\\u00e3o Por Elas no Canto do MARL\", \"Exposi\\u00e7\\u00e3o Por Elas no Canto do MARL\", \"Exposi\\u00e7\\u00e3o Por Elas no Canto do MARL\", \"ARTE TRANSFORMA\\u00c7\\u00c3O\", \"ARTE TRANSFORMA\\u00c7\\u00c3O\", \"Poesia e revolu\\u00e7\\u00e3o\", \"\\u201cFAM\\u00cdLIA BACH E PIAZZOLLA\\u201d\", \"\\\"Terra Desmedida\\\" na Flapt\", \"\\\"Terra Desmedida\\\" retorna ao Canto do MARL\", \"\\\"Terra Desmedida\\\" retorna ao Canto do MARL\", \"\\\"Terra Desmedida\\\" retorna ao Canto do MARL\", \"Londrina ter\\u00e1 Tributo a BON JOVI\", \"Londrina ter\\u00e1 Tributo a BON JOVI\", \"BREXOTA!\", \"Exposi\\u00e7\\u00e3o \\u201cSemana da Paz\\u201d\", \"Exposi\\u00e7\\u00e3o \\u201cSemana da Paz\\u201d\", \"Exposi\\u00e7\\u00e3o \\u201cSemana da Paz\\u201d\", \"Exposi\\u00e7\\u00e3o \\u201cSemana da Paz\\u201d\", \"Exposi\\u00e7\\u00e3o \\u201cSemana da Paz\\u201d\", \"Exposi\\u00e7\\u00e3o \\u201cSemana da Paz\\u201d\", \"Dia Mundial sem Carro\", \"Little London Festival\", \"Trio Harmonitango apresenta \\\"Uma noite com m\\u00fasica de Piazzolla\\\"\", \"Trio Harmonitango apresenta \\\"Uma noite com m\\u00fasica de Piazzolla\\\"\", \"ACARAX\\u00c9\", \"2\\u00ba Encontro Feminino de capoeira - Muruca2019\", \"UMA ORQUESTRA NAS ESCOLAS - ORQUESTRA DE C\\u00c2MARA SOLISTAS DE LONDRINA\", \"Encontro sobre Gest\\u00e3o Cultural com Dane de Jade - CE\", \"Lan\\u00e7amento Projeto \\\"Triol\\u00e9 fora da estrada no Norte Pioneiro\\\"\", \"Lan\\u00e7amento Projeto \\\"Triol\\u00e9 fora da estrada no Norte Pioneiro\\\"\", \"Lan\\u00e7amento Projeto \\\"Triol\\u00e9 fora da estrada no Norte Pioneiro\\\"\", \"Lan\\u00e7amento Projeto \\\"Triol\\u00e9 fora da estrada no Norte Pioneiro\\\"\", \"Conta\\u00e7\\u00e3o da hist\\u00f3ria \\\"Pollyanna\\\"\", \"Pollyanna \\u2013 Eleanor Porter\", \"Pollyanna \\u2013 Eleanor Porter\", \"Orquestra Acad\\u00eamica Bravi\", \"Oficina de Hip-hop Dance\", \"Dia da Sergipe - 8\\u00aa Edi\\u00e7\\u00e3o\", \"CHRISTIANE TORLONI COMO MARIA CALLAS EM \\\"MASTER CLASS\\\"\", \"Que Festa \\u00c9 Essa, Criatura?\", \"Meta For Mosa\", \"Mostra tem\\u00e1tica itinerante \\\"Minha beleza pura\\\"\", \"Mostra tem\\u00e1tica itinerante \\\"Minha beleza pura\\\"\", \"Mostra tem\\u00e1tica \\\"Abstratos da reflex\\u00e3o missional\\\"\", \"Exposi\\u00e7\\u00e3o Varal de Cordel\", \"Exposi\\u00e7\\u00e3o de Revistas especiais\", \"O Caipira e o causo do Capiroto\", \"Aqu\\u00e1rio gigante\", \"Aqu\\u00e1rio gigante\", \"Espet\\u00e1culo A Sagra\\u00e7\\u00e3o da Primavera\", \"Espet\\u00e1culo Travessia\", \"ARTE E TRANSFORMA\\u00c7\\u00c3O\", \"META FOR MOSA\", \"Exposi\\u00e7\\u00e3o Poeta Alice\", \"Espet\\u00e1culo Instagrimm\", \"Espet\\u00e1culo H\\u00e1 Mais Futuro Que Passado\", \"Espet\\u00e1culo Teia\", \"Espet\\u00e1culo Teia\", \"Espet\\u00e1culo Rela\\u00e7\\u00f5es\", \"Espet\\u00e1culo [H3O]mens\", \"Espet\\u00e1culo Terror e Mis\\u00e9ria no Terceiro Mil\\u00eanio - Improvisando Utopias\", \"Espet\\u00e1culo Atelier de Cria\\u00e7\\u00e3o\", \"Espet\\u00e1culo KA-F-KA\", \"Espet\\u00e1culo Dan\\u00e7a Londrina\", \"Espet\\u00e1culo Pulse(s)\", \"Espet\\u00e1culo Bailinho do Plant\\u00e3o\", \"Espet\\u00e1culo Estou sem sil\\u00eancio\", \"Oficina: A dan\\u00e7a e a crian\\u00e7a\", \"Espet\\u00e1culo Empty Floor\", \"Palestra sobre o Livro Amor de Perdi\\u00e7\\u00e3o de Camilo Castelo Branco\", \"Oficinas de futebol de bot\\u00e3o \", \"Oficina An\\u00e1lise Ativa e Cria\\u00e7\\u00e3o de \\u00c9tudes\", \"Oficina Empty Body (Corpo Vazio) - Dan\\u00e7a Meditativa\", \"Exposi\\u00e7\\u00e3o Fotogr\\u00e1fica Paran\\u00e1 de Orlando Azevedo\", \"Exposi\\u00e7\\u00e3o de Livros que viraram filmes\", \"Distribui\\u00e7\\u00e3o de desenhos\", \"Di\\u00e1logo motivacional sobre a leitura nas v\\u00e1rias fases da vida\", \"Palestra - \\\"Atendimento ao p\\u00fablico feito de forma humanizada: g\\u00eanero, diversidade e direitos humanos\\\"\", \"Oficina de poesia metaf\\u00f3rica\", \"Conta\\u00e7\\u00e3o de hist\\u00f3rias para alunos adolescentes do CEPAS Santiago\", \"Palco AlmA Londrina 2019\", \"Palco AlmA Londrina 2019\", \"O Caipira e o Causo do Capiroto\", \"Show do Bita\", \"\\u00c0-Deus (FACES DE lONDRINA)\", \"Recital de Viol\\u00e3o\", \"Palestra: Livros sobre temas supremos e existenciais: morte, solid\\u00e3o, desejo e sexualidade. A import\\u00e2ncia de lermos e conversarmos com as crian\\u00e7as sobre temas universais e profundos.\", \"Bravi - Orquestras Juvenis e Grupos Intermedi\\u00e1rios\", \"Apresenta\\u00e7\\u00e3o do livro: \\\"O m\\u00e1gico japon\\u00eas\\\"\", \"Oficina de Poesia Metaf\\u00f3rica\", \"Semana do Dia das Crian\\u00e7as\", \"PRET(A) conta Dandara\", \"PRET(A) conta Dandara\", \"PRET(A) conta Dandara\", \"PRET(A) conta Dandara\", \"PRET(A) conta Dandara\", \"PRET(A) conta Dandara\", \"Conta\\u00e7\\u00e3o de hist\\u00f3rias para alunos do fundamental II do Col\\u00e9gio M\\u00faltipla Escolha\", \"Conta\\u00e7\\u00e3o e oficina de artes \\\"Viagens de Gulliver\\\"\", \"Conex\\u00e3o cidad\\u00e3\", \"Ta...lentos musicais\", \"Oficina de Poesia Metaf\\u00f3rica\", \"IX Mostra de M\\u00fasica de C\\u00e2mara com Solistas de Londrina\", \"Conta\\u00e7\\u00e3o de hist\\u00f3rias e Oficina de artes \\u201cViagens de Gulliver\\u201d\", \"2\\u00ba Little London Festival\", \"2\\u00ba Little London Festival\", \"Viagens de Gulliver\", \"Hist\\u00f3rias para Acordar - Eva Furnari\", \"\\u00c0-Deus\", \"Palestra: \\u201cObras especiais e raras em bibliotecas universit\\u00e1rias\\u201d\", \"Palestra: \\u201cObras especiais e raras em bibliotecas universit\\u00e1rias\\u201d\", \"Oficina de Poesia Metaf\\u00f3rica\", \"Conta\\u00e7\\u00e3o da est\\u00f3ria \\u201cHist\\u00f3rias de um livro aberto\\u201d\", \"Oficina de conta\\u00e7\\u00e3o de hist\\u00f3rias: recursos e estrat\\u00e9gias\", \"Oficina de conta\\u00e7\\u00e3o de hist\\u00f3rias: recursos e estrat\\u00e9gias\", \"Livro na Pra\\u00e7a CEU\", \"\\u00c0- Deus\", \"\\u00c0-Deus\", \"Sarau de Abertura - BRISA\", \"Sarau de Abertura - BRISA\", \"Oficina de pequenos reparos\", \"LEVE. \\u00c9 SEU!\", \"OFICINA DE POESIA METAF\\u00d3RICA\", \"IV Feira de Livros\", \"Exposi\\u00e7\\u00e3o \\u201cBiblioteca UniFil de 1972 aos dias atuais\\u201d cartazes e equipamentos utilizados ao longo do tempo\", \"\\u201cMostra de fotografias sobre as Bibliotecas do UniFil\\u201d Cartazes com informa\\u00e7\\u00f5es sobre a estrutura e acervo de cada biblioteca\", \"Palestra \\u201cComo publicar sem custo um livro pela plataforma Amazon\\u201d\", \"Palestra \\u201cRevista Terra e Cultura, um peri\\u00f3dico multidisciplinar\\u201d\", \"Oficina \\u201cUma introdu\\u00e7\\u00e3o ao software Mendeley para organiza\\u00e7\\u00e3o e cita\\u00e7\\u00e3o das suas refer\\u00eancias\\u201d\", \"Palestra: \\u201cComo estruturar a pesquisa para TCC, na base de dados Bireme\\u201d\", \"Palestra \\u201cA hist\\u00f3ria do livro\\u201d\", \"Banca da Ciranda!\", \"Palestra de abertura: \\u201cDesenvolver mediadores para a forma\\u00e7\\u00e3o de leitores\\u201d\", \"Palestra \\u201cNarrativas do s\\u00edtio e a arte de ouvir hist\\u00f3rias\\u201d, com Dr. L\\u00e9o Pires Ferreira\", \"Lan\\u00e7amento do livro \\u201cA Menina e a Planta\\u201d, de M\\u00e1rcia Paganini com ilustra\\u00e7\\u00e3o de Andr\\u00e9ia Vieira\", \"Filme-Debate \\u201cO Segredo De Eleonor\\u201d\", \"Exposi\\u00e7\\u00e3o Por Elas\", \"Conversa-Oficina \\u201cContar Hist\\u00f3rias para reinventar mundos\\u201d\", \"Palestra \\u201cTemas supremos e existenciais: morte, solid\\u00e3o, desejo e sexualidade no imagin\\u00e1rio infantil\\u201d, com Luis Henrique Mioto\", \"Debate \\u201cAs pol\\u00edticas p\\u00fablicas, as leis de incentivo e o papel do mercado na forma\\u00e7\\u00e3o de leitores\\u201d\", \"Palestra de encerramento \\u201cContar para transformar\\u201d\", \"Sarau Primaveral das Artes\", \"Oficina de \\\"n\\u00e3o-escrita\\\" criativa\", \"Encontro sobre Poesia e Sonoridade\", \"BRISA Te Convida: \\\"Balada de um Palha\\u00e7o\\\"\", \"Exposi\\u00e7\\u00e3o: \\u201cS\\u00f3 os TOPs: livros de literatura infantil e infantojuvenil premiados\\u201d\", \"Conta\\u00e7\\u00e3o de Hist\\u00f3rias com Fl\\u00e1via Harue\", \"Conta\\u00e7\\u00e3o de hist\\u00f3rias e Oficina de artes \\u201cO m\\u00e1gico japon\\u00eas\\u201d com Paulo Tio\", \"Wing\\u2019s St. James 2019\", \"ARTE- TRANSFORMA\\u00c7\\u00c3O\", \"Oficina de Origami com Origamito San\", \"Oficina de Origami com Origamito San\", \"Festival de Graffiti\", \"Festival de Graffiti\", \"Festival de Graffiti\", \"\\\"Terra Desmedida\\\" se apresenta no Conservat\\u00f3rio das Artes\", \"\\\"Terra Desmedida\\\" se apresenta no Cemit\\u00e9rio de Autom\\u00f3veis\", \"IXa MOSTRA DE M\\u00daSICA DE C\\u00c2MARA \\u201cCONCERTOS LONDRINA\\u201d\", \"IXa MOSTRA DE M\\u00daSICA DE C\\u00c2MARA \\u201cCONCERTOS LONDRINA\\u201d\", \"IXa MOSTRA DE M\\u00daSICA DE C\\u00c2MARA \\u201cCONCERTOS LONDRINA\\u201d\", \"IXa MOSTRA DE M\\u00daSICA DE C\\u00c2MARA \\u201cCONCERTOS LONDRINA\\u201d\", \"IXa MOSTRA DE M\\u00daSICA DE C\\u00c2MARA \\u201cCONCERTOS LONDRINA\\u201d\", \"Conex\\u00e3o Cidad\\u00e3\", \"FILO 50+1 - MOSTRA NACIONAL DE ARTES C\\u00caNICAS\", \"FILO 50+1 - MOSTRA NACIONAL DE ARTES C\\u00caNICAS\", \"FILO 50+1 - MOSTRA NACIONAL DE ARTES C\\u00caNICAS\", \"FILO 50+1 - MOSTRA NACIONAL DE ARTES C\\u00caNICAS\", \"FILO 50+1 - MOSTRA NACIONAL DE ARTES C\\u00caNICAS\", \"FILO 50+1 - MOSTRA NACIONAL DE ARTES C\\u00caNICAS\", \"FILO 50+1 - MOSTRA NACIONAL DE ARTES C\\u00caNICAS\", \"FILO 50+1 - MOSTRA NACIONAL DE ARTES C\\u00caNICAS\", \"FILO 50+1 - MOSTRA NACIONAL DE ARTES C\\u00caNICAS\", \"FILO 50+1 - MOSTRA NACIONAL DE ARTES C\\u00caNICAS\", \"FILO 50+1 - MOSTRA NACIONAL DE ARTES C\\u00caNICAS\", \"FILO 50+1 - MOSTRA NACIONAL DE ARTES C\\u00caNICAS\", \"FILO 50+1 - MOSTRA NACIONAL DE ARTES C\\u00caNICAS\", \"FILO 50+1 - MOSTRA NACIONAL DE ARTES C\\u00caNICAS\", \"FILO 50+1 - MOSTRA NACIONAL DE ARTES C\\u00caNICAS\", \"FILO 50+1 - MOSTRA NACIONAL DE ARTES C\\u00caNICAS\", \"FILO 50+1 - MOSTRA NACIONAL DE ARTES C\\u00caNICAS\", \"Sou mulher e n\\u00e3o serei outra coisa\", \"Sou mulher e n\\u00e3o serei outra coisa\", \"Exposi\\u00e7\\u00e3o Pol\\u00edcia Rodovi\\u00e1ria Federal\", \"O Caipira e o Causo do Capiroto\", \"O Caipira e o Causo do Capiroto\", \"SAIAS\", \"SAIAS\", \"SAIAS\", \"Espet\\u00e1culo Saias na Flapt\", \"Quizomba de Anivers\\u00e1rio - Zer\\u00e3o na gra\\u00e7a de Oxum\", \"\\\"COMETZ, BOHEMIAN RHAPSODY \\\"\", \"Projeto Cordas brasileiras\", \"SESS\\u00c3O KINOPUS Especial\", \"SESS\\u00c3O KINOPUS Especial\", \"SESS\\u00c3O KINOPUS Especial\", \"Lab Doc com o cineasta Paulo Sacramento\", \"SESS\\u00c3O KINOPUS Especial\", \"OFICINA Craft - ARTE E NATUREZA\", \"PITCHING do N\\u00facleo de dramaturgia Audiovisual\", \"BICHO DO MATO\", \"GRUPOS ORQUESTRAIS BRAVI\", \"PIANO EM FOCO\", \"Entrega do Projeto 25 Anos do Museu de Arte de Londrina\", \"Acordeon Universal Festival com Jo\\u00e3o Pedro Teixeira\", \"Clube de Leitura: A Caixa-Preta, de Am\\u00f3s Oz\", \"Ler\\u00c7: Conta\\u00e7\\u00e3o de Hist\\u00f3ria e Oficina para crian\\u00e7as\", \"Ler\\u00c7: Conta\\u00e7\\u00e3o de Hist\\u00f3ria e Oficina para crian\\u00e7as\", \"CineClube de Ter\\u00e7a: O Cidad\\u00e3o Ilustre (Arg, 2016)\", \"Clube de Leitura Plurais: Quem tem medo do feminismo negro, de Djamila Ribeiro\", \"Lan\\u00e7amento: As Reina\\u00e7\\u00f5es de Emilia, de Cassia Leslie\", \"Lan\\u00e7amento e aut\\u00f3grafos com Amilcar Bettega\", \"Caf\\u00e9 com Qu\\u00ea?: O rock no Brasil na d\\u00e9cada de 80 e suas rela\\u00e7\\u00f5es sociais, com Manuel In\\u00e1cio\", \"Exposi\\u00e7\\u00e3o \\\"Resgate\\\", de Cassio Kessler\", \"Espet\\u00e1culo SaiaS\", \"Espet\\u00e1culo SaiaS\", \"Espet\\u00e1culo SaiaS\", \"Espet\\u00e1culo SaiaS\", \"Espet\\u00e1culo SaiaS\", \"Espet\\u00e1culo SaiaS\", \"Espet\\u00e1culo Saias\", \"Espet\\u00e1culo SAIAS\", \"Espet\\u00e1culo SAIAS\", \"Espet\\u00e1culo SAIAS\", \"Espet\\u00e1culo SAIAS\", \"Espet\\u00e1culo \\\"PLANO 269\\\"\", \"Espet\\u00e1culo \\\"PLANO 269\\\"\", \"Literatura pra qu\\u00ea?\", \"Achados Liter\\u00e1rios\", \"Conta\\u00e7\\u00e3o de hist\\u00f3rias sobre o livro \\\"Super-her\\u00f3is em apuros\\\"\", \"Conta\\u00e7\\u00e3o da hist\\u00f3ria \\\"S\\u00edtio do Picapau Amarelo\\\"\", \"50 ANOS BANDA MARCIAL MARCELINO CHAMPAGNAT\", \"Arte-Transforma\\u00e7\\u00e3o na Educa\\u00e7\\u00e3o Infantil\"], \"y\": [\"gratuito\", \"gratuito\", \"130\", \"130\", \"gratuito\", \"gratuito\", \"gratuito\", \"gratuito\", \"gratuito\", \"gratuito\", \"gratuito\", \"contribui\\u00e7\\u00e3o espont\\u00e2nea ao final\", \"gratuito\", \"Gratuito\", \"Gratuito\", \"gratuito\", \"10\", \"gratuito\", \"gratuito\", \"gratuito\", \"gratuito\", \"25\", \"0\", \"Gratuito\", \"Gratuito\", \"0\", \"0\", \"Gratuito\", \"Gratuito\", \"Gratuito\", \"Gratuito\", \"Gratuito\", \"Evento Gratuito\", \"Evento Gratuito\", \"Evento Gratuito\", \"0\", \"0\", \"0\", \"0\", \"Gratu\\u00edto\", \"Participa\\u00e7\\u00e3o gratuita\", \"Participa\\u00e7\\u00e3o gratuita\", null, \"contribui\\u00e7\\u00e3o espont\\u00e2nea ao final\", \"contribui\\u00e7\\u00e3o espont\\u00e2nea ao final\", \"contribui\\u00e7\\u00e3o espont\\u00e2nea ao final\", null, \"Gratuito\", \"Gratuito\", \"Gratuito\", \"Gratuito\", \"Gratuito\", \"10\", \"0\", \"0\", \"Gratuito\", \"free\", \"30\", \"GRATUITO\", \"livre\", \"gr\\u00e1tis\", \"Gratuito\", \"Gratuito\", \"free\", \"20\", \"livre\", \"0\", \"Livre\", \"Livre\", \"Livre\", \"Gratuito\", \"Gratuito\", \"Gratuito\", \"40\", \"40\", \"40\", \"40\", \"40\", \"At\\u00e9 o dia 21/07 R$ 25,00 ap\\u00f3s R$ 50,00\", \"25,00 AT\\u00c9 O DIA 12/08/2019 AP\\u00d3S ESSA DATA PASSA PARA R$50,00\", \"R$ 25,00 AT\\u00c9 O DIA 12/09/2019 AP\\u00d3S ESSA DATA PASSA PARA R$ 50,00\", \"25\", \"40\", \"40\", \"0\", \"gratuito\", \"gratuito\", \"gratuito\", \"gratuito\", \"gratuito\", \"gratuito\", \"livre\", \"Gr\\u00e1tis\", \"Gr\\u00e1tis\", \"GRATUITO\", \"gratuito\", \"gratuito\", \"gratuito\", \"gratuito\", \"gratuito\", \"gratuito\", \"gratuito\", \"gratuito\", \"gratuito\", \"gratuito\", \"gratuito\", \"Gr\\u00e1tis\", \"Gr\\u00e1tis\", \"Gr\\u00e1tis\", \"Gr\\u00e1tis\", \"Gr\\u00e1tis\", \"livre\", \"Livre\", \"Gratuito\", \"Gratuito. Colabora\\u00e7\\u00e3o no chap\\u00e9u.\", null, null, \"Gratuito\", \"Gratuito\", \"Gratuito\", \"Gratuito\", \"Gratuito\", \"Gratuito\", \"Gratuito\", \"Gratuito\", \"Gratuito\", \"Livre\", \"15\", \"15\", \"15\", \"15\", \"15\", \"10\", null, null, null, null, null, \"Gratuito\", \"Gratuito\", \"Livre\", \"consultar evento\", \"R$ 30 e R$ 15\", \"8\", \"gratuito\", \"Gratuito\", null, null, null, \"Gratuita\", \"Gratuita\", \"gratuito\", \"30\", \"R$ 20,00 inteira R$ 10,00 meia\", null, null, null, null, null, \"Gratuito\", null, \"Gratuito (retirar ingresso uma hora antes do show)\", \"Gratuita\", \"Gratuita\", \"Gratuita\", \"Gratuita\", \"livre\", \"gratis - retirar convite 1h antes\", \"gratuito\", \"gratuito\", \"gratuito\", \"gratuito\", \"gratuito\", \"GRATUITO\", \"GRATUITO\", \"Gr\\u00e1tis\", \"contribui\\u00e7\\u00e3o espont\\u00e2nea ao final do espet\\u00e1culo\", \"R$ 20,00\", \"R$ 20,00\", \"R$ 20,00\", \"R$ 20,00\", \"Gratuito\", \"Gratuito\", \"gratuito\", \"Gratuito\", \"GRATUITO\", \"R$ 20,00 (inteira) R$ 10,00 (meia)\", \"60\", \"gratuito\", \"gratuito\", \"gratuito\", \"gratuito\", \"gratuito\", null, \"livre\", \"livre\", null, null, \"1 pac. fralda geri\\u00e1trica - trocado no dia e local do evento a partir das 14h\", \"Gratuito\", \"colabora\\u00e7\\u00e3o espont\\u00e2nea\", \"Gratuito. Colabora\\u00e7\\u00e3o no chap\\u00e9u.\", \"Gratuito. Colabora\\u00e7\\u00e3o no chap\\u00e9u.\", \"gratis\", \"Gratuito\", \"Gratuito\", \"gratuito\", \"gratuito\", \"gratuito\", \"Gratuito\", \"Gratuito\", \"Gratuito\", \"Gratuito\", \"R$ 20,00 inteira R$ 10,00 meia\", \"Gratuito\", \"Gratuito\", \"Gratuito\", \"Gratuito\", \"1 kg de alimento\", \"1 kg de alimento\", \"Gratuito\", \"Gratuito. Colabora\\u00e7\\u00e3o no chap\\u00e9u.\", \"Gratuito. Colabora\\u00e7\\u00e3o no chap\\u00e9u.\", \"Gratuito. Colabora\\u00e7\\u00e3o no chap\\u00e9u.\", \"0\", \"gr\\u00e1tis\", \"gr\\u00e1tis\", \"gr\\u00e1tis\", \"gr\\u00e1tis\", \"gr\\u00e1tis\", \"gr\\u00e1tis\", \"gr\\u00e1tis\", null, \"gr\\u00e1tis\", \"Gratuito\", \"gratuito\", \"gratuito\", \"gratuito\", \"gratuito\", \"gratuito\", \"gratuito\", \"gratuito\", \"gratuito\", \"320\", \"gratuito\", \"gratuito\", \"10\", \"Pague Quanto Puder\", \"Gratuito. Colabora\\u00e7\\u00e3o no chap\\u00e9u.\", \"Entrada Gratuita\", \"gratuito\", \"Gratuito\", \"Gratuito\", \"R$ 20 e R$ 10\", \"Gratuito\", \"0\", \"Gratuito\", \"Gratuita\", \"gratuito\", \"Gratuita\", \"0\", \"30,00 reais\", \"0\", \"Gratuita\", \"Gratuita\", \"Gratuita\", \"Gratuita\", \"Gratuita\", \"Gratuita\", null, \"gratuito\", \"Entrada Franca\", \"30,00 reais\", \"gratuito\", \"gratuito\", \"gratuito\", \"R$ 20,00 inteira R$ 10,00 meia\", \"gratuito\", \"Pague Quanto Puder\", \"gratis - inscri\\u00e7\\u00f5es no Sympla\", \"0\", \"0\", \"Contribui\\u00e7\\u00e3o no Chap\\u00e9u\", \"Contribui\\u00e7\\u00e3o no Chap\\u00e9u\", \"Gratuito\", \"gratuito\", \"gratuito\", \"gratuito\", \"0\", \"Contribui\\u00e7\\u00e3o no Chap\\u00e9u\", null, \"20,00 (Unico)\", \"0\", \"0\", \"Gratuito\", \"GRATU\\u00cdTO\", null, \"Gratuito\", \"Gratuito\", \"Gratuito\", \"Gratuito\", \"Gratuito\", \"Gratuito\", \"Gratuito\", \"Gratuito\", \"Gratuito\", \"gretuito\", \"gretuito\", \"Gratuito\", \"Gratuito\", null, \"Gratuito\", \"Gratuito\", \"entrada franca\", null, \"entrada franca\", \"R$ 20,00 INTEIRA R$ 10,00 MEIA\", \"R$ 20,00 INTEIRA R$ 10,00 MEIA\", \"gratuito\", \"gratuito\", \"gratuito\", \"5\", \"R$ 5,00\", \"Gratuito\", null, \"R$ 10,00\", \"R$ 10,00\", \"Gratuito\", \"R$ 50,00 Inteira e R$ 25,00 Meia\", \"entrada gratuita\", \"Gratuito\", \"20\", \"20\", \"20\", \"20\", \"CONSULTAR EVENTO\", \"0\", \"0\", \"0\", \"gratuito\", \"gratuito\", \"gratuito\", \"gratuito\", null, null, null, \"gratuito\", \"livre\", \"0\", \"chap\\u00e9u\", \"chap\\u00e9u\", \"Gratuito\", \"Gratuito\", null, \"30\", \"10\", \"10\", null, \"Gratuito\", \"Evento Gratuito\", \"Evento Gratuito\", \"Evento Gratuito\", \"Evento Gratuito\", \"Evento Gratuito\", \"Gratuito\", \"100\", \"Gratuito\", \"Gratuito\", \"Gratuito\", \"Gratuito\", \"gratuito\", \"Gratuito\", \"R$20,00 (R$10,00 meia)\", \"R$20,00 (R$10,00 meia)\", \"Gratuito\", \"Couvert R$15,00\", \"R$20,00 (R$10,00 meia)\", \"R$20,00 (R$10,00 meia)\", \"Gratuito\", \"R$15,00 (sem meia entrada)\", \"R$20,00 (R$10,00 meia)\", \"R$20,00 (R$10,00 meia)\", \"Gratuito\", \"Couvert: R$12,00\", \"R$20,00 (R$10,00 meia)\", \"R$20,00 (R$10,00 meia)\", \"Couvert: R$15,00 (pre\\u00e7o cheio, n\\u00e3o tem meia entrada por se tratar de couvert). Local: Bar Bras\", \"Gratuito\", \"R$50,00 + 10% de taxa\", \"Gratuito\", \"entrada franca\", \"entrada franca\", \"R$50,00 + 10% de taxa\", \"Gratuito\", \"Gratuito\", \"R$20,00 (R$10,00 meia)\", \"R$20,00 (R$10,00 meia)\", \"Gratuito\", \"Couvert R$ 15,00\", \"R$20,00 (R$10,00 meia)\", \"R$20,00 (R$10,00 meia)\", \"Gratuito\", \"gratuito\", \"Couvert: R$12,00\", \"R$20,00 (R$10,00 meia)\", \"gratuito\", \"gratuito\", \"Gratuito\", \"Couvert: R$10,00\", \"R$20,00 (R$10,00 meia)\", \"Gratuito\", \"Gratuito\", \"Gratuito\", \"Gratuito\", \"Gratuito\", \"Couvert R$ 15,00\", \"R$20,00 (R$10,00 meia)\", \"Gratuito\", \"Gratuito\", \"Couvert: R$10,00\", \"R$20,00 (R$10,00 meia)\", \"Gratuito\", \"Gratuito\", \"R$20,00 (R$10,00 meia)\", \"Couvert: R$15,00\", \"R$20,00 (R$10,00 meia)\", \"Gratuito\", \"Couvert R$ 15,00\", \"R$20,00 (R$10,00 meia)\", \"Couvert: R$10,00\", \"Gratuito\", \"Gratuito\", null, \"Gratuito\", \"gratuito\", \"entrada franca\", \"contribui\\u00e7\\u00e3o espont\\u00e2nea ao final do espet\\u00e1culo\", \"R$ 20,00\", \"R$ 20,00\", \"R$ 20,00\", \"CONSULTAR EVENTO\", \"GRATUITO\", \"GRATUITO\", \"gratuito\", \"gratuito\", \"gratuito\", \"entrada franca\", \"gratuito\", \"0\", \"0\", \"0\", \"gratuito\", \"15\", \"20\", \"20\", \"gratuito\", \"0\", \"20\", \"contribui\\u00e7\\u00e3o espont\\u00e2nea ao final do espet\\u00e1culo\", \"contribui\\u00e7\\u00e3o espont\\u00e2nea ao final do espet\\u00e1culo\", \"entrada franca\", \"R$ 450,00\", \"CONSULTAR EVENTO\", \"CONSULTAR EVENTO\", null, null, null, null, null, \"1 kg de alimento\", \"R$ 40,00 e R$ 20,00\", null, \"gratuito\", \"CONSULTAR EVENTO\", \"CONSULTAR EVENTO\", \"5\", \"R$ 40,00 inteira - R$ 20,00 meia\", \"R$ 20,00 (Inteira) - R$ 10,00 (meia)\", \"gratuito\", \"50\", \"Contribui\\u00e7\\u00e3o no Chap\\u00e9u\", \"R$ 20,00 (inteira) e R$ 10,00 (meia)\", null, null, null, \"Gratuito\", \"Inteira: R$20,00 e meia R$10,00\", \"Gratuito\", \"5 reais at\\u00e9 as 18\", \"gratuito\", \"Entrada Franca\", \"GRATUITO\", \"R$ 2,00 (inteira) / R$ 1,00 (meia)\", \"R$ 2,00 (inteira) / R$ 1,00 (meia)\", \"Gratuito\", \"Gratuito\", \"ingresso solid\\u00e1rio: 1kg de alimento ou pcte de fralda geri\\u00e1trica ( trocar o ingresso meia hora antes da apresenta\\u00e7\\u00e3o)\", \"25\", \"Contribui\\u00e7\\u00e3o no Chap\\u00e9u\", \"gratuito\", null, \"gratuito\", \"gratuito\", \"2,00 inteira e 1,00 meia\", \"Gratuita\", \"Gratuita\", \"Contribui\\u00e7\\u00e3o Livre\", \"0\", \"R$ 10,00 inteira\", \"Entrada Gratuita\", \"Gratuito\", \"gratuito\", \"gratuito\", \"Entrada Gratuita.\", \"Entrada Gratuita.\", \"Entrada Gratuita.\", \"Gratuito\", \"Gratuito\", \"gratuito\", \"20\", \"Gratuito\", \"Entrada Gratuita\", \"Entrada Gratuita\", \"Entrada Gratuita\", \"20\", \"20\", \"livre\", \"R$ 20,00 inteira R$ 10,00\", \"Entrada Gratuita.\", \"Entrada Gratuita.\", \"Entrada Gratuita.\", \"Entrada Gratuita.\", \"R$ 60,00 a inteira e R$ 30,00 a meia entrada\", \"R$ 60,00 a inteira e R$ 30,00 a meia entrada\", \"gratuito\", \"gratuito\", \"gratuito\", \"gratuito\", \"gratuito\", \"gratuito\", \"gratuito\", \"Gratuito\", \"Convites: Plataforma Sympla Valor do primeiro lote: R$ 39,00\", \"R$ 20 e R$ 10\", \"R$ 20 e R$ 10\", \"CONSULTAR EVENTO\", \"CONSULTAR EVENTO\", \"0\", \"gratis - inscri\\u00e7\\u00f5es no Sympla\", \"gratis\", \"gratis\", \"gratis\", \"gratis\", \"Gratuito\", \"Gratuito\", \"livre\", \"0\", \"Gratuito\", \"Gratuito\", \"R$ 100,00 inteira R$ 50,00 meia\", null, \"gratuito\", \"gratuito\", \"gratuito\", \"gratuito\", \"gratuito\", \"gratuito\", \"R$ 2,00 (inteira) / R$ 1,00 (meia)\", \"0\", \"0\", \"Gratuito\", \"R$10 e R$ 5 (meia-entrada)\", \"20\", \"Entrada Franca\", \"Gratuito\", \"R$10 e R$5 (meia-entrada)\", \"R$10 e R$5 (meia-entrada)\", \"R$10 e R$5 (meia-entrada)\", \"R$10 e R$5 (meia-entrada)\", \"R$10 e R$5 (meia-entrada)\", \"R$10 e R$5 (meia-entrada)\", \"R$10 e R$5 (meia-entrada)\", \"R$15 no local ou antecipados a R$10\", \"R$10 e R$5 (meia-entrada)\", \"R$10 e R$5 (meia-entrada)\", \"R$10 e R$5 (meia-entrada)\", \"Gratuito\", \"R$10 e R$5 (meia-entrada)\", \"R$ 20,00\", \"R$10 e R$5 (meia-entrada)\", \"gratuito\", \"0\", \"R$30\", \"R$30\", \"gratuito\", \"gratuito\", \"gratuito\", \"gratuito\", \"15\", \"gratuito\", \"gratuito\", \"1 kg de alimento ou R$ 5.\", \"1 kg de alimento ou R$ 5.\", \"2\", \"0\", \"Gratuito\", \"Gratuito\", \"0\", null, \"gratuito\", \"gratuito\", \"0\", \"pague quanto puder\", \"pague quanto puder\", \"pague quanto puder\", \"pague quanto puder\", \"pague quanto puder\", \"pague quanto puder\", \"gratuito\", \"gratuito\", \"gratuito\", \"gratuito\", \"gratuito\", \"gratuito\", \"gratuito\", \"30\", \"30\", \"Livre\", \"Livre\", \"Gratuito\", \"20\", \"20\", \"gratuito\", \"gratuito\", \"gratuito\", \"gratuito\", \"gratuito\", \"Gratuito\", \"Gratuito\", \"Gratuito\", null, \"gratuito\", \"gratuito\", \"gratuito\", \"gratuito\", \"gratuito\", \"gratuito\", \"gratuito\", \"gratuito\", \"gratuito\", \"gratuito\", \"gratuito\", \"gratuito\", \"gratuito\", \"gratuito\", \"gratuito\", \"gratuito\", null, \"gratuito\", \"gratuito\", \"gratuito\", \"gratuito\", \"gratuito\", \"gratuito\", \"gratuito\", \"Gratuito\", \"gratuito\", \"gratuito\", \"gratuito\", \"0\", \"gratuito\", \"gratuito\", \"gratuito\", \"Gratuito\", \"Gratuito\", \"Gratuito\", \"Entrada Gratuita.\", \"Entrada Gratuita.\", \"0\", \"0\", \"0\", \"0\", \"0\", \"Gratuito\", \"R$ 20 e R$ 10\", \"R$ 20 e R$ 10\", \"GR\\u00c1TIS\", \"R$ 20 e R$ 10\", \"R$ 20 e R$ 10\", \"R$ 20 e R$ 10\", \"R$ 20 e R$ 10\", \"R$ 20 e R$ 10\", \"R$ 20 e R$ 10\", \"R$ 20 e R$ 10\", \"R$ 20 e R$ 10\", \"R$ 20 e R$ 10\", \"R$ 20 e R$ 10\", \"R$ 20 e R$ 10\", \"R$ 20 e R$ 10\", \"Produtos de limpeza ou de higiene pessoal, que podem ser trocados pelo ingresso, uma hora antes do in\\u00edcio da apresenta\\u00e7\\u00e3o. Lota\\u00e7\\u00e3o limitada.\", \"GR\\u00c1TIS\", \"Ingresso Consciente\", \"Ingresso Consciente\", \"0\", \"R$ 2,00 (inteira) / R$ 1,00 (meia)\", \"R$ 2,00 (inteira) / R$ 1,00 (meia)\", \"Gratuito\", \"Gratuito\", \"Gratuito\", \"Gratuito\", \"Gratuito\", \"Gratuito\", \"Ingresso espont\\u00e2neo - 1 kg de alimento\", \"Gratuito\", \"Gratuito\", \"Gratuito\", \"Gratuito - confirmar presen\\u00e7a pelo App Sesi Cultural\", \"Gratuito\", \"Gratuito\", \"Gratuito - confirmar presen\\u00e7a pelo App Sesi Cultural\", \"Gratuito\", \"1 kg de alimento n\\u00e3o perec\\u00edvel\", \"Gratuito\", \"gratuito\", \"R$ 20,00 inteira e R$10,00 meia\", \"Gratuito\", \"Gratuito\", \"Gratuito\", \"Gratuito\", \"Gratuito\", \"Gratuito\", \"Gratuito\", \"Gratuito\", \"Gratuito\", null, null, null, null, null, \"Gratuito\", \"Gratuito\", \"Gratuito\", \"Gratuito\", \"Gratuito\", \"Gratuito\", \"gratuito\", \"gratuito\", \"gratuito\", \"0\", \"gratuito\", \"Gratuito\", \"Entrada Franca\", \"gratuito\"]}],\n",
       "                        {\"template\": {\"data\": {\"bar\": [{\"error_x\": {\"color\": \"#2a3f5f\"}, \"error_y\": {\"color\": \"#2a3f5f\"}, \"marker\": {\"line\": {\"color\": \"#E5ECF6\", \"width\": 0.5}}, \"type\": \"bar\"}], \"barpolar\": [{\"marker\": {\"line\": {\"color\": \"#E5ECF6\", \"width\": 0.5}}, \"type\": \"barpolar\"}], \"carpet\": [{\"aaxis\": {\"endlinecolor\": \"#2a3f5f\", \"gridcolor\": \"white\", \"linecolor\": \"white\", \"minorgridcolor\": \"white\", \"startlinecolor\": \"#2a3f5f\"}, \"baxis\": {\"endlinecolor\": \"#2a3f5f\", \"gridcolor\": \"white\", \"linecolor\": \"white\", \"minorgridcolor\": \"white\", \"startlinecolor\": \"#2a3f5f\"}, \"type\": \"carpet\"}], \"choropleth\": [{\"colorbar\": {\"outlinewidth\": 0, \"ticks\": \"\"}, \"type\": \"choropleth\"}], \"contour\": [{\"colorbar\": {\"outlinewidth\": 0, \"ticks\": \"\"}, \"colorscale\": [[0.0, \"#0d0887\"], [0.1111111111111111, \"#46039f\"], [0.2222222222222222, \"#7201a8\"], [0.3333333333333333, \"#9c179e\"], [0.4444444444444444, \"#bd3786\"], [0.5555555555555556, \"#d8576b\"], [0.6666666666666666, \"#ed7953\"], [0.7777777777777778, \"#fb9f3a\"], [0.8888888888888888, \"#fdca26\"], [1.0, \"#f0f921\"]], \"type\": \"contour\"}], \"contourcarpet\": [{\"colorbar\": {\"outlinewidth\": 0, \"ticks\": \"\"}, \"type\": \"contourcarpet\"}], \"heatmap\": [{\"colorbar\": {\"outlinewidth\": 0, \"ticks\": \"\"}, \"colorscale\": [[0.0, \"#0d0887\"], [0.1111111111111111, \"#46039f\"], [0.2222222222222222, \"#7201a8\"], [0.3333333333333333, \"#9c179e\"], [0.4444444444444444, \"#bd3786\"], [0.5555555555555556, \"#d8576b\"], [0.6666666666666666, \"#ed7953\"], [0.7777777777777778, \"#fb9f3a\"], [0.8888888888888888, \"#fdca26\"], [1.0, \"#f0f921\"]], \"type\": \"heatmap\"}], \"heatmapgl\": [{\"colorbar\": {\"outlinewidth\": 0, \"ticks\": \"\"}, \"colorscale\": [[0.0, \"#0d0887\"], [0.1111111111111111, \"#46039f\"], [0.2222222222222222, \"#7201a8\"], [0.3333333333333333, \"#9c179e\"], [0.4444444444444444, \"#bd3786\"], [0.5555555555555556, \"#d8576b\"], [0.6666666666666666, \"#ed7953\"], [0.7777777777777778, \"#fb9f3a\"], [0.8888888888888888, \"#fdca26\"], [1.0, \"#f0f921\"]], \"type\": \"heatmapgl\"}], \"histogram\": [{\"marker\": {\"colorbar\": {\"outlinewidth\": 0, \"ticks\": \"\"}}, \"type\": \"histogram\"}], \"histogram2d\": [{\"colorbar\": {\"outlinewidth\": 0, \"ticks\": \"\"}, \"colorscale\": [[0.0, \"#0d0887\"], [0.1111111111111111, \"#46039f\"], [0.2222222222222222, \"#7201a8\"], [0.3333333333333333, \"#9c179e\"], [0.4444444444444444, \"#bd3786\"], [0.5555555555555556, \"#d8576b\"], [0.6666666666666666, \"#ed7953\"], [0.7777777777777778, \"#fb9f3a\"], [0.8888888888888888, \"#fdca26\"], [1.0, \"#f0f921\"]], \"type\": \"histogram2d\"}], \"histogram2dcontour\": [{\"colorbar\": {\"outlinewidth\": 0, \"ticks\": \"\"}, \"colorscale\": [[0.0, \"#0d0887\"], [0.1111111111111111, \"#46039f\"], [0.2222222222222222, \"#7201a8\"], [0.3333333333333333, \"#9c179e\"], [0.4444444444444444, \"#bd3786\"], [0.5555555555555556, \"#d8576b\"], [0.6666666666666666, \"#ed7953\"], [0.7777777777777778, \"#fb9f3a\"], [0.8888888888888888, \"#fdca26\"], [1.0, \"#f0f921\"]], \"type\": \"histogram2dcontour\"}], \"mesh3d\": [{\"colorbar\": {\"outlinewidth\": 0, \"ticks\": \"\"}, \"type\": \"mesh3d\"}], \"parcoords\": [{\"line\": {\"colorbar\": {\"outlinewidth\": 0, \"ticks\": \"\"}}, \"type\": \"parcoords\"}], \"scatter\": [{\"marker\": {\"colorbar\": {\"outlinewidth\": 0, \"ticks\": \"\"}}, \"type\": \"scatter\"}], \"scatter3d\": [{\"line\": {\"colorbar\": {\"outlinewidth\": 0, \"ticks\": \"\"}}, \"marker\": {\"colorbar\": {\"outlinewidth\": 0, \"ticks\": \"\"}}, \"type\": \"scatter3d\"}], \"scattercarpet\": [{\"marker\": {\"colorbar\": {\"outlinewidth\": 0, \"ticks\": \"\"}}, \"type\": \"scattercarpet\"}], \"scattergeo\": [{\"marker\": {\"colorbar\": {\"outlinewidth\": 0, \"ticks\": \"\"}}, \"type\": \"scattergeo\"}], \"scattergl\": [{\"marker\": {\"colorbar\": {\"outlinewidth\": 0, \"ticks\": \"\"}}, \"type\": \"scattergl\"}], \"scattermapbox\": [{\"marker\": {\"colorbar\": {\"outlinewidth\": 0, \"ticks\": \"\"}}, \"type\": \"scattermapbox\"}], \"scatterpolar\": [{\"marker\": {\"colorbar\": {\"outlinewidth\": 0, \"ticks\": \"\"}}, \"type\": \"scatterpolar\"}], \"scatterpolargl\": [{\"marker\": {\"colorbar\": {\"outlinewidth\": 0, \"ticks\": \"\"}}, \"type\": \"scatterpolargl\"}], \"scatterternary\": [{\"marker\": {\"colorbar\": {\"outlinewidth\": 0, \"ticks\": \"\"}}, \"type\": \"scatterternary\"}], \"surface\": [{\"colorbar\": {\"outlinewidth\": 0, \"ticks\": \"\"}, \"colorscale\": [[0.0, \"#0d0887\"], [0.1111111111111111, \"#46039f\"], [0.2222222222222222, \"#7201a8\"], [0.3333333333333333, \"#9c179e\"], [0.4444444444444444, \"#bd3786\"], [0.5555555555555556, \"#d8576b\"], [0.6666666666666666, \"#ed7953\"], [0.7777777777777778, \"#fb9f3a\"], [0.8888888888888888, \"#fdca26\"], [1.0, \"#f0f921\"]], \"type\": \"surface\"}], \"table\": [{\"cells\": {\"fill\": {\"color\": \"#EBF0F8\"}, \"line\": {\"color\": \"white\"}}, \"header\": {\"fill\": {\"color\": \"#C8D4E3\"}, \"line\": {\"color\": \"white\"}}, \"type\": \"table\"}]}, \"layout\": {\"annotationdefaults\": {\"arrowcolor\": \"#2a3f5f\", \"arrowhead\": 0, \"arrowwidth\": 1}, \"colorscale\": {\"diverging\": [[0, \"#8e0152\"], [0.1, \"#c51b7d\"], [0.2, \"#de77ae\"], [0.3, \"#f1b6da\"], [0.4, \"#fde0ef\"], [0.5, \"#f7f7f7\"], [0.6, \"#e6f5d0\"], [0.7, \"#b8e186\"], [0.8, \"#7fbc41\"], [0.9, \"#4d9221\"], [1, \"#276419\"]], \"sequential\": [[0.0, \"#0d0887\"], [0.1111111111111111, \"#46039f\"], [0.2222222222222222, \"#7201a8\"], [0.3333333333333333, \"#9c179e\"], [0.4444444444444444, \"#bd3786\"], [0.5555555555555556, \"#d8576b\"], [0.6666666666666666, \"#ed7953\"], [0.7777777777777778, \"#fb9f3a\"], [0.8888888888888888, \"#fdca26\"], [1.0, \"#f0f921\"]], \"sequentialminus\": [[0.0, \"#0d0887\"], [0.1111111111111111, \"#46039f\"], [0.2222222222222222, \"#7201a8\"], [0.3333333333333333, \"#9c179e\"], [0.4444444444444444, \"#bd3786\"], [0.5555555555555556, \"#d8576b\"], [0.6666666666666666, \"#ed7953\"], [0.7777777777777778, \"#fb9f3a\"], [0.8888888888888888, \"#fdca26\"], [1.0, \"#f0f921\"]]}, \"colorway\": [\"#636efa\", \"#EF553B\", \"#00cc96\", \"#ab63fa\", \"#FFA15A\", \"#19d3f3\", \"#FF6692\", \"#B6E880\", \"#FF97FF\", \"#FECB52\"], \"font\": {\"color\": \"#2a3f5f\"}, \"geo\": {\"bgcolor\": \"white\", \"lakecolor\": \"white\", \"landcolor\": \"#E5ECF6\", \"showlakes\": true, \"showland\": true, \"subunitcolor\": \"white\"}, \"hoverlabel\": {\"align\": \"left\"}, \"hovermode\": \"closest\", \"mapbox\": {\"style\": \"light\"}, \"paper_bgcolor\": \"white\", \"plot_bgcolor\": \"#E5ECF6\", \"polar\": {\"angularaxis\": {\"gridcolor\": \"white\", \"linecolor\": \"white\", \"ticks\": \"\"}, \"bgcolor\": \"#E5ECF6\", \"radialaxis\": {\"gridcolor\": \"white\", \"linecolor\": \"white\", \"ticks\": \"\"}}, \"scene\": {\"xaxis\": {\"backgroundcolor\": \"#E5ECF6\", \"gridcolor\": \"white\", \"gridwidth\": 2, \"linecolor\": \"white\", \"showbackground\": true, \"ticks\": \"\", \"zerolinecolor\": \"white\"}, \"yaxis\": {\"backgroundcolor\": \"#E5ECF6\", \"gridcolor\": \"white\", \"gridwidth\": 2, \"linecolor\": \"white\", \"showbackground\": true, \"ticks\": \"\", \"zerolinecolor\": \"white\"}, \"zaxis\": {\"backgroundcolor\": \"#E5ECF6\", \"gridcolor\": \"white\", \"gridwidth\": 2, \"linecolor\": \"white\", \"showbackground\": true, \"ticks\": \"\", \"zerolinecolor\": \"white\"}}, \"shapedefaults\": {\"line\": {\"color\": \"#2a3f5f\"}}, \"ternary\": {\"aaxis\": {\"gridcolor\": \"white\", \"linecolor\": \"white\", \"ticks\": \"\"}, \"baxis\": {\"gridcolor\": \"white\", \"linecolor\": \"white\", \"ticks\": \"\"}, \"bgcolor\": \"#E5ECF6\", \"caxis\": {\"gridcolor\": \"white\", \"linecolor\": \"white\", \"ticks\": \"\"}}, \"title\": {\"x\": 0.05}, \"xaxis\": {\"automargin\": true, \"gridcolor\": \"white\", \"linecolor\": \"white\", \"ticks\": \"\", \"zerolinecolor\": \"white\", \"zerolinewidth\": 2}, \"yaxis\": {\"automargin\": true, \"gridcolor\": \"white\", \"linecolor\": \"white\", \"ticks\": \"\", \"zerolinecolor\": \"white\", \"zerolinewidth\": 2}}}},\n",
       "                        {\"responsive\": true}\n",
       "                    ).then(function(){\n",
       "                            \n",
       "var gd = document.getElementById('11380526-67ca-4bf4-a943-9e4064df5443');\n",
       "var x = new MutationObserver(function (mutations, observer) {{\n",
       "        var display = window.getComputedStyle(gd).display;\n",
       "        if (!display || display === 'none') {{\n",
       "            console.log([gd, 'removed!']);\n",
       "            Plotly.purge(gd);\n",
       "            observer.disconnect();\n",
       "        }}\n",
       "}});\n",
       "\n",
       "// Listen for the removal of the full notebook cells\n",
       "var notebookContainer = gd.closest('#notebook-container');\n",
       "if (notebookContainer) {{\n",
       "    x.observe(notebookContainer, {childList: true});\n",
       "}}\n",
       "\n",
       "// Listen for the clearing of the current output cell\n",
       "var outputEl = gd.closest('.output');\n",
       "if (outputEl) {{\n",
       "    x.observe(outputEl, {childList: true});\n",
       "}}\n",
       "\n",
       "                        })\n",
       "                };\n",
       "                });\n",
       "            </script>\n",
       "        </div>"
      ]
     },
     "metadata": {},
     "output_type": "display_data"
    }
   ],
   "source": [
    "trace = go.Scatter(x = df_filtrocolunas['Atividade'],\n",
    "                   y = df_filtrocolunas['Preço'],\n",
    "                   mode = 'markers')\n",
    "data = [trace]\n",
    "py.iplot(data)"
   ]
  },
  {
   "cell_type": "markdown",
   "metadata": {},
   "source": [
    "###### Aprimorando seus gráfico\n",
    "Títulos, subtítulos e lasers!\n",
    "Plotly permite que você customize seus gráficos a nível quase atômico. Você pode mudar cores, formas, adicionar títulos, subtítulos, labels e até alterar cores de fundo e fontes (tamanho, família, etc.). Não irei cobrir tudo aqui nesse post, pois daria pra fazer uma coletânea com eles, mas irei pavimentar o caminho para que você explore todas as possibilidades.\n",
    "Primeiro, se quiser saber as coisas que um tipo de gráfico suporta — como o scatter plot — , você pode utilizar o comando go.Scatter().help() para saber os argumentos que ela tem. Você pode fazer isso para todos os gráficos, como go.Pie() ou go.Bar(). Você também pode acessar a documentação do Plotly e investigar, mas já vou avisando que o site de documentação dele é mais feio que bater em mãe.\n",
    "\n",
    "###### Adicionando títulos e rótulos\n",
    "Para adicionar um título ao gráfico acima, nós iremos utilizar mais duas linhas de código. A primeira é a variável layout, que irá abrigar a função go.Layout(). Confira a documentação para ver o que ela suporta. A função Layout suporta argumentos como título e rótulos no eixo X e Y, mas ela vai muito além disso. Através dessa função você pode mudar cores, fonte, tamanho do gráfico e mais uma cacetada de coisas.\n",
    "A segunda variável será fig, que irá armazenar um objeto de figura. Esse objeto é o que será exibido como gráfico, e como argumento você passa os dados que quer plotar e o layout que quer utilizar."
   ]
  },
  {
   "cell_type": "code",
   "execution_count": 28,
   "metadata": {},
   "outputs": [
    {
     "ename": "AttributeError",
     "evalue": "'Scatter' object has no attribute 'help'",
     "output_type": "error",
     "traceback": [
      "\u001b[1;31m---------------------------------------------------------------------------\u001b[0m",
      "\u001b[1;31mAttributeError\u001b[0m                            Traceback (most recent call last)",
      "\u001b[1;32m<ipython-input-28-2ab9a68a9a66>\u001b[0m in \u001b[0;36m<module>\u001b[1;34m\u001b[0m\n\u001b[1;32m----> 1\u001b[1;33m \u001b[0mgo\u001b[0m\u001b[1;33m.\u001b[0m\u001b[0mScatter\u001b[0m\u001b[1;33m(\u001b[0m\u001b[1;33m)\u001b[0m\u001b[1;33m.\u001b[0m\u001b[0mhelp\u001b[0m\u001b[1;33m(\u001b[0m\u001b[1;33m)\u001b[0m\u001b[1;33m\u001b[0m\u001b[1;33m\u001b[0m\u001b[0m\n\u001b[0m",
      "\u001b[1;31mAttributeError\u001b[0m: 'Scatter' object has no attribute 'help'"
     ]
    }
   ],
   "source": [
    "go.Scatter().help()"
   ]
  },
  {
   "cell_type": "code",
   "execution_count": 27,
   "metadata": {},
   "outputs": [
    {
     "data": {
      "application/vnd.plotly.v1+json": {
       "config": {
        "linkText": "Export to plot.ly",
        "plotlyServerURL": "https://plot.ly",
        "showLink": false
       },
       "data": [
        {
         "mode": "markers",
         "type": "scatter",
         "x": [
          "Estreia na Biblioteca",
          "Exposição de Poesias Ilustradas de Valdenir Teles Magalhães",
          "Aulas de Hatha Yoga",
          "Aulas de Hatha Yoga",
          "Círculo de debates sobre o livro \"Quarenta dias\" de Maria Valéria Rezende",
          "Bate-papo sobre o livro \"Comédias para se ler na escola\" de Luis Fernando Veríssimo",
          "Palestra sobre o livro \"Comédias para ser ler na escola\" de Luis Fernando Veríssimo",
          "Contação de história sobre o livro \"Alice no pais das maravilhas\" de Lewis Carroll",
          "Contação de história sobre o livro \"Alice no pais das maravilhas\" de Lewis Carroll",
          "Contação de história sobre o livro \"Alice no pais das maravilhas\" de Lewis Carroll",
          "Contação de história sobre o livro \"Alice no pais das maravilhas\" de Lewis Carroll",
          "CABARÉ DAS MUIÉ",
          "Círculo de Debate sobre o Livro Alguma poesia de Carlos Drummond de Andrade",
          "Exposição Histórica",
          "Exposição Histórica",
          "Palestra sobre o livro \"Clara dos Anjos\" de Lima Barreto",
          "Evento Teste",
          "Campanha leia, doe e troque",
          "Palestra: Busca em bases de dados gratuitas",
          "Roda de conversa: A relevância da leitura para a leitura de mundo, na perspectiva de Paulo Freire",
          "Oficina de produção de fantoches",
          "Palestra: Diretrizes para elaboração de trabalhos acadêmicos segundo estilo Vancouver e APA",
          "Orquestra e Coral Solidariedade Sempre",
          "Orquestra e Coral Solidariedade Sempre",
          "Orquestra e Coral Solidariedade Sempre",
          "Orquestra e Coral Solidariedade Sempre",
          "Orquestra e Coral Solidariedade Sempre",
          "Orquestra e Coral Solidariedade Sempre",
          "Orquestra e Coral Solidariedade Sempre",
          "Orquestra e Coral Solidariedade Sempre",
          "Orquestra e Coral Solidariedade Sempre",
          "Orquestra e Coral Solidariedade Sempre",
          "BRISA - Saraus Artísticos",
          "BRISA - Saraus Artísticos",
          "BRISA - Saraus Artísticos",
          "Apresentações Cadência Sincopada",
          "Apresentações Cadência Sincopada",
          "Apresentações Cadência Sincopada",
          "Apresentações Cadência Sincopada",
          "XXII Salão Nacional de Arte Fotográfica do Foto Clube de Londrina",
          "Contação de história com Gilza Santos ",
          "Femucom - Festival de Música do Comerciário",
          "Lançamento do Livro Sem Travas na Língua",
          "Espetáculo QUAL A GRAÇA DE LAURINDA?",
          "Vikings e o Reino Saqueado",
          "Bailinho do Plantão",
          "Lunavi na FLAPT",
          "Oficina “Pintura em pano de prato”",
          "Dramatização acompanhada com repertório musical",
          "Oficina de Recicláveis: A Escolinha do mar",
          "Oficina “Découpage em sabonete”",
          "Oficina “Máscaras com papel machê”",
          "Cemitério, temporada de oficinas",
          "Ensaio aberto: Tomai a medida do coração humano",
          "Ensaio aberto: Tomai a medida do coração humano",
          "Exposição “Vigve, megme”",
          "Achados Literários",
          "Oficinas Percussivas ILU ODARA",
          "Maracatu Semente de Angola",
          "Assalto Literário no Canto",
          "Assalto Literário, 27 janeiro",
          "Vikings e o Reino Saqueado!",
          "Vikings e o Reino Saqueado!",
          "Sarau:prosa, poesia e outras delícias - batuque e poesia",
          "Pé de Samba",
          "SEMANA DA VISIBILIDADE TRANS",
          "Exposição: \"Violeta e os Seres Imaginários\"",
          "Celebrando a Cultura Rural",
          "Celebrando a Cultura Rural",
          "Celebrando a Cultura Rural",
          "RESGATE DE RUA",
          "RESGATE DE RUA",
          "RESGATE DE RUA",
          "Campeonato de Xadrez Londrinense 2019",
          "Campeonato de Xadrez Londrinense 2019",
          "Campeonato de Xadrez Londrinense 2019",
          "Campeonato de Xadrez Londrinense 2019",
          "Campeonato de Xadrez Londrinense 2019",
          "Campeonato de Xadrez Londrinense 2019",
          "Campeonato de Xadrez Londrinense 2019",
          "Campeonato de Xadrez Londrinense 2019",
          "Campeonato de Xadrez Londrinense 2019",
          "Campeonato de Xadrez Londrinense 2019",
          "Campeonato de Xadrez Londrinense 2019",
          "Espetáculo \"Na Gaveta de Baixo\"",
          "Contação de história sobre o livro \"Onde vivem os monstros\" de Maurice Sendak",
          "Contação de história sobre o livro \"Onde vivem os monstros\" de Maurice Sendak",
          "Contação de história sobre o livro \"Cacoete\" de Eva Furnari",
          "Contação de história sobre o livro \"Cacoete\" de Eva Furnari",
          "Contação de história sobre o livro \"Cacoete\" de Eva Furnari",
          "Oficina de desenhos com o Prof. Paulo Tio",
          "Assalto Literário no Vista Bela",
          "Carnaval 2019 - Ensaios abertos do Bloco Bafo Quente",
          "Carnaval 2019 - Ensaios abertos do Bloco Bafo Quente",
          "Banda Nova - De um Filho, De um Cego | Búfalos D'Água",
          "Reunião com o integrantes do Clube Aventureiros do Amanhecer",
          "Reunião com o integrantes do Clube Aventureiros do Amanhecer",
          "Reunião com o integrantes do Clube Aventureiros do Amanhecer",
          "Reunião com o integrantes do Clube Aventureiros do Amanhecer",
          "Reunião com o integrantes do Clube Aventureiros do Amanhecer",
          "Reunião com o integrantes do Clube Aventureiros do Amanhecer",
          "Reunião com o integrantes do Clube Aventureiros do Amanhecer",
          "Reunião com o integrantes do Clube Aventureiros do Amanhecer",
          "Reunião com o integrantes do Clube Aventureiros do Amanhecer",
          "Reunião com o integrantes do Clube Aventureiros do Amanhecer",
          "Exposição: Conhecendo os autores e suas obras",
          "Sarará Criolo - Circulação e Lançamento de CD",
          "Sarará Criolo - Circulação e Lançamento de CD",
          "Sarará Criolo - Circulação e Lançamento de CD",
          "Sarará Criolo - Circulação e Lançamento de CD",
          "Sarará Criolo - Circulação e Lançamento de CD",
          "Cacoete - Eva Furnari",
          "Cacoete - Eva Furnari",
          "Contação de história",
          "Transtornada Eu",
          "Bailinho do Plantão",
          "Bailinho do Plantão",
          "Bailinho do Plantão",
          "Bailinho do Plantão",
          "Bailinho do Plantão",
          "Bailinho do Plantão",
          "Bailinho do Plantão",
          "Bailinho do Plantão",
          "Bailinho do Plantão",
          "Bailinho do Plantão",
          "Bailinho do Plantão",
          "\"Chapeuzinho Vermelho” – Irmãos Grimm",
          "Oficina - A dança da Palhaça",
          "Oficina - Palhaçaria na Visão Feminina",
          "Oficina - Objeto e Cena",
          "Oficina - Mulheres Gozadas",
          "Oficina - “Meu corpo cômico: dilatando risos”",
          "Oficina - Jogos Lúdicos",
          "Espetáculo: \"Vagarosa\"",
          "Espetáculo: \"Que Festa é essa criatura?\"",
          "Espetáculo: \"Ao Ponto\"",
          "Espetáculo “Malagueta Dorminhoca”",
          "Espetáculo: Plano nº 269",
          "Oficina \"Microconto: um vasto pequeno mundo\", com Cláudia Bergamini",
          "Oficina \"Microconto: um vasto pequeno mundo\", com Cláudia Bergamini",
          "Pré Carnaval",
          "Matinê de Carnaval na ALMA",
          "SÉRIE PALCOS MUSICAIS 2019 - ABERTURA DA TEMPORADA",
          "MEXE QUE É BOM!",
          "Dia do Bibliotecário: O Gestor Cultural e as ações de produção e incentivo à leitura",
          "Mostra Fotográfica \"Minha Beleza Pura\"",
          "Mostra Fotográfica \"Minha Beleza Pura\"",
          "Celebrando a Cultura Rural",
          "Celebrando a Cultura Rural",
          "CONEXÕES HÍBRIDAS E MEMÓRIAS MARGINAIS",
          "CONEXÕES HÍBRIDAS E MEMÓRIAS MARGINAIS",
          "Feirão da Resistência e da Reforma Agrária | Especial 8M",
          "Projeto Balaio de Gato",
          "OSUEL COMEMORA 35 ANOS",
          "Múltiplo Leminski",
          "Múltiplo Leminski",
          "Múltiplo Leminski",
          "Múltiplo Leminski",
          "Múltiplo Leminski",
          "Múltiplo Leminski",
          "Múltiplo Leminski",
          "Múltiplo Leminski",
          "OFICINA DE TEATRO PARA MULHERES",
          "OFICINA DE TEATRO PARA MULHERES",
          "OFICINA DE TEATRO PARA MULHERES",
          "OFICINA DE TEATRO PARA MULHERES",
          "Sarauzinho, Londrix 15 anos",
          "Triolé apresenta: O ZELADOR",
          "Palestra e bate-papo sobre o livro \"Vozes anoitecidas de Mia Couto\"",
          "Contação de histórias sobre o livro \"Chapeuzinho Vermelho\" - Irmãos Grimm",
          "Contação de histórias sobre o livro \"Chapeuzinho Vermelho\" - Irmãos Grimm",
          "Contação de histórias sobre o livro \"Chapeuzinho Vermelho\" - Irmãos Grimm",
          "Contação de histórias sobre o livro \"Chapeuzinho Vermelho\" - Irmãos Grimm",
          "Banda Nova - Sincopaduo | David Mour",
          "Banda Nova - Octopus Trio | Aminoácido",
          "Sarará Criolo - Lançamento do CD",
          "MEQUETREFE CIRCO SHOW",
          "ARTE TRANSFORMAÇÃO NA EDUCAÇÃO INFANTIL",
          "OFICINA DE PINTURA E DESENHO COM TINTAS NATURAIS",
          "BRINCANDO COM ARGILA",
          "BRINCANDO COM ARGILA",
          "Exposição \"Welcome\"",
          "Contação de história",
          "Lançamento: luas, de Júlia Rocha e Gustavo Galo",
          "A RUA E AS CRIANÇAS.",
          "IDOSOS NO HIP- HOP",
          "ORQUESTRA BARROCA CAPRICCIO STRAVAGANTE APRESENTA ÓPERA THÉSÉE, DIA 30",
          "Capoeira Senzala",
          "Contação de histórias sobre o livro \"Viagem ao Céu\" de Monteiro Lobato",
          "Contação de histórias sobre o livro \"Viagem ao Céu\" de Monteiro Lobato",
          "Contação de histórias sobre o livro \"Viagem ao Céu\" de Monteiro Lobato",
          "Contação de histórias sobre o livro \"Viagem ao Céu\" de Monteiro Lobato",
          "Exposição Grude + Fachada Nova",
          "6º EVENTO DE CAPOEIRA DE ANGOLA AECAJP - CECA - PERNAMBUÉS SSA-BA MESTRE CIRO",
          "Projeto Vivenciando a música na melhor idade",
          "Projeto Vivenciando a Música na Melhor Idade",
          "Projeto Vivenciando a Música na Melhor Idade",
          "Projeto Vivenciando a Música na melhor idade",
          "Bravi com Allice Tirolla, Fabricio Martins e Elthon Dias",
          "Musicalizando e dançando para a vida",
          "Toques e danças brasileiras",
          "Novas apresentações de Transtornada Eu",
          "Novas apresentações de Transtornada Eu",
          "PROARTE",
          "Viagem ao Céu - Monteiro Lobato",
          "Uma Coleção Futurologista ( The Best of Mr.Chao )",
          "Uma Coleção Futurologista ( The Best of Mr.Chao )",
          "Uma Coleção Futurologista ( The Best of Mr.Chao )",
          "Uma Coleção Futurologista ( The Best of Mr.Chao )",
          "Exposição \"Mundo encantado de Lobato\"",
          "Contação de História",
          "Oficina de artes",
          "Alice no País das Maravilhas” – Lewis Caroll",
          "CONCERTO DE PÁSCOA",
          "Quizomba Re-Existe!",
          "Oficina Quizomba de Bumba-meu-Boi",
          "Oficina Quizomba de Bumba-meu-Boi",
          "Oficina Quizomba de Bumba-meu-Boi",
          "Palco AlmA Londrina 2019",
          "Palco AlmA Londrina 2019",
          "Sarau Flapt - O Corpo Que Luta O Corpo Que Dança",
          "Transtornada Eu na Alma",
          "Transtornada Eu na Alma",
          "Transtornada Eu na Alma",
          "Por Um X",
          "Por Um X",
          "Por Um X",
          "Por Um X",
          "Por Um X",
          "Por Um X",
          "Por Um X",
          "Por Um X",
          "Por Um X",
          "Por Um X",
          "Feirão da Resistência e da Reforma Agrária",
          "17ª Semana Nacional de Museus",
          "17ª Semana Nacional de Museus",
          "17ª Semana Nacional de Museus",
          "17ª Semana Nacional de Museus",
          "17ª Semana Nacional de Museus",
          "17ª Semana Nacional de Museus",
          "17ª Semana Nacional de Museus",
          "17ª Semana Nacional de Museus",
          "Oficina de Cerâmica",
          "Meu coração de Polaco voltou",
          "1º Encontro Cidadania e Leis Federais de Incentivo",
          "Samba do Sereno",
          "Poéticas de Terra e Céu",
          "Espetáculo Transtornada Eu na Flapt",
          "Pint Of Science 2019 Londrina Pr.",
          "Oficina de orientação dos Editais nº 01 e 02/2019 - Projetos Culturais Estratégicos",
          "Exposição \"Mês da Família: um elo de Amor\"",
          "Contação da história “Histórias de Lepe e Sep: 2 corações pulsantes\"",
          "VIII MOSTRA DE MÚSICA DE CÂMARA - concertos comemorativos - CONCERTO PARA CRIANÇAS",
          "Contação da história “Alice no País das Maravilhas”",
          "Mostra fotográfica “Minha Beleza Pura”",
          "Oficina de Artes “Alice no País das Maravilhas”",
          "As marcas no corpo",
          "4ª Etapa de Renovação do Comitê Gestor da Salvaguarda da Capoeira no Paraná",
          "As marcas no corpo",
          "Festival Cultural",
          "Festival Cultural",
          "Festival Cultural",
          "BIZARRIA",
          "BIZARRIA",
          "BIZARRIA",
          "BIZARRIA",
          "BIZARRIA",
          "BIZARRIA",
          "Orquestra Intermediária Bravi",
          "Semana do Café 2019",
          "PROJETO MUSICANDO NA ESCOLA",
          "Aulas de Capoeira",
          "Círculo de debates do livro \"Clara dos anjos\" de Lima Barreto",
          "Palestra sobre o livro \"O filho eterno\" de Cristovão Tezza",
          "Círculo de debates sobre o livro \"O filho eterno\" de Cristovão Tezza",
          "METAIS IN CONCERT",
          "Exposição: Literatura em quadrinhos e mangás",
          "Poéticas de Terra e Céu",
          "PROARTE - AULA ESPECIAL CAPTAÇÃO LEIS DE INCENTIVO",
          "Brincando com Luz e Sombra",
          "Espetáculo: Palhaça Sola",
          "Espetáculo: O Pássaro Azul",
          "Espetáculo: O Pássaro Azul",
          "QUE FESTA É ESSA, CRIATURA?",
          "Oficina de desenhos sobre o livro \"Onde vivem os monstros\"",
          "Oficina de desenhos sobre o livro \"Onde vivem os monstros\"",
          "Oficina de desenhos sobre o livro \"Onde vivem os monstros\"",
          "Oficina “Dramaturgia de Palhaç@”",
          "Performance e Exposição Fotográfica \"Por Elas\"",
          "Festa Junina AFC",
          "Cabaré o Show",
          "VI Festival Cultural Arraia da Integração.",
          "VI Festival Cultural Arraia da Integração.",
          "VI Festival Cultural Arraia da Integração.",
          "CONCERTO DE SÃO JOÃO",
          "Viagem Longa, Grana Curta",
          "Viagem Longa, Grana Curta",
          "Viagem Longa, Grana Curta",
          "Viagem Longa, Grana Curta",
          "Viagem Longa, Grana Curta",
          "Viagem Longa, Grana Curta",
          "Viagem Longa, Grana Curta",
          "Viagem Longa, Grana Curta",
          "Viagem Longa, Grana Curta",
          "Viagem Longa, Grana Curta",
          "Apresentação do primeiro Intercâmbio Artístico \"Grazzi Ellas Transitando\" em Londrina.",
          "Apresentação do primeiro Intercâmbio Artístico \"Grazzi Ellas Transitando\" em Londrina.",
          "O Pássaro Azul",
          "O Pássaro Azul",
          "Palestra Concertante com Alfredo Moura",
          "LONDRINA, CULTURA EM RETRATOS",
          "Audiências Públicas de Cultura 2019",
          "Novos Cronistas Londrix - lançamento do livro",
          "Lançamento Projeto Jovens Escritores",
          "Revista Sossego em Londrina + Show com Entidade Perdida",
          "OSUEL E DUO CLAVIS",
          "CONCERTO COLOR RHETORICUS – ANO I",
          "Jogue como uma garota",
          "Jogue como uma garota 18/06",
          "Bizarria: substantivo feminino, boa postura",
          "Londrinoise Segunda Edição",
          "Festa Julina Lar Anália Franco",
          "Contação de história",
          "Circulação \"Que Festa É Essa, Criatura?\" EUBOBASE",
          "Balada de um palhaço",
          "Balada de um palhaço",
          "Oficina de artes",
          "ARRIGO BARNABÉ – QUERO QUE VÁ TUDO PRO INFERNO",
          "No fim da Infância",
          "Clássicos Infantis: uma hora cheia de histórias",
          "OFICINA DE TEATRO PARA CRIANÇAS",
          "OFICINA DE TEATRO PARA CRIANÇAS",
          "OFICINA DE TEATRO PARA CRIANÇAS",
          "OFICINA DE TEATRO PARA CRIANÇAS",
          "Oficina De Maracatu - Semente de Angola",
          "Trovadores do Miocárdio",
          "Trovadores do miorcárdio",
          "Trovadores do miorcárdio",
          "Ensaio Escola municipal Hikoma Udihara",
          "Ensaio Escola municipal Hikoma Udihara",
          "Ensaio Escola municipal Hikoma Udihara",
          "Ensaio Escola municipal Hikoma Udihara",
          "Morte e Vida Severina",
          "Morte e Vida Severina",
          "Morte e Vida Severina Espetáculo Cênico- Musical.",
          "Palestra sobre o Livro Alguma poesia de Carlos Drummond de Andrade",
          "Onde Vivem os Monstros",
          "Que Festa É Essa, Criatura?",
          "Que Festa É Essa, Criatura?",
          "Que Festa É Essa, Criatura?",
          "Oficina Light Painting",
          "Oficina de desenhos tridimensionais e articulados",
          "FESTA JULINA BENEFICENTE 2019",
          "Pé de Samba 06 de julho",
          "Balada de um palhaço",
          "Balada de um palhaço",
          "Festival Internacional de Música de Londrina - Edição 39",
          "Contação de histórias",
          "Encontro de Gigantes",
          "Encontro de Gigantes",
          "Encontro de Gigantes",
          "Encontro de Gigantes",
          "Encontro de Gigantes",
          "Exposição de livros \"Ruth Rocha\"",
          "3 dias com Leonardo da Vinci",
          "Quizomba + FML - Música fora do centro!",
          "Abertura do 5º ENCOM - Encontro Nacional de Composição Musical",
          "Abertura Solene do 39° Festival Internacional de Música de Londrina",
          "Abertura Solene do 39° Festival Internacional de Música de Londrina",
          "5º ENCOM - Encontro Nacional de Composição Musical",
          "Encerramento do 5o ENCOM - Encontro Nacional de Composição Musical",
          "OSUEL – Orquestra Sinfônica da Universidade Estadual de Londrina",
          "Trio Paranaense",
          "Dia Mundial do Rock",
          "Ivo Pessoa Trio",
          "Show “Xodós”",
          "Allan Manhas Recital de Piano",
          "Música Fora de Centro",
          "Samba do Sereno",
          "Morte e Vida Severina",
          "Iroko Trio",
          "TRÊS Orquestras. UM Encontro",
          "Forró Caviúna",
          "Show André Mehmari Trio",
          "Toninho Ferragutti & Salomão, Duo Acordeon e Piano",
          "André Siqueira Quarteto",
          "Roda De Conversa André Mehmari Trio",
          "Risorama Londrina",
          "Tricantumconto",
          "Sarau: prosa, poesia e outras delícias",
          "Sarau: prosa, poesia & outras delícias",
          "Risorama Londrina",
          "Circulação Espetáculo \"Que Festa É Essa, Criatura?\" Calçadão de Londrina",
          "Circulação Espetáculo \"Que Festa É Essa, Criatura?\" Aterro do Lago Igapó",
          "Viva o Barroco! Bach e Vivaldi",
          "La Bella Voce",
          "Andrea dos Guimarães e João Paulo Amaral",
          "Iroko Trio",
          "Água de Moringa, Grupo de Choro",
          "Duo Violino e Piano",
          "Violão em Cena",
          "Orquestra Solidariedade Sempre",
          "ECM 50",
          "All That Jazz/MPB",
          "Banda Sinfônica da FAETEC - Marechal Hermes",
          "Passeata da Alegria",
          "FLûnkY",
          "Abacate Contemporâneo",
          "Iluminuras",
          "Cortejo Grupo Grupo de Percussão da Universidade Federal de Pelotas - PEPEU",
          "Encerramento do Curso de Coro de Música Popular",
          "Encerramento do Curso de Técnica Vocal e Interpretação na Canção Popular",
          "Encerramento da Prática de MPB e Jazz",
          "Encerramento da Oficina da Banda de Garagem",
          "Senhor Bonifácio",
          "C. Saint Saëns - Carnaval dos Animais",
          "Concerto Open Air",
          "Show de Danças e Evolução da Terceira Idade",
          "Banda Mustav",
          "Grupo de Percussão da Universidade Federal de Pelotas - Pepeu",
          "La Bella Voce II",
          "Exibição do documentário",
          "Gala dos Professores",
          "Duo Policarpo",
          "Concerto de Encerramento",
          "Retratos de Maria",
          "Viva Elis",
          "Concerto de Encerramento",
          "David Mour",
          "Z - as imagens são palavras que sumiram",
          "Maestro por um dia",
          "EXPOSIÇÃO LOBATIANDO",
          "O C T O P O D E",
          "Palestra sobre o livro: Poemas escolhidos de Gregório de Matos",
          "Um bourbon para Faulkner",
          "Espetáculo: \"Subs-Solos\"",
          "OFICINA DE CIRCO PARA CRIANÇAS",
          "OFICINA DE CIRCO PARA CRIANÇAS",
          "OFICINA DE CIRCO PARA CRIANÇAS",
          "ArraiAlma",
          "B.BOY",
          "B.BOY",
          "Contação de histórias sobre o livro \"O pequeno príncipe\"",
          "Contação de histórias sobre o livro \"O pequeno príncipe\"",
          "Contação de histórias sobre o livro \"O pequeno príncipe\"",
          "Campanha de Doação de Livros",
          "Exposição de Poesias em Homenagem ao Dia do Escritor",
          "11° Abraço no Lago pela Paz",
          "CONVITE: Venha Inaugurar o Totem do DADO DE CULTURA DE PAZ",
          "Livro Londrina Pazeando 2019",
          "Exposição de livros em Homenagem ao Dia Nacional do Escritor",
          "Pinóquio",
          "Très Affecté",
          "Show Instrumental Balaio de Gato",
          "Oficina de escrita criativa",
          "PROARTE: Aula Especial - Programação Cultural - Marcos Henrique Rego - RJ",
          "BRINCADEIRAS CANTADAS",
          "Espetáculo: “O Mar do Tempo Perdido”",
          "Espetáculo: “O Mar do Tempo Perdido”",
          "Um Bourbon para Faulkner",
          "História da Arte do Renascimento Italiano",
          "Feijoada Do Coletivo De Educação Popular Paulo Freire",
          "MARACATU DE BAQUE VIRADO",
          "Estreia do filme \"Leste Oeste\"",
          "IX Conferência Municipal de Cultura",
          "IX Conferência Municipal de Cultura",
          "IX Conferência Municipal de Cultura",
          "IX Conferência Municipal de Cultura",
          "Palco AlmA Londrina 2019 - 2ª edição",
          "Dez mãos e um piano - PianOrquestra",
          "Lançamento do Hackathon de Economia criativa",
          "Exposição de livros e revistas em homenagem ao Dia do Estudante",
          "Oficina de Percussão Brasileira",
          "Yoga para Mulheres",
          "Cemitério em festa",
          "ANDRÉ SIQUEIRA TRIO & DUO CLAVIS CONVIDAM TONINHO FERRAGUTTI",
          "OSUEL – DO BARROCO AO SÉCULO XX",
          "Círculo de debates sobre o livro \"Poemas escolhidos de Gregório de Matos\"",
          "OFICINA: Mulheres Gozadas",
          "Espetáculo - Que Festa é essa, Criatura?",
          "Abertura FILO 50+1",
          "Festival Internacional de Londrina",
          "Festival Internacional de Londrina",
          "Festival Internacional de Londrina",
          "Contação de história",
          "Chega de Saudade",
          "Tecituras de nós: dimensões possíveis",
          "AlmA do Samba",
          "Palestra sobre o livro \"O demônio familiar\" de José de Alencar",
          "Exposição Máscaras dos INVISÍVEIS",
          "BANDA MARCIAL MARCELINO CHAMPAGNAT CONVIDA DERICO PARA CONCERTO",
          "O Caipira e o Causo do Capiroto",
          "O Caipira e o Causo do Capiroto",
          "13ª Primavera dos Museus",
          "13ª Primavera dos Museus",
          "SEMANA DE ARTES CÊNICAS",
          "Calejadas Memórias",
          "Circulação Espetáculo \"Que Festa É Essa, Criatura?\" Vila Triolé Cultural",
          "CONCERTO DA ORQUESTRA BARROCA CAPRICCIO STRAVAGANTE",
          "EXPOSIÇÃO LUSOFONIAS",
          "PROCURE A MENINA COM O SOL EM SEUS OLHOS",
          "Bate-papo sobre o livro \"O demônio familiar\"",
          "O Caipira e o Causo do Capiroto",
          "As marcas no corpo",
          "As marcas no corpo",
          "AutoEscavo",
          "Orquestra Acadêmica Bravi",
          "AutoEscavo",
          "Exposição POR ELAS",
          "Circulação Espetáculo \"Que Festa É Essa, Criatura?\" Praça Nishinomiya",
          "Anatomia do espaço-lugar, de Margarida Holler",
          "Lançamento: Porque Eu Odeio, de Claude McKay",
          "Estreia da peça \"Terra Desmedida\"",
          "Estreia da peça \"Terra Desmedida\"",
          "Estreia da peça \"Terra Desmedida\"",
          "IX Conferência de Cultura da Cidade de Londrina",
          "IX Conferência de Cultura da Cidade de Londrina",
          "Palestra sobre o livro \"A hora da estrela\" de Clarice Lispector",
          "ARTE TRANSFORMAÇÃO",
          "Contação da história \"Chapeuzinho vermelho\"",
          "Exposição Por Elas no Canto do MARL",
          "Exposição Por Elas no Canto do MARL",
          "Exposição Por Elas no Canto do MARL",
          "ARTE TRANSFORMAÇÃO",
          "ARTE TRANSFORMAÇÃO",
          "Poesia e revolução",
          "“FAMÍLIA BACH E PIAZZOLLA”",
          "\"Terra Desmedida\" na Flapt",
          "\"Terra Desmedida\" retorna ao Canto do MARL",
          "\"Terra Desmedida\" retorna ao Canto do MARL",
          "\"Terra Desmedida\" retorna ao Canto do MARL",
          "Londrina terá Tributo a BON JOVI",
          "Londrina terá Tributo a BON JOVI",
          "BREXOTA!",
          "Exposição “Semana da Paz”",
          "Exposição “Semana da Paz”",
          "Exposição “Semana da Paz”",
          "Exposição “Semana da Paz”",
          "Exposição “Semana da Paz”",
          "Exposição “Semana da Paz”",
          "Dia Mundial sem Carro",
          "Little London Festival",
          "Trio Harmonitango apresenta \"Uma noite com música de Piazzolla\"",
          "Trio Harmonitango apresenta \"Uma noite com música de Piazzolla\"",
          "ACARAXÉ",
          "2º Encontro Feminino de capoeira - Muruca2019",
          "UMA ORQUESTRA NAS ESCOLAS - ORQUESTRA DE CÂMARA SOLISTAS DE LONDRINA",
          "Encontro sobre Gestão Cultural com Dane de Jade - CE",
          "Lançamento Projeto \"Triolé fora da estrada no Norte Pioneiro\"",
          "Lançamento Projeto \"Triolé fora da estrada no Norte Pioneiro\"",
          "Lançamento Projeto \"Triolé fora da estrada no Norte Pioneiro\"",
          "Lançamento Projeto \"Triolé fora da estrada no Norte Pioneiro\"",
          "Contação da história \"Pollyanna\"",
          "Pollyanna – Eleanor Porter",
          "Pollyanna – Eleanor Porter",
          "Orquestra Acadêmica Bravi",
          "Oficina de Hip-hop Dance",
          "Dia da Sergipe - 8ª Edição",
          "CHRISTIANE TORLONI COMO MARIA CALLAS EM \"MASTER CLASS\"",
          "Que Festa É Essa, Criatura?",
          "Meta For Mosa",
          "Mostra temática itinerante \"Minha beleza pura\"",
          "Mostra temática itinerante \"Minha beleza pura\"",
          "Mostra temática \"Abstratos da reflexão missional\"",
          "Exposição Varal de Cordel",
          "Exposição de Revistas especiais",
          "O Caipira e o causo do Capiroto",
          "Aquário gigante",
          "Aquário gigante",
          "Espetáculo A Sagração da Primavera",
          "Espetáculo Travessia",
          "ARTE E TRANSFORMAÇÃO",
          "META FOR MOSA",
          "Exposição Poeta Alice",
          "Espetáculo Instagrimm",
          "Espetáculo Há Mais Futuro Que Passado",
          "Espetáculo Teia",
          "Espetáculo Teia",
          "Espetáculo Relações",
          "Espetáculo [H3O]mens",
          "Espetáculo Terror e Miséria no Terceiro Milênio - Improvisando Utopias",
          "Espetáculo Atelier de Criação",
          "Espetáculo KA-F-KA",
          "Espetáculo Dança Londrina",
          "Espetáculo Pulse(s)",
          "Espetáculo Bailinho do Plantão",
          "Espetáculo Estou sem silêncio",
          "Oficina: A dança e a criança",
          "Espetáculo Empty Floor",
          "Palestra sobre o Livro Amor de Perdição de Camilo Castelo Branco",
          "Oficinas de futebol de botão ",
          "Oficina Análise Ativa e Criação de Études",
          "Oficina Empty Body (Corpo Vazio) - Dança Meditativa",
          "Exposição Fotográfica Paraná de Orlando Azevedo",
          "Exposição de Livros que viraram filmes",
          "Distribuição de desenhos",
          "Diálogo motivacional sobre a leitura nas várias fases da vida",
          "Palestra - \"Atendimento ao público feito de forma humanizada: gênero, diversidade e direitos humanos\"",
          "Oficina de poesia metafórica",
          "Contação de histórias para alunos adolescentes do CEPAS Santiago",
          "Palco AlmA Londrina 2019",
          "Palco AlmA Londrina 2019",
          "O Caipira e o Causo do Capiroto",
          "Show do Bita",
          "À-Deus (FACES DE lONDRINA)",
          "Recital de Violão",
          "Palestra: Livros sobre temas supremos e existenciais: morte, solidão, desejo e sexualidade. A importância de lermos e conversarmos com as crianças sobre temas universais e profundos.",
          "Bravi - Orquestras Juvenis e Grupos Intermediários",
          "Apresentação do livro: \"O mágico japonês\"",
          "Oficina de Poesia Metafórica",
          "Semana do Dia das Crianças",
          "PRET(A) conta Dandara",
          "PRET(A) conta Dandara",
          "PRET(A) conta Dandara",
          "PRET(A) conta Dandara",
          "PRET(A) conta Dandara",
          "PRET(A) conta Dandara",
          "Contação de histórias para alunos do fundamental II do Colégio Múltipla Escolha",
          "Contação e oficina de artes \"Viagens de Gulliver\"",
          "Conexão cidadã",
          "Ta...lentos musicais",
          "Oficina de Poesia Metafórica",
          "IX Mostra de Música de Câmara com Solistas de Londrina",
          "Contação de histórias e Oficina de artes “Viagens de Gulliver”",
          "2º Little London Festival",
          "2º Little London Festival",
          "Viagens de Gulliver",
          "Histórias para Acordar - Eva Furnari",
          "À-Deus",
          "Palestra: “Obras especiais e raras em bibliotecas universitárias”",
          "Palestra: “Obras especiais e raras em bibliotecas universitárias”",
          "Oficina de Poesia Metafórica",
          "Contação da estória “Histórias de um livro aberto”",
          "Oficina de contação de histórias: recursos e estratégias",
          "Oficina de contação de histórias: recursos e estratégias",
          "Livro na Praça CEU",
          "À- Deus",
          "À-Deus",
          "Sarau de Abertura - BRISA",
          "Sarau de Abertura - BRISA",
          "Oficina de pequenos reparos",
          "LEVE. É SEU!",
          "OFICINA DE POESIA METAFÓRICA",
          "IV Feira de Livros",
          "Exposição “Biblioteca UniFil de 1972 aos dias atuais” cartazes e equipamentos utilizados ao longo do tempo",
          "“Mostra de fotografias sobre as Bibliotecas do UniFil” Cartazes com informações sobre a estrutura e acervo de cada biblioteca",
          "Palestra “Como publicar sem custo um livro pela plataforma Amazon”",
          "Palestra “Revista Terra e Cultura, um periódico multidisciplinar”",
          "Oficina “Uma introdução ao software Mendeley para organização e citação das suas referências”",
          "Palestra: “Como estruturar a pesquisa para TCC, na base de dados Bireme”",
          "Palestra “A história do livro”",
          "Banca da Ciranda!",
          "Palestra de abertura: “Desenvolver mediadores para a formação de leitores”",
          "Palestra “Narrativas do sítio e a arte de ouvir histórias”, com Dr. Léo Pires Ferreira",
          "Lançamento do livro “A Menina e a Planta”, de Márcia Paganini com ilustração de Andréia Vieira",
          "Filme-Debate “O Segredo De Eleonor”",
          "Exposição Por Elas",
          "Conversa-Oficina “Contar Histórias para reinventar mundos”",
          "Palestra “Temas supremos e existenciais: morte, solidão, desejo e sexualidade no imaginário infantil”, com Luis Henrique Mioto",
          "Debate “As políticas públicas, as leis de incentivo e o papel do mercado na formação de leitores”",
          "Palestra de encerramento “Contar para transformar”",
          "Sarau Primaveral das Artes",
          "Oficina de \"não-escrita\" criativa",
          "Encontro sobre Poesia e Sonoridade",
          "BRISA Te Convida: \"Balada de um Palhaço\"",
          "Exposição: “Só os TOPs: livros de literatura infantil e infantojuvenil premiados”",
          "Contação de Histórias com Flávia Harue",
          "Contação de histórias e Oficina de artes “O mágico japonês” com Paulo Tio",
          "Wing’s St. James 2019",
          "ARTE- TRANSFORMAÇÃO",
          "Oficina de Origami com Origamito San",
          "Oficina de Origami com Origamito San",
          "Festival de Graffiti",
          "Festival de Graffiti",
          "Festival de Graffiti",
          "\"Terra Desmedida\" se apresenta no Conservatório das Artes",
          "\"Terra Desmedida\" se apresenta no Cemitério de Automóveis",
          "IXa MOSTRA DE MÚSICA DE CÂMARA “CONCERTOS LONDRINA”",
          "IXa MOSTRA DE MÚSICA DE CÂMARA “CONCERTOS LONDRINA”",
          "IXa MOSTRA DE MÚSICA DE CÂMARA “CONCERTOS LONDRINA”",
          "IXa MOSTRA DE MÚSICA DE CÂMARA “CONCERTOS LONDRINA”",
          "IXa MOSTRA DE MÚSICA DE CÂMARA “CONCERTOS LONDRINA”",
          "Conexão Cidadã",
          "FILO 50+1 - MOSTRA NACIONAL DE ARTES CÊNICAS",
          "FILO 50+1 - MOSTRA NACIONAL DE ARTES CÊNICAS",
          "FILO 50+1 - MOSTRA NACIONAL DE ARTES CÊNICAS",
          "FILO 50+1 - MOSTRA NACIONAL DE ARTES CÊNICAS",
          "FILO 50+1 - MOSTRA NACIONAL DE ARTES CÊNICAS",
          "FILO 50+1 - MOSTRA NACIONAL DE ARTES CÊNICAS",
          "FILO 50+1 - MOSTRA NACIONAL DE ARTES CÊNICAS",
          "FILO 50+1 - MOSTRA NACIONAL DE ARTES CÊNICAS",
          "FILO 50+1 - MOSTRA NACIONAL DE ARTES CÊNICAS",
          "FILO 50+1 - MOSTRA NACIONAL DE ARTES CÊNICAS",
          "FILO 50+1 - MOSTRA NACIONAL DE ARTES CÊNICAS",
          "FILO 50+1 - MOSTRA NACIONAL DE ARTES CÊNICAS",
          "FILO 50+1 - MOSTRA NACIONAL DE ARTES CÊNICAS",
          "FILO 50+1 - MOSTRA NACIONAL DE ARTES CÊNICAS",
          "FILO 50+1 - MOSTRA NACIONAL DE ARTES CÊNICAS",
          "FILO 50+1 - MOSTRA NACIONAL DE ARTES CÊNICAS",
          "FILO 50+1 - MOSTRA NACIONAL DE ARTES CÊNICAS",
          "Sou mulher e não serei outra coisa",
          "Sou mulher e não serei outra coisa",
          "Exposição Polícia Rodoviária Federal",
          "O Caipira e o Causo do Capiroto",
          "O Caipira e o Causo do Capiroto",
          "SAIAS",
          "SAIAS",
          "SAIAS",
          "Espetáculo Saias na Flapt",
          "Quizomba de Aniversário - Zerão na graça de Oxum",
          "\"COMETZ, BOHEMIAN RHAPSODY \"",
          "Projeto Cordas brasileiras",
          "SESSÃO KINOPUS Especial",
          "SESSÃO KINOPUS Especial",
          "SESSÃO KINOPUS Especial",
          "Lab Doc com o cineasta Paulo Sacramento",
          "SESSÃO KINOPUS Especial",
          "OFICINA Craft - ARTE E NATUREZA",
          "PITCHING do Núcleo de dramaturgia Audiovisual",
          "BICHO DO MATO",
          "GRUPOS ORQUESTRAIS BRAVI",
          "PIANO EM FOCO",
          "Entrega do Projeto 25 Anos do Museu de Arte de Londrina",
          "Acordeon Universal Festival com João Pedro Teixeira",
          "Clube de Leitura: A Caixa-Preta, de Amós Oz",
          "LerÇ: Contação de História e Oficina para crianças",
          "LerÇ: Contação de História e Oficina para crianças",
          "CineClube de Terça: O Cidadão Ilustre (Arg, 2016)",
          "Clube de Leitura Plurais: Quem tem medo do feminismo negro, de Djamila Ribeiro",
          "Lançamento: As Reinações de Emilia, de Cassia Leslie",
          "Lançamento e autógrafos com Amilcar Bettega",
          "Café com Quê?: O rock no Brasil na década de 80 e suas relações sociais, com Manuel Inácio",
          "Exposição \"Resgate\", de Cassio Kessler",
          "Espetáculo SaiaS",
          "Espetáculo SaiaS",
          "Espetáculo SaiaS",
          "Espetáculo SaiaS",
          "Espetáculo SaiaS",
          "Espetáculo SaiaS",
          "Espetáculo Saias",
          "Espetáculo SAIAS",
          "Espetáculo SAIAS",
          "Espetáculo SAIAS",
          "Espetáculo SAIAS",
          "Espetáculo \"PLANO 269\"",
          "Espetáculo \"PLANO 269\"",
          "Literatura pra quê?",
          "Achados Literários",
          "Contação de histórias sobre o livro \"Super-heróis em apuros\"",
          "Contação da história \"Sítio do Picapau Amarelo\"",
          "50 ANOS BANDA MARCIAL MARCELINO CHAMPAGNAT",
          "Arte-Transformação na Educação Infantil"
         ],
         "y": [
          "Livro e Literatura",
          "Livro e Literatura",
          "Curso ou Oficina",
          "Curso ou Oficina",
          "Livro e Literatura, Palestra, Debate ou Encontro",
          "Palestra, Debate ou Encontro, Livro e Literatura",
          "Palestra, Debate ou Encontro, Livro e Literatura",
          "Livro e Literatura",
          "Livro e Literatura",
          "Livro e Literatura",
          "Livro e Literatura",
          "Artes Circenses",
          "Palestra, Debate ou Encontro, Livro e Literatura",
          "Exposi??o",
          "Exposi??o",
          "Livro e Literatura, Palestra, Debate ou Encontro",
          "Cultura Digital",
          "Outros, Livro e Literatura",
          "Palestra, Debate ou Encontro",
          "Livro e Literatura, Palestra, Debate ou Encontro",
          "Livro e Literatura",
          "Palestra, Debate ou Encontro",
          "M?sica Popular, M?sica Erudita",
          "M?sica Popular, M?sica Erudita",
          "M?sica Popular, M?sica Erudita",
          "M?sica Popular, M?sica Erudita",
          "M?sica Popular, M?sica Erudita",
          "M?sica Popular, M?sica Erudita",
          "M?sica Popular, M?sica Erudita",
          "M?sica Popular, M?sica Erudita",
          "M?sica Popular, M?sica Erudita",
          "M?sica Popular, M?sica Erudita",
          "Hip Hop, Curso ou Oficina, M?sica Popular, Palestra, Debate ou Encontro, Teatro, Livro e Literatura",
          "Hip Hop, Curso ou Oficina, M?sica Popular, Palestra, Debate ou Encontro, Teatro, Livro e Literatura",
          "Hip Hop, Curso ou Oficina, M?sica Popular, Palestra, Debate ou Encontro, Teatro, Livro e Literatura",
          "M?sica Popular",
          "M?sica Popular",
          "M?sica Popular",
          "M?sica Popular",
          "Artes Visuais, Exposi??o",
          "Artes Integradas",
          "Artes Integradas",
          "Livro e Literatura",
          "Teatro, Artes Circenses",
          "Teatro, Artes Circenses",
          "M?sica Popular, Teatro, Artes Circenses",
          "Teatro",
          "Artes Visuais",
          "M?sica Popular, Livro e Literatura",
          "Artes Visuais, Livro e Literatura",
          "Artes Visuais",
          "Artes Visuais",
          "Artes Integradas",
          "Dan?a, Teatro",
          "Dan?a, Teatro",
          "Cultura Ind?gena, Audiovisual, Livro e Literatura, Artes Visuais",
          "Livro e Literatura",
          "Curso ou Oficina, M?sica Popular",
          "Palestra, Debate ou Encontro, M?sica Popular",
          "Artes Integradas",
          "Artes Integradas",
          "Teatro, Artes Circenses",
          "Teatro, Artes Circenses",
          "Livro e Literatura",
          "M?sica Popular",
          "Palestra, Debate ou Encontro",
          "Exposi??o",
          "Cultura Tradicional",
          "Cultura Tradicional",
          "Cultura Tradicional",
          "Hip Hop",
          "Hip Hop",
          "Hip Hop",
          "Outros",
          "Outros",
          "Outros",
          "Outros",
          "Outros",
          "Outros",
          "Outros",
          "Outros",
          "Outros",
          "Outros",
          "Outros",
          "Dan?a, Teatro",
          "Livro e Literatura",
          "Livro e Literatura",
          "Livro e Literatura",
          "Livro e Literatura",
          "Livro e Literatura",
          "Artes Visuais",
          "Artes Integradas",
          "M?sica Popular, Dan?a, Artes Integradas",
          "M?sica Popular, Dan?a, Artes Integradas",
          "M?sica Popular",
          "Palestra, Debate ou Encontro",
          "Palestra, Debate ou Encontro",
          "Palestra, Debate ou Encontro",
          "Palestra, Debate ou Encontro",
          "Palestra, Debate ou Encontro",
          "Palestra, Debate ou Encontro",
          "Palestra, Debate ou Encontro",
          "Palestra, Debate ou Encontro",
          "Palestra, Debate ou Encontro",
          "Palestra, Debate ou Encontro",
          "Exposi??o, Livro e Literatura",
          "M?sica Popular",
          "M?sica Popular",
          "M?sica Popular",
          "M?sica Popular",
          "M?sica Popular",
          "Livro e Literatura",
          "Livro e Literatura",
          "Artes Visuais, Livro e Literatura",
          "Teatro",
          "Teatro, Artes Circenses, M?sica Popular, Artes Integradas",
          "Teatro, Artes Circenses, M?sica Popular, Artes Integradas",
          "Teatro, Artes Circenses, M?sica Popular, Artes Integradas",
          "Teatro, Artes Circenses, M?sica Popular, Artes Integradas",
          "Teatro, Artes Circenses, M?sica Popular, Artes Integradas",
          "Teatro, Artes Circenses, M?sica Popular, Artes Integradas",
          "Teatro, Artes Circenses, M?sica Popular, Artes Integradas",
          "Teatro, Artes Circenses, M?sica Popular, Artes Integradas",
          "Teatro, Artes Circenses, M?sica Popular, Artes Integradas",
          "Teatro, Artes Circenses, M?sica Popular, Artes Integradas",
          "Teatro, Artes Circenses, M?sica Popular, Artes Integradas",
          "Livro e Literatura",
          "Artes Circenses, Dan?a",
          "Artes Circenses",
          "Artes Circenses",
          "Artes Circenses",
          "Artes Circenses",
          "Artes Circenses",
          "Artes Circenses",
          "Artes Circenses",
          "Artes Circenses",
          "Artes Circenses",
          "Artes Circenses",
          "Palestra, Debate ou Encontro, Livro e Literatura, Curso ou Oficina",
          "Palestra, Debate ou Encontro, Livro e Literatura, Curso ou Oficina",
          "Cultura Tradicional",
          "Cultura Tradicional, M?sica Popular, Artes Integradas",
          "M?sica Erudita",
          "Artes Integradas",
          "Livro e Literatura, Palestra, Debate ou Encontro",
          "Exposi??o, Artes Visuais",
          "Exposi??o, Artes Visuais",
          "Outros, Cultura Tradicional, M?sica Popular",
          "Outros, Cultura Tradicional, M?sica Popular",
          "Curso ou Oficina, Palestra, Debate ou Encontro, Dan?a, Artes Integradas, Artes Visuais, Teatro, Outros",
          "Curso ou Oficina, Palestra, Debate ou Encontro, Dan?a, Artes Integradas, Artes Visuais, Teatro, Outros",
          "M?sica Popular, Artes Visuais, Artes Integradas, Artes Circenses",
          "M?sica Popular",
          "M?sica Erudita",
          "Artes Visuais",
          "Artes Visuais",
          "Artes Visuais",
          "Artes Visuais",
          "Artes Visuais",
          "Artes Visuais",
          "Artes Visuais",
          "Artes Visuais",
          "Outros, Palestra, Debate ou Encontro, Curso ou Oficina, Artes Visuais, Artes Integradas, Dan?a, Teatro",
          "Outros, Palestra, Debate ou Encontro, Curso ou Oficina, Artes Visuais, Artes Integradas, Dan?a, Teatro",
          "Outros, Palestra, Debate ou Encontro, Curso ou Oficina, Artes Visuais, Artes Integradas, Dan?a, Teatro",
          "Outros, Palestra, Debate ou Encontro, Curso ou Oficina, Artes Visuais, Artes Integradas, Dan?a, Teatro",
          "Artes Integradas",
          "Teatro, Artes Circenses",
          "Livro e Literatura, Palestra, Debate ou Encontro",
          "Livro e Literatura",
          "Livro e Literatura",
          "Livro e Literatura",
          "Livro e Literatura",
          "M?sica Popular",
          "M?sica Popular",
          "M?sica Popular",
          "Teatro, Artes Circenses",
          "Exposi??o, Curso ou Oficina, Artes Visuais, Artes Integradas",
          "Curso ou Oficina, Artes Visuais, Artes Integradas",
          "Curso ou Oficina, Artes Visuais, Artes Integradas",
          "Curso ou Oficina, Artes Visuais, Artes Integradas",
          "Livro e Literatura",
          "Artes Visuais, Livro e Literatura",
          "M?sica Popular, Livro e Literatura",
          "Dan?a, Hip Hop",
          "Dan?a, Hip Hop",
          "M?sica Erudita",
          "Artes Integradas, Dan?a, M?sica Popular, Cultura Tradicional",
          "Livro e Literatura",
          "Livro e Literatura",
          "Livro e Literatura",
          "Livro e Literatura",
          "Exposi??o, Artes Visuais",
          "Outros",
          "M?sica Popular",
          "M?sica Popular",
          "M?sica Popular",
          "M?sica Popular",
          "M?sica Popular, M?sica Erudita",
          "Dan?a, M?sica Popular, M?sica Erudita",
          "M?sica Popular, Dan?a, Artes Integradas, Cultura Tradicional",
          "Teatro",
          "Teatro",
          "Artes Integradas, Palestra, Debate ou Encontro, Curso ou Oficina",
          "Livro e Literatura",
          "Artes Visuais",
          "Artes Visuais",
          "Artes Visuais",
          "Artes Visuais",
          "Livro e Literatura",
          "Livro e Literatura",
          "Artes Visuais, Livro e Literatura",
          "Livro e Literatura",
          "M?sica Erudita",
          "M?sica Popular, Cultura Ind?gena, Cultura Tradicional",
          "M?sica Popular, Artes Integradas, Cultura Ind?gena, Cultura Tradicional",
          "M?sica Popular, Artes Integradas, Cultura Ind?gena, Cultura Tradicional",
          "M?sica Popular, Artes Integradas, Cultura Ind?gena, Cultura Tradicional",
          "Outros",
          "Outros",
          "Curso ou Oficina, Artes Integradas, Hip Hop, Dan?a",
          "Teatro",
          "Teatro",
          "Teatro",
          "Teatro",
          "Teatro",
          "Teatro",
          "Teatro",
          "Teatro",
          "Teatro",
          "Teatro",
          "Teatro",
          "Teatro",
          "Teatro",
          "Artes Visuais, Artes Circenses, Artes Integradas, Teatro, Cultura Digital, Cultura Tradicional",
          "Exposi??o, Palestra, Debate ou Encontro, Cultura Tradicional",
          "Exposi??o, Palestra, Debate ou Encontro, Cultura Tradicional",
          "Exposi??o, Palestra, Debate ou Encontro, Cultura Tradicional",
          "Exposi??o, Palestra, Debate ou Encontro, Cultura Tradicional",
          "Exposi??o, Palestra, Debate ou Encontro, Cultura Tradicional",
          "Exposi??o, Palestra, Debate ou Encontro, Cultura Tradicional",
          "Exposi??o, Palestra, Debate ou Encontro, Cultura Tradicional",
          "Exposi??o, Palestra, Debate ou Encontro, Cultura Tradicional",
          "Curso ou Oficina, Artes Visuais",
          "Exposi??o",
          "Palestra, Debate ou Encontro",
          "M?sica Popular",
          "Livro e Literatura, Teatro",
          "Teatro",
          "Palestra, Debate ou Encontro",
          "Curso ou Oficina",
          "Livro e Literatura",
          "Artes Visuais, Livro e Literatura",
          "M?sica Erudita",
          "Artes Visuais, Livro e Literatura",
          "Artes Visuais",
          "Artes Visuais, Livro e Literatura",
          "Palestra, Debate ou Encontro, Dan?a, Teatro",
          "Artes Visuais, Palestra, Debate ou Encontro, Exposi??o",
          "Palestra, Debate ou Encontro, Dan?a, Teatro",
          "Cultura Tradicional, Palestra, Debate ou Encontro",
          "Cultura Tradicional, Palestra, Debate ou Encontro",
          "Cultura Tradicional, Palestra, Debate ou Encontro",
          "Artes Integradas, Dan?a, Artes Visuais, Teatro",
          "Artes Integradas, Dan?a, Artes Visuais, Teatro",
          "Artes Integradas, Dan?a, Artes Visuais, Teatro",
          "Artes Integradas, Dan?a, Artes Visuais, Teatro",
          "Artes Integradas, Dan?a, Artes Visuais, Teatro",
          "Artes Integradas, Dan?a, Artes Visuais, Teatro",
          "M?sica Popular, M?sica Erudita",
          "Audiovisual, M?sica Popular, Curso ou Oficina",
          "M?sica Erudita",
          "Cultura Tradicional",
          "Palestra, Debate ou Encontro, Livro e Literatura",
          "Livro e Literatura, Palestra, Debate ou Encontro",
          "Palestra, Debate ou Encontro, Livro e Literatura",
          "M?sica Erudita",
          "Outros",
          "Livro e Literatura, Teatro",
          "Artes Integradas, Palestra, Debate ou Encontro, Curso ou Oficina",
          "Curso ou Oficina, Artes Integradas",
          "Teatro",
          "Teatro",
          "Teatro",
          "Artes Circenses",
          "Artes Visuais",
          "Artes Visuais",
          "Artes Visuais",
          "Curso ou Oficina, Teatro",
          "Artes Integradas, Exposi??o, Artes Visuais",
          "Cultura Tradicional",
          "Artes Circenses",
          "M?sica Popular, Dan?a, Cultura Tradicional",
          "M?sica Popular, Dan?a, Cultura Tradicional",
          "M?sica Popular, Dan?a, Cultura Tradicional",
          "M?sica Popular, M?sica Erudita",
          "Artes Circenses",
          "Artes Circenses",
          "Artes Circenses",
          "Artes Circenses",
          "Artes Circenses",
          "Artes Circenses",
          "Artes Circenses",
          "Artes Circenses",
          "Artes Circenses",
          "Artes Circenses",
          "Teatro",
          "Teatro",
          "Teatro",
          "Teatro",
          "Cultura Tradicional, Palestra, Debate ou Encontro, M?sica Erudita, M?sica Popular",
          "Exposi??o",
          "Palestra, Debate ou Encontro",
          "Livro e Literatura",
          "Livro e Literatura",
          "M?sica Popular, Livro e Literatura",
          "M?sica Erudita",
          "M?sica Erudita",
          "M?sica Popular, Cultura Tradicional",
          "Palestra, Debate ou Encontro, Cultura Tradicional, M?sica Popular",
          "Artes Integradas, Teatro",
          "Artes Integradas, M?sica Popular",
          "Cultura Tradicional",
          "Livro e Literatura",
          "Teatro",
          "Teatro",
          "Teatro",
          "Livro e Literatura",
          "M?sica Popular",
          "Livro e Literatura",
          "Livro e Literatura",
          "Curso ou Oficina, Teatro",
          "Curso ou Oficina, Teatro",
          "Curso ou Oficina, Teatro",
          "Curso ou Oficina, Teatro",
          "Cultura Tradicional, M?sica Popular",
          "Livro e Literatura",
          "Livro e Literatura",
          "Livro e Literatura",
          "M?sica Popular, M?sica Erudita",
          "M?sica Popular, M?sica Erudita",
          "M?sica Popular, M?sica Erudita",
          "M?sica Popular, M?sica Erudita",
          "Livro e Literatura, Teatro, M?sica Popular",
          "Livro e Literatura, Teatro, M?sica Popular",
          "M?sica Erudita, Teatro, Cultura Tradicional",
          "Livro e Literatura",
          "Livro e Literatura",
          "Artes Circenses, Teatro",
          "Teatro",
          "Teatro",
          "Curso ou Oficina",
          "Livro e Literatura, Artes Visuais",
          "Cultura Tradicional",
          "Cultura Tradicional",
          "Teatro",
          "Teatro",
          "M?sica Erudita",
          "Livro e Literatura",
          "Curso ou Oficina, Artes Integradas",
          "Curso ou Oficina, Artes Integradas",
          "Curso ou Oficina, Artes Integradas",
          "Curso ou Oficina, Artes Integradas",
          "Curso ou Oficina, Artes Integradas",
          "Livro e Literatura",
          "Artes Visuais, Curso ou Oficina",
          "Outros, M?sica Popular, Cultura Tradicional",
          "M?sica Erudita",
          "M?sica Erudita",
          "M?sica Erudita",
          "M?sica Erudita",
          "M?sica Erudita",
          "M?sica Erudita",
          "M?sica Erudita",
          "M?sica Popular",
          "M?sica Popular",
          "M?sica Popular",
          "M?sica Erudita",
          "M?sica Popular",
          "M?sica Popular",
          "M?sica Popular",
          "M?sica Erudita",
          "M?sica Erudita",
          "M?sica Popular",
          "M?sica Popular",
          "M?sica Popular",
          "M?sica Popular",
          "Palestra, Debate ou Encontro",
          "Outros",
          "M?sica Popular, Artes Circenses, Teatro",
          "Livro e Literatura",
          "Artes Integradas",
          "Outros",
          "Teatro",
          "Teatro",
          "M?sica Erudita",
          "M?sica Erudita",
          "M?sica Popular",
          "M?sica Popular",
          "M?sica Popular",
          "M?sica Erudita",
          "M?sica Erudita",
          "M?sica Erudita",
          "M?sica Erudita",
          "M?sica Popular",
          "M?sica Popular, Livro e Literatura",
          "M?sica Erudita",
          "M?sica Popular",
          "M?sica Popular",
          "M?sica Erudita",
          "M?sica Popular",
          "M?sica Popular",
          "M?sica Popular",
          "M?sica Popular",
          "M?sica Popular",
          "M?sica Popular",
          "M?sica Erudita",
          "M?sica Erudita",
          "M?sica Popular",
          "M?sica Popular",
          "M?sica Popular",
          "M?sica Erudita",
          "M?sica Popular, Cinema",
          "M?sica Erudita",
          "M?sica Popular",
          "M?sica Erudita",
          "M?sica Erudita",
          "M?sica Popular",
          "M?sica Erudita",
          "M?sica Popular",
          "M?sica Popular, Teatro",
          "M?sica Erudita",
          "Exposi??o",
          "M?sica Popular",
          "Palestra, Debate ou Encontro, Livro e Literatura",
          "Teatro",
          "Teatro, Artes Circenses",
          "Curso ou Oficina, Artes Circenses, Teatro",
          "Curso ou Oficina, Teatro, Artes Circenses",
          "Curso ou Oficina, Teatro, Artes Circenses",
          "Cultura Tradicional, Artes Integradas, M?sica Popular",
          "Dan?a, Hip Hop",
          "Dan?a, Hip Hop",
          "Livro e Literatura",
          "Livro e Literatura",
          "Livro e Literatura",
          "Livro e Literatura",
          "Livro e Literatura, Exposi??o",
          "Cultura Tradicional",
          "Cultura Tradicional",
          "Cultura Tradicional",
          "Exposi??o",
          "Teatro",
          "M?sica Erudita",
          "Outros, M?sica Popular",
          "Curso ou Oficina",
          "Artes Integradas, Artes Circenses, Teatro, Palestra, Debate ou Encontro, Curso ou Oficina",
          "Curso ou Oficina, M?sica Popular, Artes Integradas",
          "Teatro",
          "Teatro",
          "Livro e Literatura, Teatro",
          "Curso ou Oficina, Artes Visuais",
          "M?sica Popular",
          "M?sica Popular, Cultura Tradicional",
          "Audiovisual, M?sica Popular, Cinema",
          "Artes Integradas",
          "Artes Integradas",
          "Artes Integradas",
          "Artes Integradas",
          "R?dio, Outros, Hip Hop, Cultura Digital, Artes Integradas, M?sica Popular",
          "M?sica Popular, M?sica Erudita",
          "Outros",
          "Livro e Literatura, Exposi??o",
          "M?sica Popular, Cultura Tradicional",
          "M?sica Popular, Cultura Tradicional",
          "Artes Integradas",
          "M?sica Popular",
          "M?sica Erudita",
          "Palestra, Debate ou Encontro, Livro e Literatura",
          "Artes Circenses, Curso ou Oficina",
          "Teatro, Artes Circenses",
          "Teatro",
          "Outros, Livro e Literatura, M?sica Popular, Curso ou Oficina, Teatro, Artes Circenses",
          "Outros, Livro e Literatura, M?sica Popular, Curso ou Oficina, Teatro, Artes Circenses",
          "Outros, Livro e Literatura, M?sica Popular, Curso ou Oficina, Teatro, Artes Circenses",
          "Artes Visuais, Livro e Literatura",
          "Teatro, M?sica Popular",
          "Curso ou Oficina",
          "Cultura Tradicional, M?sica Popular",
          "Palestra, Debate ou Encontro, Livro e Literatura",
          "Exposi??o, Artes Visuais",
          "M?sica Erudita",
          "Teatro, M?sica Popular",
          "Teatro, M?sica Popular",
          "Outros, Exposi??o, Cultura Tradicional, Artes Visuais, Palestra, Debate ou Encontro",
          "Outros, Exposi??o, Cultura Tradicional, Artes Visuais, Palestra, Debate ou Encontro",
          "Teatro",
          "Livro e Literatura",
          "Teatro",
          "M?sica Popular",
          "Exposi??o",
          "Teatro",
          "Palestra, Debate ou Encontro, Livro e Literatura",
          "M?sica Popular, Teatro",
          "Palestra, Debate ou Encontro, Dan?a, Artes Visuais, Artes Integradas, Teatro",
          "Palestra, Debate ou Encontro, Dan?a, Artes Visuais, Artes Integradas, Teatro",
          "Outros, Dan?a, Cultura Tradicional, Teatro",
          "M?sica Erudita, M?sica Popular",
          "Cultura Tradicional, Dan?a, Teatro",
          "Exposi??o",
          "Teatro",
          "M?sica Popular, Artes Visuais",
          "Livro e Literatura",
          "Teatro",
          "Teatro",
          "Teatro",
          "R?dio, Outros, Exposi??o, Curso ou Oficina, Cultura Digital, Audiovisual, Artes Integradas, Teatro, Palestra, Debate ou Encontro, M?sica Popular, M?sica Erudita, Livro e Literatura, Hip Hop, Dan?a, Cultura Tradicional, Cultura Ind?gena, Cinema, Artes Visuais, Artes Circenses",
          "R?dio, Outros, Exposi??o, Curso ou Oficina, Cultura Digital, Audiovisual, Artes Integradas, Teatro, Palestra, Debate ou Encontro, M?sica Popular, M?sica Erudita, Livro e Literatura, Hip Hop, Dan?a, Cultura Tradicional, Cultura Ind?gena, Cinema, Artes Visuais, Artes Circenses",
          "Palestra, Debate ou Encontro, Livro e Literatura",
          "Curso ou Oficina, Artes Integradas",
          "Livro e Literatura",
          "Exposi??o",
          "Exposi??o",
          "Exposi??o",
          "Curso ou Oficina, Cultura Tradicional, Artes Integradas",
          "Curso ou Oficina, Cultura Tradicional, Artes Integradas",
          "Livro e Literatura",
          "M?sica Erudita",
          "Teatro",
          "Teatro",
          "Teatro",
          "Teatro",
          "Outros",
          "Outros",
          "Palestra, Debate ou Encontro",
          "Outros, Artes Visuais",
          "Outros, Artes Visuais",
          "Outros, Artes Visuais",
          "Outros, Artes Visuais",
          "Outros, Artes Visuais",
          "Outros, Artes Visuais",
          "Outros, M?sica Popular, Dan?a, Artes Visuais, Artes Circenses",
          "M?sica Popular, Dan?a, Outros",
          "M?sica Erudita",
          "M?sica Erudita",
          "Teatro, Artes Integradas, Dan?a, M?sica Popular, Cultura Tradicional",
          "M?sica Popular, Curso ou Oficina, Cultura Tradicional",
          "M?sica Erudita",
          "Artes Integradas, Palestra, Debate ou Encontro",
          "Artes Circenses, Teatro",
          "Artes Circenses, Teatro",
          "Artes Circenses, Teatro",
          "Artes Circenses, Teatro",
          "Artes Visuais, Livro e Literatura",
          "Livro e Literatura",
          "Livro e Literatura",
          "Teatro, M?sica Popular, M?sica Erudita",
          "Dan?a",
          "Exposi??o, Dan?a, Artes Integradas, Artes Visuais, M?sica Popular",
          "M?sica Erudita",
          "Artes Circenses, Teatro",
          "Artes Circenses, Teatro",
          "Exposi??o",
          "Exposi??o",
          "Artes Visuais",
          "Livro e Literatura, Exposi??o",
          "Exposi??o",
          "Teatro, M?sica Popular",
          "Outros",
          "Outros",
          "Artes Integradas, Teatro, Dan?a",
          "Artes Integradas, Teatro, Dan?a",
          "Dan?a",
          "Teatro, Artes Circenses",
          "Livro e Literatura",
          "Teatro, Dan?a, Artes Integradas",
          "Teatro, Dan?a, Artes Integradas",
          "Teatro, Artes Integradas, Dan?a",
          "Teatro, Artes Integradas, Dan?a",
          "Teatro, Artes Integradas, Dan?a",
          "Teatro, Dan?a, Artes Integradas",
          "Teatro, Dan?a, Hip Hop, Artes Integradas",
          "Teatro, Dan?a, Artes Integradas",
          "Teatro, Dan?a, Artes Integradas",
          "Teatro, Artes Integradas, Dan?a",
          "Teatro, Artes Integradas, Dan?a",
          "M?sica Popular, Teatro, Dan?a, Artes Integradas",
          "Teatro, Dan?a, Artes Integradas",
          "Curso ou Oficina, Dan?a",
          "Artes Integradas, Teatro, Dan?a",
          "Palestra, Debate ou Encontro, Livro e Literatura",
          "Outros",
          "Artes Integradas, Teatro, Dan?a, Curso ou Oficina",
          "Artes Integradas, Teatro, Dan?a, Curso ou Oficina",
          "Exposi??o",
          "Cinema, Livro e Literatura",
          "Outros",
          "Palestra, Debate ou Encontro",
          "Palestra, Debate ou Encontro",
          "Curso ou Oficina, Livro e Literatura",
          "Livro e Literatura",
          "Artes Integradas, Dan?a, Hip Hop, Artes Visuais, M?sica Popular",
          "Artes Integradas, Dan?a, Hip Hop, Artes Visuais, M?sica Popular",
          "Artes Integradas",
          "Outros",
          "Dan?a",
          "M?sica Popular",
          "Livro e Literatura",
          "M?sica Popular, M?sica Erudita",
          "Livro e Literatura",
          "Livro e Literatura, Curso ou Oficina",
          "Teatro, Outros, Cinema, Artes Integradas, Cultura Digital, Audiovisual, Artes Visuais",
          "Teatro",
          "Teatro",
          "Teatro",
          "Teatro",
          "Teatro",
          "Teatro",
          "Livro e Literatura",
          "Livro e Literatura",
          "Outros, M?sica Popular, Teatro, Artes Visuais, Artes Circenses",
          "M?sica Popular",
          "Livro e Literatura, Curso ou Oficina",
          "M?sica Erudita",
          "Curso ou Oficina, Livro e Literatura",
          "Outros, Dan?a, Cultura Digital, Artes Visuais",
          "Outros, Dan?a, Cultura Digital, Artes Visuais",
          "Livro e Literatura",
          "Livro e Literatura",
          "Dan?a",
          "Palestra, Debate ou Encontro",
          "Palestra, Debate ou Encontro",
          "Curso ou Oficina",
          "Livro e Literatura",
          "Curso ou Oficina",
          "Curso ou Oficina",
          "Livro e Literatura",
          "Dan?a",
          "Dan?a",
          "Artes Visuais, Artes Circenses, Teatro",
          "Artes Visuais, Artes Circenses, Teatro",
          "Curso ou Oficina",
          "Livro e Literatura",
          "Livro e Literatura",
          "Livro e Literatura",
          "Exposi??o",
          "Exposi??o",
          "Livro e Literatura",
          "Palestra, Debate ou Encontro",
          "Outros",
          "Palestra, Debate ou Encontro",
          "Livro e Literatura, Palestra, Debate ou Encontro",
          "Livro e Literatura",
          "Palestra, Debate ou Encontro",
          "Palestra, Debate ou Encontro, Livro e Literatura",
          "Livro e Literatura",
          "Palestra, Debate ou Encontro, Cinema",
          "Exposi??o",
          "Curso ou Oficina",
          "Palestra, Debate ou Encontro",
          "Palestra, Debate ou Encontro",
          "Palestra, Debate ou Encontro, Livro e Literatura",
          "Livro e Literatura, Artes Visuais, Dan?a, Cinema, M?sica Popular, Teatro",
          "Outros",
          "Outros",
          "Teatro",
          "Livro e Literatura, Exposi??o",
          "Livro e Literatura",
          "Livro e Literatura",
          "Outros",
          "Palestra, Debate ou Encontro, Exposi??o",
          "Curso ou Oficina",
          "Curso ou Oficina",
          "Exposi??o, Hip Hop, Artes Visuais",
          "Exposi??o, Hip Hop, Artes Visuais",
          "Exposi??o, Hip Hop, Artes Visuais",
          "Teatro",
          "Teatro",
          "M?sica Erudita",
          "M?sica Erudita",
          "M?sica Erudita",
          "M?sica Erudita",
          "M?sica Erudita",
          "Artes Integradas",
          "Curso ou Oficina, M?sica Popular, Artes Circenses, Teatro",
          "Curso ou Oficina, M?sica Popular, Artes Circenses, Teatro",
          "Curso ou Oficina, M?sica Popular, Artes Circenses, Teatro",
          "Curso ou Oficina, M?sica Popular, Artes Circenses, Teatro",
          "Curso ou Oficina, M?sica Popular, Artes Circenses, Teatro",
          "Curso ou Oficina, M?sica Popular, Artes Circenses, Teatro",
          "Curso ou Oficina, M?sica Popular, Artes Circenses, Teatro",
          "Curso ou Oficina, M?sica Popular, Artes Circenses, Teatro",
          "Curso ou Oficina, M?sica Popular, Artes Circenses, Teatro",
          "Curso ou Oficina, M?sica Popular, Artes Circenses, Teatro",
          "Curso ou Oficina, M?sica Popular, Artes Circenses, Teatro",
          "Curso ou Oficina, M?sica Popular, Artes Circenses, Teatro",
          "Curso ou Oficina, M?sica Popular, Artes Circenses, Teatro",
          "Curso ou Oficina, M?sica Popular, Artes Circenses, Teatro",
          "Curso ou Oficina, M?sica Popular, Artes Circenses, Teatro",
          "Curso ou Oficina, M?sica Popular, Artes Circenses, Teatro",
          "Curso ou Oficina, M?sica Popular, Artes Circenses, Teatro",
          "Teatro",
          "Teatro",
          "Exposi??o",
          "Teatro, M?sica Popular",
          "Teatro, M?sica Popular",
          "Teatro",
          "Teatro",
          "Teatro",
          "Teatro",
          "M?sica Popular, Cultura Tradicional",
          "M?sica Popular",
          "M?sica Popular",
          "Cinema",
          "Cinema",
          "Cinema",
          "Cinema",
          "Cinema",
          "Artes Visuais",
          "Cinema",
          "M?sica Popular",
          "M?sica Erudita",
          "M?sica Erudita",
          "Exposi??o",
          "M?sica Popular",
          "Livro e Literatura, Palestra, Debate ou Encontro",
          "Artes Integradas, Curso ou Oficina, Livro e Literatura",
          "Artes Integradas, Curso ou Oficina, Livro e Literatura",
          "Palestra, Debate ou Encontro, Cinema",
          "Palestra, Debate ou Encontro, Livro e Literatura",
          "Palestra, Debate ou Encontro, Livro e Literatura",
          "Palestra, Debate ou Encontro, Livro e Literatura",
          "Palestra, Debate ou Encontro, M?sica Popular, Livro e Literatura",
          "Artes Visuais, Palestra, Debate ou Encontro, Exposi??o",
          "Teatro",
          "Teatro",
          "Teatro",
          "Teatro",
          "Teatro",
          "Teatro",
          "Teatro",
          "Teatro",
          "Teatro",
          "Teatro",
          "Teatro",
          "Teatro",
          "Teatro",
          "Livro e Literatura",
          "Livro e Literatura",
          "Livro e Literatura",
          "Livro e Literatura",
          "M?sica Popular",
          "Exposi??o, Audiovisual"
         ]
        }
       ],
       "layout": {
        "template": {
         "data": {
          "bar": [
           {
            "error_x": {
             "color": "#2a3f5f"
            },
            "error_y": {
             "color": "#2a3f5f"
            },
            "marker": {
             "line": {
              "color": "#E5ECF6",
              "width": 0.5
             }
            },
            "type": "bar"
           }
          ],
          "barpolar": [
           {
            "marker": {
             "line": {
              "color": "#E5ECF6",
              "width": 0.5
             }
            },
            "type": "barpolar"
           }
          ],
          "carpet": [
           {
            "aaxis": {
             "endlinecolor": "#2a3f5f",
             "gridcolor": "white",
             "linecolor": "white",
             "minorgridcolor": "white",
             "startlinecolor": "#2a3f5f"
            },
            "baxis": {
             "endlinecolor": "#2a3f5f",
             "gridcolor": "white",
             "linecolor": "white",
             "minorgridcolor": "white",
             "startlinecolor": "#2a3f5f"
            },
            "type": "carpet"
           }
          ],
          "choropleth": [
           {
            "colorbar": {
             "outlinewidth": 0,
             "ticks": ""
            },
            "type": "choropleth"
           }
          ],
          "contour": [
           {
            "colorbar": {
             "outlinewidth": 0,
             "ticks": ""
            },
            "colorscale": [
             [
              0,
              "#0d0887"
             ],
             [
              0.1111111111111111,
              "#46039f"
             ],
             [
              0.2222222222222222,
              "#7201a8"
             ],
             [
              0.3333333333333333,
              "#9c179e"
             ],
             [
              0.4444444444444444,
              "#bd3786"
             ],
             [
              0.5555555555555556,
              "#d8576b"
             ],
             [
              0.6666666666666666,
              "#ed7953"
             ],
             [
              0.7777777777777778,
              "#fb9f3a"
             ],
             [
              0.8888888888888888,
              "#fdca26"
             ],
             [
              1,
              "#f0f921"
             ]
            ],
            "type": "contour"
           }
          ],
          "contourcarpet": [
           {
            "colorbar": {
             "outlinewidth": 0,
             "ticks": ""
            },
            "type": "contourcarpet"
           }
          ],
          "heatmap": [
           {
            "colorbar": {
             "outlinewidth": 0,
             "ticks": ""
            },
            "colorscale": [
             [
              0,
              "#0d0887"
             ],
             [
              0.1111111111111111,
              "#46039f"
             ],
             [
              0.2222222222222222,
              "#7201a8"
             ],
             [
              0.3333333333333333,
              "#9c179e"
             ],
             [
              0.4444444444444444,
              "#bd3786"
             ],
             [
              0.5555555555555556,
              "#d8576b"
             ],
             [
              0.6666666666666666,
              "#ed7953"
             ],
             [
              0.7777777777777778,
              "#fb9f3a"
             ],
             [
              0.8888888888888888,
              "#fdca26"
             ],
             [
              1,
              "#f0f921"
             ]
            ],
            "type": "heatmap"
           }
          ],
          "heatmapgl": [
           {
            "colorbar": {
             "outlinewidth": 0,
             "ticks": ""
            },
            "colorscale": [
             [
              0,
              "#0d0887"
             ],
             [
              0.1111111111111111,
              "#46039f"
             ],
             [
              0.2222222222222222,
              "#7201a8"
             ],
             [
              0.3333333333333333,
              "#9c179e"
             ],
             [
              0.4444444444444444,
              "#bd3786"
             ],
             [
              0.5555555555555556,
              "#d8576b"
             ],
             [
              0.6666666666666666,
              "#ed7953"
             ],
             [
              0.7777777777777778,
              "#fb9f3a"
             ],
             [
              0.8888888888888888,
              "#fdca26"
             ],
             [
              1,
              "#f0f921"
             ]
            ],
            "type": "heatmapgl"
           }
          ],
          "histogram": [
           {
            "marker": {
             "colorbar": {
              "outlinewidth": 0,
              "ticks": ""
             }
            },
            "type": "histogram"
           }
          ],
          "histogram2d": [
           {
            "colorbar": {
             "outlinewidth": 0,
             "ticks": ""
            },
            "colorscale": [
             [
              0,
              "#0d0887"
             ],
             [
              0.1111111111111111,
              "#46039f"
             ],
             [
              0.2222222222222222,
              "#7201a8"
             ],
             [
              0.3333333333333333,
              "#9c179e"
             ],
             [
              0.4444444444444444,
              "#bd3786"
             ],
             [
              0.5555555555555556,
              "#d8576b"
             ],
             [
              0.6666666666666666,
              "#ed7953"
             ],
             [
              0.7777777777777778,
              "#fb9f3a"
             ],
             [
              0.8888888888888888,
              "#fdca26"
             ],
             [
              1,
              "#f0f921"
             ]
            ],
            "type": "histogram2d"
           }
          ],
          "histogram2dcontour": [
           {
            "colorbar": {
             "outlinewidth": 0,
             "ticks": ""
            },
            "colorscale": [
             [
              0,
              "#0d0887"
             ],
             [
              0.1111111111111111,
              "#46039f"
             ],
             [
              0.2222222222222222,
              "#7201a8"
             ],
             [
              0.3333333333333333,
              "#9c179e"
             ],
             [
              0.4444444444444444,
              "#bd3786"
             ],
             [
              0.5555555555555556,
              "#d8576b"
             ],
             [
              0.6666666666666666,
              "#ed7953"
             ],
             [
              0.7777777777777778,
              "#fb9f3a"
             ],
             [
              0.8888888888888888,
              "#fdca26"
             ],
             [
              1,
              "#f0f921"
             ]
            ],
            "type": "histogram2dcontour"
           }
          ],
          "mesh3d": [
           {
            "colorbar": {
             "outlinewidth": 0,
             "ticks": ""
            },
            "type": "mesh3d"
           }
          ],
          "parcoords": [
           {
            "line": {
             "colorbar": {
              "outlinewidth": 0,
              "ticks": ""
             }
            },
            "type": "parcoords"
           }
          ],
          "scatter": [
           {
            "marker": {
             "colorbar": {
              "outlinewidth": 0,
              "ticks": ""
             }
            },
            "type": "scatter"
           }
          ],
          "scatter3d": [
           {
            "line": {
             "colorbar": {
              "outlinewidth": 0,
              "ticks": ""
             }
            },
            "marker": {
             "colorbar": {
              "outlinewidth": 0,
              "ticks": ""
             }
            },
            "type": "scatter3d"
           }
          ],
          "scattercarpet": [
           {
            "marker": {
             "colorbar": {
              "outlinewidth": 0,
              "ticks": ""
             }
            },
            "type": "scattercarpet"
           }
          ],
          "scattergeo": [
           {
            "marker": {
             "colorbar": {
              "outlinewidth": 0,
              "ticks": ""
             }
            },
            "type": "scattergeo"
           }
          ],
          "scattergl": [
           {
            "marker": {
             "colorbar": {
              "outlinewidth": 0,
              "ticks": ""
             }
            },
            "type": "scattergl"
           }
          ],
          "scattermapbox": [
           {
            "marker": {
             "colorbar": {
              "outlinewidth": 0,
              "ticks": ""
             }
            },
            "type": "scattermapbox"
           }
          ],
          "scatterpolar": [
           {
            "marker": {
             "colorbar": {
              "outlinewidth": 0,
              "ticks": ""
             }
            },
            "type": "scatterpolar"
           }
          ],
          "scatterpolargl": [
           {
            "marker": {
             "colorbar": {
              "outlinewidth": 0,
              "ticks": ""
             }
            },
            "type": "scatterpolargl"
           }
          ],
          "scatterternary": [
           {
            "marker": {
             "colorbar": {
              "outlinewidth": 0,
              "ticks": ""
             }
            },
            "type": "scatterternary"
           }
          ],
          "surface": [
           {
            "colorbar": {
             "outlinewidth": 0,
             "ticks": ""
            },
            "colorscale": [
             [
              0,
              "#0d0887"
             ],
             [
              0.1111111111111111,
              "#46039f"
             ],
             [
              0.2222222222222222,
              "#7201a8"
             ],
             [
              0.3333333333333333,
              "#9c179e"
             ],
             [
              0.4444444444444444,
              "#bd3786"
             ],
             [
              0.5555555555555556,
              "#d8576b"
             ],
             [
              0.6666666666666666,
              "#ed7953"
             ],
             [
              0.7777777777777778,
              "#fb9f3a"
             ],
             [
              0.8888888888888888,
              "#fdca26"
             ],
             [
              1,
              "#f0f921"
             ]
            ],
            "type": "surface"
           }
          ],
          "table": [
           {
            "cells": {
             "fill": {
              "color": "#EBF0F8"
             },
             "line": {
              "color": "white"
             }
            },
            "header": {
             "fill": {
              "color": "#C8D4E3"
             },
             "line": {
              "color": "white"
             }
            },
            "type": "table"
           }
          ]
         },
         "layout": {
          "annotationdefaults": {
           "arrowcolor": "#2a3f5f",
           "arrowhead": 0,
           "arrowwidth": 1
          },
          "colorscale": {
           "diverging": [
            [
             0,
             "#8e0152"
            ],
            [
             0.1,
             "#c51b7d"
            ],
            [
             0.2,
             "#de77ae"
            ],
            [
             0.3,
             "#f1b6da"
            ],
            [
             0.4,
             "#fde0ef"
            ],
            [
             0.5,
             "#f7f7f7"
            ],
            [
             0.6,
             "#e6f5d0"
            ],
            [
             0.7,
             "#b8e186"
            ],
            [
             0.8,
             "#7fbc41"
            ],
            [
             0.9,
             "#4d9221"
            ],
            [
             1,
             "#276419"
            ]
           ],
           "sequential": [
            [
             0,
             "#0d0887"
            ],
            [
             0.1111111111111111,
             "#46039f"
            ],
            [
             0.2222222222222222,
             "#7201a8"
            ],
            [
             0.3333333333333333,
             "#9c179e"
            ],
            [
             0.4444444444444444,
             "#bd3786"
            ],
            [
             0.5555555555555556,
             "#d8576b"
            ],
            [
             0.6666666666666666,
             "#ed7953"
            ],
            [
             0.7777777777777778,
             "#fb9f3a"
            ],
            [
             0.8888888888888888,
             "#fdca26"
            ],
            [
             1,
             "#f0f921"
            ]
           ],
           "sequentialminus": [
            [
             0,
             "#0d0887"
            ],
            [
             0.1111111111111111,
             "#46039f"
            ],
            [
             0.2222222222222222,
             "#7201a8"
            ],
            [
             0.3333333333333333,
             "#9c179e"
            ],
            [
             0.4444444444444444,
             "#bd3786"
            ],
            [
             0.5555555555555556,
             "#d8576b"
            ],
            [
             0.6666666666666666,
             "#ed7953"
            ],
            [
             0.7777777777777778,
             "#fb9f3a"
            ],
            [
             0.8888888888888888,
             "#fdca26"
            ],
            [
             1,
             "#f0f921"
            ]
           ]
          },
          "colorway": [
           "#636efa",
           "#EF553B",
           "#00cc96",
           "#ab63fa",
           "#FFA15A",
           "#19d3f3",
           "#FF6692",
           "#B6E880",
           "#FF97FF",
           "#FECB52"
          ],
          "font": {
           "color": "#2a3f5f"
          },
          "geo": {
           "bgcolor": "white",
           "lakecolor": "white",
           "landcolor": "#E5ECF6",
           "showlakes": true,
           "showland": true,
           "subunitcolor": "white"
          },
          "hoverlabel": {
           "align": "left"
          },
          "hovermode": "closest",
          "mapbox": {
           "style": "light"
          },
          "paper_bgcolor": "white",
          "plot_bgcolor": "#E5ECF6",
          "polar": {
           "angularaxis": {
            "gridcolor": "white",
            "linecolor": "white",
            "ticks": ""
           },
           "bgcolor": "#E5ECF6",
           "radialaxis": {
            "gridcolor": "white",
            "linecolor": "white",
            "ticks": ""
           }
          },
          "scene": {
           "xaxis": {
            "backgroundcolor": "#E5ECF6",
            "gridcolor": "white",
            "gridwidth": 2,
            "linecolor": "white",
            "showbackground": true,
            "ticks": "",
            "zerolinecolor": "white"
           },
           "yaxis": {
            "backgroundcolor": "#E5ECF6",
            "gridcolor": "white",
            "gridwidth": 2,
            "linecolor": "white",
            "showbackground": true,
            "ticks": "",
            "zerolinecolor": "white"
           },
           "zaxis": {
            "backgroundcolor": "#E5ECF6",
            "gridcolor": "white",
            "gridwidth": 2,
            "linecolor": "white",
            "showbackground": true,
            "ticks": "",
            "zerolinecolor": "white"
           }
          },
          "shapedefaults": {
           "line": {
            "color": "#2a3f5f"
           }
          },
          "ternary": {
           "aaxis": {
            "gridcolor": "white",
            "linecolor": "white",
            "ticks": ""
           },
           "baxis": {
            "gridcolor": "white",
            "linecolor": "white",
            "ticks": ""
           },
           "bgcolor": "#E5ECF6",
           "caxis": {
            "gridcolor": "white",
            "linecolor": "white",
            "ticks": ""
           }
          },
          "title": {
           "x": 0.05
          },
          "xaxis": {
           "automargin": true,
           "gridcolor": "white",
           "linecolor": "white",
           "ticks": "",
           "zerolinecolor": "white",
           "zerolinewidth": 2
          },
          "yaxis": {
           "automargin": true,
           "gridcolor": "white",
           "linecolor": "white",
           "ticks": "",
           "zerolinecolor": "white",
           "zerolinewidth": 2
          }
         }
        },
        "title": {
         "text": "Relação Atividade por Linguagem"
        },
        "xaxis": {
         "title": {
          "text": "Atividade"
         }
        },
        "yaxis": {
         "title": {
          "text": "Linguagem"
         }
        }
       }
      },
      "text/html": [
       "<div>\n",
       "        \n",
       "        \n",
       "            <div id=\"f2e081ed-ba6e-4d63-9f3b-ffdd0d5614da\" class=\"plotly-graph-div\" style=\"height:525px; width:100%;\"></div>\n",
       "            <script type=\"text/javascript\">\n",
       "                require([\"plotly\"], function(Plotly) {\n",
       "                    window.PLOTLYENV=window.PLOTLYENV || {};\n",
       "                    \n",
       "                if (document.getElementById(\"f2e081ed-ba6e-4d63-9f3b-ffdd0d5614da\")) {\n",
       "                    Plotly.newPlot(\n",
       "                        'f2e081ed-ba6e-4d63-9f3b-ffdd0d5614da',\n",
       "                        [{\"mode\": \"markers\", \"type\": \"scatter\", \"x\": [\"Estreia na Biblioteca\", \"Exposi\\u00e7\\u00e3o de Poesias Ilustradas de Valdenir Teles Magalh\\u00e3es\", \"Aulas de Hatha Yoga\", \"Aulas de Hatha Yoga\", \"C\\u00edrculo de debates sobre o livro \\\"Quarenta dias\\\" de Maria Val\\u00e9ria Rezende\", \"Bate-papo sobre o livro \\\"Com\\u00e9dias para se ler na escola\\\" de Luis Fernando Ver\\u00edssimo\", \"Palestra sobre o livro \\\"Com\\u00e9dias para ser ler na escola\\\" de Luis Fernando Ver\\u00edssimo\", \"Conta\\u00e7\\u00e3o de hist\\u00f3ria sobre o livro \\\"Alice no pais das maravilhas\\\" de Lewis Carroll\", \"Conta\\u00e7\\u00e3o de hist\\u00f3ria sobre o livro \\\"Alice no pais das maravilhas\\\" de Lewis Carroll\", \"Conta\\u00e7\\u00e3o de hist\\u00f3ria sobre o livro \\\"Alice no pais das maravilhas\\\" de Lewis Carroll\", \"Conta\\u00e7\\u00e3o de hist\\u00f3ria sobre o livro \\\"Alice no pais das maravilhas\\\" de Lewis Carroll\", \"CABAR\\u00c9 DAS MUI\\u00c9\", \"C\\u00edrculo de Debate sobre o Livro Alguma poesia de Carlos Drummond de Andrade\", \"Exposi\\u00e7\\u00e3o Hist\\u00f3rica\", \"Exposi\\u00e7\\u00e3o Hist\\u00f3rica\", \"Palestra sobre o livro \\\"Clara dos Anjos\\\" de Lima Barreto\", \"Evento Teste\", \"Campanha leia, doe e troque\", \"Palestra: Busca em bases de dados gratuitas\", \"Roda de conversa: A relev\\u00e2ncia da leitura para a leitura de mundo, na perspectiva de Paulo Freire\", \"Oficina de produ\\u00e7\\u00e3o de fantoches\", \"Palestra: Diretrizes para elabora\\u00e7\\u00e3o de trabalhos acad\\u00eamicos segundo estilo Vancouver e APA\", \"Orquestra e Coral Solidariedade Sempre\", \"Orquestra e Coral Solidariedade Sempre\", \"Orquestra e Coral Solidariedade Sempre\", \"Orquestra e Coral Solidariedade Sempre\", \"Orquestra e Coral Solidariedade Sempre\", \"Orquestra e Coral Solidariedade Sempre\", \"Orquestra e Coral Solidariedade Sempre\", \"Orquestra e Coral Solidariedade Sempre\", \"Orquestra e Coral Solidariedade Sempre\", \"Orquestra e Coral Solidariedade Sempre\", \"BRISA - Saraus Art\\u00edsticos\", \"BRISA - Saraus Art\\u00edsticos\", \"BRISA - Saraus Art\\u00edsticos\", \"Apresenta\\u00e7\\u00f5es Cad\\u00eancia Sincopada\", \"Apresenta\\u00e7\\u00f5es Cad\\u00eancia Sincopada\", \"Apresenta\\u00e7\\u00f5es Cad\\u00eancia Sincopada\", \"Apresenta\\u00e7\\u00f5es Cad\\u00eancia Sincopada\", \"XXII Sal\\u00e3o Nacional de Arte Fotogr\\u00e1fica do Foto Clube de Londrina\", \"Conta\\u00e7\\u00e3o de hist\\u00f3ria com Gilza Santos \", \"Femucom - Festival de M\\u00fasica do Comerci\\u00e1rio\", \"Lan\\u00e7amento do Livro Sem Travas na L\\u00edngua\", \"Espet\\u00e1culo QUAL A GRA\\u00c7A DE LAURINDA?\", \"Vikings e o Reino Saqueado\", \"Bailinho do Plant\\u00e3o\", \"Lunavi na FLAPT\", \"Oficina \\u201cPintura em pano de prato\\u201d\", \"Dramatiza\\u00e7\\u00e3o acompanhada com repert\\u00f3rio musical\", \"Oficina de Recicl\\u00e1veis: A Escolinha do mar\", \"Oficina \\u201cD\\u00e9coupage em sabonete\\u201d\", \"Oficina \\u201cM\\u00e1scaras com papel mach\\u00ea\\u201d\", \"Cemit\\u00e9rio, temporada de oficinas\", \"Ensaio aberto: Tomai a medida do cora\\u00e7\\u00e3o humano\", \"Ensaio aberto: Tomai a medida do cora\\u00e7\\u00e3o humano\", \"Exposi\\u00e7\\u00e3o \\u201cVigve, megme\\u201d\", \"Achados Liter\\u00e1rios\", \"Oficinas Percussivas ILU ODARA\", \"Maracatu Semente de Angola\", \"Assalto Liter\\u00e1rio no Canto\", \"Assalto Liter\\u00e1rio, 27 janeiro\", \"Vikings e o Reino Saqueado!\", \"Vikings e o Reino Saqueado!\", \"Sarau:prosa, poesia e outras del\\u00edcias - batuque e poesia\", \"P\\u00e9 de Samba\", \"SEMANA DA VISIBILIDADE TRANS\", \"Exposi\\u00e7\\u00e3o: \\\"Violeta e os Seres Imagin\\u00e1rios\\\"\", \"Celebrando a Cultura Rural\", \"Celebrando a Cultura Rural\", \"Celebrando a Cultura Rural\", \"RESGATE DE RUA\", \"RESGATE DE RUA\", \"RESGATE DE RUA\", \"Campeonato de Xadrez Londrinense 2019\", \"Campeonato de Xadrez Londrinense 2019\", \"Campeonato de Xadrez Londrinense 2019\", \"Campeonato de Xadrez Londrinense 2019\", \"Campeonato de Xadrez Londrinense 2019\", \"Campeonato de Xadrez Londrinense 2019\", \"Campeonato de Xadrez Londrinense 2019\", \"Campeonato de Xadrez Londrinense 2019\", \"Campeonato de Xadrez Londrinense 2019\", \"Campeonato de Xadrez Londrinense 2019\", \"Campeonato de Xadrez Londrinense 2019\", \"Espet\\u00e1culo \\\"Na Gaveta de Baixo\\\"\", \"Conta\\u00e7\\u00e3o de hist\\u00f3ria sobre o livro \\\"Onde vivem os monstros\\\" de Maurice Sendak\", \"Conta\\u00e7\\u00e3o de hist\\u00f3ria sobre o livro \\\"Onde vivem os monstros\\\" de Maurice Sendak\", \"Conta\\u00e7\\u00e3o de hist\\u00f3ria sobre o livro \\\"Cacoete\\\" de Eva Furnari\", \"Conta\\u00e7\\u00e3o de hist\\u00f3ria sobre o livro \\\"Cacoete\\\" de Eva Furnari\", \"Conta\\u00e7\\u00e3o de hist\\u00f3ria sobre o livro \\\"Cacoete\\\" de Eva Furnari\", \"Oficina de desenhos com o Prof. Paulo Tio\", \"Assalto Liter\\u00e1rio no Vista Bela\", \"Carnaval 2019 - Ensaios abertos do Bloco Bafo Quente\", \"Carnaval 2019 - Ensaios abertos do Bloco Bafo Quente\", \"Banda Nova - De um Filho, De um Cego | B\\u00fafalos D'\\u00c1gua\", \"Reuni\\u00e3o com o integrantes do Clube Aventureiros do Amanhecer\", \"Reuni\\u00e3o com o integrantes do Clube Aventureiros do Amanhecer\", \"Reuni\\u00e3o com o integrantes do Clube Aventureiros do Amanhecer\", \"Reuni\\u00e3o com o integrantes do Clube Aventureiros do Amanhecer\", \"Reuni\\u00e3o com o integrantes do Clube Aventureiros do Amanhecer\", \"Reuni\\u00e3o com o integrantes do Clube Aventureiros do Amanhecer\", \"Reuni\\u00e3o com o integrantes do Clube Aventureiros do Amanhecer\", \"Reuni\\u00e3o com o integrantes do Clube Aventureiros do Amanhecer\", \"Reuni\\u00e3o com o integrantes do Clube Aventureiros do Amanhecer\", \"Reuni\\u00e3o com o integrantes do Clube Aventureiros do Amanhecer\", \"Exposi\\u00e7\\u00e3o: Conhecendo os autores e suas obras\", \"Sarar\\u00e1 Criolo - Circula\\u00e7\\u00e3o e Lan\\u00e7amento de CD\", \"Sarar\\u00e1 Criolo - Circula\\u00e7\\u00e3o e Lan\\u00e7amento de CD\", \"Sarar\\u00e1 Criolo - Circula\\u00e7\\u00e3o e Lan\\u00e7amento de CD\", \"Sarar\\u00e1 Criolo - Circula\\u00e7\\u00e3o e Lan\\u00e7amento de CD\", \"Sarar\\u00e1 Criolo - Circula\\u00e7\\u00e3o e Lan\\u00e7amento de CD\", \"Cacoete - Eva Furnari\", \"Cacoete - Eva Furnari\", \"Conta\\u00e7\\u00e3o de hist\\u00f3ria\", \"Transtornada Eu\", \"Bailinho do Plant\\u00e3o\", \"Bailinho do Plant\\u00e3o\", \"Bailinho do Plant\\u00e3o\", \"Bailinho do Plant\\u00e3o\", \"Bailinho do Plant\\u00e3o\", \"Bailinho do Plant\\u00e3o\", \"Bailinho do Plant\\u00e3o\", \"Bailinho do Plant\\u00e3o\", \"Bailinho do Plant\\u00e3o\", \"Bailinho do Plant\\u00e3o\", \"Bailinho do Plant\\u00e3o\", \"\\\"Chapeuzinho Vermelho\\u201d \\u2013 Irm\\u00e3os Grimm\", \"Oficina - A dan\\u00e7a da Palha\\u00e7a\", \"Oficina - Palha\\u00e7aria na Vis\\u00e3o Feminina\", \"Oficina - Objeto e Cena\", \"Oficina - Mulheres Gozadas\", \"Oficina - \\u201cMeu corpo c\\u00f4mico: dilatando risos\\u201d\", \"Oficina - Jogos L\\u00fadicos\", \"Espet\\u00e1culo: \\\"Vagarosa\\\"\", \"Espet\\u00e1culo: \\\"Que Festa \\u00e9 essa criatura?\\\"\", \"Espet\\u00e1culo: \\\"Ao Ponto\\\"\", \"Espet\\u00e1culo \\u201cMalagueta Dorminhoca\\u201d\", \"Espet\\u00e1culo: Plano n\\u00ba 269\", \"Oficina \\\"Microconto: um vasto pequeno mundo\\\", com Cl\\u00e1udia Bergamini\", \"Oficina \\\"Microconto: um vasto pequeno mundo\\\", com Cl\\u00e1udia Bergamini\", \"Pr\\u00e9 Carnaval\", \"Matin\\u00ea de Carnaval na ALMA\", \"S\\u00c9RIE PALCOS MUSICAIS 2019 - ABERTURA DA TEMPORADA\", \"MEXE QUE \\u00c9 BOM!\", \"Dia do Bibliotec\\u00e1rio: O Gestor Cultural e as a\\u00e7\\u00f5es de produ\\u00e7\\u00e3o e incentivo \\u00e0 leitura\", \"Mostra Fotogr\\u00e1fica \\\"Minha Beleza Pura\\\"\", \"Mostra Fotogr\\u00e1fica \\\"Minha Beleza Pura\\\"\", \"Celebrando a Cultura Rural\", \"Celebrando a Cultura Rural\", \"CONEX\\u00d5ES H\\u00cdBRIDAS E MEM\\u00d3RIAS MARGINAIS\", \"CONEX\\u00d5ES H\\u00cdBRIDAS E MEM\\u00d3RIAS MARGINAIS\", \"Feir\\u00e3o da Resist\\u00eancia e da Reforma Agr\\u00e1ria | Especial 8M\", \"Projeto Balaio de Gato\", \"OSUEL COMEMORA 35 ANOS\", \"M\\u00faltiplo Leminski\", \"M\\u00faltiplo Leminski\", \"M\\u00faltiplo Leminski\", \"M\\u00faltiplo Leminski\", \"M\\u00faltiplo Leminski\", \"M\\u00faltiplo Leminski\", \"M\\u00faltiplo Leminski\", \"M\\u00faltiplo Leminski\", \"OFICINA DE TEATRO PARA MULHERES\", \"OFICINA DE TEATRO PARA MULHERES\", \"OFICINA DE TEATRO PARA MULHERES\", \"OFICINA DE TEATRO PARA MULHERES\", \"Sarauzinho, Londrix 15 anos\", \"Triol\\u00e9 apresenta: O ZELADOR\", \"Palestra e bate-papo sobre o livro \\\"Vozes anoitecidas de Mia Couto\\\"\", \"Conta\\u00e7\\u00e3o de hist\\u00f3rias sobre o livro \\\"Chapeuzinho Vermelho\\\" - Irm\\u00e3os Grimm\", \"Conta\\u00e7\\u00e3o de hist\\u00f3rias sobre o livro \\\"Chapeuzinho Vermelho\\\" - Irm\\u00e3os Grimm\", \"Conta\\u00e7\\u00e3o de hist\\u00f3rias sobre o livro \\\"Chapeuzinho Vermelho\\\" - Irm\\u00e3os Grimm\", \"Conta\\u00e7\\u00e3o de hist\\u00f3rias sobre o livro \\\"Chapeuzinho Vermelho\\\" - Irm\\u00e3os Grimm\", \"Banda Nova - Sincopaduo | David Mour\", \"Banda Nova - Octopus Trio | Amino\\u00e1cido\", \"Sarar\\u00e1 Criolo - Lan\\u00e7amento do CD\", \"MEQUETREFE CIRCO SHOW\", \"ARTE TRANSFORMA\\u00c7\\u00c3O NA EDUCA\\u00c7\\u00c3O INFANTIL\", \"OFICINA DE PINTURA E DESENHO COM TINTAS NATURAIS\", \"BRINCANDO COM ARGILA\", \"BRINCANDO COM ARGILA\", \"Exposi\\u00e7\\u00e3o \\\"Welcome\\\"\", \"Conta\\u00e7\\u00e3o de hist\\u00f3ria\", \"Lan\\u00e7amento: luas, de J\\u00falia Rocha e Gustavo Galo\", \"A RUA E AS CRIAN\\u00c7AS.\", \"IDOSOS NO HIP- HOP\", \"ORQUESTRA BARROCA CAPRICCIO STRAVAGANTE APRESENTA \\u00d3PERA TH\\u00c9S\\u00c9E, DIA 30\", \"Capoeira Senzala\", \"Conta\\u00e7\\u00e3o de hist\\u00f3rias sobre o livro \\\"Viagem ao C\\u00e9u\\\" de Monteiro Lobato\", \"Conta\\u00e7\\u00e3o de hist\\u00f3rias sobre o livro \\\"Viagem ao C\\u00e9u\\\" de Monteiro Lobato\", \"Conta\\u00e7\\u00e3o de hist\\u00f3rias sobre o livro \\\"Viagem ao C\\u00e9u\\\" de Monteiro Lobato\", \"Conta\\u00e7\\u00e3o de hist\\u00f3rias sobre o livro \\\"Viagem ao C\\u00e9u\\\" de Monteiro Lobato\", \"Exposi\\u00e7\\u00e3o Grude + Fachada Nova\", \"6\\u00ba EVENTO DE CAPOEIRA DE ANGOLA AECAJP - CECA - PERNAMBU\\u00c9S SSA-BA MESTRE CIRO\", \"Projeto Vivenciando a m\\u00fasica na melhor idade\", \"Projeto Vivenciando a M\\u00fasica na Melhor Idade\", \"Projeto Vivenciando a M\\u00fasica na Melhor Idade\", \"Projeto Vivenciando a M\\u00fasica na melhor idade\", \"Bravi com Allice Tirolla, Fabricio Martins e Elthon Dias\", \"Musicalizando e dan\\u00e7ando para a vida\", \"Toques e dan\\u00e7as brasileiras\", \"Novas apresenta\\u00e7\\u00f5es de Transtornada Eu\", \"Novas apresenta\\u00e7\\u00f5es de Transtornada Eu\", \"PROARTE\", \"Viagem ao C\\u00e9u - Monteiro Lobato\", \"Uma Cole\\u00e7\\u00e3o Futurologista ( The Best of Mr.Chao )\", \"Uma Cole\\u00e7\\u00e3o Futurologista ( The Best of Mr.Chao )\", \"Uma Cole\\u00e7\\u00e3o Futurologista ( The Best of Mr.Chao )\", \"Uma Cole\\u00e7\\u00e3o Futurologista ( The Best of Mr.Chao )\", \"Exposi\\u00e7\\u00e3o \\\"Mundo encantado de Lobato\\\"\", \"Conta\\u00e7\\u00e3o de Hist\\u00f3ria\", \"Oficina de artes\", \"Alice no Pa\\u00eds das Maravilhas\\u201d \\u2013 Lewis Caroll\", \"CONCERTO DE P\\u00c1SCOA\", \"Quizomba Re-Existe!\", \"Oficina Quizomba de Bumba-meu-Boi\", \"Oficina Quizomba de Bumba-meu-Boi\", \"Oficina Quizomba de Bumba-meu-Boi\", \"Palco AlmA Londrina 2019\", \"Palco AlmA Londrina 2019\", \"Sarau Flapt - O Corpo Que Luta O Corpo Que Dan\\u00e7a\", \"Transtornada Eu na Alma\", \"Transtornada Eu na Alma\", \"Transtornada Eu na Alma\", \"Por Um X\", \"Por Um X\", \"Por Um X\", \"Por Um X\", \"Por Um X\", \"Por Um X\", \"Por Um X\", \"Por Um X\", \"Por Um X\", \"Por Um X\", \"Feir\\u00e3o da Resist\\u00eancia e da Reforma Agr\\u00e1ria\", \"17\\u00aa Semana Nacional de Museus\", \"17\\u00aa Semana Nacional de Museus\", \"17\\u00aa Semana Nacional de Museus\", \"17\\u00aa Semana Nacional de Museus\", \"17\\u00aa Semana Nacional de Museus\", \"17\\u00aa Semana Nacional de Museus\", \"17\\u00aa Semana Nacional de Museus\", \"17\\u00aa Semana Nacional de Museus\", \"Oficina de Cer\\u00e2mica\", \"Meu cora\\u00e7\\u00e3o de Polaco voltou\", \"1\\u00ba Encontro Cidadania e Leis Federais de Incentivo\", \"Samba do Sereno\", \"Po\\u00e9ticas de Terra e C\\u00e9u\", \"Espet\\u00e1culo Transtornada Eu na Flapt\", \"Pint Of Science 2019 Londrina Pr.\", \"Oficina de orienta\\u00e7\\u00e3o dos Editais n\\u00ba 01 e 02/2019 - Projetos Culturais Estrat\\u00e9gicos\", \"Exposi\\u00e7\\u00e3o \\\"M\\u00eas da Fam\\u00edlia: um elo de Amor\\\"\", \"Conta\\u00e7\\u00e3o da hist\\u00f3ria \\u201cHist\\u00f3rias de Lepe e Sep: 2 cora\\u00e7\\u00f5es pulsantes\\\"\", \"VIII MOSTRA DE M\\u00daSICA DE C\\u00c2MARA - concertos comemorativos - CONCERTO PARA CRIAN\\u00c7AS\", \"Conta\\u00e7\\u00e3o da hist\\u00f3ria \\u201cAlice no Pa\\u00eds das Maravilhas\\u201d\", \"Mostra fotogr\\u00e1fica \\u201cMinha Beleza Pura\\u201d\", \"Oficina de Artes \\u201cAlice no Pa\\u00eds das Maravilhas\\u201d\", \"As marcas no corpo\", \"4\\u00aa Etapa de Renova\\u00e7\\u00e3o do Comit\\u00ea Gestor da Salvaguarda da Capoeira no Paran\\u00e1\", \"As marcas no corpo\", \"Festival Cultural\", \"Festival Cultural\", \"Festival Cultural\", \"BIZARRIA\", \"BIZARRIA\", \"BIZARRIA\", \"BIZARRIA\", \"BIZARRIA\", \"BIZARRIA\", \"Orquestra Intermedi\\u00e1ria Bravi\", \"Semana do Caf\\u00e9 2019\", \"PROJETO MUSICANDO NA ESCOLA\", \"Aulas de Capoeira\", \"C\\u00edrculo de debates do livro \\\"Clara dos anjos\\\" de Lima Barreto\", \"Palestra sobre o livro \\\"O filho eterno\\\" de Cristov\\u00e3o Tezza\", \"C\\u00edrculo de debates sobre o livro \\\"O filho eterno\\\" de Cristov\\u00e3o Tezza\", \"METAIS IN CONCERT\", \"Exposi\\u00e7\\u00e3o: Literatura em quadrinhos e mang\\u00e1s\", \"Po\\u00e9ticas de Terra e C\\u00e9u\", \"PROARTE - AULA ESPECIAL CAPTA\\u00c7\\u00c3O LEIS DE INCENTIVO\", \"Brincando com Luz e Sombra\", \"Espet\\u00e1culo: Palha\\u00e7a Sola\", \"Espet\\u00e1culo: O P\\u00e1ssaro Azul\", \"Espet\\u00e1culo: O P\\u00e1ssaro Azul\", \"QUE FESTA \\u00c9 ESSA, CRIATURA?\", \"Oficina de desenhos sobre o livro \\\"Onde vivem os monstros\\\"\", \"Oficina de desenhos sobre o livro \\\"Onde vivem os monstros\\\"\", \"Oficina de desenhos sobre o livro \\\"Onde vivem os monstros\\\"\", \"Oficina \\u201cDramaturgia de Palha\\u00e7@\\u201d\", \"Performance e Exposi\\u00e7\\u00e3o Fotogr\\u00e1fica \\\"Por Elas\\\"\", \"Festa Junina AFC\", \"Cabar\\u00e9 o Show\", \"VI Festival Cultural Arraia da Integra\\u00e7\\u00e3o.\", \"VI Festival Cultural Arraia da Integra\\u00e7\\u00e3o.\", \"VI Festival Cultural Arraia da Integra\\u00e7\\u00e3o.\", \"CONCERTO DE S\\u00c3O JO\\u00c3O\", \"Viagem Longa, Grana Curta\", \"Viagem Longa, Grana Curta\", \"Viagem Longa, Grana Curta\", \"Viagem Longa, Grana Curta\", \"Viagem Longa, Grana Curta\", \"Viagem Longa, Grana Curta\", \"Viagem Longa, Grana Curta\", \"Viagem Longa, Grana Curta\", \"Viagem Longa, Grana Curta\", \"Viagem Longa, Grana Curta\", \"Apresenta\\u00e7\\u00e3o do primeiro Interc\\u00e2mbio Art\\u00edstico \\\"Grazzi Ellas Transitando\\\" em Londrina.\", \"Apresenta\\u00e7\\u00e3o do primeiro Interc\\u00e2mbio Art\\u00edstico \\\"Grazzi Ellas Transitando\\\" em Londrina.\", \"O P\\u00e1ssaro Azul\", \"O P\\u00e1ssaro Azul\", \"Palestra Concertante com Alfredo Moura\", \"LONDRINA, CULTURA EM RETRATOS\", \"Audi\\u00eancias P\\u00fablicas de Cultura 2019\", \"Novos Cronistas Londrix - lan\\u00e7amento do livro\", \"Lan\\u00e7amento Projeto Jovens Escritores\", \"Revista Sossego em Londrina + Show com Entidade Perdida\", \"OSUEL E DUO CLAVIS\", \"CONCERTO COLOR RHETORICUS \\u2013 ANO I\", \"Jogue como uma garota\", \"Jogue como uma garota 18/06\", \"Bizarria: substantivo feminino, boa postura\", \"Londrinoise Segunda Edi\\u00e7\\u00e3o\", \"Festa Julina Lar An\\u00e1lia Franco\", \"Conta\\u00e7\\u00e3o de hist\\u00f3ria\", \"Circula\\u00e7\\u00e3o \\\"Que Festa \\u00c9 Essa, Criatura?\\\" EUBOBASE\", \"Balada de um palha\\u00e7o\", \"Balada de um palha\\u00e7o\", \"Oficina de artes\", \"ARRIGO BARNAB\\u00c9 \\u2013 QUERO QUE V\\u00c1 TUDO PRO INFERNO\", \"No fim da Inf\\u00e2ncia\", \"Cl\\u00e1ssicos Infantis: uma hora cheia de hist\\u00f3rias\", \"OFICINA DE TEATRO PARA CRIAN\\u00c7AS\", \"OFICINA DE TEATRO PARA CRIAN\\u00c7AS\", \"OFICINA DE TEATRO PARA CRIAN\\u00c7AS\", \"OFICINA DE TEATRO PARA CRIAN\\u00c7AS\", \"Oficina De Maracatu - Semente de Angola\", \"Trovadores do Mioc\\u00e1rdio\", \"Trovadores do miorc\\u00e1rdio\", \"Trovadores do miorc\\u00e1rdio\", \"Ensaio Escola municipal Hikoma Udihara\", \"Ensaio Escola municipal Hikoma Udihara\", \"Ensaio Escola municipal Hikoma Udihara\", \"Ensaio Escola municipal Hikoma Udihara\", \"Morte e Vida Severina\", \"Morte e Vida Severina\", \"Morte e Vida Severina Espet\\u00e1culo C\\u00eanico- Musical.\", \"Palestra sobre o Livro Alguma poesia de Carlos Drummond de Andrade\", \"Onde Vivem os Monstros\", \"Que Festa \\u00c9 Essa, Criatura?\", \"Que Festa \\u00c9 Essa, Criatura?\", \"Que Festa \\u00c9 Essa, Criatura?\", \"Oficina Light Painting\", \"Oficina de desenhos tridimensionais e articulados\", \"FESTA JULINA BENEFICENTE 2019\", \"P\\u00e9 de Samba 06 de julho\", \"Balada de um palha\\u00e7o\", \"Balada de um palha\\u00e7o\", \"Festival Internacional de M\\u00fasica de Londrina - Edi\\u00e7\\u00e3o 39\", \"Conta\\u00e7\\u00e3o de hist\\u00f3rias\", \"Encontro de Gigantes\", \"Encontro de Gigantes\", \"Encontro de Gigantes\", \"Encontro de Gigantes\", \"Encontro de Gigantes\", \"Exposi\\u00e7\\u00e3o de livros \\\"Ruth Rocha\\\"\", \"3 dias com Leonardo da Vinci\", \"Quizomba + FML - M\\u00fasica fora do centro!\", \"Abertura do 5\\u00ba ENCOM - Encontro Nacional de Composi\\u00e7\\u00e3o Musical\", \"Abertura Solene do 39\\u00b0 Festival Internacional de M\\u00fasica de Londrina\", \"Abertura Solene do 39\\u00b0 Festival Internacional de M\\u00fasica de Londrina\", \"5\\u00ba ENCOM - Encontro Nacional de Composi\\u00e7\\u00e3o Musical\", \"Encerramento do 5o ENCOM - Encontro Nacional de Composi\\u00e7\\u00e3o Musical\", \"OSUEL \\u2013 Orquestra Sinf\\u00f4nica da Universidade Estadual de Londrina\", \"Trio Paranaense\", \"Dia Mundial do Rock\", \"Ivo Pessoa Trio\", \"Show \\u201cXod\\u00f3s\\u201d\", \"Allan Manhas Recital de Piano\", \"M\\u00fasica Fora de Centro\", \"Samba do Sereno\", \"Morte e Vida Severina\", \"Iroko Trio\", \"TR\\u00caS Orquestras. UM Encontro\", \"Forr\\u00f3 Cavi\\u00fana\", \"Show Andr\\u00e9 Mehmari Trio\", \"Toninho Ferragutti & Salom\\u00e3o, Duo Acordeon e Piano\", \"Andr\\u00e9 Siqueira Quarteto\", \"Roda De Conversa Andr\\u00e9 Mehmari Trio\", \"Risorama Londrina\", \"Tricantumconto\", \"Sarau: prosa, poesia e outras del\\u00edcias\", \"Sarau: prosa, poesia & outras del\\u00edcias\", \"Risorama Londrina\", \"Circula\\u00e7\\u00e3o Espet\\u00e1culo \\\"Que Festa \\u00c9 Essa, Criatura?\\\" Cal\\u00e7ad\\u00e3o de Londrina\", \"Circula\\u00e7\\u00e3o Espet\\u00e1culo \\\"Que Festa \\u00c9 Essa, Criatura?\\\" Aterro do Lago Igap\\u00f3\", \"Viva o Barroco! Bach e Vivaldi\", \"La Bella Voce\", \"Andrea dos Guimar\\u00e3es e Jo\\u00e3o Paulo Amaral\", \"Iroko Trio\", \"\\u00c1gua de Moringa, Grupo de Choro\", \"Duo Violino e Piano\", \"Viol\\u00e3o em Cena\", \"Orquestra Solidariedade Sempre\", \"ECM 50\", \"All That Jazz/MPB\", \"Banda Sinf\\u00f4nica da FAETEC - Marechal Hermes\", \"Passeata da Alegria\", \"FL\\u00fbnkY\", \"Abacate Contempor\\u00e2neo\", \"Iluminuras\", \"Cortejo Grupo Grupo de Percuss\\u00e3o da Universidade Federal de Pelotas - PEPEU\", \"Encerramento do Curso de Coro de M\\u00fasica Popular\", \"Encerramento do Curso de T\\u00e9cnica Vocal e Interpreta\\u00e7\\u00e3o na Can\\u00e7\\u00e3o Popular\", \"Encerramento da Pr\\u00e1tica de MPB e Jazz\", \"Encerramento da Oficina da Banda de Garagem\", \"Senhor Bonif\\u00e1cio\", \"C. Saint Sa\\u00ebns - Carnaval dos Animais\", \"Concerto Open Air\", \"Show de Dan\\u00e7as e Evolu\\u00e7\\u00e3o da Terceira Idade\", \"Banda Mustav\", \"Grupo de Percuss\\u00e3o da Universidade Federal de Pelotas - Pepeu\", \"La Bella Voce II\", \"Exibi\\u00e7\\u00e3o do document\\u00e1rio\", \"Gala dos Professores\", \"Duo Policarpo\", \"Concerto de Encerramento\", \"Retratos de Maria\", \"Viva Elis\", \"Concerto de Encerramento\", \"David Mour\", \"Z - as imagens s\\u00e3o palavras que sumiram\", \"Maestro por um dia\", \"EXPOSI\\u00c7\\u00c3O LOBATIANDO\", \"O C T O P O D E\", \"Palestra sobre o livro: Poemas escolhidos de Greg\\u00f3rio de Matos\", \"Um bourbon para Faulkner\", \"Espet\\u00e1culo: \\\"Subs-Solos\\\"\", \"OFICINA DE CIRCO PARA CRIAN\\u00c7AS\", \"OFICINA DE CIRCO PARA CRIAN\\u00c7AS\", \"OFICINA DE CIRCO PARA CRIAN\\u00c7AS\", \"ArraiAlma\", \"B.BOY\", \"B.BOY\", \"Conta\\u00e7\\u00e3o de hist\\u00f3rias sobre o livro \\\"O pequeno pr\\u00edncipe\\\"\", \"Conta\\u00e7\\u00e3o de hist\\u00f3rias sobre o livro \\\"O pequeno pr\\u00edncipe\\\"\", \"Conta\\u00e7\\u00e3o de hist\\u00f3rias sobre o livro \\\"O pequeno pr\\u00edncipe\\\"\", \"Campanha de Doa\\u00e7\\u00e3o de Livros\", \"Exposi\\u00e7\\u00e3o de Poesias em Homenagem ao Dia do Escritor\", \"11\\u00b0 Abra\\u00e7o no Lago pela Paz\", \"CONVITE: Venha Inaugurar o Totem do DADO DE CULTURA DE PAZ\", \"Livro Londrina Pazeando 2019\", \"Exposi\\u00e7\\u00e3o de livros em Homenagem ao Dia Nacional do Escritor\", \"Pin\\u00f3quio\", \"Tr\\u00e8s Affect\\u00e9\", \"Show Instrumental Balaio de Gato\", \"Oficina de escrita criativa\", \"PROARTE: Aula Especial - Programa\\u00e7\\u00e3o Cultural - Marcos Henrique Rego - RJ\", \"BRINCADEIRAS CANTADAS\", \"Espet\\u00e1culo: \\u201cO Mar do Tempo Perdido\\u201d\", \"Espet\\u00e1culo: \\u201cO Mar do Tempo Perdido\\u201d\", \"Um Bourbon para Faulkner\", \"Hist\\u00f3ria da Arte do Renascimento Italiano\", \"Feijoada Do Coletivo De Educa\\u00e7\\u00e3o Popular Paulo Freire\", \"MARACATU DE BAQUE VIRADO\", \"Estreia do filme \\\"Leste Oeste\\\"\", \"IX Confer\\u00eancia Municipal de Cultura\", \"IX Confer\\u00eancia Municipal de Cultura\", \"IX Confer\\u00eancia Municipal de Cultura\", \"IX Confer\\u00eancia Municipal de Cultura\", \"Palco AlmA Londrina 2019 - 2\\u00aa edi\\u00e7\\u00e3o\", \"Dez m\\u00e3os e um piano - PianOrquestra\", \"Lan\\u00e7amento do Hackathon de Economia criativa\", \"Exposi\\u00e7\\u00e3o de livros e revistas em homenagem ao Dia do Estudante\", \"Oficina de Percuss\\u00e3o Brasileira\", \"Yoga para Mulheres\", \"Cemit\\u00e9rio em festa\", \"ANDR\\u00c9 SIQUEIRA TRIO & DUO CLAVIS CONVIDAM TONINHO FERRAGUTTI\", \"OSUEL \\u2013 DO BARROCO AO S\\u00c9CULO XX\", \"C\\u00edrculo de debates sobre o livro \\\"Poemas escolhidos de Greg\\u00f3rio de Matos\\\"\", \"OFICINA: Mulheres Gozadas\", \"Espet\\u00e1culo - Que Festa \\u00e9 essa, Criatura?\", \"Abertura FILO 50+1\", \"Festival Internacional de Londrina\", \"Festival Internacional de Londrina\", \"Festival Internacional de Londrina\", \"Conta\\u00e7\\u00e3o de hist\\u00f3ria\", \"Chega de Saudade\", \"Tecituras de n\\u00f3s: dimens\\u00f5es poss\\u00edveis\", \"AlmA do Samba\", \"Palestra sobre o livro \\\"O dem\\u00f4nio familiar\\\" de Jos\\u00e9 de Alencar\", \"Exposi\\u00e7\\u00e3o M\\u00e1scaras dos INVIS\\u00cdVEIS\", \"BANDA MARCIAL MARCELINO CHAMPAGNAT CONVIDA DERICO PARA CONCERTO\", \"O Caipira e o Causo do Capiroto\", \"O Caipira e o Causo do Capiroto\", \"13\\u00aa Primavera dos Museus\", \"13\\u00aa Primavera dos Museus\", \"SEMANA DE ARTES C\\u00caNICAS\", \"Calejadas Mem\\u00f3rias\", \"Circula\\u00e7\\u00e3o Espet\\u00e1culo \\\"Que Festa \\u00c9 Essa, Criatura?\\\" Vila Triol\\u00e9 Cultural\", \"CONCERTO DA ORQUESTRA BARROCA CAPRICCIO STRAVAGANTE\", \"EXPOSI\\u00c7\\u00c3O LUSOFONIAS\", \"PROCURE A MENINA COM O SOL EM SEUS OLHOS\", \"Bate-papo sobre o livro \\\"O dem\\u00f4nio familiar\\\"\", \"O Caipira e o Causo do Capiroto\", \"As marcas no corpo\", \"As marcas no corpo\", \"AutoEscavo\", \"Orquestra Acad\\u00eamica Bravi\", \"AutoEscavo\", \"Exposi\\u00e7\\u00e3o POR ELAS\", \"Circula\\u00e7\\u00e3o Espet\\u00e1culo \\\"Que Festa \\u00c9 Essa, Criatura?\\\" Pra\\u00e7a Nishinomiya\", \"Anatomia do espa\\u00e7o-lugar, de Margarida Holler\", \"Lan\\u00e7amento: Porque Eu Odeio, de Claude McKay\", \"Estreia da pe\\u00e7a \\\"Terra Desmedida\\\"\", \"Estreia da pe\\u00e7a \\\"Terra Desmedida\\\"\", \"Estreia da pe\\u00e7a \\\"Terra Desmedida\\\"\", \"IX Confer\\u00eancia de Cultura da Cidade de Londrina\", \"IX Confer\\u00eancia de Cultura da Cidade de Londrina\", \"Palestra sobre o livro \\\"A hora da estrela\\\" de Clarice Lispector\", \"ARTE TRANSFORMA\\u00c7\\u00c3O\", \"Conta\\u00e7\\u00e3o da hist\\u00f3ria \\\"Chapeuzinho vermelho\\\"\", \"Exposi\\u00e7\\u00e3o Por Elas no Canto do MARL\", \"Exposi\\u00e7\\u00e3o Por Elas no Canto do MARL\", \"Exposi\\u00e7\\u00e3o Por Elas no Canto do MARL\", \"ARTE TRANSFORMA\\u00c7\\u00c3O\", \"ARTE TRANSFORMA\\u00c7\\u00c3O\", \"Poesia e revolu\\u00e7\\u00e3o\", \"\\u201cFAM\\u00cdLIA BACH E PIAZZOLLA\\u201d\", \"\\\"Terra Desmedida\\\" na Flapt\", \"\\\"Terra Desmedida\\\" retorna ao Canto do MARL\", \"\\\"Terra Desmedida\\\" retorna ao Canto do MARL\", \"\\\"Terra Desmedida\\\" retorna ao Canto do MARL\", \"Londrina ter\\u00e1 Tributo a BON JOVI\", \"Londrina ter\\u00e1 Tributo a BON JOVI\", \"BREXOTA!\", \"Exposi\\u00e7\\u00e3o \\u201cSemana da Paz\\u201d\", \"Exposi\\u00e7\\u00e3o \\u201cSemana da Paz\\u201d\", \"Exposi\\u00e7\\u00e3o \\u201cSemana da Paz\\u201d\", \"Exposi\\u00e7\\u00e3o \\u201cSemana da Paz\\u201d\", \"Exposi\\u00e7\\u00e3o \\u201cSemana da Paz\\u201d\", \"Exposi\\u00e7\\u00e3o \\u201cSemana da Paz\\u201d\", \"Dia Mundial sem Carro\", \"Little London Festival\", \"Trio Harmonitango apresenta \\\"Uma noite com m\\u00fasica de Piazzolla\\\"\", \"Trio Harmonitango apresenta \\\"Uma noite com m\\u00fasica de Piazzolla\\\"\", \"ACARAX\\u00c9\", \"2\\u00ba Encontro Feminino de capoeira - Muruca2019\", \"UMA ORQUESTRA NAS ESCOLAS - ORQUESTRA DE C\\u00c2MARA SOLISTAS DE LONDRINA\", \"Encontro sobre Gest\\u00e3o Cultural com Dane de Jade - CE\", \"Lan\\u00e7amento Projeto \\\"Triol\\u00e9 fora da estrada no Norte Pioneiro\\\"\", \"Lan\\u00e7amento Projeto \\\"Triol\\u00e9 fora da estrada no Norte Pioneiro\\\"\", \"Lan\\u00e7amento Projeto \\\"Triol\\u00e9 fora da estrada no Norte Pioneiro\\\"\", \"Lan\\u00e7amento Projeto \\\"Triol\\u00e9 fora da estrada no Norte Pioneiro\\\"\", \"Conta\\u00e7\\u00e3o da hist\\u00f3ria \\\"Pollyanna\\\"\", \"Pollyanna \\u2013 Eleanor Porter\", \"Pollyanna \\u2013 Eleanor Porter\", \"Orquestra Acad\\u00eamica Bravi\", \"Oficina de Hip-hop Dance\", \"Dia da Sergipe - 8\\u00aa Edi\\u00e7\\u00e3o\", \"CHRISTIANE TORLONI COMO MARIA CALLAS EM \\\"MASTER CLASS\\\"\", \"Que Festa \\u00c9 Essa, Criatura?\", \"Meta For Mosa\", \"Mostra tem\\u00e1tica itinerante \\\"Minha beleza pura\\\"\", \"Mostra tem\\u00e1tica itinerante \\\"Minha beleza pura\\\"\", \"Mostra tem\\u00e1tica \\\"Abstratos da reflex\\u00e3o missional\\\"\", \"Exposi\\u00e7\\u00e3o Varal de Cordel\", \"Exposi\\u00e7\\u00e3o de Revistas especiais\", \"O Caipira e o causo do Capiroto\", \"Aqu\\u00e1rio gigante\", \"Aqu\\u00e1rio gigante\", \"Espet\\u00e1culo A Sagra\\u00e7\\u00e3o da Primavera\", \"Espet\\u00e1culo Travessia\", \"ARTE E TRANSFORMA\\u00c7\\u00c3O\", \"META FOR MOSA\", \"Exposi\\u00e7\\u00e3o Poeta Alice\", \"Espet\\u00e1culo Instagrimm\", \"Espet\\u00e1culo H\\u00e1 Mais Futuro Que Passado\", \"Espet\\u00e1culo Teia\", \"Espet\\u00e1culo Teia\", \"Espet\\u00e1culo Rela\\u00e7\\u00f5es\", \"Espet\\u00e1culo [H3O]mens\", \"Espet\\u00e1culo Terror e Mis\\u00e9ria no Terceiro Mil\\u00eanio - Improvisando Utopias\", \"Espet\\u00e1culo Atelier de Cria\\u00e7\\u00e3o\", \"Espet\\u00e1culo KA-F-KA\", \"Espet\\u00e1culo Dan\\u00e7a Londrina\", \"Espet\\u00e1culo Pulse(s)\", \"Espet\\u00e1culo Bailinho do Plant\\u00e3o\", \"Espet\\u00e1culo Estou sem sil\\u00eancio\", \"Oficina: A dan\\u00e7a e a crian\\u00e7a\", \"Espet\\u00e1culo Empty Floor\", \"Palestra sobre o Livro Amor de Perdi\\u00e7\\u00e3o de Camilo Castelo Branco\", \"Oficinas de futebol de bot\\u00e3o \", \"Oficina An\\u00e1lise Ativa e Cria\\u00e7\\u00e3o de \\u00c9tudes\", \"Oficina Empty Body (Corpo Vazio) - Dan\\u00e7a Meditativa\", \"Exposi\\u00e7\\u00e3o Fotogr\\u00e1fica Paran\\u00e1 de Orlando Azevedo\", \"Exposi\\u00e7\\u00e3o de Livros que viraram filmes\", \"Distribui\\u00e7\\u00e3o de desenhos\", \"Di\\u00e1logo motivacional sobre a leitura nas v\\u00e1rias fases da vida\", \"Palestra - \\\"Atendimento ao p\\u00fablico feito de forma humanizada: g\\u00eanero, diversidade e direitos humanos\\\"\", \"Oficina de poesia metaf\\u00f3rica\", \"Conta\\u00e7\\u00e3o de hist\\u00f3rias para alunos adolescentes do CEPAS Santiago\", \"Palco AlmA Londrina 2019\", \"Palco AlmA Londrina 2019\", \"O Caipira e o Causo do Capiroto\", \"Show do Bita\", \"\\u00c0-Deus (FACES DE lONDRINA)\", \"Recital de Viol\\u00e3o\", \"Palestra: Livros sobre temas supremos e existenciais: morte, solid\\u00e3o, desejo e sexualidade. A import\\u00e2ncia de lermos e conversarmos com as crian\\u00e7as sobre temas universais e profundos.\", \"Bravi - Orquestras Juvenis e Grupos Intermedi\\u00e1rios\", \"Apresenta\\u00e7\\u00e3o do livro: \\\"O m\\u00e1gico japon\\u00eas\\\"\", \"Oficina de Poesia Metaf\\u00f3rica\", \"Semana do Dia das Crian\\u00e7as\", \"PRET(A) conta Dandara\", \"PRET(A) conta Dandara\", \"PRET(A) conta Dandara\", \"PRET(A) conta Dandara\", \"PRET(A) conta Dandara\", \"PRET(A) conta Dandara\", \"Conta\\u00e7\\u00e3o de hist\\u00f3rias para alunos do fundamental II do Col\\u00e9gio M\\u00faltipla Escolha\", \"Conta\\u00e7\\u00e3o e oficina de artes \\\"Viagens de Gulliver\\\"\", \"Conex\\u00e3o cidad\\u00e3\", \"Ta...lentos musicais\", \"Oficina de Poesia Metaf\\u00f3rica\", \"IX Mostra de M\\u00fasica de C\\u00e2mara com Solistas de Londrina\", \"Conta\\u00e7\\u00e3o de hist\\u00f3rias e Oficina de artes \\u201cViagens de Gulliver\\u201d\", \"2\\u00ba Little London Festival\", \"2\\u00ba Little London Festival\", \"Viagens de Gulliver\", \"Hist\\u00f3rias para Acordar - Eva Furnari\", \"\\u00c0-Deus\", \"Palestra: \\u201cObras especiais e raras em bibliotecas universit\\u00e1rias\\u201d\", \"Palestra: \\u201cObras especiais e raras em bibliotecas universit\\u00e1rias\\u201d\", \"Oficina de Poesia Metaf\\u00f3rica\", \"Conta\\u00e7\\u00e3o da est\\u00f3ria \\u201cHist\\u00f3rias de um livro aberto\\u201d\", \"Oficina de conta\\u00e7\\u00e3o de hist\\u00f3rias: recursos e estrat\\u00e9gias\", \"Oficina de conta\\u00e7\\u00e3o de hist\\u00f3rias: recursos e estrat\\u00e9gias\", \"Livro na Pra\\u00e7a CEU\", \"\\u00c0- Deus\", \"\\u00c0-Deus\", \"Sarau de Abertura - BRISA\", \"Sarau de Abertura - BRISA\", \"Oficina de pequenos reparos\", \"LEVE. \\u00c9 SEU!\", \"OFICINA DE POESIA METAF\\u00d3RICA\", \"IV Feira de Livros\", \"Exposi\\u00e7\\u00e3o \\u201cBiblioteca UniFil de 1972 aos dias atuais\\u201d cartazes e equipamentos utilizados ao longo do tempo\", \"\\u201cMostra de fotografias sobre as Bibliotecas do UniFil\\u201d Cartazes com informa\\u00e7\\u00f5es sobre a estrutura e acervo de cada biblioteca\", \"Palestra \\u201cComo publicar sem custo um livro pela plataforma Amazon\\u201d\", \"Palestra \\u201cRevista Terra e Cultura, um peri\\u00f3dico multidisciplinar\\u201d\", \"Oficina \\u201cUma introdu\\u00e7\\u00e3o ao software Mendeley para organiza\\u00e7\\u00e3o e cita\\u00e7\\u00e3o das suas refer\\u00eancias\\u201d\", \"Palestra: \\u201cComo estruturar a pesquisa para TCC, na base de dados Bireme\\u201d\", \"Palestra \\u201cA hist\\u00f3ria do livro\\u201d\", \"Banca da Ciranda!\", \"Palestra de abertura: \\u201cDesenvolver mediadores para a forma\\u00e7\\u00e3o de leitores\\u201d\", \"Palestra \\u201cNarrativas do s\\u00edtio e a arte de ouvir hist\\u00f3rias\\u201d, com Dr. L\\u00e9o Pires Ferreira\", \"Lan\\u00e7amento do livro \\u201cA Menina e a Planta\\u201d, de M\\u00e1rcia Paganini com ilustra\\u00e7\\u00e3o de Andr\\u00e9ia Vieira\", \"Filme-Debate \\u201cO Segredo De Eleonor\\u201d\", \"Exposi\\u00e7\\u00e3o Por Elas\", \"Conversa-Oficina \\u201cContar Hist\\u00f3rias para reinventar mundos\\u201d\", \"Palestra \\u201cTemas supremos e existenciais: morte, solid\\u00e3o, desejo e sexualidade no imagin\\u00e1rio infantil\\u201d, com Luis Henrique Mioto\", \"Debate \\u201cAs pol\\u00edticas p\\u00fablicas, as leis de incentivo e o papel do mercado na forma\\u00e7\\u00e3o de leitores\\u201d\", \"Palestra de encerramento \\u201cContar para transformar\\u201d\", \"Sarau Primaveral das Artes\", \"Oficina de \\\"n\\u00e3o-escrita\\\" criativa\", \"Encontro sobre Poesia e Sonoridade\", \"BRISA Te Convida: \\\"Balada de um Palha\\u00e7o\\\"\", \"Exposi\\u00e7\\u00e3o: \\u201cS\\u00f3 os TOPs: livros de literatura infantil e infantojuvenil premiados\\u201d\", \"Conta\\u00e7\\u00e3o de Hist\\u00f3rias com Fl\\u00e1via Harue\", \"Conta\\u00e7\\u00e3o de hist\\u00f3rias e Oficina de artes \\u201cO m\\u00e1gico japon\\u00eas\\u201d com Paulo Tio\", \"Wing\\u2019s St. James 2019\", \"ARTE- TRANSFORMA\\u00c7\\u00c3O\", \"Oficina de Origami com Origamito San\", \"Oficina de Origami com Origamito San\", \"Festival de Graffiti\", \"Festival de Graffiti\", \"Festival de Graffiti\", \"\\\"Terra Desmedida\\\" se apresenta no Conservat\\u00f3rio das Artes\", \"\\\"Terra Desmedida\\\" se apresenta no Cemit\\u00e9rio de Autom\\u00f3veis\", \"IXa MOSTRA DE M\\u00daSICA DE C\\u00c2MARA \\u201cCONCERTOS LONDRINA\\u201d\", \"IXa MOSTRA DE M\\u00daSICA DE C\\u00c2MARA \\u201cCONCERTOS LONDRINA\\u201d\", \"IXa MOSTRA DE M\\u00daSICA DE C\\u00c2MARA \\u201cCONCERTOS LONDRINA\\u201d\", \"IXa MOSTRA DE M\\u00daSICA DE C\\u00c2MARA \\u201cCONCERTOS LONDRINA\\u201d\", \"IXa MOSTRA DE M\\u00daSICA DE C\\u00c2MARA \\u201cCONCERTOS LONDRINA\\u201d\", \"Conex\\u00e3o Cidad\\u00e3\", \"FILO 50+1 - MOSTRA NACIONAL DE ARTES C\\u00caNICAS\", \"FILO 50+1 - MOSTRA NACIONAL DE ARTES C\\u00caNICAS\", \"FILO 50+1 - MOSTRA NACIONAL DE ARTES C\\u00caNICAS\", \"FILO 50+1 - MOSTRA NACIONAL DE ARTES C\\u00caNICAS\", \"FILO 50+1 - MOSTRA NACIONAL DE ARTES C\\u00caNICAS\", \"FILO 50+1 - MOSTRA NACIONAL DE ARTES C\\u00caNICAS\", \"FILO 50+1 - MOSTRA NACIONAL DE ARTES C\\u00caNICAS\", \"FILO 50+1 - MOSTRA NACIONAL DE ARTES C\\u00caNICAS\", \"FILO 50+1 - MOSTRA NACIONAL DE ARTES C\\u00caNICAS\", \"FILO 50+1 - MOSTRA NACIONAL DE ARTES C\\u00caNICAS\", \"FILO 50+1 - MOSTRA NACIONAL DE ARTES C\\u00caNICAS\", \"FILO 50+1 - MOSTRA NACIONAL DE ARTES C\\u00caNICAS\", \"FILO 50+1 - MOSTRA NACIONAL DE ARTES C\\u00caNICAS\", \"FILO 50+1 - MOSTRA NACIONAL DE ARTES C\\u00caNICAS\", \"FILO 50+1 - MOSTRA NACIONAL DE ARTES C\\u00caNICAS\", \"FILO 50+1 - MOSTRA NACIONAL DE ARTES C\\u00caNICAS\", \"FILO 50+1 - MOSTRA NACIONAL DE ARTES C\\u00caNICAS\", \"Sou mulher e n\\u00e3o serei outra coisa\", \"Sou mulher e n\\u00e3o serei outra coisa\", \"Exposi\\u00e7\\u00e3o Pol\\u00edcia Rodovi\\u00e1ria Federal\", \"O Caipira e o Causo do Capiroto\", \"O Caipira e o Causo do Capiroto\", \"SAIAS\", \"SAIAS\", \"SAIAS\", \"Espet\\u00e1culo Saias na Flapt\", \"Quizomba de Anivers\\u00e1rio - Zer\\u00e3o na gra\\u00e7a de Oxum\", \"\\\"COMETZ, BOHEMIAN RHAPSODY \\\"\", \"Projeto Cordas brasileiras\", \"SESS\\u00c3O KINOPUS Especial\", \"SESS\\u00c3O KINOPUS Especial\", \"SESS\\u00c3O KINOPUS Especial\", \"Lab Doc com o cineasta Paulo Sacramento\", \"SESS\\u00c3O KINOPUS Especial\", \"OFICINA Craft - ARTE E NATUREZA\", \"PITCHING do N\\u00facleo de dramaturgia Audiovisual\", \"BICHO DO MATO\", \"GRUPOS ORQUESTRAIS BRAVI\", \"PIANO EM FOCO\", \"Entrega do Projeto 25 Anos do Museu de Arte de Londrina\", \"Acordeon Universal Festival com Jo\\u00e3o Pedro Teixeira\", \"Clube de Leitura: A Caixa-Preta, de Am\\u00f3s Oz\", \"Ler\\u00c7: Conta\\u00e7\\u00e3o de Hist\\u00f3ria e Oficina para crian\\u00e7as\", \"Ler\\u00c7: Conta\\u00e7\\u00e3o de Hist\\u00f3ria e Oficina para crian\\u00e7as\", \"CineClube de Ter\\u00e7a: O Cidad\\u00e3o Ilustre (Arg, 2016)\", \"Clube de Leitura Plurais: Quem tem medo do feminismo negro, de Djamila Ribeiro\", \"Lan\\u00e7amento: As Reina\\u00e7\\u00f5es de Emilia, de Cassia Leslie\", \"Lan\\u00e7amento e aut\\u00f3grafos com Amilcar Bettega\", \"Caf\\u00e9 com Qu\\u00ea?: O rock no Brasil na d\\u00e9cada de 80 e suas rela\\u00e7\\u00f5es sociais, com Manuel In\\u00e1cio\", \"Exposi\\u00e7\\u00e3o \\\"Resgate\\\", de Cassio Kessler\", \"Espet\\u00e1culo SaiaS\", \"Espet\\u00e1culo SaiaS\", \"Espet\\u00e1culo SaiaS\", \"Espet\\u00e1culo SaiaS\", \"Espet\\u00e1culo SaiaS\", \"Espet\\u00e1culo SaiaS\", \"Espet\\u00e1culo Saias\", \"Espet\\u00e1culo SAIAS\", \"Espet\\u00e1culo SAIAS\", \"Espet\\u00e1culo SAIAS\", \"Espet\\u00e1culo SAIAS\", \"Espet\\u00e1culo \\\"PLANO 269\\\"\", \"Espet\\u00e1culo \\\"PLANO 269\\\"\", \"Literatura pra qu\\u00ea?\", \"Achados Liter\\u00e1rios\", \"Conta\\u00e7\\u00e3o de hist\\u00f3rias sobre o livro \\\"Super-her\\u00f3is em apuros\\\"\", \"Conta\\u00e7\\u00e3o da hist\\u00f3ria \\\"S\\u00edtio do Picapau Amarelo\\\"\", \"50 ANOS BANDA MARCIAL MARCELINO CHAMPAGNAT\", \"Arte-Transforma\\u00e7\\u00e3o na Educa\\u00e7\\u00e3o Infantil\"], \"y\": [\"Livro e Literatura\", \"Livro e Literatura\", \"Curso ou Oficina\", \"Curso ou Oficina\", \"Livro e Literatura, Palestra, Debate ou Encontro\", \"Palestra, Debate ou Encontro, Livro e Literatura\", \"Palestra, Debate ou Encontro, Livro e Literatura\", \"Livro e Literatura\", \"Livro e Literatura\", \"Livro e Literatura\", \"Livro e Literatura\", \"Artes Circenses\", \"Palestra, Debate ou Encontro, Livro e Literatura\", \"Exposi??o\", \"Exposi??o\", \"Livro e Literatura, Palestra, Debate ou Encontro\", \"Cultura Digital\", \"Outros, Livro e Literatura\", \"Palestra, Debate ou Encontro\", \"Livro e Literatura, Palestra, Debate ou Encontro\", \"Livro e Literatura\", \"Palestra, Debate ou Encontro\", \"M?sica Popular, M?sica Erudita\", \"M?sica Popular, M?sica Erudita\", \"M?sica Popular, M?sica Erudita\", \"M?sica Popular, M?sica Erudita\", \"M?sica Popular, M?sica Erudita\", \"M?sica Popular, M?sica Erudita\", \"M?sica Popular, M?sica Erudita\", \"M?sica Popular, M?sica Erudita\", \"M?sica Popular, M?sica Erudita\", \"M?sica Popular, M?sica Erudita\", \"Hip Hop, Curso ou Oficina, M?sica Popular, Palestra, Debate ou Encontro, Teatro, Livro e Literatura\", \"Hip Hop, Curso ou Oficina, M?sica Popular, Palestra, Debate ou Encontro, Teatro, Livro e Literatura\", \"Hip Hop, Curso ou Oficina, M?sica Popular, Palestra, Debate ou Encontro, Teatro, Livro e Literatura\", \"M?sica Popular\", \"M?sica Popular\", \"M?sica Popular\", \"M?sica Popular\", \"Artes Visuais, Exposi??o\", \"Artes Integradas\", \"Artes Integradas\", \"Livro e Literatura\", \"Teatro, Artes Circenses\", \"Teatro, Artes Circenses\", \"M?sica Popular, Teatro, Artes Circenses\", \"Teatro\", \"Artes Visuais\", \"M?sica Popular, Livro e Literatura\", \"Artes Visuais, Livro e Literatura\", \"Artes Visuais\", \"Artes Visuais\", \"Artes Integradas\", \"Dan?a, Teatro\", \"Dan?a, Teatro\", \"Cultura Ind?gena, Audiovisual, Livro e Literatura, Artes Visuais\", \"Livro e Literatura\", \"Curso ou Oficina, M?sica Popular\", \"Palestra, Debate ou Encontro, M?sica Popular\", \"Artes Integradas\", \"Artes Integradas\", \"Teatro, Artes Circenses\", \"Teatro, Artes Circenses\", \"Livro e Literatura\", \"M?sica Popular\", \"Palestra, Debate ou Encontro\", \"Exposi??o\", \"Cultura Tradicional\", \"Cultura Tradicional\", \"Cultura Tradicional\", \"Hip Hop\", \"Hip Hop\", \"Hip Hop\", \"Outros\", \"Outros\", \"Outros\", \"Outros\", \"Outros\", \"Outros\", \"Outros\", \"Outros\", \"Outros\", \"Outros\", \"Outros\", \"Dan?a, Teatro\", \"Livro e Literatura\", \"Livro e Literatura\", \"Livro e Literatura\", \"Livro e Literatura\", \"Livro e Literatura\", \"Artes Visuais\", \"Artes Integradas\", \"M?sica Popular, Dan?a, Artes Integradas\", \"M?sica Popular, Dan?a, Artes Integradas\", \"M?sica Popular\", \"Palestra, Debate ou Encontro\", \"Palestra, Debate ou Encontro\", \"Palestra, Debate ou Encontro\", \"Palestra, Debate ou Encontro\", \"Palestra, Debate ou Encontro\", \"Palestra, Debate ou Encontro\", \"Palestra, Debate ou Encontro\", \"Palestra, Debate ou Encontro\", \"Palestra, Debate ou Encontro\", \"Palestra, Debate ou Encontro\", \"Exposi??o, Livro e Literatura\", \"M?sica Popular\", \"M?sica Popular\", \"M?sica Popular\", \"M?sica Popular\", \"M?sica Popular\", \"Livro e Literatura\", \"Livro e Literatura\", \"Artes Visuais, Livro e Literatura\", \"Teatro\", \"Teatro, Artes Circenses, M?sica Popular, Artes Integradas\", \"Teatro, Artes Circenses, M?sica Popular, Artes Integradas\", \"Teatro, Artes Circenses, M?sica Popular, Artes Integradas\", \"Teatro, Artes Circenses, M?sica Popular, Artes Integradas\", \"Teatro, Artes Circenses, M?sica Popular, Artes Integradas\", \"Teatro, Artes Circenses, M?sica Popular, Artes Integradas\", \"Teatro, Artes Circenses, M?sica Popular, Artes Integradas\", \"Teatro, Artes Circenses, M?sica Popular, Artes Integradas\", \"Teatro, Artes Circenses, M?sica Popular, Artes Integradas\", \"Teatro, Artes Circenses, M?sica Popular, Artes Integradas\", \"Teatro, Artes Circenses, M?sica Popular, Artes Integradas\", \"Livro e Literatura\", \"Artes Circenses, Dan?a\", \"Artes Circenses\", \"Artes Circenses\", \"Artes Circenses\", \"Artes Circenses\", \"Artes Circenses\", \"Artes Circenses\", \"Artes Circenses\", \"Artes Circenses\", \"Artes Circenses\", \"Artes Circenses\", \"Palestra, Debate ou Encontro, Livro e Literatura, Curso ou Oficina\", \"Palestra, Debate ou Encontro, Livro e Literatura, Curso ou Oficina\", \"Cultura Tradicional\", \"Cultura Tradicional, M?sica Popular, Artes Integradas\", \"M?sica Erudita\", \"Artes Integradas\", \"Livro e Literatura, Palestra, Debate ou Encontro\", \"Exposi??o, Artes Visuais\", \"Exposi??o, Artes Visuais\", \"Outros, Cultura Tradicional, M?sica Popular\", \"Outros, Cultura Tradicional, M?sica Popular\", \"Curso ou Oficina, Palestra, Debate ou Encontro, Dan?a, Artes Integradas, Artes Visuais, Teatro, Outros\", \"Curso ou Oficina, Palestra, Debate ou Encontro, Dan?a, Artes Integradas, Artes Visuais, Teatro, Outros\", \"M?sica Popular, Artes Visuais, Artes Integradas, Artes Circenses\", \"M?sica Popular\", \"M?sica Erudita\", \"Artes Visuais\", \"Artes Visuais\", \"Artes Visuais\", \"Artes Visuais\", \"Artes Visuais\", \"Artes Visuais\", \"Artes Visuais\", \"Artes Visuais\", \"Outros, Palestra, Debate ou Encontro, Curso ou Oficina, Artes Visuais, Artes Integradas, Dan?a, Teatro\", \"Outros, Palestra, Debate ou Encontro, Curso ou Oficina, Artes Visuais, Artes Integradas, Dan?a, Teatro\", \"Outros, Palestra, Debate ou Encontro, Curso ou Oficina, Artes Visuais, Artes Integradas, Dan?a, Teatro\", \"Outros, Palestra, Debate ou Encontro, Curso ou Oficina, Artes Visuais, Artes Integradas, Dan?a, Teatro\", \"Artes Integradas\", \"Teatro, Artes Circenses\", \"Livro e Literatura, Palestra, Debate ou Encontro\", \"Livro e Literatura\", \"Livro e Literatura\", \"Livro e Literatura\", \"Livro e Literatura\", \"M?sica Popular\", \"M?sica Popular\", \"M?sica Popular\", \"Teatro, Artes Circenses\", \"Exposi??o, Curso ou Oficina, Artes Visuais, Artes Integradas\", \"Curso ou Oficina, Artes Visuais, Artes Integradas\", \"Curso ou Oficina, Artes Visuais, Artes Integradas\", \"Curso ou Oficina, Artes Visuais, Artes Integradas\", \"Livro e Literatura\", \"Artes Visuais, Livro e Literatura\", \"M?sica Popular, Livro e Literatura\", \"Dan?a, Hip Hop\", \"Dan?a, Hip Hop\", \"M?sica Erudita\", \"Artes Integradas, Dan?a, M?sica Popular, Cultura Tradicional\", \"Livro e Literatura\", \"Livro e Literatura\", \"Livro e Literatura\", \"Livro e Literatura\", \"Exposi??o, Artes Visuais\", \"Outros\", \"M?sica Popular\", \"M?sica Popular\", \"M?sica Popular\", \"M?sica Popular\", \"M?sica Popular, M?sica Erudita\", \"Dan?a, M?sica Popular, M?sica Erudita\", \"M?sica Popular, Dan?a, Artes Integradas, Cultura Tradicional\", \"Teatro\", \"Teatro\", \"Artes Integradas, Palestra, Debate ou Encontro, Curso ou Oficina\", \"Livro e Literatura\", \"Artes Visuais\", \"Artes Visuais\", \"Artes Visuais\", \"Artes Visuais\", \"Livro e Literatura\", \"Livro e Literatura\", \"Artes Visuais, Livro e Literatura\", \"Livro e Literatura\", \"M?sica Erudita\", \"M?sica Popular, Cultura Ind?gena, Cultura Tradicional\", \"M?sica Popular, Artes Integradas, Cultura Ind?gena, Cultura Tradicional\", \"M?sica Popular, Artes Integradas, Cultura Ind?gena, Cultura Tradicional\", \"M?sica Popular, Artes Integradas, Cultura Ind?gena, Cultura Tradicional\", \"Outros\", \"Outros\", \"Curso ou Oficina, Artes Integradas, Hip Hop, Dan?a\", \"Teatro\", \"Teatro\", \"Teatro\", \"Teatro\", \"Teatro\", \"Teatro\", \"Teatro\", \"Teatro\", \"Teatro\", \"Teatro\", \"Teatro\", \"Teatro\", \"Teatro\", \"Artes Visuais, Artes Circenses, Artes Integradas, Teatro, Cultura Digital, Cultura Tradicional\", \"Exposi??o, Palestra, Debate ou Encontro, Cultura Tradicional\", \"Exposi??o, Palestra, Debate ou Encontro, Cultura Tradicional\", \"Exposi??o, Palestra, Debate ou Encontro, Cultura Tradicional\", \"Exposi??o, Palestra, Debate ou Encontro, Cultura Tradicional\", \"Exposi??o, Palestra, Debate ou Encontro, Cultura Tradicional\", \"Exposi??o, Palestra, Debate ou Encontro, Cultura Tradicional\", \"Exposi??o, Palestra, Debate ou Encontro, Cultura Tradicional\", \"Exposi??o, Palestra, Debate ou Encontro, Cultura Tradicional\", \"Curso ou Oficina, Artes Visuais\", \"Exposi??o\", \"Palestra, Debate ou Encontro\", \"M?sica Popular\", \"Livro e Literatura, Teatro\", \"Teatro\", \"Palestra, Debate ou Encontro\", \"Curso ou Oficina\", \"Livro e Literatura\", \"Artes Visuais, Livro e Literatura\", \"M?sica Erudita\", \"Artes Visuais, Livro e Literatura\", \"Artes Visuais\", \"Artes Visuais, Livro e Literatura\", \"Palestra, Debate ou Encontro, Dan?a, Teatro\", \"Artes Visuais, Palestra, Debate ou Encontro, Exposi??o\", \"Palestra, Debate ou Encontro, Dan?a, Teatro\", \"Cultura Tradicional, Palestra, Debate ou Encontro\", \"Cultura Tradicional, Palestra, Debate ou Encontro\", \"Cultura Tradicional, Palestra, Debate ou Encontro\", \"Artes Integradas, Dan?a, Artes Visuais, Teatro\", \"Artes Integradas, Dan?a, Artes Visuais, Teatro\", \"Artes Integradas, Dan?a, Artes Visuais, Teatro\", \"Artes Integradas, Dan?a, Artes Visuais, Teatro\", \"Artes Integradas, Dan?a, Artes Visuais, Teatro\", \"Artes Integradas, Dan?a, Artes Visuais, Teatro\", \"M?sica Popular, M?sica Erudita\", \"Audiovisual, M?sica Popular, Curso ou Oficina\", \"M?sica Erudita\", \"Cultura Tradicional\", \"Palestra, Debate ou Encontro, Livro e Literatura\", \"Livro e Literatura, Palestra, Debate ou Encontro\", \"Palestra, Debate ou Encontro, Livro e Literatura\", \"M?sica Erudita\", \"Outros\", \"Livro e Literatura, Teatro\", \"Artes Integradas, Palestra, Debate ou Encontro, Curso ou Oficina\", \"Curso ou Oficina, Artes Integradas\", \"Teatro\", \"Teatro\", \"Teatro\", \"Artes Circenses\", \"Artes Visuais\", \"Artes Visuais\", \"Artes Visuais\", \"Curso ou Oficina, Teatro\", \"Artes Integradas, Exposi??o, Artes Visuais\", \"Cultura Tradicional\", \"Artes Circenses\", \"M?sica Popular, Dan?a, Cultura Tradicional\", \"M?sica Popular, Dan?a, Cultura Tradicional\", \"M?sica Popular, Dan?a, Cultura Tradicional\", \"M?sica Popular, M?sica Erudita\", \"Artes Circenses\", \"Artes Circenses\", \"Artes Circenses\", \"Artes Circenses\", \"Artes Circenses\", \"Artes Circenses\", \"Artes Circenses\", \"Artes Circenses\", \"Artes Circenses\", \"Artes Circenses\", \"Teatro\", \"Teatro\", \"Teatro\", \"Teatro\", \"Cultura Tradicional, Palestra, Debate ou Encontro, M?sica Erudita, M?sica Popular\", \"Exposi??o\", \"Palestra, Debate ou Encontro\", \"Livro e Literatura\", \"Livro e Literatura\", \"M?sica Popular, Livro e Literatura\", \"M?sica Erudita\", \"M?sica Erudita\", \"M?sica Popular, Cultura Tradicional\", \"Palestra, Debate ou Encontro, Cultura Tradicional, M?sica Popular\", \"Artes Integradas, Teatro\", \"Artes Integradas, M?sica Popular\", \"Cultura Tradicional\", \"Livro e Literatura\", \"Teatro\", \"Teatro\", \"Teatro\", \"Livro e Literatura\", \"M?sica Popular\", \"Livro e Literatura\", \"Livro e Literatura\", \"Curso ou Oficina, Teatro\", \"Curso ou Oficina, Teatro\", \"Curso ou Oficina, Teatro\", \"Curso ou Oficina, Teatro\", \"Cultura Tradicional, M?sica Popular\", \"Livro e Literatura\", \"Livro e Literatura\", \"Livro e Literatura\", \"M?sica Popular, M?sica Erudita\", \"M?sica Popular, M?sica Erudita\", \"M?sica Popular, M?sica Erudita\", \"M?sica Popular, M?sica Erudita\", \"Livro e Literatura, Teatro, M?sica Popular\", \"Livro e Literatura, Teatro, M?sica Popular\", \"M?sica Erudita, Teatro, Cultura Tradicional\", \"Livro e Literatura\", \"Livro e Literatura\", \"Artes Circenses, Teatro\", \"Teatro\", \"Teatro\", \"Curso ou Oficina\", \"Livro e Literatura, Artes Visuais\", \"Cultura Tradicional\", \"Cultura Tradicional\", \"Teatro\", \"Teatro\", \"M?sica Erudita\", \"Livro e Literatura\", \"Curso ou Oficina, Artes Integradas\", \"Curso ou Oficina, Artes Integradas\", \"Curso ou Oficina, Artes Integradas\", \"Curso ou Oficina, Artes Integradas\", \"Curso ou Oficina, Artes Integradas\", \"Livro e Literatura\", \"Artes Visuais, Curso ou Oficina\", \"Outros, M?sica Popular, Cultura Tradicional\", \"M?sica Erudita\", \"M?sica Erudita\", \"M?sica Erudita\", \"M?sica Erudita\", \"M?sica Erudita\", \"M?sica Erudita\", \"M?sica Erudita\", \"M?sica Popular\", \"M?sica Popular\", \"M?sica Popular\", \"M?sica Erudita\", \"M?sica Popular\", \"M?sica Popular\", \"M?sica Popular\", \"M?sica Erudita\", \"M?sica Erudita\", \"M?sica Popular\", \"M?sica Popular\", \"M?sica Popular\", \"M?sica Popular\", \"Palestra, Debate ou Encontro\", \"Outros\", \"M?sica Popular, Artes Circenses, Teatro\", \"Livro e Literatura\", \"Artes Integradas\", \"Outros\", \"Teatro\", \"Teatro\", \"M?sica Erudita\", \"M?sica Erudita\", \"M?sica Popular\", \"M?sica Popular\", \"M?sica Popular\", \"M?sica Erudita\", \"M?sica Erudita\", \"M?sica Erudita\", \"M?sica Erudita\", \"M?sica Popular\", \"M?sica Popular, Livro e Literatura\", \"M?sica Erudita\", \"M?sica Popular\", \"M?sica Popular\", \"M?sica Erudita\", \"M?sica Popular\", \"M?sica Popular\", \"M?sica Popular\", \"M?sica Popular\", \"M?sica Popular\", \"M?sica Popular\", \"M?sica Erudita\", \"M?sica Erudita\", \"M?sica Popular\", \"M?sica Popular\", \"M?sica Popular\", \"M?sica Erudita\", \"M?sica Popular, Cinema\", \"M?sica Erudita\", \"M?sica Popular\", \"M?sica Erudita\", \"M?sica Erudita\", \"M?sica Popular\", \"M?sica Erudita\", \"M?sica Popular\", \"M?sica Popular, Teatro\", \"M?sica Erudita\", \"Exposi??o\", \"M?sica Popular\", \"Palestra, Debate ou Encontro, Livro e Literatura\", \"Teatro\", \"Teatro, Artes Circenses\", \"Curso ou Oficina, Artes Circenses, Teatro\", \"Curso ou Oficina, Teatro, Artes Circenses\", \"Curso ou Oficina, Teatro, Artes Circenses\", \"Cultura Tradicional, Artes Integradas, M?sica Popular\", \"Dan?a, Hip Hop\", \"Dan?a, Hip Hop\", \"Livro e Literatura\", \"Livro e Literatura\", \"Livro e Literatura\", \"Livro e Literatura\", \"Livro e Literatura, Exposi??o\", \"Cultura Tradicional\", \"Cultura Tradicional\", \"Cultura Tradicional\", \"Exposi??o\", \"Teatro\", \"M?sica Erudita\", \"Outros, M?sica Popular\", \"Curso ou Oficina\", \"Artes Integradas, Artes Circenses, Teatro, Palestra, Debate ou Encontro, Curso ou Oficina\", \"Curso ou Oficina, M?sica Popular, Artes Integradas\", \"Teatro\", \"Teatro\", \"Livro e Literatura, Teatro\", \"Curso ou Oficina, Artes Visuais\", \"M?sica Popular\", \"M?sica Popular, Cultura Tradicional\", \"Audiovisual, M?sica Popular, Cinema\", \"Artes Integradas\", \"Artes Integradas\", \"Artes Integradas\", \"Artes Integradas\", \"R?dio, Outros, Hip Hop, Cultura Digital, Artes Integradas, M?sica Popular\", \"M?sica Popular, M?sica Erudita\", \"Outros\", \"Livro e Literatura, Exposi??o\", \"M?sica Popular, Cultura Tradicional\", \"M?sica Popular, Cultura Tradicional\", \"Artes Integradas\", \"M?sica Popular\", \"M?sica Erudita\", \"Palestra, Debate ou Encontro, Livro e Literatura\", \"Artes Circenses, Curso ou Oficina\", \"Teatro, Artes Circenses\", \"Teatro\", \"Outros, Livro e Literatura, M?sica Popular, Curso ou Oficina, Teatro, Artes Circenses\", \"Outros, Livro e Literatura, M?sica Popular, Curso ou Oficina, Teatro, Artes Circenses\", \"Outros, Livro e Literatura, M?sica Popular, Curso ou Oficina, Teatro, Artes Circenses\", \"Artes Visuais, Livro e Literatura\", \"Teatro, M?sica Popular\", \"Curso ou Oficina\", \"Cultura Tradicional, M?sica Popular\", \"Palestra, Debate ou Encontro, Livro e Literatura\", \"Exposi??o, Artes Visuais\", \"M?sica Erudita\", \"Teatro, M?sica Popular\", \"Teatro, M?sica Popular\", \"Outros, Exposi??o, Cultura Tradicional, Artes Visuais, Palestra, Debate ou Encontro\", \"Outros, Exposi??o, Cultura Tradicional, Artes Visuais, Palestra, Debate ou Encontro\", \"Teatro\", \"Livro e Literatura\", \"Teatro\", \"M?sica Popular\", \"Exposi??o\", \"Teatro\", \"Palestra, Debate ou Encontro, Livro e Literatura\", \"M?sica Popular, Teatro\", \"Palestra, Debate ou Encontro, Dan?a, Artes Visuais, Artes Integradas, Teatro\", \"Palestra, Debate ou Encontro, Dan?a, Artes Visuais, Artes Integradas, Teatro\", \"Outros, Dan?a, Cultura Tradicional, Teatro\", \"M?sica Erudita, M?sica Popular\", \"Cultura Tradicional, Dan?a, Teatro\", \"Exposi??o\", \"Teatro\", \"M?sica Popular, Artes Visuais\", \"Livro e Literatura\", \"Teatro\", \"Teatro\", \"Teatro\", \"R?dio, Outros, Exposi??o, Curso ou Oficina, Cultura Digital, Audiovisual, Artes Integradas, Teatro, Palestra, Debate ou Encontro, M?sica Popular, M?sica Erudita, Livro e Literatura, Hip Hop, Dan?a, Cultura Tradicional, Cultura Ind?gena, Cinema, Artes Visuais, Artes Circenses\", \"R?dio, Outros, Exposi??o, Curso ou Oficina, Cultura Digital, Audiovisual, Artes Integradas, Teatro, Palestra, Debate ou Encontro, M?sica Popular, M?sica Erudita, Livro e Literatura, Hip Hop, Dan?a, Cultura Tradicional, Cultura Ind?gena, Cinema, Artes Visuais, Artes Circenses\", \"Palestra, Debate ou Encontro, Livro e Literatura\", \"Curso ou Oficina, Artes Integradas\", \"Livro e Literatura\", \"Exposi??o\", \"Exposi??o\", \"Exposi??o\", \"Curso ou Oficina, Cultura Tradicional, Artes Integradas\", \"Curso ou Oficina, Cultura Tradicional, Artes Integradas\", \"Livro e Literatura\", \"M?sica Erudita\", \"Teatro\", \"Teatro\", \"Teatro\", \"Teatro\", \"Outros\", \"Outros\", \"Palestra, Debate ou Encontro\", \"Outros, Artes Visuais\", \"Outros, Artes Visuais\", \"Outros, Artes Visuais\", \"Outros, Artes Visuais\", \"Outros, Artes Visuais\", \"Outros, Artes Visuais\", \"Outros, M?sica Popular, Dan?a, Artes Visuais, Artes Circenses\", \"M?sica Popular, Dan?a, Outros\", \"M?sica Erudita\", \"M?sica Erudita\", \"Teatro, Artes Integradas, Dan?a, M?sica Popular, Cultura Tradicional\", \"M?sica Popular, Curso ou Oficina, Cultura Tradicional\", \"M?sica Erudita\", \"Artes Integradas, Palestra, Debate ou Encontro\", \"Artes Circenses, Teatro\", \"Artes Circenses, Teatro\", \"Artes Circenses, Teatro\", \"Artes Circenses, Teatro\", \"Artes Visuais, Livro e Literatura\", \"Livro e Literatura\", \"Livro e Literatura\", \"Teatro, M?sica Popular, M?sica Erudita\", \"Dan?a\", \"Exposi??o, Dan?a, Artes Integradas, Artes Visuais, M?sica Popular\", \"M?sica Erudita\", \"Artes Circenses, Teatro\", \"Artes Circenses, Teatro\", \"Exposi??o\", \"Exposi??o\", \"Artes Visuais\", \"Livro e Literatura, Exposi??o\", \"Exposi??o\", \"Teatro, M?sica Popular\", \"Outros\", \"Outros\", \"Artes Integradas, Teatro, Dan?a\", \"Artes Integradas, Teatro, Dan?a\", \"Dan?a\", \"Teatro, Artes Circenses\", \"Livro e Literatura\", \"Teatro, Dan?a, Artes Integradas\", \"Teatro, Dan?a, Artes Integradas\", \"Teatro, Artes Integradas, Dan?a\", \"Teatro, Artes Integradas, Dan?a\", \"Teatro, Artes Integradas, Dan?a\", \"Teatro, Dan?a, Artes Integradas\", \"Teatro, Dan?a, Hip Hop, Artes Integradas\", \"Teatro, Dan?a, Artes Integradas\", \"Teatro, Dan?a, Artes Integradas\", \"Teatro, Artes Integradas, Dan?a\", \"Teatro, Artes Integradas, Dan?a\", \"M?sica Popular, Teatro, Dan?a, Artes Integradas\", \"Teatro, Dan?a, Artes Integradas\", \"Curso ou Oficina, Dan?a\", \"Artes Integradas, Teatro, Dan?a\", \"Palestra, Debate ou Encontro, Livro e Literatura\", \"Outros\", \"Artes Integradas, Teatro, Dan?a, Curso ou Oficina\", \"Artes Integradas, Teatro, Dan?a, Curso ou Oficina\", \"Exposi??o\", \"Cinema, Livro e Literatura\", \"Outros\", \"Palestra, Debate ou Encontro\", \"Palestra, Debate ou Encontro\", \"Curso ou Oficina, Livro e Literatura\", \"Livro e Literatura\", \"Artes Integradas, Dan?a, Hip Hop, Artes Visuais, M?sica Popular\", \"Artes Integradas, Dan?a, Hip Hop, Artes Visuais, M?sica Popular\", \"Artes Integradas\", \"Outros\", \"Dan?a\", \"M?sica Popular\", \"Livro e Literatura\", \"M?sica Popular, M?sica Erudita\", \"Livro e Literatura\", \"Livro e Literatura, Curso ou Oficina\", \"Teatro, Outros, Cinema, Artes Integradas, Cultura Digital, Audiovisual, Artes Visuais\", \"Teatro\", \"Teatro\", \"Teatro\", \"Teatro\", \"Teatro\", \"Teatro\", \"Livro e Literatura\", \"Livro e Literatura\", \"Outros, M?sica Popular, Teatro, Artes Visuais, Artes Circenses\", \"M?sica Popular\", \"Livro e Literatura, Curso ou Oficina\", \"M?sica Erudita\", \"Curso ou Oficina, Livro e Literatura\", \"Outros, Dan?a, Cultura Digital, Artes Visuais\", \"Outros, Dan?a, Cultura Digital, Artes Visuais\", \"Livro e Literatura\", \"Livro e Literatura\", \"Dan?a\", \"Palestra, Debate ou Encontro\", \"Palestra, Debate ou Encontro\", \"Curso ou Oficina\", \"Livro e Literatura\", \"Curso ou Oficina\", \"Curso ou Oficina\", \"Livro e Literatura\", \"Dan?a\", \"Dan?a\", \"Artes Visuais, Artes Circenses, Teatro\", \"Artes Visuais, Artes Circenses, Teatro\", \"Curso ou Oficina\", \"Livro e Literatura\", \"Livro e Literatura\", \"Livro e Literatura\", \"Exposi??o\", \"Exposi??o\", \"Livro e Literatura\", \"Palestra, Debate ou Encontro\", \"Outros\", \"Palestra, Debate ou Encontro\", \"Livro e Literatura, Palestra, Debate ou Encontro\", \"Livro e Literatura\", \"Palestra, Debate ou Encontro\", \"Palestra, Debate ou Encontro, Livro e Literatura\", \"Livro e Literatura\", \"Palestra, Debate ou Encontro, Cinema\", \"Exposi??o\", \"Curso ou Oficina\", \"Palestra, Debate ou Encontro\", \"Palestra, Debate ou Encontro\", \"Palestra, Debate ou Encontro, Livro e Literatura\", \"Livro e Literatura, Artes Visuais, Dan?a, Cinema, M?sica Popular, Teatro\", \"Outros\", \"Outros\", \"Teatro\", \"Livro e Literatura, Exposi??o\", \"Livro e Literatura\", \"Livro e Literatura\", \"Outros\", \"Palestra, Debate ou Encontro, Exposi??o\", \"Curso ou Oficina\", \"Curso ou Oficina\", \"Exposi??o, Hip Hop, Artes Visuais\", \"Exposi??o, Hip Hop, Artes Visuais\", \"Exposi??o, Hip Hop, Artes Visuais\", \"Teatro\", \"Teatro\", \"M?sica Erudita\", \"M?sica Erudita\", \"M?sica Erudita\", \"M?sica Erudita\", \"M?sica Erudita\", \"Artes Integradas\", \"Curso ou Oficina, M?sica Popular, Artes Circenses, Teatro\", \"Curso ou Oficina, M?sica Popular, Artes Circenses, Teatro\", \"Curso ou Oficina, M?sica Popular, Artes Circenses, Teatro\", \"Curso ou Oficina, M?sica Popular, Artes Circenses, Teatro\", \"Curso ou Oficina, M?sica Popular, Artes Circenses, Teatro\", \"Curso ou Oficina, M?sica Popular, Artes Circenses, Teatro\", \"Curso ou Oficina, M?sica Popular, Artes Circenses, Teatro\", \"Curso ou Oficina, M?sica Popular, Artes Circenses, Teatro\", \"Curso ou Oficina, M?sica Popular, Artes Circenses, Teatro\", \"Curso ou Oficina, M?sica Popular, Artes Circenses, Teatro\", \"Curso ou Oficina, M?sica Popular, Artes Circenses, Teatro\", \"Curso ou Oficina, M?sica Popular, Artes Circenses, Teatro\", \"Curso ou Oficina, M?sica Popular, Artes Circenses, Teatro\", \"Curso ou Oficina, M?sica Popular, Artes Circenses, Teatro\", \"Curso ou Oficina, M?sica Popular, Artes Circenses, Teatro\", \"Curso ou Oficina, M?sica Popular, Artes Circenses, Teatro\", \"Curso ou Oficina, M?sica Popular, Artes Circenses, Teatro\", \"Teatro\", \"Teatro\", \"Exposi??o\", \"Teatro, M?sica Popular\", \"Teatro, M?sica Popular\", \"Teatro\", \"Teatro\", \"Teatro\", \"Teatro\", \"M?sica Popular, Cultura Tradicional\", \"M?sica Popular\", \"M?sica Popular\", \"Cinema\", \"Cinema\", \"Cinema\", \"Cinema\", \"Cinema\", \"Artes Visuais\", \"Cinema\", \"M?sica Popular\", \"M?sica Erudita\", \"M?sica Erudita\", \"Exposi??o\", \"M?sica Popular\", \"Livro e Literatura, Palestra, Debate ou Encontro\", \"Artes Integradas, Curso ou Oficina, Livro e Literatura\", \"Artes Integradas, Curso ou Oficina, Livro e Literatura\", \"Palestra, Debate ou Encontro, Cinema\", \"Palestra, Debate ou Encontro, Livro e Literatura\", \"Palestra, Debate ou Encontro, Livro e Literatura\", \"Palestra, Debate ou Encontro, Livro e Literatura\", \"Palestra, Debate ou Encontro, M?sica Popular, Livro e Literatura\", \"Artes Visuais, Palestra, Debate ou Encontro, Exposi??o\", \"Teatro\", \"Teatro\", \"Teatro\", \"Teatro\", \"Teatro\", \"Teatro\", \"Teatro\", \"Teatro\", \"Teatro\", \"Teatro\", \"Teatro\", \"Teatro\", \"Teatro\", \"Livro e Literatura\", \"Livro e Literatura\", \"Livro e Literatura\", \"Livro e Literatura\", \"M?sica Popular\", \"Exposi??o, Audiovisual\"]}],\n",
       "                        {\"template\": {\"data\": {\"bar\": [{\"error_x\": {\"color\": \"#2a3f5f\"}, \"error_y\": {\"color\": \"#2a3f5f\"}, \"marker\": {\"line\": {\"color\": \"#E5ECF6\", \"width\": 0.5}}, \"type\": \"bar\"}], \"barpolar\": [{\"marker\": {\"line\": {\"color\": \"#E5ECF6\", \"width\": 0.5}}, \"type\": \"barpolar\"}], \"carpet\": [{\"aaxis\": {\"endlinecolor\": \"#2a3f5f\", \"gridcolor\": \"white\", \"linecolor\": \"white\", \"minorgridcolor\": \"white\", \"startlinecolor\": \"#2a3f5f\"}, \"baxis\": {\"endlinecolor\": \"#2a3f5f\", \"gridcolor\": \"white\", \"linecolor\": \"white\", \"minorgridcolor\": \"white\", \"startlinecolor\": \"#2a3f5f\"}, \"type\": \"carpet\"}], \"choropleth\": [{\"colorbar\": {\"outlinewidth\": 0, \"ticks\": \"\"}, \"type\": \"choropleth\"}], \"contour\": [{\"colorbar\": {\"outlinewidth\": 0, \"ticks\": \"\"}, \"colorscale\": [[0.0, \"#0d0887\"], [0.1111111111111111, \"#46039f\"], [0.2222222222222222, \"#7201a8\"], [0.3333333333333333, \"#9c179e\"], [0.4444444444444444, \"#bd3786\"], [0.5555555555555556, \"#d8576b\"], [0.6666666666666666, \"#ed7953\"], [0.7777777777777778, \"#fb9f3a\"], [0.8888888888888888, \"#fdca26\"], [1.0, \"#f0f921\"]], \"type\": \"contour\"}], \"contourcarpet\": [{\"colorbar\": {\"outlinewidth\": 0, \"ticks\": \"\"}, \"type\": \"contourcarpet\"}], \"heatmap\": [{\"colorbar\": {\"outlinewidth\": 0, \"ticks\": \"\"}, \"colorscale\": [[0.0, \"#0d0887\"], [0.1111111111111111, \"#46039f\"], [0.2222222222222222, \"#7201a8\"], [0.3333333333333333, \"#9c179e\"], [0.4444444444444444, \"#bd3786\"], [0.5555555555555556, \"#d8576b\"], [0.6666666666666666, \"#ed7953\"], [0.7777777777777778, \"#fb9f3a\"], [0.8888888888888888, \"#fdca26\"], [1.0, \"#f0f921\"]], \"type\": \"heatmap\"}], \"heatmapgl\": [{\"colorbar\": {\"outlinewidth\": 0, \"ticks\": \"\"}, \"colorscale\": [[0.0, \"#0d0887\"], [0.1111111111111111, \"#46039f\"], [0.2222222222222222, \"#7201a8\"], [0.3333333333333333, \"#9c179e\"], [0.4444444444444444, \"#bd3786\"], [0.5555555555555556, \"#d8576b\"], [0.6666666666666666, \"#ed7953\"], [0.7777777777777778, \"#fb9f3a\"], [0.8888888888888888, \"#fdca26\"], [1.0, \"#f0f921\"]], \"type\": \"heatmapgl\"}], \"histogram\": [{\"marker\": {\"colorbar\": {\"outlinewidth\": 0, \"ticks\": \"\"}}, \"type\": \"histogram\"}], \"histogram2d\": [{\"colorbar\": {\"outlinewidth\": 0, \"ticks\": \"\"}, \"colorscale\": [[0.0, \"#0d0887\"], [0.1111111111111111, \"#46039f\"], [0.2222222222222222, \"#7201a8\"], [0.3333333333333333, \"#9c179e\"], [0.4444444444444444, \"#bd3786\"], [0.5555555555555556, \"#d8576b\"], [0.6666666666666666, \"#ed7953\"], [0.7777777777777778, \"#fb9f3a\"], [0.8888888888888888, \"#fdca26\"], [1.0, \"#f0f921\"]], \"type\": \"histogram2d\"}], \"histogram2dcontour\": [{\"colorbar\": {\"outlinewidth\": 0, \"ticks\": \"\"}, \"colorscale\": [[0.0, \"#0d0887\"], [0.1111111111111111, \"#46039f\"], [0.2222222222222222, \"#7201a8\"], [0.3333333333333333, \"#9c179e\"], [0.4444444444444444, \"#bd3786\"], [0.5555555555555556, \"#d8576b\"], [0.6666666666666666, \"#ed7953\"], [0.7777777777777778, \"#fb9f3a\"], [0.8888888888888888, \"#fdca26\"], [1.0, \"#f0f921\"]], \"type\": \"histogram2dcontour\"}], \"mesh3d\": [{\"colorbar\": {\"outlinewidth\": 0, \"ticks\": \"\"}, \"type\": \"mesh3d\"}], \"parcoords\": [{\"line\": {\"colorbar\": {\"outlinewidth\": 0, \"ticks\": \"\"}}, \"type\": \"parcoords\"}], \"scatter\": [{\"marker\": {\"colorbar\": {\"outlinewidth\": 0, \"ticks\": \"\"}}, \"type\": \"scatter\"}], \"scatter3d\": [{\"line\": {\"colorbar\": {\"outlinewidth\": 0, \"ticks\": \"\"}}, \"marker\": {\"colorbar\": {\"outlinewidth\": 0, \"ticks\": \"\"}}, \"type\": \"scatter3d\"}], \"scattercarpet\": [{\"marker\": {\"colorbar\": {\"outlinewidth\": 0, \"ticks\": \"\"}}, \"type\": \"scattercarpet\"}], \"scattergeo\": [{\"marker\": {\"colorbar\": {\"outlinewidth\": 0, \"ticks\": \"\"}}, \"type\": \"scattergeo\"}], \"scattergl\": [{\"marker\": {\"colorbar\": {\"outlinewidth\": 0, \"ticks\": \"\"}}, \"type\": \"scattergl\"}], \"scattermapbox\": [{\"marker\": {\"colorbar\": {\"outlinewidth\": 0, \"ticks\": \"\"}}, \"type\": \"scattermapbox\"}], \"scatterpolar\": [{\"marker\": {\"colorbar\": {\"outlinewidth\": 0, \"ticks\": \"\"}}, \"type\": \"scatterpolar\"}], \"scatterpolargl\": [{\"marker\": {\"colorbar\": {\"outlinewidth\": 0, \"ticks\": \"\"}}, \"type\": \"scatterpolargl\"}], \"scatterternary\": [{\"marker\": {\"colorbar\": {\"outlinewidth\": 0, \"ticks\": \"\"}}, \"type\": \"scatterternary\"}], \"surface\": [{\"colorbar\": {\"outlinewidth\": 0, \"ticks\": \"\"}, \"colorscale\": [[0.0, \"#0d0887\"], [0.1111111111111111, \"#46039f\"], [0.2222222222222222, \"#7201a8\"], [0.3333333333333333, \"#9c179e\"], [0.4444444444444444, \"#bd3786\"], [0.5555555555555556, \"#d8576b\"], [0.6666666666666666, \"#ed7953\"], [0.7777777777777778, \"#fb9f3a\"], [0.8888888888888888, \"#fdca26\"], [1.0, \"#f0f921\"]], \"type\": \"surface\"}], \"table\": [{\"cells\": {\"fill\": {\"color\": \"#EBF0F8\"}, \"line\": {\"color\": \"white\"}}, \"header\": {\"fill\": {\"color\": \"#C8D4E3\"}, \"line\": {\"color\": \"white\"}}, \"type\": \"table\"}]}, \"layout\": {\"annotationdefaults\": {\"arrowcolor\": \"#2a3f5f\", \"arrowhead\": 0, \"arrowwidth\": 1}, \"colorscale\": {\"diverging\": [[0, \"#8e0152\"], [0.1, \"#c51b7d\"], [0.2, \"#de77ae\"], [0.3, \"#f1b6da\"], [0.4, \"#fde0ef\"], [0.5, \"#f7f7f7\"], [0.6, \"#e6f5d0\"], [0.7, \"#b8e186\"], [0.8, \"#7fbc41\"], [0.9, \"#4d9221\"], [1, \"#276419\"]], \"sequential\": [[0.0, \"#0d0887\"], [0.1111111111111111, \"#46039f\"], [0.2222222222222222, \"#7201a8\"], [0.3333333333333333, \"#9c179e\"], [0.4444444444444444, \"#bd3786\"], [0.5555555555555556, \"#d8576b\"], [0.6666666666666666, \"#ed7953\"], [0.7777777777777778, \"#fb9f3a\"], [0.8888888888888888, \"#fdca26\"], [1.0, \"#f0f921\"]], \"sequentialminus\": [[0.0, \"#0d0887\"], [0.1111111111111111, \"#46039f\"], [0.2222222222222222, \"#7201a8\"], [0.3333333333333333, \"#9c179e\"], [0.4444444444444444, \"#bd3786\"], [0.5555555555555556, \"#d8576b\"], [0.6666666666666666, \"#ed7953\"], [0.7777777777777778, \"#fb9f3a\"], [0.8888888888888888, \"#fdca26\"], [1.0, \"#f0f921\"]]}, \"colorway\": [\"#636efa\", \"#EF553B\", \"#00cc96\", \"#ab63fa\", \"#FFA15A\", \"#19d3f3\", \"#FF6692\", \"#B6E880\", \"#FF97FF\", \"#FECB52\"], \"font\": {\"color\": \"#2a3f5f\"}, \"geo\": {\"bgcolor\": \"white\", \"lakecolor\": \"white\", \"landcolor\": \"#E5ECF6\", \"showlakes\": true, \"showland\": true, \"subunitcolor\": \"white\"}, \"hoverlabel\": {\"align\": \"left\"}, \"hovermode\": \"closest\", \"mapbox\": {\"style\": \"light\"}, \"paper_bgcolor\": \"white\", \"plot_bgcolor\": \"#E5ECF6\", \"polar\": {\"angularaxis\": {\"gridcolor\": \"white\", \"linecolor\": \"white\", \"ticks\": \"\"}, \"bgcolor\": \"#E5ECF6\", \"radialaxis\": {\"gridcolor\": \"white\", \"linecolor\": \"white\", \"ticks\": \"\"}}, \"scene\": {\"xaxis\": {\"backgroundcolor\": \"#E5ECF6\", \"gridcolor\": \"white\", \"gridwidth\": 2, \"linecolor\": \"white\", \"showbackground\": true, \"ticks\": \"\", \"zerolinecolor\": \"white\"}, \"yaxis\": {\"backgroundcolor\": \"#E5ECF6\", \"gridcolor\": \"white\", \"gridwidth\": 2, \"linecolor\": \"white\", \"showbackground\": true, \"ticks\": \"\", \"zerolinecolor\": \"white\"}, \"zaxis\": {\"backgroundcolor\": \"#E5ECF6\", \"gridcolor\": \"white\", \"gridwidth\": 2, \"linecolor\": \"white\", \"showbackground\": true, \"ticks\": \"\", \"zerolinecolor\": \"white\"}}, \"shapedefaults\": {\"line\": {\"color\": \"#2a3f5f\"}}, \"ternary\": {\"aaxis\": {\"gridcolor\": \"white\", \"linecolor\": \"white\", \"ticks\": \"\"}, \"baxis\": {\"gridcolor\": \"white\", \"linecolor\": \"white\", \"ticks\": \"\"}, \"bgcolor\": \"#E5ECF6\", \"caxis\": {\"gridcolor\": \"white\", \"linecolor\": \"white\", \"ticks\": \"\"}}, \"title\": {\"x\": 0.05}, \"xaxis\": {\"automargin\": true, \"gridcolor\": \"white\", \"linecolor\": \"white\", \"ticks\": \"\", \"zerolinecolor\": \"white\", \"zerolinewidth\": 2}, \"yaxis\": {\"automargin\": true, \"gridcolor\": \"white\", \"linecolor\": \"white\", \"ticks\": \"\", \"zerolinecolor\": \"white\", \"zerolinewidth\": 2}}}, \"title\": {\"text\": \"Rela\\u00e7\\u00e3o Atividade por Linguagem\"}, \"xaxis\": {\"title\": {\"text\": \"Atividade\"}}, \"yaxis\": {\"title\": {\"text\": \"Linguagem\"}}},\n",
       "                        {\"responsive\": true}\n",
       "                    ).then(function(){\n",
       "                            \n",
       "var gd = document.getElementById('f2e081ed-ba6e-4d63-9f3b-ffdd0d5614da');\n",
       "var x = new MutationObserver(function (mutations, observer) {{\n",
       "        var display = window.getComputedStyle(gd).display;\n",
       "        if (!display || display === 'none') {{\n",
       "            console.log([gd, 'removed!']);\n",
       "            Plotly.purge(gd);\n",
       "            observer.disconnect();\n",
       "        }}\n",
       "}});\n",
       "\n",
       "// Listen for the removal of the full notebook cells\n",
       "var notebookContainer = gd.closest('#notebook-container');\n",
       "if (notebookContainer) {{\n",
       "    x.observe(notebookContainer, {childList: true});\n",
       "}}\n",
       "\n",
       "// Listen for the clearing of the current output cell\n",
       "var outputEl = gd.closest('.output');\n",
       "if (outputEl) {{\n",
       "    x.observe(outputEl, {childList: true});\n",
       "}}\n",
       "\n",
       "                        })\n",
       "                };\n",
       "                });\n",
       "            </script>\n",
       "        </div>"
      ]
     },
     "metadata": {},
     "output_type": "display_data"
    }
   ],
   "source": [
    "# Criando gráfico\n",
    "trace = go.Scatter(x = df_filtrocolunas['Atividade'],\n",
    "                   y = df_filtrocolunas['Linguagem'],\n",
    "                   mode = 'markers')\n",
    "# Armazenando gráfico em uma lista\n",
    "data = [trace]\n",
    "# Criando Layout\n",
    "layout = go.Layout(title='Relação Atividade por Linguagem',\n",
    "                   yaxis={'title':'Linguagem'},\n",
    "                   xaxis={'title': 'Atividade'})\n",
    "# Criando figura que será exibida\n",
    "fig = go.Figure(data=data, layout=layout)\n",
    "# Exibindo figura/gráfico\n",
    "py.iplot(fig)"
   ]
  },
  {
   "cell_type": "markdown",
   "metadata": {},
   "source": [
    "###### Alterando cores do gráfico\n",
    "Cor sim, cor não\n",
    "Ainda trabalhando no gráfico acima, podemos customizá-lo alterando suas cores e até espessura das linhas de contorno, utilizando o argumento marker. Também utilizaremos o argumento opacity, para deixar o gráfico um pouco menos opaco."
   ]
  },
  {
   "cell_type": "code",
   "execution_count": 29,
   "metadata": {},
   "outputs": [
    {
     "data": {
      "application/vnd.plotly.v1+json": {
       "config": {
        "linkText": "Export to plot.ly",
        "plotlyServerURL": "https://plot.ly",
        "showLink": false
       },
       "data": [
        {
         "marker": {
          "color": "#e74c3c",
          "line": {
           "color": "#c0392b",
           "width": 1
          }
         },
         "mode": "markers",
         "opacity": 0.8,
         "type": "scatter",
         "x": [
          "Estreia na Biblioteca",
          "Exposição de Poesias Ilustradas de Valdenir Teles Magalhães",
          "Aulas de Hatha Yoga",
          "Aulas de Hatha Yoga",
          "Círculo de debates sobre o livro \"Quarenta dias\" de Maria Valéria Rezende",
          "Bate-papo sobre o livro \"Comédias para se ler na escola\" de Luis Fernando Veríssimo",
          "Palestra sobre o livro \"Comédias para ser ler na escola\" de Luis Fernando Veríssimo",
          "Contação de história sobre o livro \"Alice no pais das maravilhas\" de Lewis Carroll",
          "Contação de história sobre o livro \"Alice no pais das maravilhas\" de Lewis Carroll",
          "Contação de história sobre o livro \"Alice no pais das maravilhas\" de Lewis Carroll",
          "Contação de história sobre o livro \"Alice no pais das maravilhas\" de Lewis Carroll",
          "CABARÉ DAS MUIÉ",
          "Círculo de Debate sobre o Livro Alguma poesia de Carlos Drummond de Andrade",
          "Exposição Histórica",
          "Exposição Histórica",
          "Palestra sobre o livro \"Clara dos Anjos\" de Lima Barreto",
          "Evento Teste",
          "Campanha leia, doe e troque",
          "Palestra: Busca em bases de dados gratuitas",
          "Roda de conversa: A relevância da leitura para a leitura de mundo, na perspectiva de Paulo Freire",
          "Oficina de produção de fantoches",
          "Palestra: Diretrizes para elaboração de trabalhos acadêmicos segundo estilo Vancouver e APA",
          "Orquestra e Coral Solidariedade Sempre",
          "Orquestra e Coral Solidariedade Sempre",
          "Orquestra e Coral Solidariedade Sempre",
          "Orquestra e Coral Solidariedade Sempre",
          "Orquestra e Coral Solidariedade Sempre",
          "Orquestra e Coral Solidariedade Sempre",
          "Orquestra e Coral Solidariedade Sempre",
          "Orquestra e Coral Solidariedade Sempre",
          "Orquestra e Coral Solidariedade Sempre",
          "Orquestra e Coral Solidariedade Sempre",
          "BRISA - Saraus Artísticos",
          "BRISA - Saraus Artísticos",
          "BRISA - Saraus Artísticos",
          "Apresentações Cadência Sincopada",
          "Apresentações Cadência Sincopada",
          "Apresentações Cadência Sincopada",
          "Apresentações Cadência Sincopada",
          "XXII Salão Nacional de Arte Fotográfica do Foto Clube de Londrina",
          "Contação de história com Gilza Santos ",
          "Femucom - Festival de Música do Comerciário",
          "Lançamento do Livro Sem Travas na Língua",
          "Espetáculo QUAL A GRAÇA DE LAURINDA?",
          "Vikings e o Reino Saqueado",
          "Bailinho do Plantão",
          "Lunavi na FLAPT",
          "Oficina “Pintura em pano de prato”",
          "Dramatização acompanhada com repertório musical",
          "Oficina de Recicláveis: A Escolinha do mar",
          "Oficina “Découpage em sabonete”",
          "Oficina “Máscaras com papel machê”",
          "Cemitério, temporada de oficinas",
          "Ensaio aberto: Tomai a medida do coração humano",
          "Ensaio aberto: Tomai a medida do coração humano",
          "Exposição “Vigve, megme”",
          "Achados Literários",
          "Oficinas Percussivas ILU ODARA",
          "Maracatu Semente de Angola",
          "Assalto Literário no Canto",
          "Assalto Literário, 27 janeiro",
          "Vikings e o Reino Saqueado!",
          "Vikings e o Reino Saqueado!",
          "Sarau:prosa, poesia e outras delícias - batuque e poesia",
          "Pé de Samba",
          "SEMANA DA VISIBILIDADE TRANS",
          "Exposição: \"Violeta e os Seres Imaginários\"",
          "Celebrando a Cultura Rural",
          "Celebrando a Cultura Rural",
          "Celebrando a Cultura Rural",
          "RESGATE DE RUA",
          "RESGATE DE RUA",
          "RESGATE DE RUA",
          "Campeonato de Xadrez Londrinense 2019",
          "Campeonato de Xadrez Londrinense 2019",
          "Campeonato de Xadrez Londrinense 2019",
          "Campeonato de Xadrez Londrinense 2019",
          "Campeonato de Xadrez Londrinense 2019",
          "Campeonato de Xadrez Londrinense 2019",
          "Campeonato de Xadrez Londrinense 2019",
          "Campeonato de Xadrez Londrinense 2019",
          "Campeonato de Xadrez Londrinense 2019",
          "Campeonato de Xadrez Londrinense 2019",
          "Campeonato de Xadrez Londrinense 2019",
          "Espetáculo \"Na Gaveta de Baixo\"",
          "Contação de história sobre o livro \"Onde vivem os monstros\" de Maurice Sendak",
          "Contação de história sobre o livro \"Onde vivem os monstros\" de Maurice Sendak",
          "Contação de história sobre o livro \"Cacoete\" de Eva Furnari",
          "Contação de história sobre o livro \"Cacoete\" de Eva Furnari",
          "Contação de história sobre o livro \"Cacoete\" de Eva Furnari",
          "Oficina de desenhos com o Prof. Paulo Tio",
          "Assalto Literário no Vista Bela",
          "Carnaval 2019 - Ensaios abertos do Bloco Bafo Quente",
          "Carnaval 2019 - Ensaios abertos do Bloco Bafo Quente",
          "Banda Nova - De um Filho, De um Cego | Búfalos D'Água",
          "Reunião com o integrantes do Clube Aventureiros do Amanhecer",
          "Reunião com o integrantes do Clube Aventureiros do Amanhecer",
          "Reunião com o integrantes do Clube Aventureiros do Amanhecer",
          "Reunião com o integrantes do Clube Aventureiros do Amanhecer",
          "Reunião com o integrantes do Clube Aventureiros do Amanhecer",
          "Reunião com o integrantes do Clube Aventureiros do Amanhecer",
          "Reunião com o integrantes do Clube Aventureiros do Amanhecer",
          "Reunião com o integrantes do Clube Aventureiros do Amanhecer",
          "Reunião com o integrantes do Clube Aventureiros do Amanhecer",
          "Reunião com o integrantes do Clube Aventureiros do Amanhecer",
          "Exposição: Conhecendo os autores e suas obras",
          "Sarará Criolo - Circulação e Lançamento de CD",
          "Sarará Criolo - Circulação e Lançamento de CD",
          "Sarará Criolo - Circulação e Lançamento de CD",
          "Sarará Criolo - Circulação e Lançamento de CD",
          "Sarará Criolo - Circulação e Lançamento de CD",
          "Cacoete - Eva Furnari",
          "Cacoete - Eva Furnari",
          "Contação de história",
          "Transtornada Eu",
          "Bailinho do Plantão",
          "Bailinho do Plantão",
          "Bailinho do Plantão",
          "Bailinho do Plantão",
          "Bailinho do Plantão",
          "Bailinho do Plantão",
          "Bailinho do Plantão",
          "Bailinho do Plantão",
          "Bailinho do Plantão",
          "Bailinho do Plantão",
          "Bailinho do Plantão",
          "\"Chapeuzinho Vermelho” – Irmãos Grimm",
          "Oficina - A dança da Palhaça",
          "Oficina - Palhaçaria na Visão Feminina",
          "Oficina - Objeto e Cena",
          "Oficina - Mulheres Gozadas",
          "Oficina - “Meu corpo cômico: dilatando risos”",
          "Oficina - Jogos Lúdicos",
          "Espetáculo: \"Vagarosa\"",
          "Espetáculo: \"Que Festa é essa criatura?\"",
          "Espetáculo: \"Ao Ponto\"",
          "Espetáculo “Malagueta Dorminhoca”",
          "Espetáculo: Plano nº 269",
          "Oficina \"Microconto: um vasto pequeno mundo\", com Cláudia Bergamini",
          "Oficina \"Microconto: um vasto pequeno mundo\", com Cláudia Bergamini",
          "Pré Carnaval",
          "Matinê de Carnaval na ALMA",
          "SÉRIE PALCOS MUSICAIS 2019 - ABERTURA DA TEMPORADA",
          "MEXE QUE É BOM!",
          "Dia do Bibliotecário: O Gestor Cultural e as ações de produção e incentivo à leitura",
          "Mostra Fotográfica \"Minha Beleza Pura\"",
          "Mostra Fotográfica \"Minha Beleza Pura\"",
          "Celebrando a Cultura Rural",
          "Celebrando a Cultura Rural",
          "CONEXÕES HÍBRIDAS E MEMÓRIAS MARGINAIS",
          "CONEXÕES HÍBRIDAS E MEMÓRIAS MARGINAIS",
          "Feirão da Resistência e da Reforma Agrária | Especial 8M",
          "Projeto Balaio de Gato",
          "OSUEL COMEMORA 35 ANOS",
          "Múltiplo Leminski",
          "Múltiplo Leminski",
          "Múltiplo Leminski",
          "Múltiplo Leminski",
          "Múltiplo Leminski",
          "Múltiplo Leminski",
          "Múltiplo Leminski",
          "Múltiplo Leminski",
          "OFICINA DE TEATRO PARA MULHERES",
          "OFICINA DE TEATRO PARA MULHERES",
          "OFICINA DE TEATRO PARA MULHERES",
          "OFICINA DE TEATRO PARA MULHERES",
          "Sarauzinho, Londrix 15 anos",
          "Triolé apresenta: O ZELADOR",
          "Palestra e bate-papo sobre o livro \"Vozes anoitecidas de Mia Couto\"",
          "Contação de histórias sobre o livro \"Chapeuzinho Vermelho\" - Irmãos Grimm",
          "Contação de histórias sobre o livro \"Chapeuzinho Vermelho\" - Irmãos Grimm",
          "Contação de histórias sobre o livro \"Chapeuzinho Vermelho\" - Irmãos Grimm",
          "Contação de histórias sobre o livro \"Chapeuzinho Vermelho\" - Irmãos Grimm",
          "Banda Nova - Sincopaduo | David Mour",
          "Banda Nova - Octopus Trio | Aminoácido",
          "Sarará Criolo - Lançamento do CD",
          "MEQUETREFE CIRCO SHOW",
          "ARTE TRANSFORMAÇÃO NA EDUCAÇÃO INFANTIL",
          "OFICINA DE PINTURA E DESENHO COM TINTAS NATURAIS",
          "BRINCANDO COM ARGILA",
          "BRINCANDO COM ARGILA",
          "Exposição \"Welcome\"",
          "Contação de história",
          "Lançamento: luas, de Júlia Rocha e Gustavo Galo",
          "A RUA E AS CRIANÇAS.",
          "IDOSOS NO HIP- HOP",
          "ORQUESTRA BARROCA CAPRICCIO STRAVAGANTE APRESENTA ÓPERA THÉSÉE, DIA 30",
          "Capoeira Senzala",
          "Contação de histórias sobre o livro \"Viagem ao Céu\" de Monteiro Lobato",
          "Contação de histórias sobre o livro \"Viagem ao Céu\" de Monteiro Lobato",
          "Contação de histórias sobre o livro \"Viagem ao Céu\" de Monteiro Lobato",
          "Contação de histórias sobre o livro \"Viagem ao Céu\" de Monteiro Lobato",
          "Exposição Grude + Fachada Nova",
          "6º EVENTO DE CAPOEIRA DE ANGOLA AECAJP - CECA - PERNAMBUÉS SSA-BA MESTRE CIRO",
          "Projeto Vivenciando a música na melhor idade",
          "Projeto Vivenciando a Música na Melhor Idade",
          "Projeto Vivenciando a Música na Melhor Idade",
          "Projeto Vivenciando a Música na melhor idade",
          "Bravi com Allice Tirolla, Fabricio Martins e Elthon Dias",
          "Musicalizando e dançando para a vida",
          "Toques e danças brasileiras",
          "Novas apresentações de Transtornada Eu",
          "Novas apresentações de Transtornada Eu",
          "PROARTE",
          "Viagem ao Céu - Monteiro Lobato",
          "Uma Coleção Futurologista ( The Best of Mr.Chao )",
          "Uma Coleção Futurologista ( The Best of Mr.Chao )",
          "Uma Coleção Futurologista ( The Best of Mr.Chao )",
          "Uma Coleção Futurologista ( The Best of Mr.Chao )",
          "Exposição \"Mundo encantado de Lobato\"",
          "Contação de História",
          "Oficina de artes",
          "Alice no País das Maravilhas” – Lewis Caroll",
          "CONCERTO DE PÁSCOA",
          "Quizomba Re-Existe!",
          "Oficina Quizomba de Bumba-meu-Boi",
          "Oficina Quizomba de Bumba-meu-Boi",
          "Oficina Quizomba de Bumba-meu-Boi",
          "Palco AlmA Londrina 2019",
          "Palco AlmA Londrina 2019",
          "Sarau Flapt - O Corpo Que Luta O Corpo Que Dança",
          "Transtornada Eu na Alma",
          "Transtornada Eu na Alma",
          "Transtornada Eu na Alma",
          "Por Um X",
          "Por Um X",
          "Por Um X",
          "Por Um X",
          "Por Um X",
          "Por Um X",
          "Por Um X",
          "Por Um X",
          "Por Um X",
          "Por Um X",
          "Feirão da Resistência e da Reforma Agrária",
          "17ª Semana Nacional de Museus",
          "17ª Semana Nacional de Museus",
          "17ª Semana Nacional de Museus",
          "17ª Semana Nacional de Museus",
          "17ª Semana Nacional de Museus",
          "17ª Semana Nacional de Museus",
          "17ª Semana Nacional de Museus",
          "17ª Semana Nacional de Museus",
          "Oficina de Cerâmica",
          "Meu coração de Polaco voltou",
          "1º Encontro Cidadania e Leis Federais de Incentivo",
          "Samba do Sereno",
          "Poéticas de Terra e Céu",
          "Espetáculo Transtornada Eu na Flapt",
          "Pint Of Science 2019 Londrina Pr.",
          "Oficina de orientação dos Editais nº 01 e 02/2019 - Projetos Culturais Estratégicos",
          "Exposição \"Mês da Família: um elo de Amor\"",
          "Contação da história “Histórias de Lepe e Sep: 2 corações pulsantes\"",
          "VIII MOSTRA DE MÚSICA DE CÂMARA - concertos comemorativos - CONCERTO PARA CRIANÇAS",
          "Contação da história “Alice no País das Maravilhas”",
          "Mostra fotográfica “Minha Beleza Pura”",
          "Oficina de Artes “Alice no País das Maravilhas”",
          "As marcas no corpo",
          "4ª Etapa de Renovação do Comitê Gestor da Salvaguarda da Capoeira no Paraná",
          "As marcas no corpo",
          "Festival Cultural",
          "Festival Cultural",
          "Festival Cultural",
          "BIZARRIA",
          "BIZARRIA",
          "BIZARRIA",
          "BIZARRIA",
          "BIZARRIA",
          "BIZARRIA",
          "Orquestra Intermediária Bravi",
          "Semana do Café 2019",
          "PROJETO MUSICANDO NA ESCOLA",
          "Aulas de Capoeira",
          "Círculo de debates do livro \"Clara dos anjos\" de Lima Barreto",
          "Palestra sobre o livro \"O filho eterno\" de Cristovão Tezza",
          "Círculo de debates sobre o livro \"O filho eterno\" de Cristovão Tezza",
          "METAIS IN CONCERT",
          "Exposição: Literatura em quadrinhos e mangás",
          "Poéticas de Terra e Céu",
          "PROARTE - AULA ESPECIAL CAPTAÇÃO LEIS DE INCENTIVO",
          "Brincando com Luz e Sombra",
          "Espetáculo: Palhaça Sola",
          "Espetáculo: O Pássaro Azul",
          "Espetáculo: O Pássaro Azul",
          "QUE FESTA É ESSA, CRIATURA?",
          "Oficina de desenhos sobre o livro \"Onde vivem os monstros\"",
          "Oficina de desenhos sobre o livro \"Onde vivem os monstros\"",
          "Oficina de desenhos sobre o livro \"Onde vivem os monstros\"",
          "Oficina “Dramaturgia de Palhaç@”",
          "Performance e Exposição Fotográfica \"Por Elas\"",
          "Festa Junina AFC",
          "Cabaré o Show",
          "VI Festival Cultural Arraia da Integração.",
          "VI Festival Cultural Arraia da Integração.",
          "VI Festival Cultural Arraia da Integração.",
          "CONCERTO DE SÃO JOÃO",
          "Viagem Longa, Grana Curta",
          "Viagem Longa, Grana Curta",
          "Viagem Longa, Grana Curta",
          "Viagem Longa, Grana Curta",
          "Viagem Longa, Grana Curta",
          "Viagem Longa, Grana Curta",
          "Viagem Longa, Grana Curta",
          "Viagem Longa, Grana Curta",
          "Viagem Longa, Grana Curta",
          "Viagem Longa, Grana Curta",
          "Apresentação do primeiro Intercâmbio Artístico \"Grazzi Ellas Transitando\" em Londrina.",
          "Apresentação do primeiro Intercâmbio Artístico \"Grazzi Ellas Transitando\" em Londrina.",
          "O Pássaro Azul",
          "O Pássaro Azul",
          "Palestra Concertante com Alfredo Moura",
          "LONDRINA, CULTURA EM RETRATOS",
          "Audiências Públicas de Cultura 2019",
          "Novos Cronistas Londrix - lançamento do livro",
          "Lançamento Projeto Jovens Escritores",
          "Revista Sossego em Londrina + Show com Entidade Perdida",
          "OSUEL E DUO CLAVIS",
          "CONCERTO COLOR RHETORICUS – ANO I",
          "Jogue como uma garota",
          "Jogue como uma garota 18/06",
          "Bizarria: substantivo feminino, boa postura",
          "Londrinoise Segunda Edição",
          "Festa Julina Lar Anália Franco",
          "Contação de história",
          "Circulação \"Que Festa É Essa, Criatura?\" EUBOBASE",
          "Balada de um palhaço",
          "Balada de um palhaço",
          "Oficina de artes",
          "ARRIGO BARNABÉ – QUERO QUE VÁ TUDO PRO INFERNO",
          "No fim da Infância",
          "Clássicos Infantis: uma hora cheia de histórias",
          "OFICINA DE TEATRO PARA CRIANÇAS",
          "OFICINA DE TEATRO PARA CRIANÇAS",
          "OFICINA DE TEATRO PARA CRIANÇAS",
          "OFICINA DE TEATRO PARA CRIANÇAS",
          "Oficina De Maracatu - Semente de Angola",
          "Trovadores do Miocárdio",
          "Trovadores do miorcárdio",
          "Trovadores do miorcárdio",
          "Ensaio Escola municipal Hikoma Udihara",
          "Ensaio Escola municipal Hikoma Udihara",
          "Ensaio Escola municipal Hikoma Udihara",
          "Ensaio Escola municipal Hikoma Udihara",
          "Morte e Vida Severina",
          "Morte e Vida Severina",
          "Morte e Vida Severina Espetáculo Cênico- Musical.",
          "Palestra sobre o Livro Alguma poesia de Carlos Drummond de Andrade",
          "Onde Vivem os Monstros",
          "Que Festa É Essa, Criatura?",
          "Que Festa É Essa, Criatura?",
          "Que Festa É Essa, Criatura?",
          "Oficina Light Painting",
          "Oficina de desenhos tridimensionais e articulados",
          "FESTA JULINA BENEFICENTE 2019",
          "Pé de Samba 06 de julho",
          "Balada de um palhaço",
          "Balada de um palhaço",
          "Festival Internacional de Música de Londrina - Edição 39",
          "Contação de histórias",
          "Encontro de Gigantes",
          "Encontro de Gigantes",
          "Encontro de Gigantes",
          "Encontro de Gigantes",
          "Encontro de Gigantes",
          "Exposição de livros \"Ruth Rocha\"",
          "3 dias com Leonardo da Vinci",
          "Quizomba + FML - Música fora do centro!",
          "Abertura do 5º ENCOM - Encontro Nacional de Composição Musical",
          "Abertura Solene do 39° Festival Internacional de Música de Londrina",
          "Abertura Solene do 39° Festival Internacional de Música de Londrina",
          "5º ENCOM - Encontro Nacional de Composição Musical",
          "Encerramento do 5o ENCOM - Encontro Nacional de Composição Musical",
          "OSUEL – Orquestra Sinfônica da Universidade Estadual de Londrina",
          "Trio Paranaense",
          "Dia Mundial do Rock",
          "Ivo Pessoa Trio",
          "Show “Xodós”",
          "Allan Manhas Recital de Piano",
          "Música Fora de Centro",
          "Samba do Sereno",
          "Morte e Vida Severina",
          "Iroko Trio",
          "TRÊS Orquestras. UM Encontro",
          "Forró Caviúna",
          "Show André Mehmari Trio",
          "Toninho Ferragutti & Salomão, Duo Acordeon e Piano",
          "André Siqueira Quarteto",
          "Roda De Conversa André Mehmari Trio",
          "Risorama Londrina",
          "Tricantumconto",
          "Sarau: prosa, poesia e outras delícias",
          "Sarau: prosa, poesia & outras delícias",
          "Risorama Londrina",
          "Circulação Espetáculo \"Que Festa É Essa, Criatura?\" Calçadão de Londrina",
          "Circulação Espetáculo \"Que Festa É Essa, Criatura?\" Aterro do Lago Igapó",
          "Viva o Barroco! Bach e Vivaldi",
          "La Bella Voce",
          "Andrea dos Guimarães e João Paulo Amaral",
          "Iroko Trio",
          "Água de Moringa, Grupo de Choro",
          "Duo Violino e Piano",
          "Violão em Cena",
          "Orquestra Solidariedade Sempre",
          "ECM 50",
          "All That Jazz/MPB",
          "Banda Sinfônica da FAETEC - Marechal Hermes",
          "Passeata da Alegria",
          "FLûnkY",
          "Abacate Contemporâneo",
          "Iluminuras",
          "Cortejo Grupo Grupo de Percussão da Universidade Federal de Pelotas - PEPEU",
          "Encerramento do Curso de Coro de Música Popular",
          "Encerramento do Curso de Técnica Vocal e Interpretação na Canção Popular",
          "Encerramento da Prática de MPB e Jazz",
          "Encerramento da Oficina da Banda de Garagem",
          "Senhor Bonifácio",
          "C. Saint Saëns - Carnaval dos Animais",
          "Concerto Open Air",
          "Show de Danças e Evolução da Terceira Idade",
          "Banda Mustav",
          "Grupo de Percussão da Universidade Federal de Pelotas - Pepeu",
          "La Bella Voce II",
          "Exibição do documentário",
          "Gala dos Professores",
          "Duo Policarpo",
          "Concerto de Encerramento",
          "Retratos de Maria",
          "Viva Elis",
          "Concerto de Encerramento",
          "David Mour",
          "Z - as imagens são palavras que sumiram",
          "Maestro por um dia",
          "EXPOSIÇÃO LOBATIANDO",
          "O C T O P O D E",
          "Palestra sobre o livro: Poemas escolhidos de Gregório de Matos",
          "Um bourbon para Faulkner",
          "Espetáculo: \"Subs-Solos\"",
          "OFICINA DE CIRCO PARA CRIANÇAS",
          "OFICINA DE CIRCO PARA CRIANÇAS",
          "OFICINA DE CIRCO PARA CRIANÇAS",
          "ArraiAlma",
          "B.BOY",
          "B.BOY",
          "Contação de histórias sobre o livro \"O pequeno príncipe\"",
          "Contação de histórias sobre o livro \"O pequeno príncipe\"",
          "Contação de histórias sobre o livro \"O pequeno príncipe\"",
          "Campanha de Doação de Livros",
          "Exposição de Poesias em Homenagem ao Dia do Escritor",
          "11° Abraço no Lago pela Paz",
          "CONVITE: Venha Inaugurar o Totem do DADO DE CULTURA DE PAZ",
          "Livro Londrina Pazeando 2019",
          "Exposição de livros em Homenagem ao Dia Nacional do Escritor",
          "Pinóquio",
          "Très Affecté",
          "Show Instrumental Balaio de Gato",
          "Oficina de escrita criativa",
          "PROARTE: Aula Especial - Programação Cultural - Marcos Henrique Rego - RJ",
          "BRINCADEIRAS CANTADAS",
          "Espetáculo: “O Mar do Tempo Perdido”",
          "Espetáculo: “O Mar do Tempo Perdido”",
          "Um Bourbon para Faulkner",
          "História da Arte do Renascimento Italiano",
          "Feijoada Do Coletivo De Educação Popular Paulo Freire",
          "MARACATU DE BAQUE VIRADO",
          "Estreia do filme \"Leste Oeste\"",
          "IX Conferência Municipal de Cultura",
          "IX Conferência Municipal de Cultura",
          "IX Conferência Municipal de Cultura",
          "IX Conferência Municipal de Cultura",
          "Palco AlmA Londrina 2019 - 2ª edição",
          "Dez mãos e um piano - PianOrquestra",
          "Lançamento do Hackathon de Economia criativa",
          "Exposição de livros e revistas em homenagem ao Dia do Estudante",
          "Oficina de Percussão Brasileira",
          "Yoga para Mulheres",
          "Cemitério em festa",
          "ANDRÉ SIQUEIRA TRIO & DUO CLAVIS CONVIDAM TONINHO FERRAGUTTI",
          "OSUEL – DO BARROCO AO SÉCULO XX",
          "Círculo de debates sobre o livro \"Poemas escolhidos de Gregório de Matos\"",
          "OFICINA: Mulheres Gozadas",
          "Espetáculo - Que Festa é essa, Criatura?",
          "Abertura FILO 50+1",
          "Festival Internacional de Londrina",
          "Festival Internacional de Londrina",
          "Festival Internacional de Londrina",
          "Contação de história",
          "Chega de Saudade",
          "Tecituras de nós: dimensões possíveis",
          "AlmA do Samba",
          "Palestra sobre o livro \"O demônio familiar\" de José de Alencar",
          "Exposição Máscaras dos INVISÍVEIS",
          "BANDA MARCIAL MARCELINO CHAMPAGNAT CONVIDA DERICO PARA CONCERTO",
          "O Caipira e o Causo do Capiroto",
          "O Caipira e o Causo do Capiroto",
          "13ª Primavera dos Museus",
          "13ª Primavera dos Museus",
          "SEMANA DE ARTES CÊNICAS",
          "Calejadas Memórias",
          "Circulação Espetáculo \"Que Festa É Essa, Criatura?\" Vila Triolé Cultural",
          "CONCERTO DA ORQUESTRA BARROCA CAPRICCIO STRAVAGANTE",
          "EXPOSIÇÃO LUSOFONIAS",
          "PROCURE A MENINA COM O SOL EM SEUS OLHOS",
          "Bate-papo sobre o livro \"O demônio familiar\"",
          "O Caipira e o Causo do Capiroto",
          "As marcas no corpo",
          "As marcas no corpo",
          "AutoEscavo",
          "Orquestra Acadêmica Bravi",
          "AutoEscavo",
          "Exposição POR ELAS",
          "Circulação Espetáculo \"Que Festa É Essa, Criatura?\" Praça Nishinomiya",
          "Anatomia do espaço-lugar, de Margarida Holler",
          "Lançamento: Porque Eu Odeio, de Claude McKay",
          "Estreia da peça \"Terra Desmedida\"",
          "Estreia da peça \"Terra Desmedida\"",
          "Estreia da peça \"Terra Desmedida\"",
          "IX Conferência de Cultura da Cidade de Londrina",
          "IX Conferência de Cultura da Cidade de Londrina",
          "Palestra sobre o livro \"A hora da estrela\" de Clarice Lispector",
          "ARTE TRANSFORMAÇÃO",
          "Contação da história \"Chapeuzinho vermelho\"",
          "Exposição Por Elas no Canto do MARL",
          "Exposição Por Elas no Canto do MARL",
          "Exposição Por Elas no Canto do MARL",
          "ARTE TRANSFORMAÇÃO",
          "ARTE TRANSFORMAÇÃO",
          "Poesia e revolução",
          "“FAMÍLIA BACH E PIAZZOLLA”",
          "\"Terra Desmedida\" na Flapt",
          "\"Terra Desmedida\" retorna ao Canto do MARL",
          "\"Terra Desmedida\" retorna ao Canto do MARL",
          "\"Terra Desmedida\" retorna ao Canto do MARL",
          "Londrina terá Tributo a BON JOVI",
          "Londrina terá Tributo a BON JOVI",
          "BREXOTA!",
          "Exposição “Semana da Paz”",
          "Exposição “Semana da Paz”",
          "Exposição “Semana da Paz”",
          "Exposição “Semana da Paz”",
          "Exposição “Semana da Paz”",
          "Exposição “Semana da Paz”",
          "Dia Mundial sem Carro",
          "Little London Festival",
          "Trio Harmonitango apresenta \"Uma noite com música de Piazzolla\"",
          "Trio Harmonitango apresenta \"Uma noite com música de Piazzolla\"",
          "ACARAXÉ",
          "2º Encontro Feminino de capoeira - Muruca2019",
          "UMA ORQUESTRA NAS ESCOLAS - ORQUESTRA DE CÂMARA SOLISTAS DE LONDRINA",
          "Encontro sobre Gestão Cultural com Dane de Jade - CE",
          "Lançamento Projeto \"Triolé fora da estrada no Norte Pioneiro\"",
          "Lançamento Projeto \"Triolé fora da estrada no Norte Pioneiro\"",
          "Lançamento Projeto \"Triolé fora da estrada no Norte Pioneiro\"",
          "Lançamento Projeto \"Triolé fora da estrada no Norte Pioneiro\"",
          "Contação da história \"Pollyanna\"",
          "Pollyanna – Eleanor Porter",
          "Pollyanna – Eleanor Porter",
          "Orquestra Acadêmica Bravi",
          "Oficina de Hip-hop Dance",
          "Dia da Sergipe - 8ª Edição",
          "CHRISTIANE TORLONI COMO MARIA CALLAS EM \"MASTER CLASS\"",
          "Que Festa É Essa, Criatura?",
          "Meta For Mosa",
          "Mostra temática itinerante \"Minha beleza pura\"",
          "Mostra temática itinerante \"Minha beleza pura\"",
          "Mostra temática \"Abstratos da reflexão missional\"",
          "Exposição Varal de Cordel",
          "Exposição de Revistas especiais",
          "O Caipira e o causo do Capiroto",
          "Aquário gigante",
          "Aquário gigante",
          "Espetáculo A Sagração da Primavera",
          "Espetáculo Travessia",
          "ARTE E TRANSFORMAÇÃO",
          "META FOR MOSA",
          "Exposição Poeta Alice",
          "Espetáculo Instagrimm",
          "Espetáculo Há Mais Futuro Que Passado",
          "Espetáculo Teia",
          "Espetáculo Teia",
          "Espetáculo Relações",
          "Espetáculo [H3O]mens",
          "Espetáculo Terror e Miséria no Terceiro Milênio - Improvisando Utopias",
          "Espetáculo Atelier de Criação",
          "Espetáculo KA-F-KA",
          "Espetáculo Dança Londrina",
          "Espetáculo Pulse(s)",
          "Espetáculo Bailinho do Plantão",
          "Espetáculo Estou sem silêncio",
          "Oficina: A dança e a criança",
          "Espetáculo Empty Floor",
          "Palestra sobre o Livro Amor de Perdição de Camilo Castelo Branco",
          "Oficinas de futebol de botão ",
          "Oficina Análise Ativa e Criação de Études",
          "Oficina Empty Body (Corpo Vazio) - Dança Meditativa",
          "Exposição Fotográfica Paraná de Orlando Azevedo",
          "Exposição de Livros que viraram filmes",
          "Distribuição de desenhos",
          "Diálogo motivacional sobre a leitura nas várias fases da vida",
          "Palestra - \"Atendimento ao público feito de forma humanizada: gênero, diversidade e direitos humanos\"",
          "Oficina de poesia metafórica",
          "Contação de histórias para alunos adolescentes do CEPAS Santiago",
          "Palco AlmA Londrina 2019",
          "Palco AlmA Londrina 2019",
          "O Caipira e o Causo do Capiroto",
          "Show do Bita",
          "À-Deus (FACES DE lONDRINA)",
          "Recital de Violão",
          "Palestra: Livros sobre temas supremos e existenciais: morte, solidão, desejo e sexualidade. A importância de lermos e conversarmos com as crianças sobre temas universais e profundos.",
          "Bravi - Orquestras Juvenis e Grupos Intermediários",
          "Apresentação do livro: \"O mágico japonês\"",
          "Oficina de Poesia Metafórica",
          "Semana do Dia das Crianças",
          "PRET(A) conta Dandara",
          "PRET(A) conta Dandara",
          "PRET(A) conta Dandara",
          "PRET(A) conta Dandara",
          "PRET(A) conta Dandara",
          "PRET(A) conta Dandara",
          "Contação de histórias para alunos do fundamental II do Colégio Múltipla Escolha",
          "Contação e oficina de artes \"Viagens de Gulliver\"",
          "Conexão cidadã",
          "Ta...lentos musicais",
          "Oficina de Poesia Metafórica",
          "IX Mostra de Música de Câmara com Solistas de Londrina",
          "Contação de histórias e Oficina de artes “Viagens de Gulliver”",
          "2º Little London Festival",
          "2º Little London Festival",
          "Viagens de Gulliver",
          "Histórias para Acordar - Eva Furnari",
          "À-Deus",
          "Palestra: “Obras especiais e raras em bibliotecas universitárias”",
          "Palestra: “Obras especiais e raras em bibliotecas universitárias”",
          "Oficina de Poesia Metafórica",
          "Contação da estória “Histórias de um livro aberto”",
          "Oficina de contação de histórias: recursos e estratégias",
          "Oficina de contação de histórias: recursos e estratégias",
          "Livro na Praça CEU",
          "À- Deus",
          "À-Deus",
          "Sarau de Abertura - BRISA",
          "Sarau de Abertura - BRISA",
          "Oficina de pequenos reparos",
          "LEVE. É SEU!",
          "OFICINA DE POESIA METAFÓRICA",
          "IV Feira de Livros",
          "Exposição “Biblioteca UniFil de 1972 aos dias atuais” cartazes e equipamentos utilizados ao longo do tempo",
          "“Mostra de fotografias sobre as Bibliotecas do UniFil” Cartazes com informações sobre a estrutura e acervo de cada biblioteca",
          "Palestra “Como publicar sem custo um livro pela plataforma Amazon”",
          "Palestra “Revista Terra e Cultura, um periódico multidisciplinar”",
          "Oficina “Uma introdução ao software Mendeley para organização e citação das suas referências”",
          "Palestra: “Como estruturar a pesquisa para TCC, na base de dados Bireme”",
          "Palestra “A história do livro”",
          "Banca da Ciranda!",
          "Palestra de abertura: “Desenvolver mediadores para a formação de leitores”",
          "Palestra “Narrativas do sítio e a arte de ouvir histórias”, com Dr. Léo Pires Ferreira",
          "Lançamento do livro “A Menina e a Planta”, de Márcia Paganini com ilustração de Andréia Vieira",
          "Filme-Debate “O Segredo De Eleonor”",
          "Exposição Por Elas",
          "Conversa-Oficina “Contar Histórias para reinventar mundos”",
          "Palestra “Temas supremos e existenciais: morte, solidão, desejo e sexualidade no imaginário infantil”, com Luis Henrique Mioto",
          "Debate “As políticas públicas, as leis de incentivo e o papel do mercado na formação de leitores”",
          "Palestra de encerramento “Contar para transformar”",
          "Sarau Primaveral das Artes",
          "Oficina de \"não-escrita\" criativa",
          "Encontro sobre Poesia e Sonoridade",
          "BRISA Te Convida: \"Balada de um Palhaço\"",
          "Exposição: “Só os TOPs: livros de literatura infantil e infantojuvenil premiados”",
          "Contação de Histórias com Flávia Harue",
          "Contação de histórias e Oficina de artes “O mágico japonês” com Paulo Tio",
          "Wing’s St. James 2019",
          "ARTE- TRANSFORMAÇÃO",
          "Oficina de Origami com Origamito San",
          "Oficina de Origami com Origamito San",
          "Festival de Graffiti",
          "Festival de Graffiti",
          "Festival de Graffiti",
          "\"Terra Desmedida\" se apresenta no Conservatório das Artes",
          "\"Terra Desmedida\" se apresenta no Cemitério de Automóveis",
          "IXa MOSTRA DE MÚSICA DE CÂMARA “CONCERTOS LONDRINA”",
          "IXa MOSTRA DE MÚSICA DE CÂMARA “CONCERTOS LONDRINA”",
          "IXa MOSTRA DE MÚSICA DE CÂMARA “CONCERTOS LONDRINA”",
          "IXa MOSTRA DE MÚSICA DE CÂMARA “CONCERTOS LONDRINA”",
          "IXa MOSTRA DE MÚSICA DE CÂMARA “CONCERTOS LONDRINA”",
          "Conexão Cidadã",
          "FILO 50+1 - MOSTRA NACIONAL DE ARTES CÊNICAS",
          "FILO 50+1 - MOSTRA NACIONAL DE ARTES CÊNICAS",
          "FILO 50+1 - MOSTRA NACIONAL DE ARTES CÊNICAS",
          "FILO 50+1 - MOSTRA NACIONAL DE ARTES CÊNICAS",
          "FILO 50+1 - MOSTRA NACIONAL DE ARTES CÊNICAS",
          "FILO 50+1 - MOSTRA NACIONAL DE ARTES CÊNICAS",
          "FILO 50+1 - MOSTRA NACIONAL DE ARTES CÊNICAS",
          "FILO 50+1 - MOSTRA NACIONAL DE ARTES CÊNICAS",
          "FILO 50+1 - MOSTRA NACIONAL DE ARTES CÊNICAS",
          "FILO 50+1 - MOSTRA NACIONAL DE ARTES CÊNICAS",
          "FILO 50+1 - MOSTRA NACIONAL DE ARTES CÊNICAS",
          "FILO 50+1 - MOSTRA NACIONAL DE ARTES CÊNICAS",
          "FILO 50+1 - MOSTRA NACIONAL DE ARTES CÊNICAS",
          "FILO 50+1 - MOSTRA NACIONAL DE ARTES CÊNICAS",
          "FILO 50+1 - MOSTRA NACIONAL DE ARTES CÊNICAS",
          "FILO 50+1 - MOSTRA NACIONAL DE ARTES CÊNICAS",
          "FILO 50+1 - MOSTRA NACIONAL DE ARTES CÊNICAS",
          "Sou mulher e não serei outra coisa",
          "Sou mulher e não serei outra coisa",
          "Exposição Polícia Rodoviária Federal",
          "O Caipira e o Causo do Capiroto",
          "O Caipira e o Causo do Capiroto",
          "SAIAS",
          "SAIAS",
          "SAIAS",
          "Espetáculo Saias na Flapt",
          "Quizomba de Aniversário - Zerão na graça de Oxum",
          "\"COMETZ, BOHEMIAN RHAPSODY \"",
          "Projeto Cordas brasileiras",
          "SESSÃO KINOPUS Especial",
          "SESSÃO KINOPUS Especial",
          "SESSÃO KINOPUS Especial",
          "Lab Doc com o cineasta Paulo Sacramento",
          "SESSÃO KINOPUS Especial",
          "OFICINA Craft - ARTE E NATUREZA",
          "PITCHING do Núcleo de dramaturgia Audiovisual",
          "BICHO DO MATO",
          "GRUPOS ORQUESTRAIS BRAVI",
          "PIANO EM FOCO",
          "Entrega do Projeto 25 Anos do Museu de Arte de Londrina",
          "Acordeon Universal Festival com João Pedro Teixeira",
          "Clube de Leitura: A Caixa-Preta, de Amós Oz",
          "LerÇ: Contação de História e Oficina para crianças",
          "LerÇ: Contação de História e Oficina para crianças",
          "CineClube de Terça: O Cidadão Ilustre (Arg, 2016)",
          "Clube de Leitura Plurais: Quem tem medo do feminismo negro, de Djamila Ribeiro",
          "Lançamento: As Reinações de Emilia, de Cassia Leslie",
          "Lançamento e autógrafos com Amilcar Bettega",
          "Café com Quê?: O rock no Brasil na década de 80 e suas relações sociais, com Manuel Inácio",
          "Exposição \"Resgate\", de Cassio Kessler",
          "Espetáculo SaiaS",
          "Espetáculo SaiaS",
          "Espetáculo SaiaS",
          "Espetáculo SaiaS",
          "Espetáculo SaiaS",
          "Espetáculo SaiaS",
          "Espetáculo Saias",
          "Espetáculo SAIAS",
          "Espetáculo SAIAS",
          "Espetáculo SAIAS",
          "Espetáculo SAIAS",
          "Espetáculo \"PLANO 269\"",
          "Espetáculo \"PLANO 269\"",
          "Literatura pra quê?",
          "Achados Literários",
          "Contação de histórias sobre o livro \"Super-heróis em apuros\"",
          "Contação da história \"Sítio do Picapau Amarelo\"",
          "50 ANOS BANDA MARCIAL MARCELINO CHAMPAGNAT",
          "Arte-Transformação na Educação Infantil"
         ],
         "y": [
          "Livro e Literatura",
          "Livro e Literatura",
          "Curso ou Oficina",
          "Curso ou Oficina",
          "Livro e Literatura, Palestra, Debate ou Encontro",
          "Palestra, Debate ou Encontro, Livro e Literatura",
          "Palestra, Debate ou Encontro, Livro e Literatura",
          "Livro e Literatura",
          "Livro e Literatura",
          "Livro e Literatura",
          "Livro e Literatura",
          "Artes Circenses",
          "Palestra, Debate ou Encontro, Livro e Literatura",
          "Exposi??o",
          "Exposi??o",
          "Livro e Literatura, Palestra, Debate ou Encontro",
          "Cultura Digital",
          "Outros, Livro e Literatura",
          "Palestra, Debate ou Encontro",
          "Livro e Literatura, Palestra, Debate ou Encontro",
          "Livro e Literatura",
          "Palestra, Debate ou Encontro",
          "M?sica Popular, M?sica Erudita",
          "M?sica Popular, M?sica Erudita",
          "M?sica Popular, M?sica Erudita",
          "M?sica Popular, M?sica Erudita",
          "M?sica Popular, M?sica Erudita",
          "M?sica Popular, M?sica Erudita",
          "M?sica Popular, M?sica Erudita",
          "M?sica Popular, M?sica Erudita",
          "M?sica Popular, M?sica Erudita",
          "M?sica Popular, M?sica Erudita",
          "Hip Hop, Curso ou Oficina, M?sica Popular, Palestra, Debate ou Encontro, Teatro, Livro e Literatura",
          "Hip Hop, Curso ou Oficina, M?sica Popular, Palestra, Debate ou Encontro, Teatro, Livro e Literatura",
          "Hip Hop, Curso ou Oficina, M?sica Popular, Palestra, Debate ou Encontro, Teatro, Livro e Literatura",
          "M?sica Popular",
          "M?sica Popular",
          "M?sica Popular",
          "M?sica Popular",
          "Artes Visuais, Exposi??o",
          "Artes Integradas",
          "Artes Integradas",
          "Livro e Literatura",
          "Teatro, Artes Circenses",
          "Teatro, Artes Circenses",
          "M?sica Popular, Teatro, Artes Circenses",
          "Teatro",
          "Artes Visuais",
          "M?sica Popular, Livro e Literatura",
          "Artes Visuais, Livro e Literatura",
          "Artes Visuais",
          "Artes Visuais",
          "Artes Integradas",
          "Dan?a, Teatro",
          "Dan?a, Teatro",
          "Cultura Ind?gena, Audiovisual, Livro e Literatura, Artes Visuais",
          "Livro e Literatura",
          "Curso ou Oficina, M?sica Popular",
          "Palestra, Debate ou Encontro, M?sica Popular",
          "Artes Integradas",
          "Artes Integradas",
          "Teatro, Artes Circenses",
          "Teatro, Artes Circenses",
          "Livro e Literatura",
          "M?sica Popular",
          "Palestra, Debate ou Encontro",
          "Exposi??o",
          "Cultura Tradicional",
          "Cultura Tradicional",
          "Cultura Tradicional",
          "Hip Hop",
          "Hip Hop",
          "Hip Hop",
          "Outros",
          "Outros",
          "Outros",
          "Outros",
          "Outros",
          "Outros",
          "Outros",
          "Outros",
          "Outros",
          "Outros",
          "Outros",
          "Dan?a, Teatro",
          "Livro e Literatura",
          "Livro e Literatura",
          "Livro e Literatura",
          "Livro e Literatura",
          "Livro e Literatura",
          "Artes Visuais",
          "Artes Integradas",
          "M?sica Popular, Dan?a, Artes Integradas",
          "M?sica Popular, Dan?a, Artes Integradas",
          "M?sica Popular",
          "Palestra, Debate ou Encontro",
          "Palestra, Debate ou Encontro",
          "Palestra, Debate ou Encontro",
          "Palestra, Debate ou Encontro",
          "Palestra, Debate ou Encontro",
          "Palestra, Debate ou Encontro",
          "Palestra, Debate ou Encontro",
          "Palestra, Debate ou Encontro",
          "Palestra, Debate ou Encontro",
          "Palestra, Debate ou Encontro",
          "Exposi??o, Livro e Literatura",
          "M?sica Popular",
          "M?sica Popular",
          "M?sica Popular",
          "M?sica Popular",
          "M?sica Popular",
          "Livro e Literatura",
          "Livro e Literatura",
          "Artes Visuais, Livro e Literatura",
          "Teatro",
          "Teatro, Artes Circenses, M?sica Popular, Artes Integradas",
          "Teatro, Artes Circenses, M?sica Popular, Artes Integradas",
          "Teatro, Artes Circenses, M?sica Popular, Artes Integradas",
          "Teatro, Artes Circenses, M?sica Popular, Artes Integradas",
          "Teatro, Artes Circenses, M?sica Popular, Artes Integradas",
          "Teatro, Artes Circenses, M?sica Popular, Artes Integradas",
          "Teatro, Artes Circenses, M?sica Popular, Artes Integradas",
          "Teatro, Artes Circenses, M?sica Popular, Artes Integradas",
          "Teatro, Artes Circenses, M?sica Popular, Artes Integradas",
          "Teatro, Artes Circenses, M?sica Popular, Artes Integradas",
          "Teatro, Artes Circenses, M?sica Popular, Artes Integradas",
          "Livro e Literatura",
          "Artes Circenses, Dan?a",
          "Artes Circenses",
          "Artes Circenses",
          "Artes Circenses",
          "Artes Circenses",
          "Artes Circenses",
          "Artes Circenses",
          "Artes Circenses",
          "Artes Circenses",
          "Artes Circenses",
          "Artes Circenses",
          "Palestra, Debate ou Encontro, Livro e Literatura, Curso ou Oficina",
          "Palestra, Debate ou Encontro, Livro e Literatura, Curso ou Oficina",
          "Cultura Tradicional",
          "Cultura Tradicional, M?sica Popular, Artes Integradas",
          "M?sica Erudita",
          "Artes Integradas",
          "Livro e Literatura, Palestra, Debate ou Encontro",
          "Exposi??o, Artes Visuais",
          "Exposi??o, Artes Visuais",
          "Outros, Cultura Tradicional, M?sica Popular",
          "Outros, Cultura Tradicional, M?sica Popular",
          "Curso ou Oficina, Palestra, Debate ou Encontro, Dan?a, Artes Integradas, Artes Visuais, Teatro, Outros",
          "Curso ou Oficina, Palestra, Debate ou Encontro, Dan?a, Artes Integradas, Artes Visuais, Teatro, Outros",
          "M?sica Popular, Artes Visuais, Artes Integradas, Artes Circenses",
          "M?sica Popular",
          "M?sica Erudita",
          "Artes Visuais",
          "Artes Visuais",
          "Artes Visuais",
          "Artes Visuais",
          "Artes Visuais",
          "Artes Visuais",
          "Artes Visuais",
          "Artes Visuais",
          "Outros, Palestra, Debate ou Encontro, Curso ou Oficina, Artes Visuais, Artes Integradas, Dan?a, Teatro",
          "Outros, Palestra, Debate ou Encontro, Curso ou Oficina, Artes Visuais, Artes Integradas, Dan?a, Teatro",
          "Outros, Palestra, Debate ou Encontro, Curso ou Oficina, Artes Visuais, Artes Integradas, Dan?a, Teatro",
          "Outros, Palestra, Debate ou Encontro, Curso ou Oficina, Artes Visuais, Artes Integradas, Dan?a, Teatro",
          "Artes Integradas",
          "Teatro, Artes Circenses",
          "Livro e Literatura, Palestra, Debate ou Encontro",
          "Livro e Literatura",
          "Livro e Literatura",
          "Livro e Literatura",
          "Livro e Literatura",
          "M?sica Popular",
          "M?sica Popular",
          "M?sica Popular",
          "Teatro, Artes Circenses",
          "Exposi??o, Curso ou Oficina, Artes Visuais, Artes Integradas",
          "Curso ou Oficina, Artes Visuais, Artes Integradas",
          "Curso ou Oficina, Artes Visuais, Artes Integradas",
          "Curso ou Oficina, Artes Visuais, Artes Integradas",
          "Livro e Literatura",
          "Artes Visuais, Livro e Literatura",
          "M?sica Popular, Livro e Literatura",
          "Dan?a, Hip Hop",
          "Dan?a, Hip Hop",
          "M?sica Erudita",
          "Artes Integradas, Dan?a, M?sica Popular, Cultura Tradicional",
          "Livro e Literatura",
          "Livro e Literatura",
          "Livro e Literatura",
          "Livro e Literatura",
          "Exposi??o, Artes Visuais",
          "Outros",
          "M?sica Popular",
          "M?sica Popular",
          "M?sica Popular",
          "M?sica Popular",
          "M?sica Popular, M?sica Erudita",
          "Dan?a, M?sica Popular, M?sica Erudita",
          "M?sica Popular, Dan?a, Artes Integradas, Cultura Tradicional",
          "Teatro",
          "Teatro",
          "Artes Integradas, Palestra, Debate ou Encontro, Curso ou Oficina",
          "Livro e Literatura",
          "Artes Visuais",
          "Artes Visuais",
          "Artes Visuais",
          "Artes Visuais",
          "Livro e Literatura",
          "Livro e Literatura",
          "Artes Visuais, Livro e Literatura",
          "Livro e Literatura",
          "M?sica Erudita",
          "M?sica Popular, Cultura Ind?gena, Cultura Tradicional",
          "M?sica Popular, Artes Integradas, Cultura Ind?gena, Cultura Tradicional",
          "M?sica Popular, Artes Integradas, Cultura Ind?gena, Cultura Tradicional",
          "M?sica Popular, Artes Integradas, Cultura Ind?gena, Cultura Tradicional",
          "Outros",
          "Outros",
          "Curso ou Oficina, Artes Integradas, Hip Hop, Dan?a",
          "Teatro",
          "Teatro",
          "Teatro",
          "Teatro",
          "Teatro",
          "Teatro",
          "Teatro",
          "Teatro",
          "Teatro",
          "Teatro",
          "Teatro",
          "Teatro",
          "Teatro",
          "Artes Visuais, Artes Circenses, Artes Integradas, Teatro, Cultura Digital, Cultura Tradicional",
          "Exposi??o, Palestra, Debate ou Encontro, Cultura Tradicional",
          "Exposi??o, Palestra, Debate ou Encontro, Cultura Tradicional",
          "Exposi??o, Palestra, Debate ou Encontro, Cultura Tradicional",
          "Exposi??o, Palestra, Debate ou Encontro, Cultura Tradicional",
          "Exposi??o, Palestra, Debate ou Encontro, Cultura Tradicional",
          "Exposi??o, Palestra, Debate ou Encontro, Cultura Tradicional",
          "Exposi??o, Palestra, Debate ou Encontro, Cultura Tradicional",
          "Exposi??o, Palestra, Debate ou Encontro, Cultura Tradicional",
          "Curso ou Oficina, Artes Visuais",
          "Exposi??o",
          "Palestra, Debate ou Encontro",
          "M?sica Popular",
          "Livro e Literatura, Teatro",
          "Teatro",
          "Palestra, Debate ou Encontro",
          "Curso ou Oficina",
          "Livro e Literatura",
          "Artes Visuais, Livro e Literatura",
          "M?sica Erudita",
          "Artes Visuais, Livro e Literatura",
          "Artes Visuais",
          "Artes Visuais, Livro e Literatura",
          "Palestra, Debate ou Encontro, Dan?a, Teatro",
          "Artes Visuais, Palestra, Debate ou Encontro, Exposi??o",
          "Palestra, Debate ou Encontro, Dan?a, Teatro",
          "Cultura Tradicional, Palestra, Debate ou Encontro",
          "Cultura Tradicional, Palestra, Debate ou Encontro",
          "Cultura Tradicional, Palestra, Debate ou Encontro",
          "Artes Integradas, Dan?a, Artes Visuais, Teatro",
          "Artes Integradas, Dan?a, Artes Visuais, Teatro",
          "Artes Integradas, Dan?a, Artes Visuais, Teatro",
          "Artes Integradas, Dan?a, Artes Visuais, Teatro",
          "Artes Integradas, Dan?a, Artes Visuais, Teatro",
          "Artes Integradas, Dan?a, Artes Visuais, Teatro",
          "M?sica Popular, M?sica Erudita",
          "Audiovisual, M?sica Popular, Curso ou Oficina",
          "M?sica Erudita",
          "Cultura Tradicional",
          "Palestra, Debate ou Encontro, Livro e Literatura",
          "Livro e Literatura, Palestra, Debate ou Encontro",
          "Palestra, Debate ou Encontro, Livro e Literatura",
          "M?sica Erudita",
          "Outros",
          "Livro e Literatura, Teatro",
          "Artes Integradas, Palestra, Debate ou Encontro, Curso ou Oficina",
          "Curso ou Oficina, Artes Integradas",
          "Teatro",
          "Teatro",
          "Teatro",
          "Artes Circenses",
          "Artes Visuais",
          "Artes Visuais",
          "Artes Visuais",
          "Curso ou Oficina, Teatro",
          "Artes Integradas, Exposi??o, Artes Visuais",
          "Cultura Tradicional",
          "Artes Circenses",
          "M?sica Popular, Dan?a, Cultura Tradicional",
          "M?sica Popular, Dan?a, Cultura Tradicional",
          "M?sica Popular, Dan?a, Cultura Tradicional",
          "M?sica Popular, M?sica Erudita",
          "Artes Circenses",
          "Artes Circenses",
          "Artes Circenses",
          "Artes Circenses",
          "Artes Circenses",
          "Artes Circenses",
          "Artes Circenses",
          "Artes Circenses",
          "Artes Circenses",
          "Artes Circenses",
          "Teatro",
          "Teatro",
          "Teatro",
          "Teatro",
          "Cultura Tradicional, Palestra, Debate ou Encontro, M?sica Erudita, M?sica Popular",
          "Exposi??o",
          "Palestra, Debate ou Encontro",
          "Livro e Literatura",
          "Livro e Literatura",
          "M?sica Popular, Livro e Literatura",
          "M?sica Erudita",
          "M?sica Erudita",
          "M?sica Popular, Cultura Tradicional",
          "Palestra, Debate ou Encontro, Cultura Tradicional, M?sica Popular",
          "Artes Integradas, Teatro",
          "Artes Integradas, M?sica Popular",
          "Cultura Tradicional",
          "Livro e Literatura",
          "Teatro",
          "Teatro",
          "Teatro",
          "Livro e Literatura",
          "M?sica Popular",
          "Livro e Literatura",
          "Livro e Literatura",
          "Curso ou Oficina, Teatro",
          "Curso ou Oficina, Teatro",
          "Curso ou Oficina, Teatro",
          "Curso ou Oficina, Teatro",
          "Cultura Tradicional, M?sica Popular",
          "Livro e Literatura",
          "Livro e Literatura",
          "Livro e Literatura",
          "M?sica Popular, M?sica Erudita",
          "M?sica Popular, M?sica Erudita",
          "M?sica Popular, M?sica Erudita",
          "M?sica Popular, M?sica Erudita",
          "Livro e Literatura, Teatro, M?sica Popular",
          "Livro e Literatura, Teatro, M?sica Popular",
          "M?sica Erudita, Teatro, Cultura Tradicional",
          "Livro e Literatura",
          "Livro e Literatura",
          "Artes Circenses, Teatro",
          "Teatro",
          "Teatro",
          "Curso ou Oficina",
          "Livro e Literatura, Artes Visuais",
          "Cultura Tradicional",
          "Cultura Tradicional",
          "Teatro",
          "Teatro",
          "M?sica Erudita",
          "Livro e Literatura",
          "Curso ou Oficina, Artes Integradas",
          "Curso ou Oficina, Artes Integradas",
          "Curso ou Oficina, Artes Integradas",
          "Curso ou Oficina, Artes Integradas",
          "Curso ou Oficina, Artes Integradas",
          "Livro e Literatura",
          "Artes Visuais, Curso ou Oficina",
          "Outros, M?sica Popular, Cultura Tradicional",
          "M?sica Erudita",
          "M?sica Erudita",
          "M?sica Erudita",
          "M?sica Erudita",
          "M?sica Erudita",
          "M?sica Erudita",
          "M?sica Erudita",
          "M?sica Popular",
          "M?sica Popular",
          "M?sica Popular",
          "M?sica Erudita",
          "M?sica Popular",
          "M?sica Popular",
          "M?sica Popular",
          "M?sica Erudita",
          "M?sica Erudita",
          "M?sica Popular",
          "M?sica Popular",
          "M?sica Popular",
          "M?sica Popular",
          "Palestra, Debate ou Encontro",
          "Outros",
          "M?sica Popular, Artes Circenses, Teatro",
          "Livro e Literatura",
          "Artes Integradas",
          "Outros",
          "Teatro",
          "Teatro",
          "M?sica Erudita",
          "M?sica Erudita",
          "M?sica Popular",
          "M?sica Popular",
          "M?sica Popular",
          "M?sica Erudita",
          "M?sica Erudita",
          "M?sica Erudita",
          "M?sica Erudita",
          "M?sica Popular",
          "M?sica Popular, Livro e Literatura",
          "M?sica Erudita",
          "M?sica Popular",
          "M?sica Popular",
          "M?sica Erudita",
          "M?sica Popular",
          "M?sica Popular",
          "M?sica Popular",
          "M?sica Popular",
          "M?sica Popular",
          "M?sica Popular",
          "M?sica Erudita",
          "M?sica Erudita",
          "M?sica Popular",
          "M?sica Popular",
          "M?sica Popular",
          "M?sica Erudita",
          "M?sica Popular, Cinema",
          "M?sica Erudita",
          "M?sica Popular",
          "M?sica Erudita",
          "M?sica Erudita",
          "M?sica Popular",
          "M?sica Erudita",
          "M?sica Popular",
          "M?sica Popular, Teatro",
          "M?sica Erudita",
          "Exposi??o",
          "M?sica Popular",
          "Palestra, Debate ou Encontro, Livro e Literatura",
          "Teatro",
          "Teatro, Artes Circenses",
          "Curso ou Oficina, Artes Circenses, Teatro",
          "Curso ou Oficina, Teatro, Artes Circenses",
          "Curso ou Oficina, Teatro, Artes Circenses",
          "Cultura Tradicional, Artes Integradas, M?sica Popular",
          "Dan?a, Hip Hop",
          "Dan?a, Hip Hop",
          "Livro e Literatura",
          "Livro e Literatura",
          "Livro e Literatura",
          "Livro e Literatura",
          "Livro e Literatura, Exposi??o",
          "Cultura Tradicional",
          "Cultura Tradicional",
          "Cultura Tradicional",
          "Exposi??o",
          "Teatro",
          "M?sica Erudita",
          "Outros, M?sica Popular",
          "Curso ou Oficina",
          "Artes Integradas, Artes Circenses, Teatro, Palestra, Debate ou Encontro, Curso ou Oficina",
          "Curso ou Oficina, M?sica Popular, Artes Integradas",
          "Teatro",
          "Teatro",
          "Livro e Literatura, Teatro",
          "Curso ou Oficina, Artes Visuais",
          "M?sica Popular",
          "M?sica Popular, Cultura Tradicional",
          "Audiovisual, M?sica Popular, Cinema",
          "Artes Integradas",
          "Artes Integradas",
          "Artes Integradas",
          "Artes Integradas",
          "R?dio, Outros, Hip Hop, Cultura Digital, Artes Integradas, M?sica Popular",
          "M?sica Popular, M?sica Erudita",
          "Outros",
          "Livro e Literatura, Exposi??o",
          "M?sica Popular, Cultura Tradicional",
          "M?sica Popular, Cultura Tradicional",
          "Artes Integradas",
          "M?sica Popular",
          "M?sica Erudita",
          "Palestra, Debate ou Encontro, Livro e Literatura",
          "Artes Circenses, Curso ou Oficina",
          "Teatro, Artes Circenses",
          "Teatro",
          "Outros, Livro e Literatura, M?sica Popular, Curso ou Oficina, Teatro, Artes Circenses",
          "Outros, Livro e Literatura, M?sica Popular, Curso ou Oficina, Teatro, Artes Circenses",
          "Outros, Livro e Literatura, M?sica Popular, Curso ou Oficina, Teatro, Artes Circenses",
          "Artes Visuais, Livro e Literatura",
          "Teatro, M?sica Popular",
          "Curso ou Oficina",
          "Cultura Tradicional, M?sica Popular",
          "Palestra, Debate ou Encontro, Livro e Literatura",
          "Exposi??o, Artes Visuais",
          "M?sica Erudita",
          "Teatro, M?sica Popular",
          "Teatro, M?sica Popular",
          "Outros, Exposi??o, Cultura Tradicional, Artes Visuais, Palestra, Debate ou Encontro",
          "Outros, Exposi??o, Cultura Tradicional, Artes Visuais, Palestra, Debate ou Encontro",
          "Teatro",
          "Livro e Literatura",
          "Teatro",
          "M?sica Popular",
          "Exposi??o",
          "Teatro",
          "Palestra, Debate ou Encontro, Livro e Literatura",
          "M?sica Popular, Teatro",
          "Palestra, Debate ou Encontro, Dan?a, Artes Visuais, Artes Integradas, Teatro",
          "Palestra, Debate ou Encontro, Dan?a, Artes Visuais, Artes Integradas, Teatro",
          "Outros, Dan?a, Cultura Tradicional, Teatro",
          "M?sica Erudita, M?sica Popular",
          "Cultura Tradicional, Dan?a, Teatro",
          "Exposi??o",
          "Teatro",
          "M?sica Popular, Artes Visuais",
          "Livro e Literatura",
          "Teatro",
          "Teatro",
          "Teatro",
          "R?dio, Outros, Exposi??o, Curso ou Oficina, Cultura Digital, Audiovisual, Artes Integradas, Teatro, Palestra, Debate ou Encontro, M?sica Popular, M?sica Erudita, Livro e Literatura, Hip Hop, Dan?a, Cultura Tradicional, Cultura Ind?gena, Cinema, Artes Visuais, Artes Circenses",
          "R?dio, Outros, Exposi??o, Curso ou Oficina, Cultura Digital, Audiovisual, Artes Integradas, Teatro, Palestra, Debate ou Encontro, M?sica Popular, M?sica Erudita, Livro e Literatura, Hip Hop, Dan?a, Cultura Tradicional, Cultura Ind?gena, Cinema, Artes Visuais, Artes Circenses",
          "Palestra, Debate ou Encontro, Livro e Literatura",
          "Curso ou Oficina, Artes Integradas",
          "Livro e Literatura",
          "Exposi??o",
          "Exposi??o",
          "Exposi??o",
          "Curso ou Oficina, Cultura Tradicional, Artes Integradas",
          "Curso ou Oficina, Cultura Tradicional, Artes Integradas",
          "Livro e Literatura",
          "M?sica Erudita",
          "Teatro",
          "Teatro",
          "Teatro",
          "Teatro",
          "Outros",
          "Outros",
          "Palestra, Debate ou Encontro",
          "Outros, Artes Visuais",
          "Outros, Artes Visuais",
          "Outros, Artes Visuais",
          "Outros, Artes Visuais",
          "Outros, Artes Visuais",
          "Outros, Artes Visuais",
          "Outros, M?sica Popular, Dan?a, Artes Visuais, Artes Circenses",
          "M?sica Popular, Dan?a, Outros",
          "M?sica Erudita",
          "M?sica Erudita",
          "Teatro, Artes Integradas, Dan?a, M?sica Popular, Cultura Tradicional",
          "M?sica Popular, Curso ou Oficina, Cultura Tradicional",
          "M?sica Erudita",
          "Artes Integradas, Palestra, Debate ou Encontro",
          "Artes Circenses, Teatro",
          "Artes Circenses, Teatro",
          "Artes Circenses, Teatro",
          "Artes Circenses, Teatro",
          "Artes Visuais, Livro e Literatura",
          "Livro e Literatura",
          "Livro e Literatura",
          "Teatro, M?sica Popular, M?sica Erudita",
          "Dan?a",
          "Exposi??o, Dan?a, Artes Integradas, Artes Visuais, M?sica Popular",
          "M?sica Erudita",
          "Artes Circenses, Teatro",
          "Artes Circenses, Teatro",
          "Exposi??o",
          "Exposi??o",
          "Artes Visuais",
          "Livro e Literatura, Exposi??o",
          "Exposi??o",
          "Teatro, M?sica Popular",
          "Outros",
          "Outros",
          "Artes Integradas, Teatro, Dan?a",
          "Artes Integradas, Teatro, Dan?a",
          "Dan?a",
          "Teatro, Artes Circenses",
          "Livro e Literatura",
          "Teatro, Dan?a, Artes Integradas",
          "Teatro, Dan?a, Artes Integradas",
          "Teatro, Artes Integradas, Dan?a",
          "Teatro, Artes Integradas, Dan?a",
          "Teatro, Artes Integradas, Dan?a",
          "Teatro, Dan?a, Artes Integradas",
          "Teatro, Dan?a, Hip Hop, Artes Integradas",
          "Teatro, Dan?a, Artes Integradas",
          "Teatro, Dan?a, Artes Integradas",
          "Teatro, Artes Integradas, Dan?a",
          "Teatro, Artes Integradas, Dan?a",
          "M?sica Popular, Teatro, Dan?a, Artes Integradas",
          "Teatro, Dan?a, Artes Integradas",
          "Curso ou Oficina, Dan?a",
          "Artes Integradas, Teatro, Dan?a",
          "Palestra, Debate ou Encontro, Livro e Literatura",
          "Outros",
          "Artes Integradas, Teatro, Dan?a, Curso ou Oficina",
          "Artes Integradas, Teatro, Dan?a, Curso ou Oficina",
          "Exposi??o",
          "Cinema, Livro e Literatura",
          "Outros",
          "Palestra, Debate ou Encontro",
          "Palestra, Debate ou Encontro",
          "Curso ou Oficina, Livro e Literatura",
          "Livro e Literatura",
          "Artes Integradas, Dan?a, Hip Hop, Artes Visuais, M?sica Popular",
          "Artes Integradas, Dan?a, Hip Hop, Artes Visuais, M?sica Popular",
          "Artes Integradas",
          "Outros",
          "Dan?a",
          "M?sica Popular",
          "Livro e Literatura",
          "M?sica Popular, M?sica Erudita",
          "Livro e Literatura",
          "Livro e Literatura, Curso ou Oficina",
          "Teatro, Outros, Cinema, Artes Integradas, Cultura Digital, Audiovisual, Artes Visuais",
          "Teatro",
          "Teatro",
          "Teatro",
          "Teatro",
          "Teatro",
          "Teatro",
          "Livro e Literatura",
          "Livro e Literatura",
          "Outros, M?sica Popular, Teatro, Artes Visuais, Artes Circenses",
          "M?sica Popular",
          "Livro e Literatura, Curso ou Oficina",
          "M?sica Erudita",
          "Curso ou Oficina, Livro e Literatura",
          "Outros, Dan?a, Cultura Digital, Artes Visuais",
          "Outros, Dan?a, Cultura Digital, Artes Visuais",
          "Livro e Literatura",
          "Livro e Literatura",
          "Dan?a",
          "Palestra, Debate ou Encontro",
          "Palestra, Debate ou Encontro",
          "Curso ou Oficina",
          "Livro e Literatura",
          "Curso ou Oficina",
          "Curso ou Oficina",
          "Livro e Literatura",
          "Dan?a",
          "Dan?a",
          "Artes Visuais, Artes Circenses, Teatro",
          "Artes Visuais, Artes Circenses, Teatro",
          "Curso ou Oficina",
          "Livro e Literatura",
          "Livro e Literatura",
          "Livro e Literatura",
          "Exposi??o",
          "Exposi??o",
          "Livro e Literatura",
          "Palestra, Debate ou Encontro",
          "Outros",
          "Palestra, Debate ou Encontro",
          "Livro e Literatura, Palestra, Debate ou Encontro",
          "Livro e Literatura",
          "Palestra, Debate ou Encontro",
          "Palestra, Debate ou Encontro, Livro e Literatura",
          "Livro e Literatura",
          "Palestra, Debate ou Encontro, Cinema",
          "Exposi??o",
          "Curso ou Oficina",
          "Palestra, Debate ou Encontro",
          "Palestra, Debate ou Encontro",
          "Palestra, Debate ou Encontro, Livro e Literatura",
          "Livro e Literatura, Artes Visuais, Dan?a, Cinema, M?sica Popular, Teatro",
          "Outros",
          "Outros",
          "Teatro",
          "Livro e Literatura, Exposi??o",
          "Livro e Literatura",
          "Livro e Literatura",
          "Outros",
          "Palestra, Debate ou Encontro, Exposi??o",
          "Curso ou Oficina",
          "Curso ou Oficina",
          "Exposi??o, Hip Hop, Artes Visuais",
          "Exposi??o, Hip Hop, Artes Visuais",
          "Exposi??o, Hip Hop, Artes Visuais",
          "Teatro",
          "Teatro",
          "M?sica Erudita",
          "M?sica Erudita",
          "M?sica Erudita",
          "M?sica Erudita",
          "M?sica Erudita",
          "Artes Integradas",
          "Curso ou Oficina, M?sica Popular, Artes Circenses, Teatro",
          "Curso ou Oficina, M?sica Popular, Artes Circenses, Teatro",
          "Curso ou Oficina, M?sica Popular, Artes Circenses, Teatro",
          "Curso ou Oficina, M?sica Popular, Artes Circenses, Teatro",
          "Curso ou Oficina, M?sica Popular, Artes Circenses, Teatro",
          "Curso ou Oficina, M?sica Popular, Artes Circenses, Teatro",
          "Curso ou Oficina, M?sica Popular, Artes Circenses, Teatro",
          "Curso ou Oficina, M?sica Popular, Artes Circenses, Teatro",
          "Curso ou Oficina, M?sica Popular, Artes Circenses, Teatro",
          "Curso ou Oficina, M?sica Popular, Artes Circenses, Teatro",
          "Curso ou Oficina, M?sica Popular, Artes Circenses, Teatro",
          "Curso ou Oficina, M?sica Popular, Artes Circenses, Teatro",
          "Curso ou Oficina, M?sica Popular, Artes Circenses, Teatro",
          "Curso ou Oficina, M?sica Popular, Artes Circenses, Teatro",
          "Curso ou Oficina, M?sica Popular, Artes Circenses, Teatro",
          "Curso ou Oficina, M?sica Popular, Artes Circenses, Teatro",
          "Curso ou Oficina, M?sica Popular, Artes Circenses, Teatro",
          "Teatro",
          "Teatro",
          "Exposi??o",
          "Teatro, M?sica Popular",
          "Teatro, M?sica Popular",
          "Teatro",
          "Teatro",
          "Teatro",
          "Teatro",
          "M?sica Popular, Cultura Tradicional",
          "M?sica Popular",
          "M?sica Popular",
          "Cinema",
          "Cinema",
          "Cinema",
          "Cinema",
          "Cinema",
          "Artes Visuais",
          "Cinema",
          "M?sica Popular",
          "M?sica Erudita",
          "M?sica Erudita",
          "Exposi??o",
          "M?sica Popular",
          "Livro e Literatura, Palestra, Debate ou Encontro",
          "Artes Integradas, Curso ou Oficina, Livro e Literatura",
          "Artes Integradas, Curso ou Oficina, Livro e Literatura",
          "Palestra, Debate ou Encontro, Cinema",
          "Palestra, Debate ou Encontro, Livro e Literatura",
          "Palestra, Debate ou Encontro, Livro e Literatura",
          "Palestra, Debate ou Encontro, Livro e Literatura",
          "Palestra, Debate ou Encontro, M?sica Popular, Livro e Literatura",
          "Artes Visuais, Palestra, Debate ou Encontro, Exposi??o",
          "Teatro",
          "Teatro",
          "Teatro",
          "Teatro",
          "Teatro",
          "Teatro",
          "Teatro",
          "Teatro",
          "Teatro",
          "Teatro",
          "Teatro",
          "Teatro",
          "Teatro",
          "Livro e Literatura",
          "Livro e Literatura",
          "Livro e Literatura",
          "Livro e Literatura",
          "M?sica Popular",
          "Exposi??o, Audiovisual"
         ]
        }
       ],
       "layout": {
        "template": {
         "data": {
          "bar": [
           {
            "error_x": {
             "color": "#2a3f5f"
            },
            "error_y": {
             "color": "#2a3f5f"
            },
            "marker": {
             "line": {
              "color": "#E5ECF6",
              "width": 0.5
             }
            },
            "type": "bar"
           }
          ],
          "barpolar": [
           {
            "marker": {
             "line": {
              "color": "#E5ECF6",
              "width": 0.5
             }
            },
            "type": "barpolar"
           }
          ],
          "carpet": [
           {
            "aaxis": {
             "endlinecolor": "#2a3f5f",
             "gridcolor": "white",
             "linecolor": "white",
             "minorgridcolor": "white",
             "startlinecolor": "#2a3f5f"
            },
            "baxis": {
             "endlinecolor": "#2a3f5f",
             "gridcolor": "white",
             "linecolor": "white",
             "minorgridcolor": "white",
             "startlinecolor": "#2a3f5f"
            },
            "type": "carpet"
           }
          ],
          "choropleth": [
           {
            "colorbar": {
             "outlinewidth": 0,
             "ticks": ""
            },
            "type": "choropleth"
           }
          ],
          "contour": [
           {
            "colorbar": {
             "outlinewidth": 0,
             "ticks": ""
            },
            "colorscale": [
             [
              0,
              "#0d0887"
             ],
             [
              0.1111111111111111,
              "#46039f"
             ],
             [
              0.2222222222222222,
              "#7201a8"
             ],
             [
              0.3333333333333333,
              "#9c179e"
             ],
             [
              0.4444444444444444,
              "#bd3786"
             ],
             [
              0.5555555555555556,
              "#d8576b"
             ],
             [
              0.6666666666666666,
              "#ed7953"
             ],
             [
              0.7777777777777778,
              "#fb9f3a"
             ],
             [
              0.8888888888888888,
              "#fdca26"
             ],
             [
              1,
              "#f0f921"
             ]
            ],
            "type": "contour"
           }
          ],
          "contourcarpet": [
           {
            "colorbar": {
             "outlinewidth": 0,
             "ticks": ""
            },
            "type": "contourcarpet"
           }
          ],
          "heatmap": [
           {
            "colorbar": {
             "outlinewidth": 0,
             "ticks": ""
            },
            "colorscale": [
             [
              0,
              "#0d0887"
             ],
             [
              0.1111111111111111,
              "#46039f"
             ],
             [
              0.2222222222222222,
              "#7201a8"
             ],
             [
              0.3333333333333333,
              "#9c179e"
             ],
             [
              0.4444444444444444,
              "#bd3786"
             ],
             [
              0.5555555555555556,
              "#d8576b"
             ],
             [
              0.6666666666666666,
              "#ed7953"
             ],
             [
              0.7777777777777778,
              "#fb9f3a"
             ],
             [
              0.8888888888888888,
              "#fdca26"
             ],
             [
              1,
              "#f0f921"
             ]
            ],
            "type": "heatmap"
           }
          ],
          "heatmapgl": [
           {
            "colorbar": {
             "outlinewidth": 0,
             "ticks": ""
            },
            "colorscale": [
             [
              0,
              "#0d0887"
             ],
             [
              0.1111111111111111,
              "#46039f"
             ],
             [
              0.2222222222222222,
              "#7201a8"
             ],
             [
              0.3333333333333333,
              "#9c179e"
             ],
             [
              0.4444444444444444,
              "#bd3786"
             ],
             [
              0.5555555555555556,
              "#d8576b"
             ],
             [
              0.6666666666666666,
              "#ed7953"
             ],
             [
              0.7777777777777778,
              "#fb9f3a"
             ],
             [
              0.8888888888888888,
              "#fdca26"
             ],
             [
              1,
              "#f0f921"
             ]
            ],
            "type": "heatmapgl"
           }
          ],
          "histogram": [
           {
            "marker": {
             "colorbar": {
              "outlinewidth": 0,
              "ticks": ""
             }
            },
            "type": "histogram"
           }
          ],
          "histogram2d": [
           {
            "colorbar": {
             "outlinewidth": 0,
             "ticks": ""
            },
            "colorscale": [
             [
              0,
              "#0d0887"
             ],
             [
              0.1111111111111111,
              "#46039f"
             ],
             [
              0.2222222222222222,
              "#7201a8"
             ],
             [
              0.3333333333333333,
              "#9c179e"
             ],
             [
              0.4444444444444444,
              "#bd3786"
             ],
             [
              0.5555555555555556,
              "#d8576b"
             ],
             [
              0.6666666666666666,
              "#ed7953"
             ],
             [
              0.7777777777777778,
              "#fb9f3a"
             ],
             [
              0.8888888888888888,
              "#fdca26"
             ],
             [
              1,
              "#f0f921"
             ]
            ],
            "type": "histogram2d"
           }
          ],
          "histogram2dcontour": [
           {
            "colorbar": {
             "outlinewidth": 0,
             "ticks": ""
            },
            "colorscale": [
             [
              0,
              "#0d0887"
             ],
             [
              0.1111111111111111,
              "#46039f"
             ],
             [
              0.2222222222222222,
              "#7201a8"
             ],
             [
              0.3333333333333333,
              "#9c179e"
             ],
             [
              0.4444444444444444,
              "#bd3786"
             ],
             [
              0.5555555555555556,
              "#d8576b"
             ],
             [
              0.6666666666666666,
              "#ed7953"
             ],
             [
              0.7777777777777778,
              "#fb9f3a"
             ],
             [
              0.8888888888888888,
              "#fdca26"
             ],
             [
              1,
              "#f0f921"
             ]
            ],
            "type": "histogram2dcontour"
           }
          ],
          "mesh3d": [
           {
            "colorbar": {
             "outlinewidth": 0,
             "ticks": ""
            },
            "type": "mesh3d"
           }
          ],
          "parcoords": [
           {
            "line": {
             "colorbar": {
              "outlinewidth": 0,
              "ticks": ""
             }
            },
            "type": "parcoords"
           }
          ],
          "scatter": [
           {
            "marker": {
             "colorbar": {
              "outlinewidth": 0,
              "ticks": ""
             }
            },
            "type": "scatter"
           }
          ],
          "scatter3d": [
           {
            "line": {
             "colorbar": {
              "outlinewidth": 0,
              "ticks": ""
             }
            },
            "marker": {
             "colorbar": {
              "outlinewidth": 0,
              "ticks": ""
             }
            },
            "type": "scatter3d"
           }
          ],
          "scattercarpet": [
           {
            "marker": {
             "colorbar": {
              "outlinewidth": 0,
              "ticks": ""
             }
            },
            "type": "scattercarpet"
           }
          ],
          "scattergeo": [
           {
            "marker": {
             "colorbar": {
              "outlinewidth": 0,
              "ticks": ""
             }
            },
            "type": "scattergeo"
           }
          ],
          "scattergl": [
           {
            "marker": {
             "colorbar": {
              "outlinewidth": 0,
              "ticks": ""
             }
            },
            "type": "scattergl"
           }
          ],
          "scattermapbox": [
           {
            "marker": {
             "colorbar": {
              "outlinewidth": 0,
              "ticks": ""
             }
            },
            "type": "scattermapbox"
           }
          ],
          "scatterpolar": [
           {
            "marker": {
             "colorbar": {
              "outlinewidth": 0,
              "ticks": ""
             }
            },
            "type": "scatterpolar"
           }
          ],
          "scatterpolargl": [
           {
            "marker": {
             "colorbar": {
              "outlinewidth": 0,
              "ticks": ""
             }
            },
            "type": "scatterpolargl"
           }
          ],
          "scatterternary": [
           {
            "marker": {
             "colorbar": {
              "outlinewidth": 0,
              "ticks": ""
             }
            },
            "type": "scatterternary"
           }
          ],
          "surface": [
           {
            "colorbar": {
             "outlinewidth": 0,
             "ticks": ""
            },
            "colorscale": [
             [
              0,
              "#0d0887"
             ],
             [
              0.1111111111111111,
              "#46039f"
             ],
             [
              0.2222222222222222,
              "#7201a8"
             ],
             [
              0.3333333333333333,
              "#9c179e"
             ],
             [
              0.4444444444444444,
              "#bd3786"
             ],
             [
              0.5555555555555556,
              "#d8576b"
             ],
             [
              0.6666666666666666,
              "#ed7953"
             ],
             [
              0.7777777777777778,
              "#fb9f3a"
             ],
             [
              0.8888888888888888,
              "#fdca26"
             ],
             [
              1,
              "#f0f921"
             ]
            ],
            "type": "surface"
           }
          ],
          "table": [
           {
            "cells": {
             "fill": {
              "color": "#EBF0F8"
             },
             "line": {
              "color": "white"
             }
            },
            "header": {
             "fill": {
              "color": "#C8D4E3"
             },
             "line": {
              "color": "white"
             }
            },
            "type": "table"
           }
          ]
         },
         "layout": {
          "annotationdefaults": {
           "arrowcolor": "#2a3f5f",
           "arrowhead": 0,
           "arrowwidth": 1
          },
          "colorscale": {
           "diverging": [
            [
             0,
             "#8e0152"
            ],
            [
             0.1,
             "#c51b7d"
            ],
            [
             0.2,
             "#de77ae"
            ],
            [
             0.3,
             "#f1b6da"
            ],
            [
             0.4,
             "#fde0ef"
            ],
            [
             0.5,
             "#f7f7f7"
            ],
            [
             0.6,
             "#e6f5d0"
            ],
            [
             0.7,
             "#b8e186"
            ],
            [
             0.8,
             "#7fbc41"
            ],
            [
             0.9,
             "#4d9221"
            ],
            [
             1,
             "#276419"
            ]
           ],
           "sequential": [
            [
             0,
             "#0d0887"
            ],
            [
             0.1111111111111111,
             "#46039f"
            ],
            [
             0.2222222222222222,
             "#7201a8"
            ],
            [
             0.3333333333333333,
             "#9c179e"
            ],
            [
             0.4444444444444444,
             "#bd3786"
            ],
            [
             0.5555555555555556,
             "#d8576b"
            ],
            [
             0.6666666666666666,
             "#ed7953"
            ],
            [
             0.7777777777777778,
             "#fb9f3a"
            ],
            [
             0.8888888888888888,
             "#fdca26"
            ],
            [
             1,
             "#f0f921"
            ]
           ],
           "sequentialminus": [
            [
             0,
             "#0d0887"
            ],
            [
             0.1111111111111111,
             "#46039f"
            ],
            [
             0.2222222222222222,
             "#7201a8"
            ],
            [
             0.3333333333333333,
             "#9c179e"
            ],
            [
             0.4444444444444444,
             "#bd3786"
            ],
            [
             0.5555555555555556,
             "#d8576b"
            ],
            [
             0.6666666666666666,
             "#ed7953"
            ],
            [
             0.7777777777777778,
             "#fb9f3a"
            ],
            [
             0.8888888888888888,
             "#fdca26"
            ],
            [
             1,
             "#f0f921"
            ]
           ]
          },
          "colorway": [
           "#636efa",
           "#EF553B",
           "#00cc96",
           "#ab63fa",
           "#FFA15A",
           "#19d3f3",
           "#FF6692",
           "#B6E880",
           "#FF97FF",
           "#FECB52"
          ],
          "font": {
           "color": "#2a3f5f"
          },
          "geo": {
           "bgcolor": "white",
           "lakecolor": "white",
           "landcolor": "#E5ECF6",
           "showlakes": true,
           "showland": true,
           "subunitcolor": "white"
          },
          "hoverlabel": {
           "align": "left"
          },
          "hovermode": "closest",
          "mapbox": {
           "style": "light"
          },
          "paper_bgcolor": "white",
          "plot_bgcolor": "#E5ECF6",
          "polar": {
           "angularaxis": {
            "gridcolor": "white",
            "linecolor": "white",
            "ticks": ""
           },
           "bgcolor": "#E5ECF6",
           "radialaxis": {
            "gridcolor": "white",
            "linecolor": "white",
            "ticks": ""
           }
          },
          "scene": {
           "xaxis": {
            "backgroundcolor": "#E5ECF6",
            "gridcolor": "white",
            "gridwidth": 2,
            "linecolor": "white",
            "showbackground": true,
            "ticks": "",
            "zerolinecolor": "white"
           },
           "yaxis": {
            "backgroundcolor": "#E5ECF6",
            "gridcolor": "white",
            "gridwidth": 2,
            "linecolor": "white",
            "showbackground": true,
            "ticks": "",
            "zerolinecolor": "white"
           },
           "zaxis": {
            "backgroundcolor": "#E5ECF6",
            "gridcolor": "white",
            "gridwidth": 2,
            "linecolor": "white",
            "showbackground": true,
            "ticks": "",
            "zerolinecolor": "white"
           }
          },
          "shapedefaults": {
           "line": {
            "color": "#2a3f5f"
           }
          },
          "ternary": {
           "aaxis": {
            "gridcolor": "white",
            "linecolor": "white",
            "ticks": ""
           },
           "baxis": {
            "gridcolor": "white",
            "linecolor": "white",
            "ticks": ""
           },
           "bgcolor": "#E5ECF6",
           "caxis": {
            "gridcolor": "white",
            "linecolor": "white",
            "ticks": ""
           }
          },
          "title": {
           "x": 0.05
          },
          "xaxis": {
           "automargin": true,
           "gridcolor": "white",
           "linecolor": "white",
           "ticks": "",
           "zerolinecolor": "white",
           "zerolinewidth": 2
          },
          "yaxis": {
           "automargin": true,
           "gridcolor": "white",
           "linecolor": "white",
           "ticks": "",
           "zerolinecolor": "white",
           "zerolinewidth": 2
          }
         }
        },
        "title": {
         "text": "Relação Atividade por Linguagem"
        },
        "xaxis": {
         "title": {
          "text": "Atividade"
         }
        },
        "yaxis": {
         "title": {
          "text": "Linguagem"
         }
        }
       }
      },
      "text/html": [
       "<div>\n",
       "        \n",
       "        \n",
       "            <div id=\"78dcdf94-7b20-43b6-bc72-28106d285feb\" class=\"plotly-graph-div\" style=\"height:525px; width:100%;\"></div>\n",
       "            <script type=\"text/javascript\">\n",
       "                require([\"plotly\"], function(Plotly) {\n",
       "                    window.PLOTLYENV=window.PLOTLYENV || {};\n",
       "                    \n",
       "                if (document.getElementById(\"78dcdf94-7b20-43b6-bc72-28106d285feb\")) {\n",
       "                    Plotly.newPlot(\n",
       "                        '78dcdf94-7b20-43b6-bc72-28106d285feb',\n",
       "                        [{\"marker\": {\"color\": \"#e74c3c\", \"line\": {\"color\": \"#c0392b\", \"width\": 1}}, \"mode\": \"markers\", \"opacity\": 0.8, \"type\": \"scatter\", \"x\": [\"Estreia na Biblioteca\", \"Exposi\\u00e7\\u00e3o de Poesias Ilustradas de Valdenir Teles Magalh\\u00e3es\", \"Aulas de Hatha Yoga\", \"Aulas de Hatha Yoga\", \"C\\u00edrculo de debates sobre o livro \\\"Quarenta dias\\\" de Maria Val\\u00e9ria Rezende\", \"Bate-papo sobre o livro \\\"Com\\u00e9dias para se ler na escola\\\" de Luis Fernando Ver\\u00edssimo\", \"Palestra sobre o livro \\\"Com\\u00e9dias para ser ler na escola\\\" de Luis Fernando Ver\\u00edssimo\", \"Conta\\u00e7\\u00e3o de hist\\u00f3ria sobre o livro \\\"Alice no pais das maravilhas\\\" de Lewis Carroll\", \"Conta\\u00e7\\u00e3o de hist\\u00f3ria sobre o livro \\\"Alice no pais das maravilhas\\\" de Lewis Carroll\", \"Conta\\u00e7\\u00e3o de hist\\u00f3ria sobre o livro \\\"Alice no pais das maravilhas\\\" de Lewis Carroll\", \"Conta\\u00e7\\u00e3o de hist\\u00f3ria sobre o livro \\\"Alice no pais das maravilhas\\\" de Lewis Carroll\", \"CABAR\\u00c9 DAS MUI\\u00c9\", \"C\\u00edrculo de Debate sobre o Livro Alguma poesia de Carlos Drummond de Andrade\", \"Exposi\\u00e7\\u00e3o Hist\\u00f3rica\", \"Exposi\\u00e7\\u00e3o Hist\\u00f3rica\", \"Palestra sobre o livro \\\"Clara dos Anjos\\\" de Lima Barreto\", \"Evento Teste\", \"Campanha leia, doe e troque\", \"Palestra: Busca em bases de dados gratuitas\", \"Roda de conversa: A relev\\u00e2ncia da leitura para a leitura de mundo, na perspectiva de Paulo Freire\", \"Oficina de produ\\u00e7\\u00e3o de fantoches\", \"Palestra: Diretrizes para elabora\\u00e7\\u00e3o de trabalhos acad\\u00eamicos segundo estilo Vancouver e APA\", \"Orquestra e Coral Solidariedade Sempre\", \"Orquestra e Coral Solidariedade Sempre\", \"Orquestra e Coral Solidariedade Sempre\", \"Orquestra e Coral Solidariedade Sempre\", \"Orquestra e Coral Solidariedade Sempre\", \"Orquestra e Coral Solidariedade Sempre\", \"Orquestra e Coral Solidariedade Sempre\", \"Orquestra e Coral Solidariedade Sempre\", \"Orquestra e Coral Solidariedade Sempre\", \"Orquestra e Coral Solidariedade Sempre\", \"BRISA - Saraus Art\\u00edsticos\", \"BRISA - Saraus Art\\u00edsticos\", \"BRISA - Saraus Art\\u00edsticos\", \"Apresenta\\u00e7\\u00f5es Cad\\u00eancia Sincopada\", \"Apresenta\\u00e7\\u00f5es Cad\\u00eancia Sincopada\", \"Apresenta\\u00e7\\u00f5es Cad\\u00eancia Sincopada\", \"Apresenta\\u00e7\\u00f5es Cad\\u00eancia Sincopada\", \"XXII Sal\\u00e3o Nacional de Arte Fotogr\\u00e1fica do Foto Clube de Londrina\", \"Conta\\u00e7\\u00e3o de hist\\u00f3ria com Gilza Santos \", \"Femucom - Festival de M\\u00fasica do Comerci\\u00e1rio\", \"Lan\\u00e7amento do Livro Sem Travas na L\\u00edngua\", \"Espet\\u00e1culo QUAL A GRA\\u00c7A DE LAURINDA?\", \"Vikings e o Reino Saqueado\", \"Bailinho do Plant\\u00e3o\", \"Lunavi na FLAPT\", \"Oficina \\u201cPintura em pano de prato\\u201d\", \"Dramatiza\\u00e7\\u00e3o acompanhada com repert\\u00f3rio musical\", \"Oficina de Recicl\\u00e1veis: A Escolinha do mar\", \"Oficina \\u201cD\\u00e9coupage em sabonete\\u201d\", \"Oficina \\u201cM\\u00e1scaras com papel mach\\u00ea\\u201d\", \"Cemit\\u00e9rio, temporada de oficinas\", \"Ensaio aberto: Tomai a medida do cora\\u00e7\\u00e3o humano\", \"Ensaio aberto: Tomai a medida do cora\\u00e7\\u00e3o humano\", \"Exposi\\u00e7\\u00e3o \\u201cVigve, megme\\u201d\", \"Achados Liter\\u00e1rios\", \"Oficinas Percussivas ILU ODARA\", \"Maracatu Semente de Angola\", \"Assalto Liter\\u00e1rio no Canto\", \"Assalto Liter\\u00e1rio, 27 janeiro\", \"Vikings e o Reino Saqueado!\", \"Vikings e o Reino Saqueado!\", \"Sarau:prosa, poesia e outras del\\u00edcias - batuque e poesia\", \"P\\u00e9 de Samba\", \"SEMANA DA VISIBILIDADE TRANS\", \"Exposi\\u00e7\\u00e3o: \\\"Violeta e os Seres Imagin\\u00e1rios\\\"\", \"Celebrando a Cultura Rural\", \"Celebrando a Cultura Rural\", \"Celebrando a Cultura Rural\", \"RESGATE DE RUA\", \"RESGATE DE RUA\", \"RESGATE DE RUA\", \"Campeonato de Xadrez Londrinense 2019\", \"Campeonato de Xadrez Londrinense 2019\", \"Campeonato de Xadrez Londrinense 2019\", \"Campeonato de Xadrez Londrinense 2019\", \"Campeonato de Xadrez Londrinense 2019\", \"Campeonato de Xadrez Londrinense 2019\", \"Campeonato de Xadrez Londrinense 2019\", \"Campeonato de Xadrez Londrinense 2019\", \"Campeonato de Xadrez Londrinense 2019\", \"Campeonato de Xadrez Londrinense 2019\", \"Campeonato de Xadrez Londrinense 2019\", \"Espet\\u00e1culo \\\"Na Gaveta de Baixo\\\"\", \"Conta\\u00e7\\u00e3o de hist\\u00f3ria sobre o livro \\\"Onde vivem os monstros\\\" de Maurice Sendak\", \"Conta\\u00e7\\u00e3o de hist\\u00f3ria sobre o livro \\\"Onde vivem os monstros\\\" de Maurice Sendak\", \"Conta\\u00e7\\u00e3o de hist\\u00f3ria sobre o livro \\\"Cacoete\\\" de Eva Furnari\", \"Conta\\u00e7\\u00e3o de hist\\u00f3ria sobre o livro \\\"Cacoete\\\" de Eva Furnari\", \"Conta\\u00e7\\u00e3o de hist\\u00f3ria sobre o livro \\\"Cacoete\\\" de Eva Furnari\", \"Oficina de desenhos com o Prof. Paulo Tio\", \"Assalto Liter\\u00e1rio no Vista Bela\", \"Carnaval 2019 - Ensaios abertos do Bloco Bafo Quente\", \"Carnaval 2019 - Ensaios abertos do Bloco Bafo Quente\", \"Banda Nova - De um Filho, De um Cego | B\\u00fafalos D'\\u00c1gua\", \"Reuni\\u00e3o com o integrantes do Clube Aventureiros do Amanhecer\", \"Reuni\\u00e3o com o integrantes do Clube Aventureiros do Amanhecer\", \"Reuni\\u00e3o com o integrantes do Clube Aventureiros do Amanhecer\", \"Reuni\\u00e3o com o integrantes do Clube Aventureiros do Amanhecer\", \"Reuni\\u00e3o com o integrantes do Clube Aventureiros do Amanhecer\", \"Reuni\\u00e3o com o integrantes do Clube Aventureiros do Amanhecer\", \"Reuni\\u00e3o com o integrantes do Clube Aventureiros do Amanhecer\", \"Reuni\\u00e3o com o integrantes do Clube Aventureiros do Amanhecer\", \"Reuni\\u00e3o com o integrantes do Clube Aventureiros do Amanhecer\", \"Reuni\\u00e3o com o integrantes do Clube Aventureiros do Amanhecer\", \"Exposi\\u00e7\\u00e3o: Conhecendo os autores e suas obras\", \"Sarar\\u00e1 Criolo - Circula\\u00e7\\u00e3o e Lan\\u00e7amento de CD\", \"Sarar\\u00e1 Criolo - Circula\\u00e7\\u00e3o e Lan\\u00e7amento de CD\", \"Sarar\\u00e1 Criolo - Circula\\u00e7\\u00e3o e Lan\\u00e7amento de CD\", \"Sarar\\u00e1 Criolo - Circula\\u00e7\\u00e3o e Lan\\u00e7amento de CD\", \"Sarar\\u00e1 Criolo - Circula\\u00e7\\u00e3o e Lan\\u00e7amento de CD\", \"Cacoete - Eva Furnari\", \"Cacoete - Eva Furnari\", \"Conta\\u00e7\\u00e3o de hist\\u00f3ria\", \"Transtornada Eu\", \"Bailinho do Plant\\u00e3o\", \"Bailinho do Plant\\u00e3o\", \"Bailinho do Plant\\u00e3o\", \"Bailinho do Plant\\u00e3o\", \"Bailinho do Plant\\u00e3o\", \"Bailinho do Plant\\u00e3o\", \"Bailinho do Plant\\u00e3o\", \"Bailinho do Plant\\u00e3o\", \"Bailinho do Plant\\u00e3o\", \"Bailinho do Plant\\u00e3o\", \"Bailinho do Plant\\u00e3o\", \"\\\"Chapeuzinho Vermelho\\u201d \\u2013 Irm\\u00e3os Grimm\", \"Oficina - A dan\\u00e7a da Palha\\u00e7a\", \"Oficina - Palha\\u00e7aria na Vis\\u00e3o Feminina\", \"Oficina - Objeto e Cena\", \"Oficina - Mulheres Gozadas\", \"Oficina - \\u201cMeu corpo c\\u00f4mico: dilatando risos\\u201d\", \"Oficina - Jogos L\\u00fadicos\", \"Espet\\u00e1culo: \\\"Vagarosa\\\"\", \"Espet\\u00e1culo: \\\"Que Festa \\u00e9 essa criatura?\\\"\", \"Espet\\u00e1culo: \\\"Ao Ponto\\\"\", \"Espet\\u00e1culo \\u201cMalagueta Dorminhoca\\u201d\", \"Espet\\u00e1culo: Plano n\\u00ba 269\", \"Oficina \\\"Microconto: um vasto pequeno mundo\\\", com Cl\\u00e1udia Bergamini\", \"Oficina \\\"Microconto: um vasto pequeno mundo\\\", com Cl\\u00e1udia Bergamini\", \"Pr\\u00e9 Carnaval\", \"Matin\\u00ea de Carnaval na ALMA\", \"S\\u00c9RIE PALCOS MUSICAIS 2019 - ABERTURA DA TEMPORADA\", \"MEXE QUE \\u00c9 BOM!\", \"Dia do Bibliotec\\u00e1rio: O Gestor Cultural e as a\\u00e7\\u00f5es de produ\\u00e7\\u00e3o e incentivo \\u00e0 leitura\", \"Mostra Fotogr\\u00e1fica \\\"Minha Beleza Pura\\\"\", \"Mostra Fotogr\\u00e1fica \\\"Minha Beleza Pura\\\"\", \"Celebrando a Cultura Rural\", \"Celebrando a Cultura Rural\", \"CONEX\\u00d5ES H\\u00cdBRIDAS E MEM\\u00d3RIAS MARGINAIS\", \"CONEX\\u00d5ES H\\u00cdBRIDAS E MEM\\u00d3RIAS MARGINAIS\", \"Feir\\u00e3o da Resist\\u00eancia e da Reforma Agr\\u00e1ria | Especial 8M\", \"Projeto Balaio de Gato\", \"OSUEL COMEMORA 35 ANOS\", \"M\\u00faltiplo Leminski\", \"M\\u00faltiplo Leminski\", \"M\\u00faltiplo Leminski\", \"M\\u00faltiplo Leminski\", \"M\\u00faltiplo Leminski\", \"M\\u00faltiplo Leminski\", \"M\\u00faltiplo Leminski\", \"M\\u00faltiplo Leminski\", \"OFICINA DE TEATRO PARA MULHERES\", \"OFICINA DE TEATRO PARA MULHERES\", \"OFICINA DE TEATRO PARA MULHERES\", \"OFICINA DE TEATRO PARA MULHERES\", \"Sarauzinho, Londrix 15 anos\", \"Triol\\u00e9 apresenta: O ZELADOR\", \"Palestra e bate-papo sobre o livro \\\"Vozes anoitecidas de Mia Couto\\\"\", \"Conta\\u00e7\\u00e3o de hist\\u00f3rias sobre o livro \\\"Chapeuzinho Vermelho\\\" - Irm\\u00e3os Grimm\", \"Conta\\u00e7\\u00e3o de hist\\u00f3rias sobre o livro \\\"Chapeuzinho Vermelho\\\" - Irm\\u00e3os Grimm\", \"Conta\\u00e7\\u00e3o de hist\\u00f3rias sobre o livro \\\"Chapeuzinho Vermelho\\\" - Irm\\u00e3os Grimm\", \"Conta\\u00e7\\u00e3o de hist\\u00f3rias sobre o livro \\\"Chapeuzinho Vermelho\\\" - Irm\\u00e3os Grimm\", \"Banda Nova - Sincopaduo | David Mour\", \"Banda Nova - Octopus Trio | Amino\\u00e1cido\", \"Sarar\\u00e1 Criolo - Lan\\u00e7amento do CD\", \"MEQUETREFE CIRCO SHOW\", \"ARTE TRANSFORMA\\u00c7\\u00c3O NA EDUCA\\u00c7\\u00c3O INFANTIL\", \"OFICINA DE PINTURA E DESENHO COM TINTAS NATURAIS\", \"BRINCANDO COM ARGILA\", \"BRINCANDO COM ARGILA\", \"Exposi\\u00e7\\u00e3o \\\"Welcome\\\"\", \"Conta\\u00e7\\u00e3o de hist\\u00f3ria\", \"Lan\\u00e7amento: luas, de J\\u00falia Rocha e Gustavo Galo\", \"A RUA E AS CRIAN\\u00c7AS.\", \"IDOSOS NO HIP- HOP\", \"ORQUESTRA BARROCA CAPRICCIO STRAVAGANTE APRESENTA \\u00d3PERA TH\\u00c9S\\u00c9E, DIA 30\", \"Capoeira Senzala\", \"Conta\\u00e7\\u00e3o de hist\\u00f3rias sobre o livro \\\"Viagem ao C\\u00e9u\\\" de Monteiro Lobato\", \"Conta\\u00e7\\u00e3o de hist\\u00f3rias sobre o livro \\\"Viagem ao C\\u00e9u\\\" de Monteiro Lobato\", \"Conta\\u00e7\\u00e3o de hist\\u00f3rias sobre o livro \\\"Viagem ao C\\u00e9u\\\" de Monteiro Lobato\", \"Conta\\u00e7\\u00e3o de hist\\u00f3rias sobre o livro \\\"Viagem ao C\\u00e9u\\\" de Monteiro Lobato\", \"Exposi\\u00e7\\u00e3o Grude + Fachada Nova\", \"6\\u00ba EVENTO DE CAPOEIRA DE ANGOLA AECAJP - CECA - PERNAMBU\\u00c9S SSA-BA MESTRE CIRO\", \"Projeto Vivenciando a m\\u00fasica na melhor idade\", \"Projeto Vivenciando a M\\u00fasica na Melhor Idade\", \"Projeto Vivenciando a M\\u00fasica na Melhor Idade\", \"Projeto Vivenciando a M\\u00fasica na melhor idade\", \"Bravi com Allice Tirolla, Fabricio Martins e Elthon Dias\", \"Musicalizando e dan\\u00e7ando para a vida\", \"Toques e dan\\u00e7as brasileiras\", \"Novas apresenta\\u00e7\\u00f5es de Transtornada Eu\", \"Novas apresenta\\u00e7\\u00f5es de Transtornada Eu\", \"PROARTE\", \"Viagem ao C\\u00e9u - Monteiro Lobato\", \"Uma Cole\\u00e7\\u00e3o Futurologista ( The Best of Mr.Chao )\", \"Uma Cole\\u00e7\\u00e3o Futurologista ( The Best of Mr.Chao )\", \"Uma Cole\\u00e7\\u00e3o Futurologista ( The Best of Mr.Chao )\", \"Uma Cole\\u00e7\\u00e3o Futurologista ( The Best of Mr.Chao )\", \"Exposi\\u00e7\\u00e3o \\\"Mundo encantado de Lobato\\\"\", \"Conta\\u00e7\\u00e3o de Hist\\u00f3ria\", \"Oficina de artes\", \"Alice no Pa\\u00eds das Maravilhas\\u201d \\u2013 Lewis Caroll\", \"CONCERTO DE P\\u00c1SCOA\", \"Quizomba Re-Existe!\", \"Oficina Quizomba de Bumba-meu-Boi\", \"Oficina Quizomba de Bumba-meu-Boi\", \"Oficina Quizomba de Bumba-meu-Boi\", \"Palco AlmA Londrina 2019\", \"Palco AlmA Londrina 2019\", \"Sarau Flapt - O Corpo Que Luta O Corpo Que Dan\\u00e7a\", \"Transtornada Eu na Alma\", \"Transtornada Eu na Alma\", \"Transtornada Eu na Alma\", \"Por Um X\", \"Por Um X\", \"Por Um X\", \"Por Um X\", \"Por Um X\", \"Por Um X\", \"Por Um X\", \"Por Um X\", \"Por Um X\", \"Por Um X\", \"Feir\\u00e3o da Resist\\u00eancia e da Reforma Agr\\u00e1ria\", \"17\\u00aa Semana Nacional de Museus\", \"17\\u00aa Semana Nacional de Museus\", \"17\\u00aa Semana Nacional de Museus\", \"17\\u00aa Semana Nacional de Museus\", \"17\\u00aa Semana Nacional de Museus\", \"17\\u00aa Semana Nacional de Museus\", \"17\\u00aa Semana Nacional de Museus\", \"17\\u00aa Semana Nacional de Museus\", \"Oficina de Cer\\u00e2mica\", \"Meu cora\\u00e7\\u00e3o de Polaco voltou\", \"1\\u00ba Encontro Cidadania e Leis Federais de Incentivo\", \"Samba do Sereno\", \"Po\\u00e9ticas de Terra e C\\u00e9u\", \"Espet\\u00e1culo Transtornada Eu na Flapt\", \"Pint Of Science 2019 Londrina Pr.\", \"Oficina de orienta\\u00e7\\u00e3o dos Editais n\\u00ba 01 e 02/2019 - Projetos Culturais Estrat\\u00e9gicos\", \"Exposi\\u00e7\\u00e3o \\\"M\\u00eas da Fam\\u00edlia: um elo de Amor\\\"\", \"Conta\\u00e7\\u00e3o da hist\\u00f3ria \\u201cHist\\u00f3rias de Lepe e Sep: 2 cora\\u00e7\\u00f5es pulsantes\\\"\", \"VIII MOSTRA DE M\\u00daSICA DE C\\u00c2MARA - concertos comemorativos - CONCERTO PARA CRIAN\\u00c7AS\", \"Conta\\u00e7\\u00e3o da hist\\u00f3ria \\u201cAlice no Pa\\u00eds das Maravilhas\\u201d\", \"Mostra fotogr\\u00e1fica \\u201cMinha Beleza Pura\\u201d\", \"Oficina de Artes \\u201cAlice no Pa\\u00eds das Maravilhas\\u201d\", \"As marcas no corpo\", \"4\\u00aa Etapa de Renova\\u00e7\\u00e3o do Comit\\u00ea Gestor da Salvaguarda da Capoeira no Paran\\u00e1\", \"As marcas no corpo\", \"Festival Cultural\", \"Festival Cultural\", \"Festival Cultural\", \"BIZARRIA\", \"BIZARRIA\", \"BIZARRIA\", \"BIZARRIA\", \"BIZARRIA\", \"BIZARRIA\", \"Orquestra Intermedi\\u00e1ria Bravi\", \"Semana do Caf\\u00e9 2019\", \"PROJETO MUSICANDO NA ESCOLA\", \"Aulas de Capoeira\", \"C\\u00edrculo de debates do livro \\\"Clara dos anjos\\\" de Lima Barreto\", \"Palestra sobre o livro \\\"O filho eterno\\\" de Cristov\\u00e3o Tezza\", \"C\\u00edrculo de debates sobre o livro \\\"O filho eterno\\\" de Cristov\\u00e3o Tezza\", \"METAIS IN CONCERT\", \"Exposi\\u00e7\\u00e3o: Literatura em quadrinhos e mang\\u00e1s\", \"Po\\u00e9ticas de Terra e C\\u00e9u\", \"PROARTE - AULA ESPECIAL CAPTA\\u00c7\\u00c3O LEIS DE INCENTIVO\", \"Brincando com Luz e Sombra\", \"Espet\\u00e1culo: Palha\\u00e7a Sola\", \"Espet\\u00e1culo: O P\\u00e1ssaro Azul\", \"Espet\\u00e1culo: O P\\u00e1ssaro Azul\", \"QUE FESTA \\u00c9 ESSA, CRIATURA?\", \"Oficina de desenhos sobre o livro \\\"Onde vivem os monstros\\\"\", \"Oficina de desenhos sobre o livro \\\"Onde vivem os monstros\\\"\", \"Oficina de desenhos sobre o livro \\\"Onde vivem os monstros\\\"\", \"Oficina \\u201cDramaturgia de Palha\\u00e7@\\u201d\", \"Performance e Exposi\\u00e7\\u00e3o Fotogr\\u00e1fica \\\"Por Elas\\\"\", \"Festa Junina AFC\", \"Cabar\\u00e9 o Show\", \"VI Festival Cultural Arraia da Integra\\u00e7\\u00e3o.\", \"VI Festival Cultural Arraia da Integra\\u00e7\\u00e3o.\", \"VI Festival Cultural Arraia da Integra\\u00e7\\u00e3o.\", \"CONCERTO DE S\\u00c3O JO\\u00c3O\", \"Viagem Longa, Grana Curta\", \"Viagem Longa, Grana Curta\", \"Viagem Longa, Grana Curta\", \"Viagem Longa, Grana Curta\", \"Viagem Longa, Grana Curta\", \"Viagem Longa, Grana Curta\", \"Viagem Longa, Grana Curta\", \"Viagem Longa, Grana Curta\", \"Viagem Longa, Grana Curta\", \"Viagem Longa, Grana Curta\", \"Apresenta\\u00e7\\u00e3o do primeiro Interc\\u00e2mbio Art\\u00edstico \\\"Grazzi Ellas Transitando\\\" em Londrina.\", \"Apresenta\\u00e7\\u00e3o do primeiro Interc\\u00e2mbio Art\\u00edstico \\\"Grazzi Ellas Transitando\\\" em Londrina.\", \"O P\\u00e1ssaro Azul\", \"O P\\u00e1ssaro Azul\", \"Palestra Concertante com Alfredo Moura\", \"LONDRINA, CULTURA EM RETRATOS\", \"Audi\\u00eancias P\\u00fablicas de Cultura 2019\", \"Novos Cronistas Londrix - lan\\u00e7amento do livro\", \"Lan\\u00e7amento Projeto Jovens Escritores\", \"Revista Sossego em Londrina + Show com Entidade Perdida\", \"OSUEL E DUO CLAVIS\", \"CONCERTO COLOR RHETORICUS \\u2013 ANO I\", \"Jogue como uma garota\", \"Jogue como uma garota 18/06\", \"Bizarria: substantivo feminino, boa postura\", \"Londrinoise Segunda Edi\\u00e7\\u00e3o\", \"Festa Julina Lar An\\u00e1lia Franco\", \"Conta\\u00e7\\u00e3o de hist\\u00f3ria\", \"Circula\\u00e7\\u00e3o \\\"Que Festa \\u00c9 Essa, Criatura?\\\" EUBOBASE\", \"Balada de um palha\\u00e7o\", \"Balada de um palha\\u00e7o\", \"Oficina de artes\", \"ARRIGO BARNAB\\u00c9 \\u2013 QUERO QUE V\\u00c1 TUDO PRO INFERNO\", \"No fim da Inf\\u00e2ncia\", \"Cl\\u00e1ssicos Infantis: uma hora cheia de hist\\u00f3rias\", \"OFICINA DE TEATRO PARA CRIAN\\u00c7AS\", \"OFICINA DE TEATRO PARA CRIAN\\u00c7AS\", \"OFICINA DE TEATRO PARA CRIAN\\u00c7AS\", \"OFICINA DE TEATRO PARA CRIAN\\u00c7AS\", \"Oficina De Maracatu - Semente de Angola\", \"Trovadores do Mioc\\u00e1rdio\", \"Trovadores do miorc\\u00e1rdio\", \"Trovadores do miorc\\u00e1rdio\", \"Ensaio Escola municipal Hikoma Udihara\", \"Ensaio Escola municipal Hikoma Udihara\", \"Ensaio Escola municipal Hikoma Udihara\", \"Ensaio Escola municipal Hikoma Udihara\", \"Morte e Vida Severina\", \"Morte e Vida Severina\", \"Morte e Vida Severina Espet\\u00e1culo C\\u00eanico- Musical.\", \"Palestra sobre o Livro Alguma poesia de Carlos Drummond de Andrade\", \"Onde Vivem os Monstros\", \"Que Festa \\u00c9 Essa, Criatura?\", \"Que Festa \\u00c9 Essa, Criatura?\", \"Que Festa \\u00c9 Essa, Criatura?\", \"Oficina Light Painting\", \"Oficina de desenhos tridimensionais e articulados\", \"FESTA JULINA BENEFICENTE 2019\", \"P\\u00e9 de Samba 06 de julho\", \"Balada de um palha\\u00e7o\", \"Balada de um palha\\u00e7o\", \"Festival Internacional de M\\u00fasica de Londrina - Edi\\u00e7\\u00e3o 39\", \"Conta\\u00e7\\u00e3o de hist\\u00f3rias\", \"Encontro de Gigantes\", \"Encontro de Gigantes\", \"Encontro de Gigantes\", \"Encontro de Gigantes\", \"Encontro de Gigantes\", \"Exposi\\u00e7\\u00e3o de livros \\\"Ruth Rocha\\\"\", \"3 dias com Leonardo da Vinci\", \"Quizomba + FML - M\\u00fasica fora do centro!\", \"Abertura do 5\\u00ba ENCOM - Encontro Nacional de Composi\\u00e7\\u00e3o Musical\", \"Abertura Solene do 39\\u00b0 Festival Internacional de M\\u00fasica de Londrina\", \"Abertura Solene do 39\\u00b0 Festival Internacional de M\\u00fasica de Londrina\", \"5\\u00ba ENCOM - Encontro Nacional de Composi\\u00e7\\u00e3o Musical\", \"Encerramento do 5o ENCOM - Encontro Nacional de Composi\\u00e7\\u00e3o Musical\", \"OSUEL \\u2013 Orquestra Sinf\\u00f4nica da Universidade Estadual de Londrina\", \"Trio Paranaense\", \"Dia Mundial do Rock\", \"Ivo Pessoa Trio\", \"Show \\u201cXod\\u00f3s\\u201d\", \"Allan Manhas Recital de Piano\", \"M\\u00fasica Fora de Centro\", \"Samba do Sereno\", \"Morte e Vida Severina\", \"Iroko Trio\", \"TR\\u00caS Orquestras. UM Encontro\", \"Forr\\u00f3 Cavi\\u00fana\", \"Show Andr\\u00e9 Mehmari Trio\", \"Toninho Ferragutti & Salom\\u00e3o, Duo Acordeon e Piano\", \"Andr\\u00e9 Siqueira Quarteto\", \"Roda De Conversa Andr\\u00e9 Mehmari Trio\", \"Risorama Londrina\", \"Tricantumconto\", \"Sarau: prosa, poesia e outras del\\u00edcias\", \"Sarau: prosa, poesia & outras del\\u00edcias\", \"Risorama Londrina\", \"Circula\\u00e7\\u00e3o Espet\\u00e1culo \\\"Que Festa \\u00c9 Essa, Criatura?\\\" Cal\\u00e7ad\\u00e3o de Londrina\", \"Circula\\u00e7\\u00e3o Espet\\u00e1culo \\\"Que Festa \\u00c9 Essa, Criatura?\\\" Aterro do Lago Igap\\u00f3\", \"Viva o Barroco! Bach e Vivaldi\", \"La Bella Voce\", \"Andrea dos Guimar\\u00e3es e Jo\\u00e3o Paulo Amaral\", \"Iroko Trio\", \"\\u00c1gua de Moringa, Grupo de Choro\", \"Duo Violino e Piano\", \"Viol\\u00e3o em Cena\", \"Orquestra Solidariedade Sempre\", \"ECM 50\", \"All That Jazz/MPB\", \"Banda Sinf\\u00f4nica da FAETEC - Marechal Hermes\", \"Passeata da Alegria\", \"FL\\u00fbnkY\", \"Abacate Contempor\\u00e2neo\", \"Iluminuras\", \"Cortejo Grupo Grupo de Percuss\\u00e3o da Universidade Federal de Pelotas - PEPEU\", \"Encerramento do Curso de Coro de M\\u00fasica Popular\", \"Encerramento do Curso de T\\u00e9cnica Vocal e Interpreta\\u00e7\\u00e3o na Can\\u00e7\\u00e3o Popular\", \"Encerramento da Pr\\u00e1tica de MPB e Jazz\", \"Encerramento da Oficina da Banda de Garagem\", \"Senhor Bonif\\u00e1cio\", \"C. Saint Sa\\u00ebns - Carnaval dos Animais\", \"Concerto Open Air\", \"Show de Dan\\u00e7as e Evolu\\u00e7\\u00e3o da Terceira Idade\", \"Banda Mustav\", \"Grupo de Percuss\\u00e3o da Universidade Federal de Pelotas - Pepeu\", \"La Bella Voce II\", \"Exibi\\u00e7\\u00e3o do document\\u00e1rio\", \"Gala dos Professores\", \"Duo Policarpo\", \"Concerto de Encerramento\", \"Retratos de Maria\", \"Viva Elis\", \"Concerto de Encerramento\", \"David Mour\", \"Z - as imagens s\\u00e3o palavras que sumiram\", \"Maestro por um dia\", \"EXPOSI\\u00c7\\u00c3O LOBATIANDO\", \"O C T O P O D E\", \"Palestra sobre o livro: Poemas escolhidos de Greg\\u00f3rio de Matos\", \"Um bourbon para Faulkner\", \"Espet\\u00e1culo: \\\"Subs-Solos\\\"\", \"OFICINA DE CIRCO PARA CRIAN\\u00c7AS\", \"OFICINA DE CIRCO PARA CRIAN\\u00c7AS\", \"OFICINA DE CIRCO PARA CRIAN\\u00c7AS\", \"ArraiAlma\", \"B.BOY\", \"B.BOY\", \"Conta\\u00e7\\u00e3o de hist\\u00f3rias sobre o livro \\\"O pequeno pr\\u00edncipe\\\"\", \"Conta\\u00e7\\u00e3o de hist\\u00f3rias sobre o livro \\\"O pequeno pr\\u00edncipe\\\"\", \"Conta\\u00e7\\u00e3o de hist\\u00f3rias sobre o livro \\\"O pequeno pr\\u00edncipe\\\"\", \"Campanha de Doa\\u00e7\\u00e3o de Livros\", \"Exposi\\u00e7\\u00e3o de Poesias em Homenagem ao Dia do Escritor\", \"11\\u00b0 Abra\\u00e7o no Lago pela Paz\", \"CONVITE: Venha Inaugurar o Totem do DADO DE CULTURA DE PAZ\", \"Livro Londrina Pazeando 2019\", \"Exposi\\u00e7\\u00e3o de livros em Homenagem ao Dia Nacional do Escritor\", \"Pin\\u00f3quio\", \"Tr\\u00e8s Affect\\u00e9\", \"Show Instrumental Balaio de Gato\", \"Oficina de escrita criativa\", \"PROARTE: Aula Especial - Programa\\u00e7\\u00e3o Cultural - Marcos Henrique Rego - RJ\", \"BRINCADEIRAS CANTADAS\", \"Espet\\u00e1culo: \\u201cO Mar do Tempo Perdido\\u201d\", \"Espet\\u00e1culo: \\u201cO Mar do Tempo Perdido\\u201d\", \"Um Bourbon para Faulkner\", \"Hist\\u00f3ria da Arte do Renascimento Italiano\", \"Feijoada Do Coletivo De Educa\\u00e7\\u00e3o Popular Paulo Freire\", \"MARACATU DE BAQUE VIRADO\", \"Estreia do filme \\\"Leste Oeste\\\"\", \"IX Confer\\u00eancia Municipal de Cultura\", \"IX Confer\\u00eancia Municipal de Cultura\", \"IX Confer\\u00eancia Municipal de Cultura\", \"IX Confer\\u00eancia Municipal de Cultura\", \"Palco AlmA Londrina 2019 - 2\\u00aa edi\\u00e7\\u00e3o\", \"Dez m\\u00e3os e um piano - PianOrquestra\", \"Lan\\u00e7amento do Hackathon de Economia criativa\", \"Exposi\\u00e7\\u00e3o de livros e revistas em homenagem ao Dia do Estudante\", \"Oficina de Percuss\\u00e3o Brasileira\", \"Yoga para Mulheres\", \"Cemit\\u00e9rio em festa\", \"ANDR\\u00c9 SIQUEIRA TRIO & DUO CLAVIS CONVIDAM TONINHO FERRAGUTTI\", \"OSUEL \\u2013 DO BARROCO AO S\\u00c9CULO XX\", \"C\\u00edrculo de debates sobre o livro \\\"Poemas escolhidos de Greg\\u00f3rio de Matos\\\"\", \"OFICINA: Mulheres Gozadas\", \"Espet\\u00e1culo - Que Festa \\u00e9 essa, Criatura?\", \"Abertura FILO 50+1\", \"Festival Internacional de Londrina\", \"Festival Internacional de Londrina\", \"Festival Internacional de Londrina\", \"Conta\\u00e7\\u00e3o de hist\\u00f3ria\", \"Chega de Saudade\", \"Tecituras de n\\u00f3s: dimens\\u00f5es poss\\u00edveis\", \"AlmA do Samba\", \"Palestra sobre o livro \\\"O dem\\u00f4nio familiar\\\" de Jos\\u00e9 de Alencar\", \"Exposi\\u00e7\\u00e3o M\\u00e1scaras dos INVIS\\u00cdVEIS\", \"BANDA MARCIAL MARCELINO CHAMPAGNAT CONVIDA DERICO PARA CONCERTO\", \"O Caipira e o Causo do Capiroto\", \"O Caipira e o Causo do Capiroto\", \"13\\u00aa Primavera dos Museus\", \"13\\u00aa Primavera dos Museus\", \"SEMANA DE ARTES C\\u00caNICAS\", \"Calejadas Mem\\u00f3rias\", \"Circula\\u00e7\\u00e3o Espet\\u00e1culo \\\"Que Festa \\u00c9 Essa, Criatura?\\\" Vila Triol\\u00e9 Cultural\", \"CONCERTO DA ORQUESTRA BARROCA CAPRICCIO STRAVAGANTE\", \"EXPOSI\\u00c7\\u00c3O LUSOFONIAS\", \"PROCURE A MENINA COM O SOL EM SEUS OLHOS\", \"Bate-papo sobre o livro \\\"O dem\\u00f4nio familiar\\\"\", \"O Caipira e o Causo do Capiroto\", \"As marcas no corpo\", \"As marcas no corpo\", \"AutoEscavo\", \"Orquestra Acad\\u00eamica Bravi\", \"AutoEscavo\", \"Exposi\\u00e7\\u00e3o POR ELAS\", \"Circula\\u00e7\\u00e3o Espet\\u00e1culo \\\"Que Festa \\u00c9 Essa, Criatura?\\\" Pra\\u00e7a Nishinomiya\", \"Anatomia do espa\\u00e7o-lugar, de Margarida Holler\", \"Lan\\u00e7amento: Porque Eu Odeio, de Claude McKay\", \"Estreia da pe\\u00e7a \\\"Terra Desmedida\\\"\", \"Estreia da pe\\u00e7a \\\"Terra Desmedida\\\"\", \"Estreia da pe\\u00e7a \\\"Terra Desmedida\\\"\", \"IX Confer\\u00eancia de Cultura da Cidade de Londrina\", \"IX Confer\\u00eancia de Cultura da Cidade de Londrina\", \"Palestra sobre o livro \\\"A hora da estrela\\\" de Clarice Lispector\", \"ARTE TRANSFORMA\\u00c7\\u00c3O\", \"Conta\\u00e7\\u00e3o da hist\\u00f3ria \\\"Chapeuzinho vermelho\\\"\", \"Exposi\\u00e7\\u00e3o Por Elas no Canto do MARL\", \"Exposi\\u00e7\\u00e3o Por Elas no Canto do MARL\", \"Exposi\\u00e7\\u00e3o Por Elas no Canto do MARL\", \"ARTE TRANSFORMA\\u00c7\\u00c3O\", \"ARTE TRANSFORMA\\u00c7\\u00c3O\", \"Poesia e revolu\\u00e7\\u00e3o\", \"\\u201cFAM\\u00cdLIA BACH E PIAZZOLLA\\u201d\", \"\\\"Terra Desmedida\\\" na Flapt\", \"\\\"Terra Desmedida\\\" retorna ao Canto do MARL\", \"\\\"Terra Desmedida\\\" retorna ao Canto do MARL\", \"\\\"Terra Desmedida\\\" retorna ao Canto do MARL\", \"Londrina ter\\u00e1 Tributo a BON JOVI\", \"Londrina ter\\u00e1 Tributo a BON JOVI\", \"BREXOTA!\", \"Exposi\\u00e7\\u00e3o \\u201cSemana da Paz\\u201d\", \"Exposi\\u00e7\\u00e3o \\u201cSemana da Paz\\u201d\", \"Exposi\\u00e7\\u00e3o \\u201cSemana da Paz\\u201d\", \"Exposi\\u00e7\\u00e3o \\u201cSemana da Paz\\u201d\", \"Exposi\\u00e7\\u00e3o \\u201cSemana da Paz\\u201d\", \"Exposi\\u00e7\\u00e3o \\u201cSemana da Paz\\u201d\", \"Dia Mundial sem Carro\", \"Little London Festival\", \"Trio Harmonitango apresenta \\\"Uma noite com m\\u00fasica de Piazzolla\\\"\", \"Trio Harmonitango apresenta \\\"Uma noite com m\\u00fasica de Piazzolla\\\"\", \"ACARAX\\u00c9\", \"2\\u00ba Encontro Feminino de capoeira - Muruca2019\", \"UMA ORQUESTRA NAS ESCOLAS - ORQUESTRA DE C\\u00c2MARA SOLISTAS DE LONDRINA\", \"Encontro sobre Gest\\u00e3o Cultural com Dane de Jade - CE\", \"Lan\\u00e7amento Projeto \\\"Triol\\u00e9 fora da estrada no Norte Pioneiro\\\"\", \"Lan\\u00e7amento Projeto \\\"Triol\\u00e9 fora da estrada no Norte Pioneiro\\\"\", \"Lan\\u00e7amento Projeto \\\"Triol\\u00e9 fora da estrada no Norte Pioneiro\\\"\", \"Lan\\u00e7amento Projeto \\\"Triol\\u00e9 fora da estrada no Norte Pioneiro\\\"\", \"Conta\\u00e7\\u00e3o da hist\\u00f3ria \\\"Pollyanna\\\"\", \"Pollyanna \\u2013 Eleanor Porter\", \"Pollyanna \\u2013 Eleanor Porter\", \"Orquestra Acad\\u00eamica Bravi\", \"Oficina de Hip-hop Dance\", \"Dia da Sergipe - 8\\u00aa Edi\\u00e7\\u00e3o\", \"CHRISTIANE TORLONI COMO MARIA CALLAS EM \\\"MASTER CLASS\\\"\", \"Que Festa \\u00c9 Essa, Criatura?\", \"Meta For Mosa\", \"Mostra tem\\u00e1tica itinerante \\\"Minha beleza pura\\\"\", \"Mostra tem\\u00e1tica itinerante \\\"Minha beleza pura\\\"\", \"Mostra tem\\u00e1tica \\\"Abstratos da reflex\\u00e3o missional\\\"\", \"Exposi\\u00e7\\u00e3o Varal de Cordel\", \"Exposi\\u00e7\\u00e3o de Revistas especiais\", \"O Caipira e o causo do Capiroto\", \"Aqu\\u00e1rio gigante\", \"Aqu\\u00e1rio gigante\", \"Espet\\u00e1culo A Sagra\\u00e7\\u00e3o da Primavera\", \"Espet\\u00e1culo Travessia\", \"ARTE E TRANSFORMA\\u00c7\\u00c3O\", \"META FOR MOSA\", \"Exposi\\u00e7\\u00e3o Poeta Alice\", \"Espet\\u00e1culo Instagrimm\", \"Espet\\u00e1culo H\\u00e1 Mais Futuro Que Passado\", \"Espet\\u00e1culo Teia\", \"Espet\\u00e1culo Teia\", \"Espet\\u00e1culo Rela\\u00e7\\u00f5es\", \"Espet\\u00e1culo [H3O]mens\", \"Espet\\u00e1culo Terror e Mis\\u00e9ria no Terceiro Mil\\u00eanio - Improvisando Utopias\", \"Espet\\u00e1culo Atelier de Cria\\u00e7\\u00e3o\", \"Espet\\u00e1culo KA-F-KA\", \"Espet\\u00e1culo Dan\\u00e7a Londrina\", \"Espet\\u00e1culo Pulse(s)\", \"Espet\\u00e1culo Bailinho do Plant\\u00e3o\", \"Espet\\u00e1culo Estou sem sil\\u00eancio\", \"Oficina: A dan\\u00e7a e a crian\\u00e7a\", \"Espet\\u00e1culo Empty Floor\", \"Palestra sobre o Livro Amor de Perdi\\u00e7\\u00e3o de Camilo Castelo Branco\", \"Oficinas de futebol de bot\\u00e3o \", \"Oficina An\\u00e1lise Ativa e Cria\\u00e7\\u00e3o de \\u00c9tudes\", \"Oficina Empty Body (Corpo Vazio) - Dan\\u00e7a Meditativa\", \"Exposi\\u00e7\\u00e3o Fotogr\\u00e1fica Paran\\u00e1 de Orlando Azevedo\", \"Exposi\\u00e7\\u00e3o de Livros que viraram filmes\", \"Distribui\\u00e7\\u00e3o de desenhos\", \"Di\\u00e1logo motivacional sobre a leitura nas v\\u00e1rias fases da vida\", \"Palestra - \\\"Atendimento ao p\\u00fablico feito de forma humanizada: g\\u00eanero, diversidade e direitos humanos\\\"\", \"Oficina de poesia metaf\\u00f3rica\", \"Conta\\u00e7\\u00e3o de hist\\u00f3rias para alunos adolescentes do CEPAS Santiago\", \"Palco AlmA Londrina 2019\", \"Palco AlmA Londrina 2019\", \"O Caipira e o Causo do Capiroto\", \"Show do Bita\", \"\\u00c0-Deus (FACES DE lONDRINA)\", \"Recital de Viol\\u00e3o\", \"Palestra: Livros sobre temas supremos e existenciais: morte, solid\\u00e3o, desejo e sexualidade. A import\\u00e2ncia de lermos e conversarmos com as crian\\u00e7as sobre temas universais e profundos.\", \"Bravi - Orquestras Juvenis e Grupos Intermedi\\u00e1rios\", \"Apresenta\\u00e7\\u00e3o do livro: \\\"O m\\u00e1gico japon\\u00eas\\\"\", \"Oficina de Poesia Metaf\\u00f3rica\", \"Semana do Dia das Crian\\u00e7as\", \"PRET(A) conta Dandara\", \"PRET(A) conta Dandara\", \"PRET(A) conta Dandara\", \"PRET(A) conta Dandara\", \"PRET(A) conta Dandara\", \"PRET(A) conta Dandara\", \"Conta\\u00e7\\u00e3o de hist\\u00f3rias para alunos do fundamental II do Col\\u00e9gio M\\u00faltipla Escolha\", \"Conta\\u00e7\\u00e3o e oficina de artes \\\"Viagens de Gulliver\\\"\", \"Conex\\u00e3o cidad\\u00e3\", \"Ta...lentos musicais\", \"Oficina de Poesia Metaf\\u00f3rica\", \"IX Mostra de M\\u00fasica de C\\u00e2mara com Solistas de Londrina\", \"Conta\\u00e7\\u00e3o de hist\\u00f3rias e Oficina de artes \\u201cViagens de Gulliver\\u201d\", \"2\\u00ba Little London Festival\", \"2\\u00ba Little London Festival\", \"Viagens de Gulliver\", \"Hist\\u00f3rias para Acordar - Eva Furnari\", \"\\u00c0-Deus\", \"Palestra: \\u201cObras especiais e raras em bibliotecas universit\\u00e1rias\\u201d\", \"Palestra: \\u201cObras especiais e raras em bibliotecas universit\\u00e1rias\\u201d\", \"Oficina de Poesia Metaf\\u00f3rica\", \"Conta\\u00e7\\u00e3o da est\\u00f3ria \\u201cHist\\u00f3rias de um livro aberto\\u201d\", \"Oficina de conta\\u00e7\\u00e3o de hist\\u00f3rias: recursos e estrat\\u00e9gias\", \"Oficina de conta\\u00e7\\u00e3o de hist\\u00f3rias: recursos e estrat\\u00e9gias\", \"Livro na Pra\\u00e7a CEU\", \"\\u00c0- Deus\", \"\\u00c0-Deus\", \"Sarau de Abertura - BRISA\", \"Sarau de Abertura - BRISA\", \"Oficina de pequenos reparos\", \"LEVE. \\u00c9 SEU!\", \"OFICINA DE POESIA METAF\\u00d3RICA\", \"IV Feira de Livros\", \"Exposi\\u00e7\\u00e3o \\u201cBiblioteca UniFil de 1972 aos dias atuais\\u201d cartazes e equipamentos utilizados ao longo do tempo\", \"\\u201cMostra de fotografias sobre as Bibliotecas do UniFil\\u201d Cartazes com informa\\u00e7\\u00f5es sobre a estrutura e acervo de cada biblioteca\", \"Palestra \\u201cComo publicar sem custo um livro pela plataforma Amazon\\u201d\", \"Palestra \\u201cRevista Terra e Cultura, um peri\\u00f3dico multidisciplinar\\u201d\", \"Oficina \\u201cUma introdu\\u00e7\\u00e3o ao software Mendeley para organiza\\u00e7\\u00e3o e cita\\u00e7\\u00e3o das suas refer\\u00eancias\\u201d\", \"Palestra: \\u201cComo estruturar a pesquisa para TCC, na base de dados Bireme\\u201d\", \"Palestra \\u201cA hist\\u00f3ria do livro\\u201d\", \"Banca da Ciranda!\", \"Palestra de abertura: \\u201cDesenvolver mediadores para a forma\\u00e7\\u00e3o de leitores\\u201d\", \"Palestra \\u201cNarrativas do s\\u00edtio e a arte de ouvir hist\\u00f3rias\\u201d, com Dr. L\\u00e9o Pires Ferreira\", \"Lan\\u00e7amento do livro \\u201cA Menina e a Planta\\u201d, de M\\u00e1rcia Paganini com ilustra\\u00e7\\u00e3o de Andr\\u00e9ia Vieira\", \"Filme-Debate \\u201cO Segredo De Eleonor\\u201d\", \"Exposi\\u00e7\\u00e3o Por Elas\", \"Conversa-Oficina \\u201cContar Hist\\u00f3rias para reinventar mundos\\u201d\", \"Palestra \\u201cTemas supremos e existenciais: morte, solid\\u00e3o, desejo e sexualidade no imagin\\u00e1rio infantil\\u201d, com Luis Henrique Mioto\", \"Debate \\u201cAs pol\\u00edticas p\\u00fablicas, as leis de incentivo e o papel do mercado na forma\\u00e7\\u00e3o de leitores\\u201d\", \"Palestra de encerramento \\u201cContar para transformar\\u201d\", \"Sarau Primaveral das Artes\", \"Oficina de \\\"n\\u00e3o-escrita\\\" criativa\", \"Encontro sobre Poesia e Sonoridade\", \"BRISA Te Convida: \\\"Balada de um Palha\\u00e7o\\\"\", \"Exposi\\u00e7\\u00e3o: \\u201cS\\u00f3 os TOPs: livros de literatura infantil e infantojuvenil premiados\\u201d\", \"Conta\\u00e7\\u00e3o de Hist\\u00f3rias com Fl\\u00e1via Harue\", \"Conta\\u00e7\\u00e3o de hist\\u00f3rias e Oficina de artes \\u201cO m\\u00e1gico japon\\u00eas\\u201d com Paulo Tio\", \"Wing\\u2019s St. James 2019\", \"ARTE- TRANSFORMA\\u00c7\\u00c3O\", \"Oficina de Origami com Origamito San\", \"Oficina de Origami com Origamito San\", \"Festival de Graffiti\", \"Festival de Graffiti\", \"Festival de Graffiti\", \"\\\"Terra Desmedida\\\" se apresenta no Conservat\\u00f3rio das Artes\", \"\\\"Terra Desmedida\\\" se apresenta no Cemit\\u00e9rio de Autom\\u00f3veis\", \"IXa MOSTRA DE M\\u00daSICA DE C\\u00c2MARA \\u201cCONCERTOS LONDRINA\\u201d\", \"IXa MOSTRA DE M\\u00daSICA DE C\\u00c2MARA \\u201cCONCERTOS LONDRINA\\u201d\", \"IXa MOSTRA DE M\\u00daSICA DE C\\u00c2MARA \\u201cCONCERTOS LONDRINA\\u201d\", \"IXa MOSTRA DE M\\u00daSICA DE C\\u00c2MARA \\u201cCONCERTOS LONDRINA\\u201d\", \"IXa MOSTRA DE M\\u00daSICA DE C\\u00c2MARA \\u201cCONCERTOS LONDRINA\\u201d\", \"Conex\\u00e3o Cidad\\u00e3\", \"FILO 50+1 - MOSTRA NACIONAL DE ARTES C\\u00caNICAS\", \"FILO 50+1 - MOSTRA NACIONAL DE ARTES C\\u00caNICAS\", \"FILO 50+1 - MOSTRA NACIONAL DE ARTES C\\u00caNICAS\", \"FILO 50+1 - MOSTRA NACIONAL DE ARTES C\\u00caNICAS\", \"FILO 50+1 - MOSTRA NACIONAL DE ARTES C\\u00caNICAS\", \"FILO 50+1 - MOSTRA NACIONAL DE ARTES C\\u00caNICAS\", \"FILO 50+1 - MOSTRA NACIONAL DE ARTES C\\u00caNICAS\", \"FILO 50+1 - MOSTRA NACIONAL DE ARTES C\\u00caNICAS\", \"FILO 50+1 - MOSTRA NACIONAL DE ARTES C\\u00caNICAS\", \"FILO 50+1 - MOSTRA NACIONAL DE ARTES C\\u00caNICAS\", \"FILO 50+1 - MOSTRA NACIONAL DE ARTES C\\u00caNICAS\", \"FILO 50+1 - MOSTRA NACIONAL DE ARTES C\\u00caNICAS\", \"FILO 50+1 - MOSTRA NACIONAL DE ARTES C\\u00caNICAS\", \"FILO 50+1 - MOSTRA NACIONAL DE ARTES C\\u00caNICAS\", \"FILO 50+1 - MOSTRA NACIONAL DE ARTES C\\u00caNICAS\", \"FILO 50+1 - MOSTRA NACIONAL DE ARTES C\\u00caNICAS\", \"FILO 50+1 - MOSTRA NACIONAL DE ARTES C\\u00caNICAS\", \"Sou mulher e n\\u00e3o serei outra coisa\", \"Sou mulher e n\\u00e3o serei outra coisa\", \"Exposi\\u00e7\\u00e3o Pol\\u00edcia Rodovi\\u00e1ria Federal\", \"O Caipira e o Causo do Capiroto\", \"O Caipira e o Causo do Capiroto\", \"SAIAS\", \"SAIAS\", \"SAIAS\", \"Espet\\u00e1culo Saias na Flapt\", \"Quizomba de Anivers\\u00e1rio - Zer\\u00e3o na gra\\u00e7a de Oxum\", \"\\\"COMETZ, BOHEMIAN RHAPSODY \\\"\", \"Projeto Cordas brasileiras\", \"SESS\\u00c3O KINOPUS Especial\", \"SESS\\u00c3O KINOPUS Especial\", \"SESS\\u00c3O KINOPUS Especial\", \"Lab Doc com o cineasta Paulo Sacramento\", \"SESS\\u00c3O KINOPUS Especial\", \"OFICINA Craft - ARTE E NATUREZA\", \"PITCHING do N\\u00facleo de dramaturgia Audiovisual\", \"BICHO DO MATO\", \"GRUPOS ORQUESTRAIS BRAVI\", \"PIANO EM FOCO\", \"Entrega do Projeto 25 Anos do Museu de Arte de Londrina\", \"Acordeon Universal Festival com Jo\\u00e3o Pedro Teixeira\", \"Clube de Leitura: A Caixa-Preta, de Am\\u00f3s Oz\", \"Ler\\u00c7: Conta\\u00e7\\u00e3o de Hist\\u00f3ria e Oficina para crian\\u00e7as\", \"Ler\\u00c7: Conta\\u00e7\\u00e3o de Hist\\u00f3ria e Oficina para crian\\u00e7as\", \"CineClube de Ter\\u00e7a: O Cidad\\u00e3o Ilustre (Arg, 2016)\", \"Clube de Leitura Plurais: Quem tem medo do feminismo negro, de Djamila Ribeiro\", \"Lan\\u00e7amento: As Reina\\u00e7\\u00f5es de Emilia, de Cassia Leslie\", \"Lan\\u00e7amento e aut\\u00f3grafos com Amilcar Bettega\", \"Caf\\u00e9 com Qu\\u00ea?: O rock no Brasil na d\\u00e9cada de 80 e suas rela\\u00e7\\u00f5es sociais, com Manuel In\\u00e1cio\", \"Exposi\\u00e7\\u00e3o \\\"Resgate\\\", de Cassio Kessler\", \"Espet\\u00e1culo SaiaS\", \"Espet\\u00e1culo SaiaS\", \"Espet\\u00e1culo SaiaS\", \"Espet\\u00e1culo SaiaS\", \"Espet\\u00e1culo SaiaS\", \"Espet\\u00e1culo SaiaS\", \"Espet\\u00e1culo Saias\", \"Espet\\u00e1culo SAIAS\", \"Espet\\u00e1culo SAIAS\", \"Espet\\u00e1culo SAIAS\", \"Espet\\u00e1culo SAIAS\", \"Espet\\u00e1culo \\\"PLANO 269\\\"\", \"Espet\\u00e1culo \\\"PLANO 269\\\"\", \"Literatura pra qu\\u00ea?\", \"Achados Liter\\u00e1rios\", \"Conta\\u00e7\\u00e3o de hist\\u00f3rias sobre o livro \\\"Super-her\\u00f3is em apuros\\\"\", \"Conta\\u00e7\\u00e3o da hist\\u00f3ria \\\"S\\u00edtio do Picapau Amarelo\\\"\", \"50 ANOS BANDA MARCIAL MARCELINO CHAMPAGNAT\", \"Arte-Transforma\\u00e7\\u00e3o na Educa\\u00e7\\u00e3o Infantil\"], \"y\": [\"Livro e Literatura\", \"Livro e Literatura\", \"Curso ou Oficina\", \"Curso ou Oficina\", \"Livro e Literatura, Palestra, Debate ou Encontro\", \"Palestra, Debate ou Encontro, Livro e Literatura\", \"Palestra, Debate ou Encontro, Livro e Literatura\", \"Livro e Literatura\", \"Livro e Literatura\", \"Livro e Literatura\", \"Livro e Literatura\", \"Artes Circenses\", \"Palestra, Debate ou Encontro, Livro e Literatura\", \"Exposi??o\", \"Exposi??o\", \"Livro e Literatura, Palestra, Debate ou Encontro\", \"Cultura Digital\", \"Outros, Livro e Literatura\", \"Palestra, Debate ou Encontro\", \"Livro e Literatura, Palestra, Debate ou Encontro\", \"Livro e Literatura\", \"Palestra, Debate ou Encontro\", \"M?sica Popular, M?sica Erudita\", \"M?sica Popular, M?sica Erudita\", \"M?sica Popular, M?sica Erudita\", \"M?sica Popular, M?sica Erudita\", \"M?sica Popular, M?sica Erudita\", \"M?sica Popular, M?sica Erudita\", \"M?sica Popular, M?sica Erudita\", \"M?sica Popular, M?sica Erudita\", \"M?sica Popular, M?sica Erudita\", \"M?sica Popular, M?sica Erudita\", \"Hip Hop, Curso ou Oficina, M?sica Popular, Palestra, Debate ou Encontro, Teatro, Livro e Literatura\", \"Hip Hop, Curso ou Oficina, M?sica Popular, Palestra, Debate ou Encontro, Teatro, Livro e Literatura\", \"Hip Hop, Curso ou Oficina, M?sica Popular, Palestra, Debate ou Encontro, Teatro, Livro e Literatura\", \"M?sica Popular\", \"M?sica Popular\", \"M?sica Popular\", \"M?sica Popular\", \"Artes Visuais, Exposi??o\", \"Artes Integradas\", \"Artes Integradas\", \"Livro e Literatura\", \"Teatro, Artes Circenses\", \"Teatro, Artes Circenses\", \"M?sica Popular, Teatro, Artes Circenses\", \"Teatro\", \"Artes Visuais\", \"M?sica Popular, Livro e Literatura\", \"Artes Visuais, Livro e Literatura\", \"Artes Visuais\", \"Artes Visuais\", \"Artes Integradas\", \"Dan?a, Teatro\", \"Dan?a, Teatro\", \"Cultura Ind?gena, Audiovisual, Livro e Literatura, Artes Visuais\", \"Livro e Literatura\", \"Curso ou Oficina, M?sica Popular\", \"Palestra, Debate ou Encontro, M?sica Popular\", \"Artes Integradas\", \"Artes Integradas\", \"Teatro, Artes Circenses\", \"Teatro, Artes Circenses\", \"Livro e Literatura\", \"M?sica Popular\", \"Palestra, Debate ou Encontro\", \"Exposi??o\", \"Cultura Tradicional\", \"Cultura Tradicional\", \"Cultura Tradicional\", \"Hip Hop\", \"Hip Hop\", \"Hip Hop\", \"Outros\", \"Outros\", \"Outros\", \"Outros\", \"Outros\", \"Outros\", \"Outros\", \"Outros\", \"Outros\", \"Outros\", \"Outros\", \"Dan?a, Teatro\", \"Livro e Literatura\", \"Livro e Literatura\", \"Livro e Literatura\", \"Livro e Literatura\", \"Livro e Literatura\", \"Artes Visuais\", \"Artes Integradas\", \"M?sica Popular, Dan?a, Artes Integradas\", \"M?sica Popular, Dan?a, Artes Integradas\", \"M?sica Popular\", \"Palestra, Debate ou Encontro\", \"Palestra, Debate ou Encontro\", \"Palestra, Debate ou Encontro\", \"Palestra, Debate ou Encontro\", \"Palestra, Debate ou Encontro\", \"Palestra, Debate ou Encontro\", \"Palestra, Debate ou Encontro\", \"Palestra, Debate ou Encontro\", \"Palestra, Debate ou Encontro\", \"Palestra, Debate ou Encontro\", \"Exposi??o, Livro e Literatura\", \"M?sica Popular\", \"M?sica Popular\", \"M?sica Popular\", \"M?sica Popular\", \"M?sica Popular\", \"Livro e Literatura\", \"Livro e Literatura\", \"Artes Visuais, Livro e Literatura\", \"Teatro\", \"Teatro, Artes Circenses, M?sica Popular, Artes Integradas\", \"Teatro, Artes Circenses, M?sica Popular, Artes Integradas\", \"Teatro, Artes Circenses, M?sica Popular, Artes Integradas\", \"Teatro, Artes Circenses, M?sica Popular, Artes Integradas\", \"Teatro, Artes Circenses, M?sica Popular, Artes Integradas\", \"Teatro, Artes Circenses, M?sica Popular, Artes Integradas\", \"Teatro, Artes Circenses, M?sica Popular, Artes Integradas\", \"Teatro, Artes Circenses, M?sica Popular, Artes Integradas\", \"Teatro, Artes Circenses, M?sica Popular, Artes Integradas\", \"Teatro, Artes Circenses, M?sica Popular, Artes Integradas\", \"Teatro, Artes Circenses, M?sica Popular, Artes Integradas\", \"Livro e Literatura\", \"Artes Circenses, Dan?a\", \"Artes Circenses\", \"Artes Circenses\", \"Artes Circenses\", \"Artes Circenses\", \"Artes Circenses\", \"Artes Circenses\", \"Artes Circenses\", \"Artes Circenses\", \"Artes Circenses\", \"Artes Circenses\", \"Palestra, Debate ou Encontro, Livro e Literatura, Curso ou Oficina\", \"Palestra, Debate ou Encontro, Livro e Literatura, Curso ou Oficina\", \"Cultura Tradicional\", \"Cultura Tradicional, M?sica Popular, Artes Integradas\", \"M?sica Erudita\", \"Artes Integradas\", \"Livro e Literatura, Palestra, Debate ou Encontro\", \"Exposi??o, Artes Visuais\", \"Exposi??o, Artes Visuais\", \"Outros, Cultura Tradicional, M?sica Popular\", \"Outros, Cultura Tradicional, M?sica Popular\", \"Curso ou Oficina, Palestra, Debate ou Encontro, Dan?a, Artes Integradas, Artes Visuais, Teatro, Outros\", \"Curso ou Oficina, Palestra, Debate ou Encontro, Dan?a, Artes Integradas, Artes Visuais, Teatro, Outros\", \"M?sica Popular, Artes Visuais, Artes Integradas, Artes Circenses\", \"M?sica Popular\", \"M?sica Erudita\", \"Artes Visuais\", \"Artes Visuais\", \"Artes Visuais\", \"Artes Visuais\", \"Artes Visuais\", \"Artes Visuais\", \"Artes Visuais\", \"Artes Visuais\", \"Outros, Palestra, Debate ou Encontro, Curso ou Oficina, Artes Visuais, Artes Integradas, Dan?a, Teatro\", \"Outros, Palestra, Debate ou Encontro, Curso ou Oficina, Artes Visuais, Artes Integradas, Dan?a, Teatro\", \"Outros, Palestra, Debate ou Encontro, Curso ou Oficina, Artes Visuais, Artes Integradas, Dan?a, Teatro\", \"Outros, Palestra, Debate ou Encontro, Curso ou Oficina, Artes Visuais, Artes Integradas, Dan?a, Teatro\", \"Artes Integradas\", \"Teatro, Artes Circenses\", \"Livro e Literatura, Palestra, Debate ou Encontro\", \"Livro e Literatura\", \"Livro e Literatura\", \"Livro e Literatura\", \"Livro e Literatura\", \"M?sica Popular\", \"M?sica Popular\", \"M?sica Popular\", \"Teatro, Artes Circenses\", \"Exposi??o, Curso ou Oficina, Artes Visuais, Artes Integradas\", \"Curso ou Oficina, Artes Visuais, Artes Integradas\", \"Curso ou Oficina, Artes Visuais, Artes Integradas\", \"Curso ou Oficina, Artes Visuais, Artes Integradas\", \"Livro e Literatura\", \"Artes Visuais, Livro e Literatura\", \"M?sica Popular, Livro e Literatura\", \"Dan?a, Hip Hop\", \"Dan?a, Hip Hop\", \"M?sica Erudita\", \"Artes Integradas, Dan?a, M?sica Popular, Cultura Tradicional\", \"Livro e Literatura\", \"Livro e Literatura\", \"Livro e Literatura\", \"Livro e Literatura\", \"Exposi??o, Artes Visuais\", \"Outros\", \"M?sica Popular\", \"M?sica Popular\", \"M?sica Popular\", \"M?sica Popular\", \"M?sica Popular, M?sica Erudita\", \"Dan?a, M?sica Popular, M?sica Erudita\", \"M?sica Popular, Dan?a, Artes Integradas, Cultura Tradicional\", \"Teatro\", \"Teatro\", \"Artes Integradas, Palestra, Debate ou Encontro, Curso ou Oficina\", \"Livro e Literatura\", \"Artes Visuais\", \"Artes Visuais\", \"Artes Visuais\", \"Artes Visuais\", \"Livro e Literatura\", \"Livro e Literatura\", \"Artes Visuais, Livro e Literatura\", \"Livro e Literatura\", \"M?sica Erudita\", \"M?sica Popular, Cultura Ind?gena, Cultura Tradicional\", \"M?sica Popular, Artes Integradas, Cultura Ind?gena, Cultura Tradicional\", \"M?sica Popular, Artes Integradas, Cultura Ind?gena, Cultura Tradicional\", \"M?sica Popular, Artes Integradas, Cultura Ind?gena, Cultura Tradicional\", \"Outros\", \"Outros\", \"Curso ou Oficina, Artes Integradas, Hip Hop, Dan?a\", \"Teatro\", \"Teatro\", \"Teatro\", \"Teatro\", \"Teatro\", \"Teatro\", \"Teatro\", \"Teatro\", \"Teatro\", \"Teatro\", \"Teatro\", \"Teatro\", \"Teatro\", \"Artes Visuais, Artes Circenses, Artes Integradas, Teatro, Cultura Digital, Cultura Tradicional\", \"Exposi??o, Palestra, Debate ou Encontro, Cultura Tradicional\", \"Exposi??o, Palestra, Debate ou Encontro, Cultura Tradicional\", \"Exposi??o, Palestra, Debate ou Encontro, Cultura Tradicional\", \"Exposi??o, Palestra, Debate ou Encontro, Cultura Tradicional\", \"Exposi??o, Palestra, Debate ou Encontro, Cultura Tradicional\", \"Exposi??o, Palestra, Debate ou Encontro, Cultura Tradicional\", \"Exposi??o, Palestra, Debate ou Encontro, Cultura Tradicional\", \"Exposi??o, Palestra, Debate ou Encontro, Cultura Tradicional\", \"Curso ou Oficina, Artes Visuais\", \"Exposi??o\", \"Palestra, Debate ou Encontro\", \"M?sica Popular\", \"Livro e Literatura, Teatro\", \"Teatro\", \"Palestra, Debate ou Encontro\", \"Curso ou Oficina\", \"Livro e Literatura\", \"Artes Visuais, Livro e Literatura\", \"M?sica Erudita\", \"Artes Visuais, Livro e Literatura\", \"Artes Visuais\", \"Artes Visuais, Livro e Literatura\", \"Palestra, Debate ou Encontro, Dan?a, Teatro\", \"Artes Visuais, Palestra, Debate ou Encontro, Exposi??o\", \"Palestra, Debate ou Encontro, Dan?a, Teatro\", \"Cultura Tradicional, Palestra, Debate ou Encontro\", \"Cultura Tradicional, Palestra, Debate ou Encontro\", \"Cultura Tradicional, Palestra, Debate ou Encontro\", \"Artes Integradas, Dan?a, Artes Visuais, Teatro\", \"Artes Integradas, Dan?a, Artes Visuais, Teatro\", \"Artes Integradas, Dan?a, Artes Visuais, Teatro\", \"Artes Integradas, Dan?a, Artes Visuais, Teatro\", \"Artes Integradas, Dan?a, Artes Visuais, Teatro\", \"Artes Integradas, Dan?a, Artes Visuais, Teatro\", \"M?sica Popular, M?sica Erudita\", \"Audiovisual, M?sica Popular, Curso ou Oficina\", \"M?sica Erudita\", \"Cultura Tradicional\", \"Palestra, Debate ou Encontro, Livro e Literatura\", \"Livro e Literatura, Palestra, Debate ou Encontro\", \"Palestra, Debate ou Encontro, Livro e Literatura\", \"M?sica Erudita\", \"Outros\", \"Livro e Literatura, Teatro\", \"Artes Integradas, Palestra, Debate ou Encontro, Curso ou Oficina\", \"Curso ou Oficina, Artes Integradas\", \"Teatro\", \"Teatro\", \"Teatro\", \"Artes Circenses\", \"Artes Visuais\", \"Artes Visuais\", \"Artes Visuais\", \"Curso ou Oficina, Teatro\", \"Artes Integradas, Exposi??o, Artes Visuais\", \"Cultura Tradicional\", \"Artes Circenses\", \"M?sica Popular, Dan?a, Cultura Tradicional\", \"M?sica Popular, Dan?a, Cultura Tradicional\", \"M?sica Popular, Dan?a, Cultura Tradicional\", \"M?sica Popular, M?sica Erudita\", \"Artes Circenses\", \"Artes Circenses\", \"Artes Circenses\", \"Artes Circenses\", \"Artes Circenses\", \"Artes Circenses\", \"Artes Circenses\", \"Artes Circenses\", \"Artes Circenses\", \"Artes Circenses\", \"Teatro\", \"Teatro\", \"Teatro\", \"Teatro\", \"Cultura Tradicional, Palestra, Debate ou Encontro, M?sica Erudita, M?sica Popular\", \"Exposi??o\", \"Palestra, Debate ou Encontro\", \"Livro e Literatura\", \"Livro e Literatura\", \"M?sica Popular, Livro e Literatura\", \"M?sica Erudita\", \"M?sica Erudita\", \"M?sica Popular, Cultura Tradicional\", \"Palestra, Debate ou Encontro, Cultura Tradicional, M?sica Popular\", \"Artes Integradas, Teatro\", \"Artes Integradas, M?sica Popular\", \"Cultura Tradicional\", \"Livro e Literatura\", \"Teatro\", \"Teatro\", \"Teatro\", \"Livro e Literatura\", \"M?sica Popular\", \"Livro e Literatura\", \"Livro e Literatura\", \"Curso ou Oficina, Teatro\", \"Curso ou Oficina, Teatro\", \"Curso ou Oficina, Teatro\", \"Curso ou Oficina, Teatro\", \"Cultura Tradicional, M?sica Popular\", \"Livro e Literatura\", \"Livro e Literatura\", \"Livro e Literatura\", \"M?sica Popular, M?sica Erudita\", \"M?sica Popular, M?sica Erudita\", \"M?sica Popular, M?sica Erudita\", \"M?sica Popular, M?sica Erudita\", \"Livro e Literatura, Teatro, M?sica Popular\", \"Livro e Literatura, Teatro, M?sica Popular\", \"M?sica Erudita, Teatro, Cultura Tradicional\", \"Livro e Literatura\", \"Livro e Literatura\", \"Artes Circenses, Teatro\", \"Teatro\", \"Teatro\", \"Curso ou Oficina\", \"Livro e Literatura, Artes Visuais\", \"Cultura Tradicional\", \"Cultura Tradicional\", \"Teatro\", \"Teatro\", \"M?sica Erudita\", \"Livro e Literatura\", \"Curso ou Oficina, Artes Integradas\", \"Curso ou Oficina, Artes Integradas\", \"Curso ou Oficina, Artes Integradas\", \"Curso ou Oficina, Artes Integradas\", \"Curso ou Oficina, Artes Integradas\", \"Livro e Literatura\", \"Artes Visuais, Curso ou Oficina\", \"Outros, M?sica Popular, Cultura Tradicional\", \"M?sica Erudita\", \"M?sica Erudita\", \"M?sica Erudita\", \"M?sica Erudita\", \"M?sica Erudita\", \"M?sica Erudita\", \"M?sica Erudita\", \"M?sica Popular\", \"M?sica Popular\", \"M?sica Popular\", \"M?sica Erudita\", \"M?sica Popular\", \"M?sica Popular\", \"M?sica Popular\", \"M?sica Erudita\", \"M?sica Erudita\", \"M?sica Popular\", \"M?sica Popular\", \"M?sica Popular\", \"M?sica Popular\", \"Palestra, Debate ou Encontro\", \"Outros\", \"M?sica Popular, Artes Circenses, Teatro\", \"Livro e Literatura\", \"Artes Integradas\", \"Outros\", \"Teatro\", \"Teatro\", \"M?sica Erudita\", \"M?sica Erudita\", \"M?sica Popular\", \"M?sica Popular\", \"M?sica Popular\", \"M?sica Erudita\", \"M?sica Erudita\", \"M?sica Erudita\", \"M?sica Erudita\", \"M?sica Popular\", \"M?sica Popular, Livro e Literatura\", \"M?sica Erudita\", \"M?sica Popular\", \"M?sica Popular\", \"M?sica Erudita\", \"M?sica Popular\", \"M?sica Popular\", \"M?sica Popular\", \"M?sica Popular\", \"M?sica Popular\", \"M?sica Popular\", \"M?sica Erudita\", \"M?sica Erudita\", \"M?sica Popular\", \"M?sica Popular\", \"M?sica Popular\", \"M?sica Erudita\", \"M?sica Popular, Cinema\", \"M?sica Erudita\", \"M?sica Popular\", \"M?sica Erudita\", \"M?sica Erudita\", \"M?sica Popular\", \"M?sica Erudita\", \"M?sica Popular\", \"M?sica Popular, Teatro\", \"M?sica Erudita\", \"Exposi??o\", \"M?sica Popular\", \"Palestra, Debate ou Encontro, Livro e Literatura\", \"Teatro\", \"Teatro, Artes Circenses\", \"Curso ou Oficina, Artes Circenses, Teatro\", \"Curso ou Oficina, Teatro, Artes Circenses\", \"Curso ou Oficina, Teatro, Artes Circenses\", \"Cultura Tradicional, Artes Integradas, M?sica Popular\", \"Dan?a, Hip Hop\", \"Dan?a, Hip Hop\", \"Livro e Literatura\", \"Livro e Literatura\", \"Livro e Literatura\", \"Livro e Literatura\", \"Livro e Literatura, Exposi??o\", \"Cultura Tradicional\", \"Cultura Tradicional\", \"Cultura Tradicional\", \"Exposi??o\", \"Teatro\", \"M?sica Erudita\", \"Outros, M?sica Popular\", \"Curso ou Oficina\", \"Artes Integradas, Artes Circenses, Teatro, Palestra, Debate ou Encontro, Curso ou Oficina\", \"Curso ou Oficina, M?sica Popular, Artes Integradas\", \"Teatro\", \"Teatro\", \"Livro e Literatura, Teatro\", \"Curso ou Oficina, Artes Visuais\", \"M?sica Popular\", \"M?sica Popular, Cultura Tradicional\", \"Audiovisual, M?sica Popular, Cinema\", \"Artes Integradas\", \"Artes Integradas\", \"Artes Integradas\", \"Artes Integradas\", \"R?dio, Outros, Hip Hop, Cultura Digital, Artes Integradas, M?sica Popular\", \"M?sica Popular, M?sica Erudita\", \"Outros\", \"Livro e Literatura, Exposi??o\", \"M?sica Popular, Cultura Tradicional\", \"M?sica Popular, Cultura Tradicional\", \"Artes Integradas\", \"M?sica Popular\", \"M?sica Erudita\", \"Palestra, Debate ou Encontro, Livro e Literatura\", \"Artes Circenses, Curso ou Oficina\", \"Teatro, Artes Circenses\", \"Teatro\", \"Outros, Livro e Literatura, M?sica Popular, Curso ou Oficina, Teatro, Artes Circenses\", \"Outros, Livro e Literatura, M?sica Popular, Curso ou Oficina, Teatro, Artes Circenses\", \"Outros, Livro e Literatura, M?sica Popular, Curso ou Oficina, Teatro, Artes Circenses\", \"Artes Visuais, Livro e Literatura\", \"Teatro, M?sica Popular\", \"Curso ou Oficina\", \"Cultura Tradicional, M?sica Popular\", \"Palestra, Debate ou Encontro, Livro e Literatura\", \"Exposi??o, Artes Visuais\", \"M?sica Erudita\", \"Teatro, M?sica Popular\", \"Teatro, M?sica Popular\", \"Outros, Exposi??o, Cultura Tradicional, Artes Visuais, Palestra, Debate ou Encontro\", \"Outros, Exposi??o, Cultura Tradicional, Artes Visuais, Palestra, Debate ou Encontro\", \"Teatro\", \"Livro e Literatura\", \"Teatro\", \"M?sica Popular\", \"Exposi??o\", \"Teatro\", \"Palestra, Debate ou Encontro, Livro e Literatura\", \"M?sica Popular, Teatro\", \"Palestra, Debate ou Encontro, Dan?a, Artes Visuais, Artes Integradas, Teatro\", \"Palestra, Debate ou Encontro, Dan?a, Artes Visuais, Artes Integradas, Teatro\", \"Outros, Dan?a, Cultura Tradicional, Teatro\", \"M?sica Erudita, M?sica Popular\", \"Cultura Tradicional, Dan?a, Teatro\", \"Exposi??o\", \"Teatro\", \"M?sica Popular, Artes Visuais\", \"Livro e Literatura\", \"Teatro\", \"Teatro\", \"Teatro\", \"R?dio, Outros, Exposi??o, Curso ou Oficina, Cultura Digital, Audiovisual, Artes Integradas, Teatro, Palestra, Debate ou Encontro, M?sica Popular, M?sica Erudita, Livro e Literatura, Hip Hop, Dan?a, Cultura Tradicional, Cultura Ind?gena, Cinema, Artes Visuais, Artes Circenses\", \"R?dio, Outros, Exposi??o, Curso ou Oficina, Cultura Digital, Audiovisual, Artes Integradas, Teatro, Palestra, Debate ou Encontro, M?sica Popular, M?sica Erudita, Livro e Literatura, Hip Hop, Dan?a, Cultura Tradicional, Cultura Ind?gena, Cinema, Artes Visuais, Artes Circenses\", \"Palestra, Debate ou Encontro, Livro e Literatura\", \"Curso ou Oficina, Artes Integradas\", \"Livro e Literatura\", \"Exposi??o\", \"Exposi??o\", \"Exposi??o\", \"Curso ou Oficina, Cultura Tradicional, Artes Integradas\", \"Curso ou Oficina, Cultura Tradicional, Artes Integradas\", \"Livro e Literatura\", \"M?sica Erudita\", \"Teatro\", \"Teatro\", \"Teatro\", \"Teatro\", \"Outros\", \"Outros\", \"Palestra, Debate ou Encontro\", \"Outros, Artes Visuais\", \"Outros, Artes Visuais\", \"Outros, Artes Visuais\", \"Outros, Artes Visuais\", \"Outros, Artes Visuais\", \"Outros, Artes Visuais\", \"Outros, M?sica Popular, Dan?a, Artes Visuais, Artes Circenses\", \"M?sica Popular, Dan?a, Outros\", \"M?sica Erudita\", \"M?sica Erudita\", \"Teatro, Artes Integradas, Dan?a, M?sica Popular, Cultura Tradicional\", \"M?sica Popular, Curso ou Oficina, Cultura Tradicional\", \"M?sica Erudita\", \"Artes Integradas, Palestra, Debate ou Encontro\", \"Artes Circenses, Teatro\", \"Artes Circenses, Teatro\", \"Artes Circenses, Teatro\", \"Artes Circenses, Teatro\", \"Artes Visuais, Livro e Literatura\", \"Livro e Literatura\", \"Livro e Literatura\", \"Teatro, M?sica Popular, M?sica Erudita\", \"Dan?a\", \"Exposi??o, Dan?a, Artes Integradas, Artes Visuais, M?sica Popular\", \"M?sica Erudita\", \"Artes Circenses, Teatro\", \"Artes Circenses, Teatro\", \"Exposi??o\", \"Exposi??o\", \"Artes Visuais\", \"Livro e Literatura, Exposi??o\", \"Exposi??o\", \"Teatro, M?sica Popular\", \"Outros\", \"Outros\", \"Artes Integradas, Teatro, Dan?a\", \"Artes Integradas, Teatro, Dan?a\", \"Dan?a\", \"Teatro, Artes Circenses\", \"Livro e Literatura\", \"Teatro, Dan?a, Artes Integradas\", \"Teatro, Dan?a, Artes Integradas\", \"Teatro, Artes Integradas, Dan?a\", \"Teatro, Artes Integradas, Dan?a\", \"Teatro, Artes Integradas, Dan?a\", \"Teatro, Dan?a, Artes Integradas\", \"Teatro, Dan?a, Hip Hop, Artes Integradas\", \"Teatro, Dan?a, Artes Integradas\", \"Teatro, Dan?a, Artes Integradas\", \"Teatro, Artes Integradas, Dan?a\", \"Teatro, Artes Integradas, Dan?a\", \"M?sica Popular, Teatro, Dan?a, Artes Integradas\", \"Teatro, Dan?a, Artes Integradas\", \"Curso ou Oficina, Dan?a\", \"Artes Integradas, Teatro, Dan?a\", \"Palestra, Debate ou Encontro, Livro e Literatura\", \"Outros\", \"Artes Integradas, Teatro, Dan?a, Curso ou Oficina\", \"Artes Integradas, Teatro, Dan?a, Curso ou Oficina\", \"Exposi??o\", \"Cinema, Livro e Literatura\", \"Outros\", \"Palestra, Debate ou Encontro\", \"Palestra, Debate ou Encontro\", \"Curso ou Oficina, Livro e Literatura\", \"Livro e Literatura\", \"Artes Integradas, Dan?a, Hip Hop, Artes Visuais, M?sica Popular\", \"Artes Integradas, Dan?a, Hip Hop, Artes Visuais, M?sica Popular\", \"Artes Integradas\", \"Outros\", \"Dan?a\", \"M?sica Popular\", \"Livro e Literatura\", \"M?sica Popular, M?sica Erudita\", \"Livro e Literatura\", \"Livro e Literatura, Curso ou Oficina\", \"Teatro, Outros, Cinema, Artes Integradas, Cultura Digital, Audiovisual, Artes Visuais\", \"Teatro\", \"Teatro\", \"Teatro\", \"Teatro\", \"Teatro\", \"Teatro\", \"Livro e Literatura\", \"Livro e Literatura\", \"Outros, M?sica Popular, Teatro, Artes Visuais, Artes Circenses\", \"M?sica Popular\", \"Livro e Literatura, Curso ou Oficina\", \"M?sica Erudita\", \"Curso ou Oficina, Livro e Literatura\", \"Outros, Dan?a, Cultura Digital, Artes Visuais\", \"Outros, Dan?a, Cultura Digital, Artes Visuais\", \"Livro e Literatura\", \"Livro e Literatura\", \"Dan?a\", \"Palestra, Debate ou Encontro\", \"Palestra, Debate ou Encontro\", \"Curso ou Oficina\", \"Livro e Literatura\", \"Curso ou Oficina\", \"Curso ou Oficina\", \"Livro e Literatura\", \"Dan?a\", \"Dan?a\", \"Artes Visuais, Artes Circenses, Teatro\", \"Artes Visuais, Artes Circenses, Teatro\", \"Curso ou Oficina\", \"Livro e Literatura\", \"Livro e Literatura\", \"Livro e Literatura\", \"Exposi??o\", \"Exposi??o\", \"Livro e Literatura\", \"Palestra, Debate ou Encontro\", \"Outros\", \"Palestra, Debate ou Encontro\", \"Livro e Literatura, Palestra, Debate ou Encontro\", \"Livro e Literatura\", \"Palestra, Debate ou Encontro\", \"Palestra, Debate ou Encontro, Livro e Literatura\", \"Livro e Literatura\", \"Palestra, Debate ou Encontro, Cinema\", \"Exposi??o\", \"Curso ou Oficina\", \"Palestra, Debate ou Encontro\", \"Palestra, Debate ou Encontro\", \"Palestra, Debate ou Encontro, Livro e Literatura\", \"Livro e Literatura, Artes Visuais, Dan?a, Cinema, M?sica Popular, Teatro\", \"Outros\", \"Outros\", \"Teatro\", \"Livro e Literatura, Exposi??o\", \"Livro e Literatura\", \"Livro e Literatura\", \"Outros\", \"Palestra, Debate ou Encontro, Exposi??o\", \"Curso ou Oficina\", \"Curso ou Oficina\", \"Exposi??o, Hip Hop, Artes Visuais\", \"Exposi??o, Hip Hop, Artes Visuais\", \"Exposi??o, Hip Hop, Artes Visuais\", \"Teatro\", \"Teatro\", \"M?sica Erudita\", \"M?sica Erudita\", \"M?sica Erudita\", \"M?sica Erudita\", \"M?sica Erudita\", \"Artes Integradas\", \"Curso ou Oficina, M?sica Popular, Artes Circenses, Teatro\", \"Curso ou Oficina, M?sica Popular, Artes Circenses, Teatro\", \"Curso ou Oficina, M?sica Popular, Artes Circenses, Teatro\", \"Curso ou Oficina, M?sica Popular, Artes Circenses, Teatro\", \"Curso ou Oficina, M?sica Popular, Artes Circenses, Teatro\", \"Curso ou Oficina, M?sica Popular, Artes Circenses, Teatro\", \"Curso ou Oficina, M?sica Popular, Artes Circenses, Teatro\", \"Curso ou Oficina, M?sica Popular, Artes Circenses, Teatro\", \"Curso ou Oficina, M?sica Popular, Artes Circenses, Teatro\", \"Curso ou Oficina, M?sica Popular, Artes Circenses, Teatro\", \"Curso ou Oficina, M?sica Popular, Artes Circenses, Teatro\", \"Curso ou Oficina, M?sica Popular, Artes Circenses, Teatro\", \"Curso ou Oficina, M?sica Popular, Artes Circenses, Teatro\", \"Curso ou Oficina, M?sica Popular, Artes Circenses, Teatro\", \"Curso ou Oficina, M?sica Popular, Artes Circenses, Teatro\", \"Curso ou Oficina, M?sica Popular, Artes Circenses, Teatro\", \"Curso ou Oficina, M?sica Popular, Artes Circenses, Teatro\", \"Teatro\", \"Teatro\", \"Exposi??o\", \"Teatro, M?sica Popular\", \"Teatro, M?sica Popular\", \"Teatro\", \"Teatro\", \"Teatro\", \"Teatro\", \"M?sica Popular, Cultura Tradicional\", \"M?sica Popular\", \"M?sica Popular\", \"Cinema\", \"Cinema\", \"Cinema\", \"Cinema\", \"Cinema\", \"Artes Visuais\", \"Cinema\", \"M?sica Popular\", \"M?sica Erudita\", \"M?sica Erudita\", \"Exposi??o\", \"M?sica Popular\", \"Livro e Literatura, Palestra, Debate ou Encontro\", \"Artes Integradas, Curso ou Oficina, Livro e Literatura\", \"Artes Integradas, Curso ou Oficina, Livro e Literatura\", \"Palestra, Debate ou Encontro, Cinema\", \"Palestra, Debate ou Encontro, Livro e Literatura\", \"Palestra, Debate ou Encontro, Livro e Literatura\", \"Palestra, Debate ou Encontro, Livro e Literatura\", \"Palestra, Debate ou Encontro, M?sica Popular, Livro e Literatura\", \"Artes Visuais, Palestra, Debate ou Encontro, Exposi??o\", \"Teatro\", \"Teatro\", \"Teatro\", \"Teatro\", \"Teatro\", \"Teatro\", \"Teatro\", \"Teatro\", \"Teatro\", \"Teatro\", \"Teatro\", \"Teatro\", \"Teatro\", \"Livro e Literatura\", \"Livro e Literatura\", \"Livro e Literatura\", \"Livro e Literatura\", \"M?sica Popular\", \"Exposi??o, Audiovisual\"]}],\n",
       "                        {\"template\": {\"data\": {\"bar\": [{\"error_x\": {\"color\": \"#2a3f5f\"}, \"error_y\": {\"color\": \"#2a3f5f\"}, \"marker\": {\"line\": {\"color\": \"#E5ECF6\", \"width\": 0.5}}, \"type\": \"bar\"}], \"barpolar\": [{\"marker\": {\"line\": {\"color\": \"#E5ECF6\", \"width\": 0.5}}, \"type\": \"barpolar\"}], \"carpet\": [{\"aaxis\": {\"endlinecolor\": \"#2a3f5f\", \"gridcolor\": \"white\", \"linecolor\": \"white\", \"minorgridcolor\": \"white\", \"startlinecolor\": \"#2a3f5f\"}, \"baxis\": {\"endlinecolor\": \"#2a3f5f\", \"gridcolor\": \"white\", \"linecolor\": \"white\", \"minorgridcolor\": \"white\", \"startlinecolor\": \"#2a3f5f\"}, \"type\": \"carpet\"}], \"choropleth\": [{\"colorbar\": {\"outlinewidth\": 0, \"ticks\": \"\"}, \"type\": \"choropleth\"}], \"contour\": [{\"colorbar\": {\"outlinewidth\": 0, \"ticks\": \"\"}, \"colorscale\": [[0.0, \"#0d0887\"], [0.1111111111111111, \"#46039f\"], [0.2222222222222222, \"#7201a8\"], [0.3333333333333333, \"#9c179e\"], [0.4444444444444444, \"#bd3786\"], [0.5555555555555556, \"#d8576b\"], [0.6666666666666666, \"#ed7953\"], [0.7777777777777778, \"#fb9f3a\"], [0.8888888888888888, \"#fdca26\"], [1.0, \"#f0f921\"]], \"type\": \"contour\"}], \"contourcarpet\": [{\"colorbar\": {\"outlinewidth\": 0, \"ticks\": \"\"}, \"type\": \"contourcarpet\"}], \"heatmap\": [{\"colorbar\": {\"outlinewidth\": 0, \"ticks\": \"\"}, \"colorscale\": [[0.0, \"#0d0887\"], [0.1111111111111111, \"#46039f\"], [0.2222222222222222, \"#7201a8\"], [0.3333333333333333, \"#9c179e\"], [0.4444444444444444, \"#bd3786\"], [0.5555555555555556, \"#d8576b\"], [0.6666666666666666, \"#ed7953\"], [0.7777777777777778, \"#fb9f3a\"], [0.8888888888888888, \"#fdca26\"], [1.0, \"#f0f921\"]], \"type\": \"heatmap\"}], \"heatmapgl\": [{\"colorbar\": {\"outlinewidth\": 0, \"ticks\": \"\"}, \"colorscale\": [[0.0, \"#0d0887\"], [0.1111111111111111, \"#46039f\"], [0.2222222222222222, \"#7201a8\"], [0.3333333333333333, \"#9c179e\"], [0.4444444444444444, \"#bd3786\"], [0.5555555555555556, \"#d8576b\"], [0.6666666666666666, \"#ed7953\"], [0.7777777777777778, \"#fb9f3a\"], [0.8888888888888888, \"#fdca26\"], [1.0, \"#f0f921\"]], \"type\": \"heatmapgl\"}], \"histogram\": [{\"marker\": {\"colorbar\": {\"outlinewidth\": 0, \"ticks\": \"\"}}, \"type\": \"histogram\"}], \"histogram2d\": [{\"colorbar\": {\"outlinewidth\": 0, \"ticks\": \"\"}, \"colorscale\": [[0.0, \"#0d0887\"], [0.1111111111111111, \"#46039f\"], [0.2222222222222222, \"#7201a8\"], [0.3333333333333333, \"#9c179e\"], [0.4444444444444444, \"#bd3786\"], [0.5555555555555556, \"#d8576b\"], [0.6666666666666666, \"#ed7953\"], [0.7777777777777778, \"#fb9f3a\"], [0.8888888888888888, \"#fdca26\"], [1.0, \"#f0f921\"]], \"type\": \"histogram2d\"}], \"histogram2dcontour\": [{\"colorbar\": {\"outlinewidth\": 0, \"ticks\": \"\"}, \"colorscale\": [[0.0, \"#0d0887\"], [0.1111111111111111, \"#46039f\"], [0.2222222222222222, \"#7201a8\"], [0.3333333333333333, \"#9c179e\"], [0.4444444444444444, \"#bd3786\"], [0.5555555555555556, \"#d8576b\"], [0.6666666666666666, \"#ed7953\"], [0.7777777777777778, \"#fb9f3a\"], [0.8888888888888888, \"#fdca26\"], [1.0, \"#f0f921\"]], \"type\": \"histogram2dcontour\"}], \"mesh3d\": [{\"colorbar\": {\"outlinewidth\": 0, \"ticks\": \"\"}, \"type\": \"mesh3d\"}], \"parcoords\": [{\"line\": {\"colorbar\": {\"outlinewidth\": 0, \"ticks\": \"\"}}, \"type\": \"parcoords\"}], \"scatter\": [{\"marker\": {\"colorbar\": {\"outlinewidth\": 0, \"ticks\": \"\"}}, \"type\": \"scatter\"}], \"scatter3d\": [{\"line\": {\"colorbar\": {\"outlinewidth\": 0, \"ticks\": \"\"}}, \"marker\": {\"colorbar\": {\"outlinewidth\": 0, \"ticks\": \"\"}}, \"type\": \"scatter3d\"}], \"scattercarpet\": [{\"marker\": {\"colorbar\": {\"outlinewidth\": 0, \"ticks\": \"\"}}, \"type\": \"scattercarpet\"}], \"scattergeo\": [{\"marker\": {\"colorbar\": {\"outlinewidth\": 0, \"ticks\": \"\"}}, \"type\": \"scattergeo\"}], \"scattergl\": [{\"marker\": {\"colorbar\": {\"outlinewidth\": 0, \"ticks\": \"\"}}, \"type\": \"scattergl\"}], \"scattermapbox\": [{\"marker\": {\"colorbar\": {\"outlinewidth\": 0, \"ticks\": \"\"}}, \"type\": \"scattermapbox\"}], \"scatterpolar\": [{\"marker\": {\"colorbar\": {\"outlinewidth\": 0, \"ticks\": \"\"}}, \"type\": \"scatterpolar\"}], \"scatterpolargl\": [{\"marker\": {\"colorbar\": {\"outlinewidth\": 0, \"ticks\": \"\"}}, \"type\": \"scatterpolargl\"}], \"scatterternary\": [{\"marker\": {\"colorbar\": {\"outlinewidth\": 0, \"ticks\": \"\"}}, \"type\": \"scatterternary\"}], \"surface\": [{\"colorbar\": {\"outlinewidth\": 0, \"ticks\": \"\"}, \"colorscale\": [[0.0, \"#0d0887\"], [0.1111111111111111, \"#46039f\"], [0.2222222222222222, \"#7201a8\"], [0.3333333333333333, \"#9c179e\"], [0.4444444444444444, \"#bd3786\"], [0.5555555555555556, \"#d8576b\"], [0.6666666666666666, \"#ed7953\"], [0.7777777777777778, \"#fb9f3a\"], [0.8888888888888888, \"#fdca26\"], [1.0, \"#f0f921\"]], \"type\": \"surface\"}], \"table\": [{\"cells\": {\"fill\": {\"color\": \"#EBF0F8\"}, \"line\": {\"color\": \"white\"}}, \"header\": {\"fill\": {\"color\": \"#C8D4E3\"}, \"line\": {\"color\": \"white\"}}, \"type\": \"table\"}]}, \"layout\": {\"annotationdefaults\": {\"arrowcolor\": \"#2a3f5f\", \"arrowhead\": 0, \"arrowwidth\": 1}, \"colorscale\": {\"diverging\": [[0, \"#8e0152\"], [0.1, \"#c51b7d\"], [0.2, \"#de77ae\"], [0.3, \"#f1b6da\"], [0.4, \"#fde0ef\"], [0.5, \"#f7f7f7\"], [0.6, \"#e6f5d0\"], [0.7, \"#b8e186\"], [0.8, \"#7fbc41\"], [0.9, \"#4d9221\"], [1, \"#276419\"]], \"sequential\": [[0.0, \"#0d0887\"], [0.1111111111111111, \"#46039f\"], [0.2222222222222222, \"#7201a8\"], [0.3333333333333333, \"#9c179e\"], [0.4444444444444444, \"#bd3786\"], [0.5555555555555556, \"#d8576b\"], [0.6666666666666666, \"#ed7953\"], [0.7777777777777778, \"#fb9f3a\"], [0.8888888888888888, \"#fdca26\"], [1.0, \"#f0f921\"]], \"sequentialminus\": [[0.0, \"#0d0887\"], [0.1111111111111111, \"#46039f\"], [0.2222222222222222, \"#7201a8\"], [0.3333333333333333, \"#9c179e\"], [0.4444444444444444, \"#bd3786\"], [0.5555555555555556, \"#d8576b\"], [0.6666666666666666, \"#ed7953\"], [0.7777777777777778, \"#fb9f3a\"], [0.8888888888888888, \"#fdca26\"], [1.0, \"#f0f921\"]]}, \"colorway\": [\"#636efa\", \"#EF553B\", \"#00cc96\", \"#ab63fa\", \"#FFA15A\", \"#19d3f3\", \"#FF6692\", \"#B6E880\", \"#FF97FF\", \"#FECB52\"], \"font\": {\"color\": \"#2a3f5f\"}, \"geo\": {\"bgcolor\": \"white\", \"lakecolor\": \"white\", \"landcolor\": \"#E5ECF6\", \"showlakes\": true, \"showland\": true, \"subunitcolor\": \"white\"}, \"hoverlabel\": {\"align\": \"left\"}, \"hovermode\": \"closest\", \"mapbox\": {\"style\": \"light\"}, \"paper_bgcolor\": \"white\", \"plot_bgcolor\": \"#E5ECF6\", \"polar\": {\"angularaxis\": {\"gridcolor\": \"white\", \"linecolor\": \"white\", \"ticks\": \"\"}, \"bgcolor\": \"#E5ECF6\", \"radialaxis\": {\"gridcolor\": \"white\", \"linecolor\": \"white\", \"ticks\": \"\"}}, \"scene\": {\"xaxis\": {\"backgroundcolor\": \"#E5ECF6\", \"gridcolor\": \"white\", \"gridwidth\": 2, \"linecolor\": \"white\", \"showbackground\": true, \"ticks\": \"\", \"zerolinecolor\": \"white\"}, \"yaxis\": {\"backgroundcolor\": \"#E5ECF6\", \"gridcolor\": \"white\", \"gridwidth\": 2, \"linecolor\": \"white\", \"showbackground\": true, \"ticks\": \"\", \"zerolinecolor\": \"white\"}, \"zaxis\": {\"backgroundcolor\": \"#E5ECF6\", \"gridcolor\": \"white\", \"gridwidth\": 2, \"linecolor\": \"white\", \"showbackground\": true, \"ticks\": \"\", \"zerolinecolor\": \"white\"}}, \"shapedefaults\": {\"line\": {\"color\": \"#2a3f5f\"}}, \"ternary\": {\"aaxis\": {\"gridcolor\": \"white\", \"linecolor\": \"white\", \"ticks\": \"\"}, \"baxis\": {\"gridcolor\": \"white\", \"linecolor\": \"white\", \"ticks\": \"\"}, \"bgcolor\": \"#E5ECF6\", \"caxis\": {\"gridcolor\": \"white\", \"linecolor\": \"white\", \"ticks\": \"\"}}, \"title\": {\"x\": 0.05}, \"xaxis\": {\"automargin\": true, \"gridcolor\": \"white\", \"linecolor\": \"white\", \"ticks\": \"\", \"zerolinecolor\": \"white\", \"zerolinewidth\": 2}, \"yaxis\": {\"automargin\": true, \"gridcolor\": \"white\", \"linecolor\": \"white\", \"ticks\": \"\", \"zerolinecolor\": \"white\", \"zerolinewidth\": 2}}}, \"title\": {\"text\": \"Rela\\u00e7\\u00e3o Atividade por Linguagem\"}, \"xaxis\": {\"title\": {\"text\": \"Atividade\"}}, \"yaxis\": {\"title\": {\"text\": \"Linguagem\"}}},\n",
       "                        {\"responsive\": true}\n",
       "                    ).then(function(){\n",
       "                            \n",
       "var gd = document.getElementById('78dcdf94-7b20-43b6-bc72-28106d285feb');\n",
       "var x = new MutationObserver(function (mutations, observer) {{\n",
       "        var display = window.getComputedStyle(gd).display;\n",
       "        if (!display || display === 'none') {{\n",
       "            console.log([gd, 'removed!']);\n",
       "            Plotly.purge(gd);\n",
       "            observer.disconnect();\n",
       "        }}\n",
       "}});\n",
       "\n",
       "// Listen for the removal of the full notebook cells\n",
       "var notebookContainer = gd.closest('#notebook-container');\n",
       "if (notebookContainer) {{\n",
       "    x.observe(notebookContainer, {childList: true});\n",
       "}}\n",
       "\n",
       "// Listen for the clearing of the current output cell\n",
       "var outputEl = gd.closest('.output');\n",
       "if (outputEl) {{\n",
       "    x.observe(outputEl, {childList: true});\n",
       "}}\n",
       "\n",
       "                        })\n",
       "                };\n",
       "                });\n",
       "            </script>\n",
       "        </div>"
      ]
     },
     "metadata": {},
     "output_type": "display_data"
    }
   ],
   "source": [
    "trace = go.Scatter(x = df_filtrocolunas['Atividade'],\n",
    "                   y = df_filtrocolunas['Linguagem'],\n",
    "                   mode = 'markers',\n",
    "                   marker =  {'color' : '#e74c3c',\n",
    "                              'line' : {'width': 1,\n",
    "                                        'color': '#c0392b'}},\n",
    "                   opacity=.8)\n",
    "\n",
    "data = [trace]\n",
    "layout = go.Layout(title='Relação Atividade por Linguagem',\n",
    "                   yaxis={'title':'Linguagem'},\n",
    "                   xaxis={'title': 'Atividade'})\n",
    "fig = go.Figure(data=data, layout=layout)\n",
    "py.iplot(fig)"
   ]
  },
  {
   "cell_type": "markdown",
   "metadata": {},
   "source": [
    "Caso você tenha dúvida sobre quais cores utilizar nos seus gráficos, existem sites especializados em criação de paleta de cores para suas visualizações. Particulamente gosto muito do Flat UI Colors e o Susielu"
   ]
  },
  {
   "cell_type": "markdown",
   "metadata": {},
   "source": [
    "##### Criando um gráfico de caixa\n",
    "What’s in the booooox?\n",
    "Dentre seus diversos tipos de gráfico, Plotly permite que você crie boxplots, ou gráfico de caixas. Para construí-los é muito similar ao gráfico de dispersão, mas agora você utilizará a função go.Box().\n",
    "No código abaixo, eu crio um gráfico de caixa para cada quantidade de quatros. Meu objetivo ver é como os preços de vendas são distribuídos entre casas com diversos tamanhos de quartos, de um a quatro. Para isso, eu tenho que criar uma variável trace para cada gráfico.\n",
    "Se lembra que falei que é uma boa prática criar uma variável chamada data? Nesse caso abaixo vemos sua importância ao colocarmos todos os quatro gráficos dentro de uma lista. Utilizando os argumentos paper_bgcolor e plot_bgcolor, vou alterar a cor de fundo do gráfico."
   ]
  },
  {
   "cell_type": "code",
   "execution_count": 30,
   "metadata": {},
   "outputs": [
    {
     "ename": "KeyError",
     "evalue": "'bedrooms'",
     "output_type": "error",
     "traceback": [
      "\u001b[1;31m---------------------------------------------------------------------------\u001b[0m",
      "\u001b[1;31mKeyError\u001b[0m                                  Traceback (most recent call last)",
      "\u001b[1;32m~\\Anaconda3\\lib\\site-packages\\pandas\\core\\indexes\\base.py\u001b[0m in \u001b[0;36mget_loc\u001b[1;34m(self, key, method, tolerance)\u001b[0m\n\u001b[0;32m   2896\u001b[0m             \u001b[1;32mtry\u001b[0m\u001b[1;33m:\u001b[0m\u001b[1;33m\u001b[0m\u001b[1;33m\u001b[0m\u001b[0m\n\u001b[1;32m-> 2897\u001b[1;33m                 \u001b[1;32mreturn\u001b[0m \u001b[0mself\u001b[0m\u001b[1;33m.\u001b[0m\u001b[0m_engine\u001b[0m\u001b[1;33m.\u001b[0m\u001b[0mget_loc\u001b[0m\u001b[1;33m(\u001b[0m\u001b[0mkey\u001b[0m\u001b[1;33m)\u001b[0m\u001b[1;33m\u001b[0m\u001b[1;33m\u001b[0m\u001b[0m\n\u001b[0m\u001b[0;32m   2898\u001b[0m             \u001b[1;32mexcept\u001b[0m \u001b[0mKeyError\u001b[0m\u001b[1;33m:\u001b[0m\u001b[1;33m\u001b[0m\u001b[1;33m\u001b[0m\u001b[0m\n",
      "\u001b[1;32mpandas\\_libs\\index.pyx\u001b[0m in \u001b[0;36mpandas._libs.index.IndexEngine.get_loc\u001b[1;34m()\u001b[0m\n",
      "\u001b[1;32mpandas\\_libs\\index.pyx\u001b[0m in \u001b[0;36mpandas._libs.index.IndexEngine.get_loc\u001b[1;34m()\u001b[0m\n",
      "\u001b[1;32mpandas\\_libs\\hashtable_class_helper.pxi\u001b[0m in \u001b[0;36mpandas._libs.hashtable.PyObjectHashTable.get_item\u001b[1;34m()\u001b[0m\n",
      "\u001b[1;32mpandas\\_libs\\hashtable_class_helper.pxi\u001b[0m in \u001b[0;36mpandas._libs.hashtable.PyObjectHashTable.get_item\u001b[1;34m()\u001b[0m\n",
      "\u001b[1;31mKeyError\u001b[0m: 'bedrooms'",
      "\nDuring handling of the above exception, another exception occurred:\n",
      "\u001b[1;31mKeyError\u001b[0m                                  Traceback (most recent call last)",
      "\u001b[1;32m<ipython-input-30-25aed62a3e30>\u001b[0m in \u001b[0;36m<module>\u001b[1;34m\u001b[0m\n\u001b[0;32m      1\u001b[0m \u001b[1;31m# https://paulovasconcellos.com.br/como-criar-gr%C3%A1ficos-interativos-utilizando-plotly-e-python-3eb6eda57a2b\u001b[0m\u001b[1;33m\u001b[0m\u001b[1;33m\u001b[0m\u001b[1;33m\u001b[0m\u001b[0m\n\u001b[0;32m      2\u001b[0m \u001b[1;31m# Gerando gráficos para casas que tem 1 quarto\u001b[0m\u001b[1;33m\u001b[0m\u001b[1;33m\u001b[0m\u001b[1;33m\u001b[0m\u001b[0m\n\u001b[1;32m----> 3\u001b[1;33m trace1 = go.Box(y = df.loc[df['bedrooms'] == 1, 'price'],\n\u001b[0m\u001b[0;32m      4\u001b[0m                 \u001b[0mname\u001b[0m \u001b[1;33m=\u001b[0m \u001b[1;34m'Casas com 1 quarto'\u001b[0m\u001b[1;33m,\u001b[0m\u001b[1;33m\u001b[0m\u001b[1;33m\u001b[0m\u001b[0m\n\u001b[0;32m      5\u001b[0m                 marker = {'color': '#f39c12'})\n",
      "\u001b[1;32m~\\Anaconda3\\lib\\site-packages\\pandas\\core\\frame.py\u001b[0m in \u001b[0;36m__getitem__\u001b[1;34m(self, key)\u001b[0m\n\u001b[0;32m   2978\u001b[0m             \u001b[1;32mif\u001b[0m \u001b[0mself\u001b[0m\u001b[1;33m.\u001b[0m\u001b[0mcolumns\u001b[0m\u001b[1;33m.\u001b[0m\u001b[0mnlevels\u001b[0m \u001b[1;33m>\u001b[0m \u001b[1;36m1\u001b[0m\u001b[1;33m:\u001b[0m\u001b[1;33m\u001b[0m\u001b[1;33m\u001b[0m\u001b[0m\n\u001b[0;32m   2979\u001b[0m                 \u001b[1;32mreturn\u001b[0m \u001b[0mself\u001b[0m\u001b[1;33m.\u001b[0m\u001b[0m_getitem_multilevel\u001b[0m\u001b[1;33m(\u001b[0m\u001b[0mkey\u001b[0m\u001b[1;33m)\u001b[0m\u001b[1;33m\u001b[0m\u001b[1;33m\u001b[0m\u001b[0m\n\u001b[1;32m-> 2980\u001b[1;33m             \u001b[0mindexer\u001b[0m \u001b[1;33m=\u001b[0m \u001b[0mself\u001b[0m\u001b[1;33m.\u001b[0m\u001b[0mcolumns\u001b[0m\u001b[1;33m.\u001b[0m\u001b[0mget_loc\u001b[0m\u001b[1;33m(\u001b[0m\u001b[0mkey\u001b[0m\u001b[1;33m)\u001b[0m\u001b[1;33m\u001b[0m\u001b[1;33m\u001b[0m\u001b[0m\n\u001b[0m\u001b[0;32m   2981\u001b[0m             \u001b[1;32mif\u001b[0m \u001b[0mis_integer\u001b[0m\u001b[1;33m(\u001b[0m\u001b[0mindexer\u001b[0m\u001b[1;33m)\u001b[0m\u001b[1;33m:\u001b[0m\u001b[1;33m\u001b[0m\u001b[1;33m\u001b[0m\u001b[0m\n\u001b[0;32m   2982\u001b[0m                 \u001b[0mindexer\u001b[0m \u001b[1;33m=\u001b[0m \u001b[1;33m[\u001b[0m\u001b[0mindexer\u001b[0m\u001b[1;33m]\u001b[0m\u001b[1;33m\u001b[0m\u001b[1;33m\u001b[0m\u001b[0m\n",
      "\u001b[1;32m~\\Anaconda3\\lib\\site-packages\\pandas\\core\\indexes\\base.py\u001b[0m in \u001b[0;36mget_loc\u001b[1;34m(self, key, method, tolerance)\u001b[0m\n\u001b[0;32m   2897\u001b[0m                 \u001b[1;32mreturn\u001b[0m \u001b[0mself\u001b[0m\u001b[1;33m.\u001b[0m\u001b[0m_engine\u001b[0m\u001b[1;33m.\u001b[0m\u001b[0mget_loc\u001b[0m\u001b[1;33m(\u001b[0m\u001b[0mkey\u001b[0m\u001b[1;33m)\u001b[0m\u001b[1;33m\u001b[0m\u001b[1;33m\u001b[0m\u001b[0m\n\u001b[0;32m   2898\u001b[0m             \u001b[1;32mexcept\u001b[0m \u001b[0mKeyError\u001b[0m\u001b[1;33m:\u001b[0m\u001b[1;33m\u001b[0m\u001b[1;33m\u001b[0m\u001b[0m\n\u001b[1;32m-> 2899\u001b[1;33m                 \u001b[1;32mreturn\u001b[0m \u001b[0mself\u001b[0m\u001b[1;33m.\u001b[0m\u001b[0m_engine\u001b[0m\u001b[1;33m.\u001b[0m\u001b[0mget_loc\u001b[0m\u001b[1;33m(\u001b[0m\u001b[0mself\u001b[0m\u001b[1;33m.\u001b[0m\u001b[0m_maybe_cast_indexer\u001b[0m\u001b[1;33m(\u001b[0m\u001b[0mkey\u001b[0m\u001b[1;33m)\u001b[0m\u001b[1;33m)\u001b[0m\u001b[1;33m\u001b[0m\u001b[1;33m\u001b[0m\u001b[0m\n\u001b[0m\u001b[0;32m   2900\u001b[0m         \u001b[0mindexer\u001b[0m \u001b[1;33m=\u001b[0m \u001b[0mself\u001b[0m\u001b[1;33m.\u001b[0m\u001b[0mget_indexer\u001b[0m\u001b[1;33m(\u001b[0m\u001b[1;33m[\u001b[0m\u001b[0mkey\u001b[0m\u001b[1;33m]\u001b[0m\u001b[1;33m,\u001b[0m \u001b[0mmethod\u001b[0m\u001b[1;33m=\u001b[0m\u001b[0mmethod\u001b[0m\u001b[1;33m,\u001b[0m \u001b[0mtolerance\u001b[0m\u001b[1;33m=\u001b[0m\u001b[0mtolerance\u001b[0m\u001b[1;33m)\u001b[0m\u001b[1;33m\u001b[0m\u001b[1;33m\u001b[0m\u001b[0m\n\u001b[0;32m   2901\u001b[0m         \u001b[1;32mif\u001b[0m \u001b[0mindexer\u001b[0m\u001b[1;33m.\u001b[0m\u001b[0mndim\u001b[0m \u001b[1;33m>\u001b[0m \u001b[1;36m1\u001b[0m \u001b[1;32mor\u001b[0m \u001b[0mindexer\u001b[0m\u001b[1;33m.\u001b[0m\u001b[0msize\u001b[0m \u001b[1;33m>\u001b[0m \u001b[1;36m1\u001b[0m\u001b[1;33m:\u001b[0m\u001b[1;33m\u001b[0m\u001b[1;33m\u001b[0m\u001b[0m\n",
      "\u001b[1;32mpandas\\_libs\\index.pyx\u001b[0m in \u001b[0;36mpandas._libs.index.IndexEngine.get_loc\u001b[1;34m()\u001b[0m\n",
      "\u001b[1;32mpandas\\_libs\\index.pyx\u001b[0m in \u001b[0;36mpandas._libs.index.IndexEngine.get_loc\u001b[1;34m()\u001b[0m\n",
      "\u001b[1;32mpandas\\_libs\\hashtable_class_helper.pxi\u001b[0m in \u001b[0;36mpandas._libs.hashtable.PyObjectHashTable.get_item\u001b[1;34m()\u001b[0m\n",
      "\u001b[1;32mpandas\\_libs\\hashtable_class_helper.pxi\u001b[0m in \u001b[0;36mpandas._libs.hashtable.PyObjectHashTable.get_item\u001b[1;34m()\u001b[0m\n",
      "\u001b[1;31mKeyError\u001b[0m: 'bedrooms'"
     ]
    }
   ],
   "source": [
    "# https://paulovasconcellos.com.br/como-criar-gr%C3%A1ficos-interativos-utilizando-plotly-e-python-3eb6eda57a2b\n",
    "# Gerando gráficos para casas que tem 1 quarto\n",
    "trace1 = go.Box(y = df.loc[df['bedrooms'] == 1, 'price'],\n",
    "                name = 'Casas com 1 quarto',\n",
    "                marker = {'color': '#f39c12'})\n",
    "# Gráfico de caixa para casas com 2 quartos\n",
    "trace2 = go.Box(y = df.loc[df['bedrooms'] == 2, 'price'],\n",
    "                name = 'Casas com 2 quartos',\n",
    "                marker = {'color': '#e67e22'})\n",
    "# Gráfico de caixa para casas com 3 quartos\n",
    "trace3 = go.Box(y = df.loc[df['bedrooms'] == 3, 'price'],\n",
    "                name = 'Casas com 3 quartos',\n",
    "                marker = {'color': '#d35400'})\n",
    "# Gráfico para casas de quatro quartos\n",
    "trace4 = go.Box(y = df.loc[df['bedrooms'] == 4, 'price'],\n",
    "                name = 'Casas com 4 quartos',\n",
    "                marker = {'color': '#e74c3c'})\n",
    "data = [trace1, trace2, trace3, trace4]\n",
    "layout = go.Layout(title = 'Dispersão de preços para casas com diferentes quartos',\n",
    "                   titlefont = {'family': 'Arial',\n",
    "                                'size': 22,\n",
    "                                'color': '#7f7f7f'},\n",
    "                   xaxis = {'title': 'Número de quartos'},\n",
    "                   yaxis = {'title': 'Preço'},\n",
    "                   paper_bgcolor = 'rgb(243, 243, 243)',\n",
    "                   plot_bgcolor = 'rgb(243, 243, 243)')\n",
    "fig = go.Figure(data=data, layout=layout)\n",
    "py.iplot(fig)"
   ]
  },
  {
   "cell_type": "markdown",
   "metadata": {},
   "source": [
    "##### Criando gráficos de linha\n",
    "Um detalhe interessante sobre o Plotly é que gráfico de linha nada mais é que um gráfico de dispersão, mas onde os pontos são conectados por linhas. Deixando nosso dataset um pouco de lado, todos os três gráficos abaixo foram criandos utilizando a função go.Scatter(), onde a única diferença é o argumento mode. Confira abaixo:"
   ]
  },
  {
   "cell_type": "code",
   "execution_count": 31,
   "metadata": {},
   "outputs": [
    {
     "data": {
      "application/vnd.plotly.v1+json": {
       "config": {
        "linkText": "Export to plot.ly",
        "plotlyServerURL": "https://plot.ly",
        "showLink": false
       },
       "data": [
        {
         "mode": "markers",
         "name": "Apenas marcadores",
         "type": "scatter",
         "x": [
          "Janeiro",
          "Fevereiro",
          "Março",
          "Abril",
          "Maio"
         ],
         "y": [
          1,
          2,
          3,
          4,
          5
         ]
        },
        {
         "mode": "lines",
         "name": "Apenas linhas",
         "type": "scatter",
         "x": [
          "Janeiro",
          "Fevereiro",
          "Março",
          "Abril",
          "Maio"
         ],
         "y": [
          11,
          12,
          13,
          14,
          15
         ]
        },
        {
         "mode": "markers+lines",
         "name": "Marcadores e Linhas",
         "type": "scatter",
         "x": [
          "Janeiro",
          "Fevereiro",
          "Março",
          "Abril",
          "Maio"
         ],
         "y": [
          6,
          7,
          8,
          9,
          10
         ]
        }
       ],
       "layout": {
        "template": {
         "data": {
          "bar": [
           {
            "error_x": {
             "color": "#2a3f5f"
            },
            "error_y": {
             "color": "#2a3f5f"
            },
            "marker": {
             "line": {
              "color": "#E5ECF6",
              "width": 0.5
             }
            },
            "type": "bar"
           }
          ],
          "barpolar": [
           {
            "marker": {
             "line": {
              "color": "#E5ECF6",
              "width": 0.5
             }
            },
            "type": "barpolar"
           }
          ],
          "carpet": [
           {
            "aaxis": {
             "endlinecolor": "#2a3f5f",
             "gridcolor": "white",
             "linecolor": "white",
             "minorgridcolor": "white",
             "startlinecolor": "#2a3f5f"
            },
            "baxis": {
             "endlinecolor": "#2a3f5f",
             "gridcolor": "white",
             "linecolor": "white",
             "minorgridcolor": "white",
             "startlinecolor": "#2a3f5f"
            },
            "type": "carpet"
           }
          ],
          "choropleth": [
           {
            "colorbar": {
             "outlinewidth": 0,
             "ticks": ""
            },
            "type": "choropleth"
           }
          ],
          "contour": [
           {
            "colorbar": {
             "outlinewidth": 0,
             "ticks": ""
            },
            "colorscale": [
             [
              0,
              "#0d0887"
             ],
             [
              0.1111111111111111,
              "#46039f"
             ],
             [
              0.2222222222222222,
              "#7201a8"
             ],
             [
              0.3333333333333333,
              "#9c179e"
             ],
             [
              0.4444444444444444,
              "#bd3786"
             ],
             [
              0.5555555555555556,
              "#d8576b"
             ],
             [
              0.6666666666666666,
              "#ed7953"
             ],
             [
              0.7777777777777778,
              "#fb9f3a"
             ],
             [
              0.8888888888888888,
              "#fdca26"
             ],
             [
              1,
              "#f0f921"
             ]
            ],
            "type": "contour"
           }
          ],
          "contourcarpet": [
           {
            "colorbar": {
             "outlinewidth": 0,
             "ticks": ""
            },
            "type": "contourcarpet"
           }
          ],
          "heatmap": [
           {
            "colorbar": {
             "outlinewidth": 0,
             "ticks": ""
            },
            "colorscale": [
             [
              0,
              "#0d0887"
             ],
             [
              0.1111111111111111,
              "#46039f"
             ],
             [
              0.2222222222222222,
              "#7201a8"
             ],
             [
              0.3333333333333333,
              "#9c179e"
             ],
             [
              0.4444444444444444,
              "#bd3786"
             ],
             [
              0.5555555555555556,
              "#d8576b"
             ],
             [
              0.6666666666666666,
              "#ed7953"
             ],
             [
              0.7777777777777778,
              "#fb9f3a"
             ],
             [
              0.8888888888888888,
              "#fdca26"
             ],
             [
              1,
              "#f0f921"
             ]
            ],
            "type": "heatmap"
           }
          ],
          "heatmapgl": [
           {
            "colorbar": {
             "outlinewidth": 0,
             "ticks": ""
            },
            "colorscale": [
             [
              0,
              "#0d0887"
             ],
             [
              0.1111111111111111,
              "#46039f"
             ],
             [
              0.2222222222222222,
              "#7201a8"
             ],
             [
              0.3333333333333333,
              "#9c179e"
             ],
             [
              0.4444444444444444,
              "#bd3786"
             ],
             [
              0.5555555555555556,
              "#d8576b"
             ],
             [
              0.6666666666666666,
              "#ed7953"
             ],
             [
              0.7777777777777778,
              "#fb9f3a"
             ],
             [
              0.8888888888888888,
              "#fdca26"
             ],
             [
              1,
              "#f0f921"
             ]
            ],
            "type": "heatmapgl"
           }
          ],
          "histogram": [
           {
            "marker": {
             "colorbar": {
              "outlinewidth": 0,
              "ticks": ""
             }
            },
            "type": "histogram"
           }
          ],
          "histogram2d": [
           {
            "colorbar": {
             "outlinewidth": 0,
             "ticks": ""
            },
            "colorscale": [
             [
              0,
              "#0d0887"
             ],
             [
              0.1111111111111111,
              "#46039f"
             ],
             [
              0.2222222222222222,
              "#7201a8"
             ],
             [
              0.3333333333333333,
              "#9c179e"
             ],
             [
              0.4444444444444444,
              "#bd3786"
             ],
             [
              0.5555555555555556,
              "#d8576b"
             ],
             [
              0.6666666666666666,
              "#ed7953"
             ],
             [
              0.7777777777777778,
              "#fb9f3a"
             ],
             [
              0.8888888888888888,
              "#fdca26"
             ],
             [
              1,
              "#f0f921"
             ]
            ],
            "type": "histogram2d"
           }
          ],
          "histogram2dcontour": [
           {
            "colorbar": {
             "outlinewidth": 0,
             "ticks": ""
            },
            "colorscale": [
             [
              0,
              "#0d0887"
             ],
             [
              0.1111111111111111,
              "#46039f"
             ],
             [
              0.2222222222222222,
              "#7201a8"
             ],
             [
              0.3333333333333333,
              "#9c179e"
             ],
             [
              0.4444444444444444,
              "#bd3786"
             ],
             [
              0.5555555555555556,
              "#d8576b"
             ],
             [
              0.6666666666666666,
              "#ed7953"
             ],
             [
              0.7777777777777778,
              "#fb9f3a"
             ],
             [
              0.8888888888888888,
              "#fdca26"
             ],
             [
              1,
              "#f0f921"
             ]
            ],
            "type": "histogram2dcontour"
           }
          ],
          "mesh3d": [
           {
            "colorbar": {
             "outlinewidth": 0,
             "ticks": ""
            },
            "type": "mesh3d"
           }
          ],
          "parcoords": [
           {
            "line": {
             "colorbar": {
              "outlinewidth": 0,
              "ticks": ""
             }
            },
            "type": "parcoords"
           }
          ],
          "scatter": [
           {
            "marker": {
             "colorbar": {
              "outlinewidth": 0,
              "ticks": ""
             }
            },
            "type": "scatter"
           }
          ],
          "scatter3d": [
           {
            "line": {
             "colorbar": {
              "outlinewidth": 0,
              "ticks": ""
             }
            },
            "marker": {
             "colorbar": {
              "outlinewidth": 0,
              "ticks": ""
             }
            },
            "type": "scatter3d"
           }
          ],
          "scattercarpet": [
           {
            "marker": {
             "colorbar": {
              "outlinewidth": 0,
              "ticks": ""
             }
            },
            "type": "scattercarpet"
           }
          ],
          "scattergeo": [
           {
            "marker": {
             "colorbar": {
              "outlinewidth": 0,
              "ticks": ""
             }
            },
            "type": "scattergeo"
           }
          ],
          "scattergl": [
           {
            "marker": {
             "colorbar": {
              "outlinewidth": 0,
              "ticks": ""
             }
            },
            "type": "scattergl"
           }
          ],
          "scattermapbox": [
           {
            "marker": {
             "colorbar": {
              "outlinewidth": 0,
              "ticks": ""
             }
            },
            "type": "scattermapbox"
           }
          ],
          "scatterpolar": [
           {
            "marker": {
             "colorbar": {
              "outlinewidth": 0,
              "ticks": ""
             }
            },
            "type": "scatterpolar"
           }
          ],
          "scatterpolargl": [
           {
            "marker": {
             "colorbar": {
              "outlinewidth": 0,
              "ticks": ""
             }
            },
            "type": "scatterpolargl"
           }
          ],
          "scatterternary": [
           {
            "marker": {
             "colorbar": {
              "outlinewidth": 0,
              "ticks": ""
             }
            },
            "type": "scatterternary"
           }
          ],
          "surface": [
           {
            "colorbar": {
             "outlinewidth": 0,
             "ticks": ""
            },
            "colorscale": [
             [
              0,
              "#0d0887"
             ],
             [
              0.1111111111111111,
              "#46039f"
             ],
             [
              0.2222222222222222,
              "#7201a8"
             ],
             [
              0.3333333333333333,
              "#9c179e"
             ],
             [
              0.4444444444444444,
              "#bd3786"
             ],
             [
              0.5555555555555556,
              "#d8576b"
             ],
             [
              0.6666666666666666,
              "#ed7953"
             ],
             [
              0.7777777777777778,
              "#fb9f3a"
             ],
             [
              0.8888888888888888,
              "#fdca26"
             ],
             [
              1,
              "#f0f921"
             ]
            ],
            "type": "surface"
           }
          ],
          "table": [
           {
            "cells": {
             "fill": {
              "color": "#EBF0F8"
             },
             "line": {
              "color": "white"
             }
            },
            "header": {
             "fill": {
              "color": "#C8D4E3"
             },
             "line": {
              "color": "white"
             }
            },
            "type": "table"
           }
          ]
         },
         "layout": {
          "annotationdefaults": {
           "arrowcolor": "#2a3f5f",
           "arrowhead": 0,
           "arrowwidth": 1
          },
          "colorscale": {
           "diverging": [
            [
             0,
             "#8e0152"
            ],
            [
             0.1,
             "#c51b7d"
            ],
            [
             0.2,
             "#de77ae"
            ],
            [
             0.3,
             "#f1b6da"
            ],
            [
             0.4,
             "#fde0ef"
            ],
            [
             0.5,
             "#f7f7f7"
            ],
            [
             0.6,
             "#e6f5d0"
            ],
            [
             0.7,
             "#b8e186"
            ],
            [
             0.8,
             "#7fbc41"
            ],
            [
             0.9,
             "#4d9221"
            ],
            [
             1,
             "#276419"
            ]
           ],
           "sequential": [
            [
             0,
             "#0d0887"
            ],
            [
             0.1111111111111111,
             "#46039f"
            ],
            [
             0.2222222222222222,
             "#7201a8"
            ],
            [
             0.3333333333333333,
             "#9c179e"
            ],
            [
             0.4444444444444444,
             "#bd3786"
            ],
            [
             0.5555555555555556,
             "#d8576b"
            ],
            [
             0.6666666666666666,
             "#ed7953"
            ],
            [
             0.7777777777777778,
             "#fb9f3a"
            ],
            [
             0.8888888888888888,
             "#fdca26"
            ],
            [
             1,
             "#f0f921"
            ]
           ],
           "sequentialminus": [
            [
             0,
             "#0d0887"
            ],
            [
             0.1111111111111111,
             "#46039f"
            ],
            [
             0.2222222222222222,
             "#7201a8"
            ],
            [
             0.3333333333333333,
             "#9c179e"
            ],
            [
             0.4444444444444444,
             "#bd3786"
            ],
            [
             0.5555555555555556,
             "#d8576b"
            ],
            [
             0.6666666666666666,
             "#ed7953"
            ],
            [
             0.7777777777777778,
             "#fb9f3a"
            ],
            [
             0.8888888888888888,
             "#fdca26"
            ],
            [
             1,
             "#f0f921"
            ]
           ]
          },
          "colorway": [
           "#636efa",
           "#EF553B",
           "#00cc96",
           "#ab63fa",
           "#FFA15A",
           "#19d3f3",
           "#FF6692",
           "#B6E880",
           "#FF97FF",
           "#FECB52"
          ],
          "font": {
           "color": "#2a3f5f"
          },
          "geo": {
           "bgcolor": "white",
           "lakecolor": "white",
           "landcolor": "#E5ECF6",
           "showlakes": true,
           "showland": true,
           "subunitcolor": "white"
          },
          "hoverlabel": {
           "align": "left"
          },
          "hovermode": "closest",
          "mapbox": {
           "style": "light"
          },
          "paper_bgcolor": "white",
          "plot_bgcolor": "#E5ECF6",
          "polar": {
           "angularaxis": {
            "gridcolor": "white",
            "linecolor": "white",
            "ticks": ""
           },
           "bgcolor": "#E5ECF6",
           "radialaxis": {
            "gridcolor": "white",
            "linecolor": "white",
            "ticks": ""
           }
          },
          "scene": {
           "xaxis": {
            "backgroundcolor": "#E5ECF6",
            "gridcolor": "white",
            "gridwidth": 2,
            "linecolor": "white",
            "showbackground": true,
            "ticks": "",
            "zerolinecolor": "white"
           },
           "yaxis": {
            "backgroundcolor": "#E5ECF6",
            "gridcolor": "white",
            "gridwidth": 2,
            "linecolor": "white",
            "showbackground": true,
            "ticks": "",
            "zerolinecolor": "white"
           },
           "zaxis": {
            "backgroundcolor": "#E5ECF6",
            "gridcolor": "white",
            "gridwidth": 2,
            "linecolor": "white",
            "showbackground": true,
            "ticks": "",
            "zerolinecolor": "white"
           }
          },
          "shapedefaults": {
           "line": {
            "color": "#2a3f5f"
           }
          },
          "ternary": {
           "aaxis": {
            "gridcolor": "white",
            "linecolor": "white",
            "ticks": ""
           },
           "baxis": {
            "gridcolor": "white",
            "linecolor": "white",
            "ticks": ""
           },
           "bgcolor": "#E5ECF6",
           "caxis": {
            "gridcolor": "white",
            "linecolor": "white",
            "ticks": ""
           }
          },
          "title": {
           "x": 0.05
          },
          "xaxis": {
           "automargin": true,
           "gridcolor": "white",
           "linecolor": "white",
           "ticks": "",
           "zerolinecolor": "white",
           "zerolinewidth": 2
          },
          "yaxis": {
           "automargin": true,
           "gridcolor": "white",
           "linecolor": "white",
           "ticks": "",
           "zerolinecolor": "white",
           "zerolinewidth": 2
          }
         }
        }
       }
      },
      "text/html": [
       "<div>\n",
       "        \n",
       "        \n",
       "            <div id=\"f228d396-02f0-4c6e-a688-f68d136d55e7\" class=\"plotly-graph-div\" style=\"height:525px; width:100%;\"></div>\n",
       "            <script type=\"text/javascript\">\n",
       "                require([\"plotly\"], function(Plotly) {\n",
       "                    window.PLOTLYENV=window.PLOTLYENV || {};\n",
       "                    \n",
       "                if (document.getElementById(\"f228d396-02f0-4c6e-a688-f68d136d55e7\")) {\n",
       "                    Plotly.newPlot(\n",
       "                        'f228d396-02f0-4c6e-a688-f68d136d55e7',\n",
       "                        [{\"mode\": \"markers\", \"name\": \"Apenas marcadores\", \"type\": \"scatter\", \"x\": [\"Janeiro\", \"Fevereiro\", \"Mar\\u00e7o\", \"Abril\", \"Maio\"], \"y\": [1, 2, 3, 4, 5]}, {\"mode\": \"lines\", \"name\": \"Apenas linhas\", \"type\": \"scatter\", \"x\": [\"Janeiro\", \"Fevereiro\", \"Mar\\u00e7o\", \"Abril\", \"Maio\"], \"y\": [11, 12, 13, 14, 15]}, {\"mode\": \"markers+lines\", \"name\": \"Marcadores e Linhas\", \"type\": \"scatter\", \"x\": [\"Janeiro\", \"Fevereiro\", \"Mar\\u00e7o\", \"Abril\", \"Maio\"], \"y\": [6, 7, 8, 9, 10]}],\n",
       "                        {\"template\": {\"data\": {\"bar\": [{\"error_x\": {\"color\": \"#2a3f5f\"}, \"error_y\": {\"color\": \"#2a3f5f\"}, \"marker\": {\"line\": {\"color\": \"#E5ECF6\", \"width\": 0.5}}, \"type\": \"bar\"}], \"barpolar\": [{\"marker\": {\"line\": {\"color\": \"#E5ECF6\", \"width\": 0.5}}, \"type\": \"barpolar\"}], \"carpet\": [{\"aaxis\": {\"endlinecolor\": \"#2a3f5f\", \"gridcolor\": \"white\", \"linecolor\": \"white\", \"minorgridcolor\": \"white\", \"startlinecolor\": \"#2a3f5f\"}, \"baxis\": {\"endlinecolor\": \"#2a3f5f\", \"gridcolor\": \"white\", \"linecolor\": \"white\", \"minorgridcolor\": \"white\", \"startlinecolor\": \"#2a3f5f\"}, \"type\": \"carpet\"}], \"choropleth\": [{\"colorbar\": {\"outlinewidth\": 0, \"ticks\": \"\"}, \"type\": \"choropleth\"}], \"contour\": [{\"colorbar\": {\"outlinewidth\": 0, \"ticks\": \"\"}, \"colorscale\": [[0.0, \"#0d0887\"], [0.1111111111111111, \"#46039f\"], [0.2222222222222222, \"#7201a8\"], [0.3333333333333333, \"#9c179e\"], [0.4444444444444444, \"#bd3786\"], [0.5555555555555556, \"#d8576b\"], [0.6666666666666666, \"#ed7953\"], [0.7777777777777778, \"#fb9f3a\"], [0.8888888888888888, \"#fdca26\"], [1.0, \"#f0f921\"]], \"type\": \"contour\"}], \"contourcarpet\": [{\"colorbar\": {\"outlinewidth\": 0, \"ticks\": \"\"}, \"type\": \"contourcarpet\"}], \"heatmap\": [{\"colorbar\": {\"outlinewidth\": 0, \"ticks\": \"\"}, \"colorscale\": [[0.0, \"#0d0887\"], [0.1111111111111111, \"#46039f\"], [0.2222222222222222, \"#7201a8\"], [0.3333333333333333, \"#9c179e\"], [0.4444444444444444, \"#bd3786\"], [0.5555555555555556, \"#d8576b\"], [0.6666666666666666, \"#ed7953\"], [0.7777777777777778, \"#fb9f3a\"], [0.8888888888888888, \"#fdca26\"], [1.0, \"#f0f921\"]], \"type\": \"heatmap\"}], \"heatmapgl\": [{\"colorbar\": {\"outlinewidth\": 0, \"ticks\": \"\"}, \"colorscale\": [[0.0, \"#0d0887\"], [0.1111111111111111, \"#46039f\"], [0.2222222222222222, \"#7201a8\"], [0.3333333333333333, \"#9c179e\"], [0.4444444444444444, \"#bd3786\"], [0.5555555555555556, \"#d8576b\"], [0.6666666666666666, \"#ed7953\"], [0.7777777777777778, \"#fb9f3a\"], [0.8888888888888888, \"#fdca26\"], [1.0, \"#f0f921\"]], \"type\": \"heatmapgl\"}], \"histogram\": [{\"marker\": {\"colorbar\": {\"outlinewidth\": 0, \"ticks\": \"\"}}, \"type\": \"histogram\"}], \"histogram2d\": [{\"colorbar\": {\"outlinewidth\": 0, \"ticks\": \"\"}, \"colorscale\": [[0.0, \"#0d0887\"], [0.1111111111111111, \"#46039f\"], [0.2222222222222222, \"#7201a8\"], [0.3333333333333333, \"#9c179e\"], [0.4444444444444444, \"#bd3786\"], [0.5555555555555556, \"#d8576b\"], [0.6666666666666666, \"#ed7953\"], [0.7777777777777778, \"#fb9f3a\"], [0.8888888888888888, \"#fdca26\"], [1.0, \"#f0f921\"]], \"type\": \"histogram2d\"}], \"histogram2dcontour\": [{\"colorbar\": {\"outlinewidth\": 0, \"ticks\": \"\"}, \"colorscale\": [[0.0, \"#0d0887\"], [0.1111111111111111, \"#46039f\"], [0.2222222222222222, \"#7201a8\"], [0.3333333333333333, \"#9c179e\"], [0.4444444444444444, \"#bd3786\"], [0.5555555555555556, \"#d8576b\"], [0.6666666666666666, \"#ed7953\"], [0.7777777777777778, \"#fb9f3a\"], [0.8888888888888888, \"#fdca26\"], [1.0, \"#f0f921\"]], \"type\": \"histogram2dcontour\"}], \"mesh3d\": [{\"colorbar\": {\"outlinewidth\": 0, \"ticks\": \"\"}, \"type\": \"mesh3d\"}], \"parcoords\": [{\"line\": {\"colorbar\": {\"outlinewidth\": 0, \"ticks\": \"\"}}, \"type\": \"parcoords\"}], \"scatter\": [{\"marker\": {\"colorbar\": {\"outlinewidth\": 0, \"ticks\": \"\"}}, \"type\": \"scatter\"}], \"scatter3d\": [{\"line\": {\"colorbar\": {\"outlinewidth\": 0, \"ticks\": \"\"}}, \"marker\": {\"colorbar\": {\"outlinewidth\": 0, \"ticks\": \"\"}}, \"type\": \"scatter3d\"}], \"scattercarpet\": [{\"marker\": {\"colorbar\": {\"outlinewidth\": 0, \"ticks\": \"\"}}, \"type\": \"scattercarpet\"}], \"scattergeo\": [{\"marker\": {\"colorbar\": {\"outlinewidth\": 0, \"ticks\": \"\"}}, \"type\": \"scattergeo\"}], \"scattergl\": [{\"marker\": {\"colorbar\": {\"outlinewidth\": 0, \"ticks\": \"\"}}, \"type\": \"scattergl\"}], \"scattermapbox\": [{\"marker\": {\"colorbar\": {\"outlinewidth\": 0, \"ticks\": \"\"}}, \"type\": \"scattermapbox\"}], \"scatterpolar\": [{\"marker\": {\"colorbar\": {\"outlinewidth\": 0, \"ticks\": \"\"}}, \"type\": \"scatterpolar\"}], \"scatterpolargl\": [{\"marker\": {\"colorbar\": {\"outlinewidth\": 0, \"ticks\": \"\"}}, \"type\": \"scatterpolargl\"}], \"scatterternary\": [{\"marker\": {\"colorbar\": {\"outlinewidth\": 0, \"ticks\": \"\"}}, \"type\": \"scatterternary\"}], \"surface\": [{\"colorbar\": {\"outlinewidth\": 0, \"ticks\": \"\"}, \"colorscale\": [[0.0, \"#0d0887\"], [0.1111111111111111, \"#46039f\"], [0.2222222222222222, \"#7201a8\"], [0.3333333333333333, \"#9c179e\"], [0.4444444444444444, \"#bd3786\"], [0.5555555555555556, \"#d8576b\"], [0.6666666666666666, \"#ed7953\"], [0.7777777777777778, \"#fb9f3a\"], [0.8888888888888888, \"#fdca26\"], [1.0, \"#f0f921\"]], \"type\": \"surface\"}], \"table\": [{\"cells\": {\"fill\": {\"color\": \"#EBF0F8\"}, \"line\": {\"color\": \"white\"}}, \"header\": {\"fill\": {\"color\": \"#C8D4E3\"}, \"line\": {\"color\": \"white\"}}, \"type\": \"table\"}]}, \"layout\": {\"annotationdefaults\": {\"arrowcolor\": \"#2a3f5f\", \"arrowhead\": 0, \"arrowwidth\": 1}, \"colorscale\": {\"diverging\": [[0, \"#8e0152\"], [0.1, \"#c51b7d\"], [0.2, \"#de77ae\"], [0.3, \"#f1b6da\"], [0.4, \"#fde0ef\"], [0.5, \"#f7f7f7\"], [0.6, \"#e6f5d0\"], [0.7, \"#b8e186\"], [0.8, \"#7fbc41\"], [0.9, \"#4d9221\"], [1, \"#276419\"]], \"sequential\": [[0.0, \"#0d0887\"], [0.1111111111111111, \"#46039f\"], [0.2222222222222222, \"#7201a8\"], [0.3333333333333333, \"#9c179e\"], [0.4444444444444444, \"#bd3786\"], [0.5555555555555556, \"#d8576b\"], [0.6666666666666666, \"#ed7953\"], [0.7777777777777778, \"#fb9f3a\"], [0.8888888888888888, \"#fdca26\"], [1.0, \"#f0f921\"]], \"sequentialminus\": [[0.0, \"#0d0887\"], [0.1111111111111111, \"#46039f\"], [0.2222222222222222, \"#7201a8\"], [0.3333333333333333, \"#9c179e\"], [0.4444444444444444, \"#bd3786\"], [0.5555555555555556, \"#d8576b\"], [0.6666666666666666, \"#ed7953\"], [0.7777777777777778, \"#fb9f3a\"], [0.8888888888888888, \"#fdca26\"], [1.0, \"#f0f921\"]]}, \"colorway\": [\"#636efa\", \"#EF553B\", \"#00cc96\", \"#ab63fa\", \"#FFA15A\", \"#19d3f3\", \"#FF6692\", \"#B6E880\", \"#FF97FF\", \"#FECB52\"], \"font\": {\"color\": \"#2a3f5f\"}, \"geo\": {\"bgcolor\": \"white\", \"lakecolor\": \"white\", \"landcolor\": \"#E5ECF6\", \"showlakes\": true, \"showland\": true, \"subunitcolor\": \"white\"}, \"hoverlabel\": {\"align\": \"left\"}, \"hovermode\": \"closest\", \"mapbox\": {\"style\": \"light\"}, \"paper_bgcolor\": \"white\", \"plot_bgcolor\": \"#E5ECF6\", \"polar\": {\"angularaxis\": {\"gridcolor\": \"white\", \"linecolor\": \"white\", \"ticks\": \"\"}, \"bgcolor\": \"#E5ECF6\", \"radialaxis\": {\"gridcolor\": \"white\", \"linecolor\": \"white\", \"ticks\": \"\"}}, \"scene\": {\"xaxis\": {\"backgroundcolor\": \"#E5ECF6\", \"gridcolor\": \"white\", \"gridwidth\": 2, \"linecolor\": \"white\", \"showbackground\": true, \"ticks\": \"\", \"zerolinecolor\": \"white\"}, \"yaxis\": {\"backgroundcolor\": \"#E5ECF6\", \"gridcolor\": \"white\", \"gridwidth\": 2, \"linecolor\": \"white\", \"showbackground\": true, \"ticks\": \"\", \"zerolinecolor\": \"white\"}, \"zaxis\": {\"backgroundcolor\": \"#E5ECF6\", \"gridcolor\": \"white\", \"gridwidth\": 2, \"linecolor\": \"white\", \"showbackground\": true, \"ticks\": \"\", \"zerolinecolor\": \"white\"}}, \"shapedefaults\": {\"line\": {\"color\": \"#2a3f5f\"}}, \"ternary\": {\"aaxis\": {\"gridcolor\": \"white\", \"linecolor\": \"white\", \"ticks\": \"\"}, \"baxis\": {\"gridcolor\": \"white\", \"linecolor\": \"white\", \"ticks\": \"\"}, \"bgcolor\": \"#E5ECF6\", \"caxis\": {\"gridcolor\": \"white\", \"linecolor\": \"white\", \"ticks\": \"\"}}, \"title\": {\"x\": 0.05}, \"xaxis\": {\"automargin\": true, \"gridcolor\": \"white\", \"linecolor\": \"white\", \"ticks\": \"\", \"zerolinecolor\": \"white\", \"zerolinewidth\": 2}, \"yaxis\": {\"automargin\": true, \"gridcolor\": \"white\", \"linecolor\": \"white\", \"ticks\": \"\", \"zerolinecolor\": \"white\", \"zerolinewidth\": 2}}}},\n",
       "                        {\"responsive\": true}\n",
       "                    ).then(function(){\n",
       "                            \n",
       "var gd = document.getElementById('f228d396-02f0-4c6e-a688-f68d136d55e7');\n",
       "var x = new MutationObserver(function (mutations, observer) {{\n",
       "        var display = window.getComputedStyle(gd).display;\n",
       "        if (!display || display === 'none') {{\n",
       "            console.log([gd, 'removed!']);\n",
       "            Plotly.purge(gd);\n",
       "            observer.disconnect();\n",
       "        }}\n",
       "}});\n",
       "\n",
       "// Listen for the removal of the full notebook cells\n",
       "var notebookContainer = gd.closest('#notebook-container');\n",
       "if (notebookContainer) {{\n",
       "    x.observe(notebookContainer, {childList: true});\n",
       "}}\n",
       "\n",
       "// Listen for the clearing of the current output cell\n",
       "var outputEl = gd.closest('.output');\n",
       "if (outputEl) {{\n",
       "    x.observe(outputEl, {childList: true});\n",
       "}}\n",
       "\n",
       "                        })\n",
       "                };\n",
       "                });\n",
       "            </script>\n",
       "        </div>"
      ]
     },
     "metadata": {},
     "output_type": "display_data"
    }
   ],
   "source": [
    "\n",
    "\n",
    "# Gráfico usando apenas marcadores\n",
    "trace1 = go.Scatter(x = ['Janeiro', 'Fevereiro', 'Março', 'Abril', 'Maio'],\n",
    "                    y = [1, 2, 3, 4, 5],\n",
    "                    mode = 'markers',\n",
    "                    name = 'Apenas marcadores')\n",
    "# Gráfico de apenas linhas\n",
    "trace2 = go.Scatter(x = ['Janeiro', 'Fevereiro', 'Março', 'Abril', 'Maio'],\n",
    "                    y = [11, 12, 13, 14, 15],\n",
    "                    mode = 'lines',\n",
    "                    name = 'Apenas linhas')\n",
    "# Criando gráfico com marcadores e linhas\n",
    "trace3 = go.Scatter(x = ['Janeiro', 'Fevereiro', 'Março', 'Abril', 'Maio'],\n",
    "                    y = [6, 7, 8, 9, 10],\n",
    "                    mode = 'markers+lines',\n",
    "                    name = 'Marcadores e Linhas')\n",
    "data = [trace1, trace2, trace3]\n",
    "py.iplot(data)"
   ]
  },
  {
   "cell_type": "markdown",
   "metadata": {},
   "source": [
    "Maneiro, né? Assim como podemos mudar o modo como os pontos são conectados, podemos mudar até o tracejado das linhas. Dá uma olhada:"
   ]
  },
  {
   "cell_type": "code",
   "execution_count": 32,
   "metadata": {},
   "outputs": [
    {
     "data": {
      "application/vnd.plotly.v1+json": {
       "config": {
        "linkText": "Export to plot.ly",
        "plotlyServerURL": "https://plot.ly",
        "showLink": false
       },
       "data": [
        {
         "line": {
          "color": "#ee5253",
          "dash": "dash"
         },
         "mode": "lines",
         "name": "Gráfico com linhas tracejadas",
         "type": "scatter",
         "x": [
          "Janeiro",
          "Fevereiro",
          "Março",
          "Abril",
          "Maio"
         ],
         "y": [
          10,
          9,
          11,
          8,
          12
         ]
        },
        {
         "line": {
          "color": "#341f97",
          "dash": "dot"
         },
         "mode": "lines",
         "name": "Gráfico com linha pontilhada",
         "type": "scatter",
         "x": [
          "Janeiro",
          "Fevereiro",
          "Março",
          "Abril",
          "Maio"
         ],
         "y": [
          11,
          12,
          13,
          14,
          15
         ]
        }
       ],
       "layout": {
        "template": {
         "data": {
          "bar": [
           {
            "error_x": {
             "color": "#2a3f5f"
            },
            "error_y": {
             "color": "#2a3f5f"
            },
            "marker": {
             "line": {
              "color": "#E5ECF6",
              "width": 0.5
             }
            },
            "type": "bar"
           }
          ],
          "barpolar": [
           {
            "marker": {
             "line": {
              "color": "#E5ECF6",
              "width": 0.5
             }
            },
            "type": "barpolar"
           }
          ],
          "carpet": [
           {
            "aaxis": {
             "endlinecolor": "#2a3f5f",
             "gridcolor": "white",
             "linecolor": "white",
             "minorgridcolor": "white",
             "startlinecolor": "#2a3f5f"
            },
            "baxis": {
             "endlinecolor": "#2a3f5f",
             "gridcolor": "white",
             "linecolor": "white",
             "minorgridcolor": "white",
             "startlinecolor": "#2a3f5f"
            },
            "type": "carpet"
           }
          ],
          "choropleth": [
           {
            "colorbar": {
             "outlinewidth": 0,
             "ticks": ""
            },
            "type": "choropleth"
           }
          ],
          "contour": [
           {
            "colorbar": {
             "outlinewidth": 0,
             "ticks": ""
            },
            "colorscale": [
             [
              0,
              "#0d0887"
             ],
             [
              0.1111111111111111,
              "#46039f"
             ],
             [
              0.2222222222222222,
              "#7201a8"
             ],
             [
              0.3333333333333333,
              "#9c179e"
             ],
             [
              0.4444444444444444,
              "#bd3786"
             ],
             [
              0.5555555555555556,
              "#d8576b"
             ],
             [
              0.6666666666666666,
              "#ed7953"
             ],
             [
              0.7777777777777778,
              "#fb9f3a"
             ],
             [
              0.8888888888888888,
              "#fdca26"
             ],
             [
              1,
              "#f0f921"
             ]
            ],
            "type": "contour"
           }
          ],
          "contourcarpet": [
           {
            "colorbar": {
             "outlinewidth": 0,
             "ticks": ""
            },
            "type": "contourcarpet"
           }
          ],
          "heatmap": [
           {
            "colorbar": {
             "outlinewidth": 0,
             "ticks": ""
            },
            "colorscale": [
             [
              0,
              "#0d0887"
             ],
             [
              0.1111111111111111,
              "#46039f"
             ],
             [
              0.2222222222222222,
              "#7201a8"
             ],
             [
              0.3333333333333333,
              "#9c179e"
             ],
             [
              0.4444444444444444,
              "#bd3786"
             ],
             [
              0.5555555555555556,
              "#d8576b"
             ],
             [
              0.6666666666666666,
              "#ed7953"
             ],
             [
              0.7777777777777778,
              "#fb9f3a"
             ],
             [
              0.8888888888888888,
              "#fdca26"
             ],
             [
              1,
              "#f0f921"
             ]
            ],
            "type": "heatmap"
           }
          ],
          "heatmapgl": [
           {
            "colorbar": {
             "outlinewidth": 0,
             "ticks": ""
            },
            "colorscale": [
             [
              0,
              "#0d0887"
             ],
             [
              0.1111111111111111,
              "#46039f"
             ],
             [
              0.2222222222222222,
              "#7201a8"
             ],
             [
              0.3333333333333333,
              "#9c179e"
             ],
             [
              0.4444444444444444,
              "#bd3786"
             ],
             [
              0.5555555555555556,
              "#d8576b"
             ],
             [
              0.6666666666666666,
              "#ed7953"
             ],
             [
              0.7777777777777778,
              "#fb9f3a"
             ],
             [
              0.8888888888888888,
              "#fdca26"
             ],
             [
              1,
              "#f0f921"
             ]
            ],
            "type": "heatmapgl"
           }
          ],
          "histogram": [
           {
            "marker": {
             "colorbar": {
              "outlinewidth": 0,
              "ticks": ""
             }
            },
            "type": "histogram"
           }
          ],
          "histogram2d": [
           {
            "colorbar": {
             "outlinewidth": 0,
             "ticks": ""
            },
            "colorscale": [
             [
              0,
              "#0d0887"
             ],
             [
              0.1111111111111111,
              "#46039f"
             ],
             [
              0.2222222222222222,
              "#7201a8"
             ],
             [
              0.3333333333333333,
              "#9c179e"
             ],
             [
              0.4444444444444444,
              "#bd3786"
             ],
             [
              0.5555555555555556,
              "#d8576b"
             ],
             [
              0.6666666666666666,
              "#ed7953"
             ],
             [
              0.7777777777777778,
              "#fb9f3a"
             ],
             [
              0.8888888888888888,
              "#fdca26"
             ],
             [
              1,
              "#f0f921"
             ]
            ],
            "type": "histogram2d"
           }
          ],
          "histogram2dcontour": [
           {
            "colorbar": {
             "outlinewidth": 0,
             "ticks": ""
            },
            "colorscale": [
             [
              0,
              "#0d0887"
             ],
             [
              0.1111111111111111,
              "#46039f"
             ],
             [
              0.2222222222222222,
              "#7201a8"
             ],
             [
              0.3333333333333333,
              "#9c179e"
             ],
             [
              0.4444444444444444,
              "#bd3786"
             ],
             [
              0.5555555555555556,
              "#d8576b"
             ],
             [
              0.6666666666666666,
              "#ed7953"
             ],
             [
              0.7777777777777778,
              "#fb9f3a"
             ],
             [
              0.8888888888888888,
              "#fdca26"
             ],
             [
              1,
              "#f0f921"
             ]
            ],
            "type": "histogram2dcontour"
           }
          ],
          "mesh3d": [
           {
            "colorbar": {
             "outlinewidth": 0,
             "ticks": ""
            },
            "type": "mesh3d"
           }
          ],
          "parcoords": [
           {
            "line": {
             "colorbar": {
              "outlinewidth": 0,
              "ticks": ""
             }
            },
            "type": "parcoords"
           }
          ],
          "scatter": [
           {
            "marker": {
             "colorbar": {
              "outlinewidth": 0,
              "ticks": ""
             }
            },
            "type": "scatter"
           }
          ],
          "scatter3d": [
           {
            "line": {
             "colorbar": {
              "outlinewidth": 0,
              "ticks": ""
             }
            },
            "marker": {
             "colorbar": {
              "outlinewidth": 0,
              "ticks": ""
             }
            },
            "type": "scatter3d"
           }
          ],
          "scattercarpet": [
           {
            "marker": {
             "colorbar": {
              "outlinewidth": 0,
              "ticks": ""
             }
            },
            "type": "scattercarpet"
           }
          ],
          "scattergeo": [
           {
            "marker": {
             "colorbar": {
              "outlinewidth": 0,
              "ticks": ""
             }
            },
            "type": "scattergeo"
           }
          ],
          "scattergl": [
           {
            "marker": {
             "colorbar": {
              "outlinewidth": 0,
              "ticks": ""
             }
            },
            "type": "scattergl"
           }
          ],
          "scattermapbox": [
           {
            "marker": {
             "colorbar": {
              "outlinewidth": 0,
              "ticks": ""
             }
            },
            "type": "scattermapbox"
           }
          ],
          "scatterpolar": [
           {
            "marker": {
             "colorbar": {
              "outlinewidth": 0,
              "ticks": ""
             }
            },
            "type": "scatterpolar"
           }
          ],
          "scatterpolargl": [
           {
            "marker": {
             "colorbar": {
              "outlinewidth": 0,
              "ticks": ""
             }
            },
            "type": "scatterpolargl"
           }
          ],
          "scatterternary": [
           {
            "marker": {
             "colorbar": {
              "outlinewidth": 0,
              "ticks": ""
             }
            },
            "type": "scatterternary"
           }
          ],
          "surface": [
           {
            "colorbar": {
             "outlinewidth": 0,
             "ticks": ""
            },
            "colorscale": [
             [
              0,
              "#0d0887"
             ],
             [
              0.1111111111111111,
              "#46039f"
             ],
             [
              0.2222222222222222,
              "#7201a8"
             ],
             [
              0.3333333333333333,
              "#9c179e"
             ],
             [
              0.4444444444444444,
              "#bd3786"
             ],
             [
              0.5555555555555556,
              "#d8576b"
             ],
             [
              0.6666666666666666,
              "#ed7953"
             ],
             [
              0.7777777777777778,
              "#fb9f3a"
             ],
             [
              0.8888888888888888,
              "#fdca26"
             ],
             [
              1,
              "#f0f921"
             ]
            ],
            "type": "surface"
           }
          ],
          "table": [
           {
            "cells": {
             "fill": {
              "color": "#EBF0F8"
             },
             "line": {
              "color": "white"
             }
            },
            "header": {
             "fill": {
              "color": "#C8D4E3"
             },
             "line": {
              "color": "white"
             }
            },
            "type": "table"
           }
          ]
         },
         "layout": {
          "annotationdefaults": {
           "arrowcolor": "#2a3f5f",
           "arrowhead": 0,
           "arrowwidth": 1
          },
          "colorscale": {
           "diverging": [
            [
             0,
             "#8e0152"
            ],
            [
             0.1,
             "#c51b7d"
            ],
            [
             0.2,
             "#de77ae"
            ],
            [
             0.3,
             "#f1b6da"
            ],
            [
             0.4,
             "#fde0ef"
            ],
            [
             0.5,
             "#f7f7f7"
            ],
            [
             0.6,
             "#e6f5d0"
            ],
            [
             0.7,
             "#b8e186"
            ],
            [
             0.8,
             "#7fbc41"
            ],
            [
             0.9,
             "#4d9221"
            ],
            [
             1,
             "#276419"
            ]
           ],
           "sequential": [
            [
             0,
             "#0d0887"
            ],
            [
             0.1111111111111111,
             "#46039f"
            ],
            [
             0.2222222222222222,
             "#7201a8"
            ],
            [
             0.3333333333333333,
             "#9c179e"
            ],
            [
             0.4444444444444444,
             "#bd3786"
            ],
            [
             0.5555555555555556,
             "#d8576b"
            ],
            [
             0.6666666666666666,
             "#ed7953"
            ],
            [
             0.7777777777777778,
             "#fb9f3a"
            ],
            [
             0.8888888888888888,
             "#fdca26"
            ],
            [
             1,
             "#f0f921"
            ]
           ],
           "sequentialminus": [
            [
             0,
             "#0d0887"
            ],
            [
             0.1111111111111111,
             "#46039f"
            ],
            [
             0.2222222222222222,
             "#7201a8"
            ],
            [
             0.3333333333333333,
             "#9c179e"
            ],
            [
             0.4444444444444444,
             "#bd3786"
            ],
            [
             0.5555555555555556,
             "#d8576b"
            ],
            [
             0.6666666666666666,
             "#ed7953"
            ],
            [
             0.7777777777777778,
             "#fb9f3a"
            ],
            [
             0.8888888888888888,
             "#fdca26"
            ],
            [
             1,
             "#f0f921"
            ]
           ]
          },
          "colorway": [
           "#636efa",
           "#EF553B",
           "#00cc96",
           "#ab63fa",
           "#FFA15A",
           "#19d3f3",
           "#FF6692",
           "#B6E880",
           "#FF97FF",
           "#FECB52"
          ],
          "font": {
           "color": "#2a3f5f"
          },
          "geo": {
           "bgcolor": "white",
           "lakecolor": "white",
           "landcolor": "#E5ECF6",
           "showlakes": true,
           "showland": true,
           "subunitcolor": "white"
          },
          "hoverlabel": {
           "align": "left"
          },
          "hovermode": "closest",
          "mapbox": {
           "style": "light"
          },
          "paper_bgcolor": "white",
          "plot_bgcolor": "#E5ECF6",
          "polar": {
           "angularaxis": {
            "gridcolor": "white",
            "linecolor": "white",
            "ticks": ""
           },
           "bgcolor": "#E5ECF6",
           "radialaxis": {
            "gridcolor": "white",
            "linecolor": "white",
            "ticks": ""
           }
          },
          "scene": {
           "xaxis": {
            "backgroundcolor": "#E5ECF6",
            "gridcolor": "white",
            "gridwidth": 2,
            "linecolor": "white",
            "showbackground": true,
            "ticks": "",
            "zerolinecolor": "white"
           },
           "yaxis": {
            "backgroundcolor": "#E5ECF6",
            "gridcolor": "white",
            "gridwidth": 2,
            "linecolor": "white",
            "showbackground": true,
            "ticks": "",
            "zerolinecolor": "white"
           },
           "zaxis": {
            "backgroundcolor": "#E5ECF6",
            "gridcolor": "white",
            "gridwidth": 2,
            "linecolor": "white",
            "showbackground": true,
            "ticks": "",
            "zerolinecolor": "white"
           }
          },
          "shapedefaults": {
           "line": {
            "color": "#2a3f5f"
           }
          },
          "ternary": {
           "aaxis": {
            "gridcolor": "white",
            "linecolor": "white",
            "ticks": ""
           },
           "baxis": {
            "gridcolor": "white",
            "linecolor": "white",
            "ticks": ""
           },
           "bgcolor": "#E5ECF6",
           "caxis": {
            "gridcolor": "white",
            "linecolor": "white",
            "ticks": ""
           }
          },
          "title": {
           "x": 0.05
          },
          "xaxis": {
           "automargin": true,
           "gridcolor": "white",
           "linecolor": "white",
           "ticks": "",
           "zerolinecolor": "white",
           "zerolinewidth": 2
          },
          "yaxis": {
           "automargin": true,
           "gridcolor": "white",
           "linecolor": "white",
           "ticks": "",
           "zerolinecolor": "white",
           "zerolinewidth": 2
          }
         }
        }
       }
      },
      "text/html": [
       "<div>\n",
       "        \n",
       "        \n",
       "            <div id=\"1f50c206-bdbe-4734-b15a-4beebc2fae89\" class=\"plotly-graph-div\" style=\"height:525px; width:100%;\"></div>\n",
       "            <script type=\"text/javascript\">\n",
       "                require([\"plotly\"], function(Plotly) {\n",
       "                    window.PLOTLYENV=window.PLOTLYENV || {};\n",
       "                    \n",
       "                if (document.getElementById(\"1f50c206-bdbe-4734-b15a-4beebc2fae89\")) {\n",
       "                    Plotly.newPlot(\n",
       "                        '1f50c206-bdbe-4734-b15a-4beebc2fae89',\n",
       "                        [{\"line\": {\"color\": \"#ee5253\", \"dash\": \"dash\"}, \"mode\": \"lines\", \"name\": \"Gr\\u00e1fico com linhas tracejadas\", \"type\": \"scatter\", \"x\": [\"Janeiro\", \"Fevereiro\", \"Mar\\u00e7o\", \"Abril\", \"Maio\"], \"y\": [10, 9, 11, 8, 12]}, {\"line\": {\"color\": \"#341f97\", \"dash\": \"dot\"}, \"mode\": \"lines\", \"name\": \"Gr\\u00e1fico com linha pontilhada\", \"type\": \"scatter\", \"x\": [\"Janeiro\", \"Fevereiro\", \"Mar\\u00e7o\", \"Abril\", \"Maio\"], \"y\": [11, 12, 13, 14, 15]}],\n",
       "                        {\"template\": {\"data\": {\"bar\": [{\"error_x\": {\"color\": \"#2a3f5f\"}, \"error_y\": {\"color\": \"#2a3f5f\"}, \"marker\": {\"line\": {\"color\": \"#E5ECF6\", \"width\": 0.5}}, \"type\": \"bar\"}], \"barpolar\": [{\"marker\": {\"line\": {\"color\": \"#E5ECF6\", \"width\": 0.5}}, \"type\": \"barpolar\"}], \"carpet\": [{\"aaxis\": {\"endlinecolor\": \"#2a3f5f\", \"gridcolor\": \"white\", \"linecolor\": \"white\", \"minorgridcolor\": \"white\", \"startlinecolor\": \"#2a3f5f\"}, \"baxis\": {\"endlinecolor\": \"#2a3f5f\", \"gridcolor\": \"white\", \"linecolor\": \"white\", \"minorgridcolor\": \"white\", \"startlinecolor\": \"#2a3f5f\"}, \"type\": \"carpet\"}], \"choropleth\": [{\"colorbar\": {\"outlinewidth\": 0, \"ticks\": \"\"}, \"type\": \"choropleth\"}], \"contour\": [{\"colorbar\": {\"outlinewidth\": 0, \"ticks\": \"\"}, \"colorscale\": [[0.0, \"#0d0887\"], [0.1111111111111111, \"#46039f\"], [0.2222222222222222, \"#7201a8\"], [0.3333333333333333, \"#9c179e\"], [0.4444444444444444, \"#bd3786\"], [0.5555555555555556, \"#d8576b\"], [0.6666666666666666, \"#ed7953\"], [0.7777777777777778, \"#fb9f3a\"], [0.8888888888888888, \"#fdca26\"], [1.0, \"#f0f921\"]], \"type\": \"contour\"}], \"contourcarpet\": [{\"colorbar\": {\"outlinewidth\": 0, \"ticks\": \"\"}, \"type\": \"contourcarpet\"}], \"heatmap\": [{\"colorbar\": {\"outlinewidth\": 0, \"ticks\": \"\"}, \"colorscale\": [[0.0, \"#0d0887\"], [0.1111111111111111, \"#46039f\"], [0.2222222222222222, \"#7201a8\"], [0.3333333333333333, \"#9c179e\"], [0.4444444444444444, \"#bd3786\"], [0.5555555555555556, \"#d8576b\"], [0.6666666666666666, \"#ed7953\"], [0.7777777777777778, \"#fb9f3a\"], [0.8888888888888888, \"#fdca26\"], [1.0, \"#f0f921\"]], \"type\": \"heatmap\"}], \"heatmapgl\": [{\"colorbar\": {\"outlinewidth\": 0, \"ticks\": \"\"}, \"colorscale\": [[0.0, \"#0d0887\"], [0.1111111111111111, \"#46039f\"], [0.2222222222222222, \"#7201a8\"], [0.3333333333333333, \"#9c179e\"], [0.4444444444444444, \"#bd3786\"], [0.5555555555555556, \"#d8576b\"], [0.6666666666666666, \"#ed7953\"], [0.7777777777777778, \"#fb9f3a\"], [0.8888888888888888, \"#fdca26\"], [1.0, \"#f0f921\"]], \"type\": \"heatmapgl\"}], \"histogram\": [{\"marker\": {\"colorbar\": {\"outlinewidth\": 0, \"ticks\": \"\"}}, \"type\": \"histogram\"}], \"histogram2d\": [{\"colorbar\": {\"outlinewidth\": 0, \"ticks\": \"\"}, \"colorscale\": [[0.0, \"#0d0887\"], [0.1111111111111111, \"#46039f\"], [0.2222222222222222, \"#7201a8\"], [0.3333333333333333, \"#9c179e\"], [0.4444444444444444, \"#bd3786\"], [0.5555555555555556, \"#d8576b\"], [0.6666666666666666, \"#ed7953\"], [0.7777777777777778, \"#fb9f3a\"], [0.8888888888888888, \"#fdca26\"], [1.0, \"#f0f921\"]], \"type\": \"histogram2d\"}], \"histogram2dcontour\": [{\"colorbar\": {\"outlinewidth\": 0, \"ticks\": \"\"}, \"colorscale\": [[0.0, \"#0d0887\"], [0.1111111111111111, \"#46039f\"], [0.2222222222222222, \"#7201a8\"], [0.3333333333333333, \"#9c179e\"], [0.4444444444444444, \"#bd3786\"], [0.5555555555555556, \"#d8576b\"], [0.6666666666666666, \"#ed7953\"], [0.7777777777777778, \"#fb9f3a\"], [0.8888888888888888, \"#fdca26\"], [1.0, \"#f0f921\"]], \"type\": \"histogram2dcontour\"}], \"mesh3d\": [{\"colorbar\": {\"outlinewidth\": 0, \"ticks\": \"\"}, \"type\": \"mesh3d\"}], \"parcoords\": [{\"line\": {\"colorbar\": {\"outlinewidth\": 0, \"ticks\": \"\"}}, \"type\": \"parcoords\"}], \"scatter\": [{\"marker\": {\"colorbar\": {\"outlinewidth\": 0, \"ticks\": \"\"}}, \"type\": \"scatter\"}], \"scatter3d\": [{\"line\": {\"colorbar\": {\"outlinewidth\": 0, \"ticks\": \"\"}}, \"marker\": {\"colorbar\": {\"outlinewidth\": 0, \"ticks\": \"\"}}, \"type\": \"scatter3d\"}], \"scattercarpet\": [{\"marker\": {\"colorbar\": {\"outlinewidth\": 0, \"ticks\": \"\"}}, \"type\": \"scattercarpet\"}], \"scattergeo\": [{\"marker\": {\"colorbar\": {\"outlinewidth\": 0, \"ticks\": \"\"}}, \"type\": \"scattergeo\"}], \"scattergl\": [{\"marker\": {\"colorbar\": {\"outlinewidth\": 0, \"ticks\": \"\"}}, \"type\": \"scattergl\"}], \"scattermapbox\": [{\"marker\": {\"colorbar\": {\"outlinewidth\": 0, \"ticks\": \"\"}}, \"type\": \"scattermapbox\"}], \"scatterpolar\": [{\"marker\": {\"colorbar\": {\"outlinewidth\": 0, \"ticks\": \"\"}}, \"type\": \"scatterpolar\"}], \"scatterpolargl\": [{\"marker\": {\"colorbar\": {\"outlinewidth\": 0, \"ticks\": \"\"}}, \"type\": \"scatterpolargl\"}], \"scatterternary\": [{\"marker\": {\"colorbar\": {\"outlinewidth\": 0, \"ticks\": \"\"}}, \"type\": \"scatterternary\"}], \"surface\": [{\"colorbar\": {\"outlinewidth\": 0, \"ticks\": \"\"}, \"colorscale\": [[0.0, \"#0d0887\"], [0.1111111111111111, \"#46039f\"], [0.2222222222222222, \"#7201a8\"], [0.3333333333333333, \"#9c179e\"], [0.4444444444444444, \"#bd3786\"], [0.5555555555555556, \"#d8576b\"], [0.6666666666666666, \"#ed7953\"], [0.7777777777777778, \"#fb9f3a\"], [0.8888888888888888, \"#fdca26\"], [1.0, \"#f0f921\"]], \"type\": \"surface\"}], \"table\": [{\"cells\": {\"fill\": {\"color\": \"#EBF0F8\"}, \"line\": {\"color\": \"white\"}}, \"header\": {\"fill\": {\"color\": \"#C8D4E3\"}, \"line\": {\"color\": \"white\"}}, \"type\": \"table\"}]}, \"layout\": {\"annotationdefaults\": {\"arrowcolor\": \"#2a3f5f\", \"arrowhead\": 0, \"arrowwidth\": 1}, \"colorscale\": {\"diverging\": [[0, \"#8e0152\"], [0.1, \"#c51b7d\"], [0.2, \"#de77ae\"], [0.3, \"#f1b6da\"], [0.4, \"#fde0ef\"], [0.5, \"#f7f7f7\"], [0.6, \"#e6f5d0\"], [0.7, \"#b8e186\"], [0.8, \"#7fbc41\"], [0.9, \"#4d9221\"], [1, \"#276419\"]], \"sequential\": [[0.0, \"#0d0887\"], [0.1111111111111111, \"#46039f\"], [0.2222222222222222, \"#7201a8\"], [0.3333333333333333, \"#9c179e\"], [0.4444444444444444, \"#bd3786\"], [0.5555555555555556, \"#d8576b\"], [0.6666666666666666, \"#ed7953\"], [0.7777777777777778, \"#fb9f3a\"], [0.8888888888888888, \"#fdca26\"], [1.0, \"#f0f921\"]], \"sequentialminus\": [[0.0, \"#0d0887\"], [0.1111111111111111, \"#46039f\"], [0.2222222222222222, \"#7201a8\"], [0.3333333333333333, \"#9c179e\"], [0.4444444444444444, \"#bd3786\"], [0.5555555555555556, \"#d8576b\"], [0.6666666666666666, \"#ed7953\"], [0.7777777777777778, \"#fb9f3a\"], [0.8888888888888888, \"#fdca26\"], [1.0, \"#f0f921\"]]}, \"colorway\": [\"#636efa\", \"#EF553B\", \"#00cc96\", \"#ab63fa\", \"#FFA15A\", \"#19d3f3\", \"#FF6692\", \"#B6E880\", \"#FF97FF\", \"#FECB52\"], \"font\": {\"color\": \"#2a3f5f\"}, \"geo\": {\"bgcolor\": \"white\", \"lakecolor\": \"white\", \"landcolor\": \"#E5ECF6\", \"showlakes\": true, \"showland\": true, \"subunitcolor\": \"white\"}, \"hoverlabel\": {\"align\": \"left\"}, \"hovermode\": \"closest\", \"mapbox\": {\"style\": \"light\"}, \"paper_bgcolor\": \"white\", \"plot_bgcolor\": \"#E5ECF6\", \"polar\": {\"angularaxis\": {\"gridcolor\": \"white\", \"linecolor\": \"white\", \"ticks\": \"\"}, \"bgcolor\": \"#E5ECF6\", \"radialaxis\": {\"gridcolor\": \"white\", \"linecolor\": \"white\", \"ticks\": \"\"}}, \"scene\": {\"xaxis\": {\"backgroundcolor\": \"#E5ECF6\", \"gridcolor\": \"white\", \"gridwidth\": 2, \"linecolor\": \"white\", \"showbackground\": true, \"ticks\": \"\", \"zerolinecolor\": \"white\"}, \"yaxis\": {\"backgroundcolor\": \"#E5ECF6\", \"gridcolor\": \"white\", \"gridwidth\": 2, \"linecolor\": \"white\", \"showbackground\": true, \"ticks\": \"\", \"zerolinecolor\": \"white\"}, \"zaxis\": {\"backgroundcolor\": \"#E5ECF6\", \"gridcolor\": \"white\", \"gridwidth\": 2, \"linecolor\": \"white\", \"showbackground\": true, \"ticks\": \"\", \"zerolinecolor\": \"white\"}}, \"shapedefaults\": {\"line\": {\"color\": \"#2a3f5f\"}}, \"ternary\": {\"aaxis\": {\"gridcolor\": \"white\", \"linecolor\": \"white\", \"ticks\": \"\"}, \"baxis\": {\"gridcolor\": \"white\", \"linecolor\": \"white\", \"ticks\": \"\"}, \"bgcolor\": \"#E5ECF6\", \"caxis\": {\"gridcolor\": \"white\", \"linecolor\": \"white\", \"ticks\": \"\"}}, \"title\": {\"x\": 0.05}, \"xaxis\": {\"automargin\": true, \"gridcolor\": \"white\", \"linecolor\": \"white\", \"ticks\": \"\", \"zerolinecolor\": \"white\", \"zerolinewidth\": 2}, \"yaxis\": {\"automargin\": true, \"gridcolor\": \"white\", \"linecolor\": \"white\", \"ticks\": \"\", \"zerolinecolor\": \"white\", \"zerolinewidth\": 2}}}},\n",
       "                        {\"responsive\": true}\n",
       "                    ).then(function(){\n",
       "                            \n",
       "var gd = document.getElementById('1f50c206-bdbe-4734-b15a-4beebc2fae89');\n",
       "var x = new MutationObserver(function (mutations, observer) {{\n",
       "        var display = window.getComputedStyle(gd).display;\n",
       "        if (!display || display === 'none') {{\n",
       "            console.log([gd, 'removed!']);\n",
       "            Plotly.purge(gd);\n",
       "            observer.disconnect();\n",
       "        }}\n",
       "}});\n",
       "\n",
       "// Listen for the removal of the full notebook cells\n",
       "var notebookContainer = gd.closest('#notebook-container');\n",
       "if (notebookContainer) {{\n",
       "    x.observe(notebookContainer, {childList: true});\n",
       "}}\n",
       "\n",
       "// Listen for the clearing of the current output cell\n",
       "var outputEl = gd.closest('.output');\n",
       "if (outputEl) {{\n",
       "    x.observe(outputEl, {childList: true});\n",
       "}}\n",
       "\n",
       "                        })\n",
       "                };\n",
       "                });\n",
       "            </script>\n",
       "        </div>"
      ]
     },
     "metadata": {},
     "output_type": "display_data"
    }
   ],
   "source": [
    "# Gráfico usando apenas marcadores\n",
    "trace1 = go.Scatter(x = ['Janeiro', 'Fevereiro', 'Março', 'Abril', 'Maio'],\n",
    "                    y = [10, 9, 11, 8, 12],\n",
    "                    mode = 'lines',\n",
    "                    name = 'Gráfico com linhas tracejadas',\n",
    "                    line = {'color': '#ee5253',\n",
    "                            'dash': 'dash'})\n",
    "# Gráfico de apenas linhas\n",
    "trace2 = go.Scatter(x = ['Janeiro', 'Fevereiro', 'Março', 'Abril', 'Maio'],\n",
    "                    y = [11, 12, 13, 14, 15],\n",
    "                    mode = 'lines',\n",
    "                    name = 'Gráfico com linha pontilhada',\n",
    "                    line = {'color': '#341f97',\n",
    "                            'dash': 'dot'})\n",
    "data = [trace1, trace2]\n",
    "py.iplot(data)"
   ]
  },
  {
   "cell_type": "markdown",
   "metadata": {},
   "source": [
    "Poderia ficar o dia todo aqui falando sobre as customizações do Plotly — mas não vou — , mas vou deixar aqui a documentação da função go.Scatter() e essa página bem didática do Plotly sobre gráficos de linha."
   ]
  },
  {
   "cell_type": "markdown",
   "metadata": {},
   "source": [
    "##### Criando gráfico de barras\n",
    "Igual gráfico de linhas, só que com barras\n",
    "Você irá perceber que poucas coisas mudam de um gráfico para outro. Para criar um gráfico de barras no Plotly, usaremos a função go.Bar()."
   ]
  },
  {
   "cell_type": "code",
   "execution_count": null,
   "metadata": {},
   "outputs": [],
   "source": [
    "trace = go.Bar(x = ['Banana', 'Maçã', 'Uva'],\n",
    "               y = [10, 20, 30])\n",
    "data = [trace]\n",
    "py.iplot(data)"
   ]
  },
  {
   "cell_type": "markdown",
   "metadata": {},
   "source": [
    "##### Múltiplos gráfico de barras\n",
    "Semelhante a como criamos vários boxplots, podemos criar vários gráficos de barras, que serão colocados lado a lado de acordo com o eixo X:"
   ]
  },
  {
   "cell_type": "code",
   "execution_count": null,
   "metadata": {},
   "outputs": [],
   "source": [
    "trace1 = go.Bar(x = ['Banana', 'Maçã', 'Uva'],\n",
    "                y = [10, 20, 30])\n",
    "trace2 = go.Bar(x = ['Banana', 'Maçã', 'Uva'],\n",
    "                y = [20, 30, 40])\n",
    "data = [trace1, trace2]\n",
    "py.iplot(data)"
   ]
  },
  {
   "cell_type": "markdown",
   "metadata": {},
   "source": [
    "##### Customizando gráfico de barras\n",
    "Assim como podemos mudar cores e nomes de gráficos de dispersão e linha, podemos alterar bar plots também. O código abaixo é igual ao acima, mas mudaremos o nome dos gráficos — ao invés de ficar trace 0 ou trace 1 — e iremos alterar suas cores:"
   ]
  },
  {
   "cell_type": "code",
   "execution_count": null,
   "metadata": {},
   "outputs": [],
   "source": [
    "trace1 = go.Bar(x = ['Banana', 'Maçã', 'Uva'],\n",
    "                y = [10, 20, 30],\n",
    "                name = 'Gráfico 1',\n",
    "                marker = {'color': '#feca57'})\n",
    "trace2 = go.Bar(x = ['Banana', 'Maçã', 'Uva'],\n",
    "                y = [20, 30, 40],\n",
    "                name = 'Gráfico 2',\n",
    "                marker = {'color': '#ff9f43'})\n",
    "data = [trace1, trace2]\n",
    "py.iplot(data)"
   ]
  },
  {
   "cell_type": "markdown",
   "metadata": {},
   "source": [
    "##### Empilhando barras (Stacked Bar)\n",
    "Se nós quisermos fazer um gráfico de barras empilhado — Stacked Bar Plot — , basta adicionar o argumento barmode na função go.Layout()."
   ]
  },
  {
   "cell_type": "code",
   "execution_count": null,
   "metadata": {},
   "outputs": [],
   "source": [
    "trace1 = go.Bar(x = ['Banana', 'Maçã', 'Uva'],\n",
    "                y = [10, 20, 30],\n",
    "                name = 'Gráfico 1',\n",
    "                marker = {'color': '#feca57'})\n",
    "trace2 = go.Bar(x = ['Banana', 'Maçã', 'Uva'],\n",
    "                y = [20, 30, 40],\n",
    "                name = 'Gráfico 2',\n",
    "                marker = {'color': '#ff9f43'})\n",
    "data = [trace1, trace2]\n",
    "layout = go.Layout(title = 'Gráfico de barras do <a href=\\'https://plot.ly/\\'>Plotly</a>',\n",
    "                   xaxis = {'title': 'Nome da fruta'},\n",
    "                   yaxis = {'title': 'Quantidade'},\n",
    "                   barmode = 'stack')\n",
    "fig = go.Figure(data=data, layout=layout)\n",
    "py.iplot(fig)"
   ]
  },
  {
   "cell_type": "markdown",
   "metadata": {},
   "source": [
    "##### Criando um gráfico com mapas\n",
    "Plotly também tem suporte a dados geoespaciais, como cloropleth e mapas de calor. Abaixo, vou ensinar você criar um ScatterGeo plot, ou seja, um gráfico de dispersão sobre um mapa.\n",
    "Para isso, utilizaremos um dataset que contém o informações populacionais sobre cidades americanas. Confira abaixo as primeiras linhas do arquivo:"
   ]
  },
  {
   "cell_type": "code",
   "execution_count": null,
   "metadata": {},
   "outputs": [],
   "source": [
    "df_cities = pd.read_csv('https://raw.githubusercontent.com/plotly/datasets/master/2014_us_cities.csv')\n",
    "df_cities.head()"
   ]
  },
  {
   "cell_type": "markdown",
   "metadata": {},
   "source": [
    "Para criarmos um gráfico de mapa, precisaremos de dados geospaciais, como latitude e longitude e, felizmente, nós temos isso em nosso DataFrame.\n",
    "No código abaixo iremos criar nosso ScatterGeo utilizando a função go.Scattergeo:"
   ]
  },
  {
   "cell_type": "code",
   "execution_count": null,
   "metadata": {},
   "outputs": [],
   "source": [
    "trace = go.Scattergeo(\n",
    "                     locationmode = 'USA-states',\n",
    "                     lon = df['lon'],\n",
    "                     lat = df['lat'],\n",
    "                     text = df['name'] + '- População: ' + df['pop'].astype(str),\n",
    "                     marker = dict(\n",
    "                            size = df['pop']/5000,\n",
    "                            color = '#e74c3c',\n",
    "                            line = {'width': 0.5, \n",
    "                                    'color': '#2c3e50'},\n",
    "                            sizemode = 'area')\n",
    "                    )\n",
    "data = [trace]\n",
    "layout = go.Layout(\n",
    "        title = '<b>População americana em 2014</b>',\n",
    "        titlefont = {'family': 'Arial',\n",
    "                     'size': 24},\n",
    "        geo =  {'scope': 'usa',\n",
    "                'projection': {'type': 'albers usa'},\n",
    "                'showland': True,\n",
    "                'landcolor': '#2ecc71',\n",
    "                'showlakes': True,\n",
    "                'lakecolor': '#3498db',\n",
    "                'subunitwidth': 1,\n",
    "                'subunitcolor': \"rgb(255, 255, 255)\"\n",
    "                })\n",
    "fig = go.Figure(data=data, layout=layout)\n",
    "py.iplot(fig)"
   ]
  },
  {
   "cell_type": "markdown",
   "metadata": {},
   "source": [
    "E aí, curtiu os gráficos gerados pelo Plotly? Sentiu falta de algum? Todo o código gerado nesse tutorial está no notebook que gerei no Google Colab: um Google Docs com Jupyter Notebook feito pela Google. Se quiser ser meu amiguinho, me segue lá no Twitter e Linkedin pra ficar sabendo de mais conteúdo de dataviz. Até a próxima!"
   ]
  }
 ],
 "metadata": {
  "kernelspec": {
   "display_name": "Python 3",
   "language": "python",
   "name": "python3"
  },
  "language_info": {
   "codemirror_mode": {
    "name": "ipython",
    "version": 3
   },
   "file_extension": ".py",
   "mimetype": "text/x-python",
   "name": "python",
   "nbconvert_exporter": "python",
   "pygments_lexer": "ipython3",
   "version": "3.7.4"
  }
 },
 "nbformat": 4,
 "nbformat_minor": 2
}
